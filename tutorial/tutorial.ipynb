{
 "cells": [
  {
   "cell_type": "markdown",
   "metadata": {},
   "source": [
    "# Embeddings tutorial\n",
    "\n",
    "This notebook shows how to download the pre-computed embeddings and demonstrates how to visualize them using UMAP. \n",
    "\n",
    "Required libraries:\n",
    "* pytorch (v2.0.1+cu118)\n",
    "* pandas (v2.2.2)\n",
    "* umap-learn (v0.5.6)\n",
    "* plotly (v5.23.0)\n",
    "* matplotlib (v3.9.1.post1)\n",
    "* numpy (v1.26.4)\n",
    "* pickle\n",
    "\n",
    "We've provided the versions of each library used to perform this tutorial, however, in most cases, it is not necessary to match the exact version for compatibility."
   ]
  },
  {
   "cell_type": "markdown",
   "metadata": {
    "vscode": {
     "languageId": "plaintext"
    }
   },
   "source": [
    "## Download embeddings\n",
    "The embeddings and description files are hosted on Harvard Dataverse, a publicaly available database (no login required). "
   ]
  },
  {
   "cell_type": "markdown",
   "metadata": {},
   "source": [
    "Go to Harvard Dataverse to download the embeddings and key table: https://dataverse.harvard.edu/dataset.xhtml?persistentId=doi:10.7910/DVN/Z6H1A8\n",
    "\n",
    "Scroll down and download `full_h_embed_hms.pkl` and `new_node_map_df.tab`. \n",
    "You do not need to download the knowledge graph (`new_homo_hg_hms.pt`) unless\n",
    "you plan to re-train the embeddings from scratch."
   ]
  },
  {
   "cell_type": "markdown",
   "metadata": {},
   "source": [
    "\n",
    "<img src=\"../img/tutorial_img_2.png\" width=\"700\">\n"
   ]
  },
  {
   "cell_type": "markdown",
   "metadata": {},
   "source": [
    "## Read in embeddings and mapping file"
   ]
  },
  {
   "cell_type": "code",
   "execution_count": 1,
   "metadata": {},
   "outputs": [
    {
     "name": "stderr",
     "output_type": "stream",
     "text": [
      "/n/sw/Mambaforge-22.11.1-4/lib/python3.10/site-packages/tqdm/auto.py:22: TqdmWarning: IProgress not found. Please update jupyter and ipywidgets. See https://ipywidgets.readthedocs.io/en/stable/user_install.html\n",
      "  from .autonotebook import tqdm as notebook_tqdm\n"
     ]
    }
   ],
   "source": [
    "import pandas as pd\n",
    "import torch\n",
    "import pickle\n",
    "import umap \n",
    "import seaborn as sns\n",
    "import matplotlib.pyplot as plt\n",
    "import plotly.express as px\n",
    "from sklearn.metrics.pairwise import cosine_similarity\n",
    "import numpy as np"
   ]
  },
  {
   "cell_type": "markdown",
   "metadata": {},
   "source": [
    "The embeddings are held in a Pytorch tensor (size `[67124, 128]`) where each row corresponds to an embedding of a clinical concept. \n",
    "\n",
    "The node type, node id, node description, and corresponding index are provided in the node map file. The field for node type has the original clinical terminology, and the node id holds the original clinical code. "
   ]
  },
  {
   "cell_type": "code",
   "execution_count": 2,
   "metadata": {},
   "outputs": [],
   "source": [
    "# read in embeddings\n",
    "embed_mat  = pickle.load(open(\"full_h_embed_hms.pkl\", 'rb')).numpy()\n",
    "\n",
    "## if the pickle file is not compatible, there's also a csv version (tab-delimited)\n",
    "#embed_mat = np.loadtxt(\"full_h_embed_hms.csv\")"
   ]
  },
  {
   "cell_type": "code",
   "execution_count": 3,
   "metadata": {},
   "outputs": [
    {
     "name": "stdout",
     "output_type": "stream",
     "text": [
      "There are 67124 clinical concept embeddings that are size 1x128\n",
      "The map dataframe contains nodes for the following types of codes: ['CPT' 'ICD9CM' 'LNC' 'PHECODE' 'RXNORM' 'SNOMEDCT_US' 'ATC4']\n",
      "Each embedding has a corresponding global_graph_index which takes sequential values from 0 to 67123.\n"
     ]
    }
   ],
   "source": [
    "\n",
    "# mapping file\n",
    "node_map_df = pd.read_csv(\"new_node_map_df.csv\")\n",
    "\n",
    "num_embeddings = embed_mat.shape[0]\n",
    "dim = embed_mat.shape[1]\n",
    "\n",
    "print(\"There are %d clinical concept embeddings that are size 1x%d\" % (num_embeddings, dim))\n",
    "ntypes = node_map_df['ntype'].unique()\n",
    "ind_min = node_map_df['global_graph_index'].min()\n",
    "ind_max = node_map_df['global_graph_index'].max()\n",
    "\n",
    "print(\"The map dataframe contains nodes for the following types of codes: {}\".format(ntypes))\n",
    "print(\"Each embedding has a corresponding global_graph_index which takes sequential values from {} to {}.\".format(ind_min, ind_max))"
   ]
  },
  {
   "cell_type": "markdown",
   "metadata": {},
   "source": [
    "## Query for a given clinical concept"
   ]
  },
  {
   "cell_type": "code",
   "execution_count": 4,
   "metadata": {},
   "outputs": [
    {
     "data": {
      "text/plain": [
       "array([-1.1569981e+01, -4.2472425e+00,  6.0535312e+00,  1.4059534e+00,\n",
       "        8.4447174e+00,  4.4020420e-01, -9.3106878e-01,  3.9331293e+00,\n",
       "        9.1786842e+00,  6.3399534e+00, -1.3270432e-01, -8.5351105e+00,\n",
       "        7.5657902e+00, -4.0438991e+00, -2.9306657e+00, -4.0573111e+00,\n",
       "       -7.1993589e+00,  4.8945589e+00,  5.5740857e+00, -6.5068054e+00,\n",
       "       -1.1947818e+01, -4.7022333e+00, -3.7626131e+00,  2.0303817e+00,\n",
       "        8.3440304e+00, -8.1721859e+00,  2.4726062e+00, -4.7019343e+00,\n",
       "        1.7729958e+01,  6.6486950e+00,  1.6305014e+00, -5.3884249e+00,\n",
       "       -7.7292275e+00,  3.6880753e+00,  5.1297522e+00,  1.8095790e+00,\n",
       "       -4.6904101e+00,  2.2118509e+00, -3.3983030e+00,  5.3090000e-01,\n",
       "       -3.8644781e+00, -3.4039297e+00, -7.7091160e+00,  7.3984585e+00,\n",
       "        9.1610622e+00,  6.7523298e+00, -1.2835916e+01,  5.8900995e+00,\n",
       "        3.5544956e+00,  9.8837414e+00, -7.7079427e-01, -6.6803098e+00,\n",
       "       -5.3933635e+00, -3.9222753e+00, -5.9339933e+00,  1.0278374e-03,\n",
       "        5.9618187e+00, -9.4490652e+00, -9.7999506e+00, -1.0914548e+01,\n",
       "       -1.0624161e+00,  8.1568747e+00,  6.3154044e+00,  3.4522779e+00,\n",
       "       -6.3603063e+00, -7.9605269e+00,  1.0214202e+00,  3.7616088e+00,\n",
       "       -6.3824105e+00, -2.6554580e+00, -4.7516751e+00,  3.1258042e+00,\n",
       "        9.2966566e+00, -8.6912031e+00, -1.2422505e+01,  3.5151007e+00,\n",
       "       -5.4069695e+00,  6.1738873e+00,  5.3871608e+00, -1.4591188e+00,\n",
       "       -1.2845337e+01,  2.7702072e+00,  9.7819862e+00, -7.2264862e+00,\n",
       "        4.4808273e+00,  6.3903480e+00,  3.3592227e-01,  2.9024444e+00,\n",
       "       -6.9437904e+00, -8.5452271e+00,  1.9864148e+00, -5.1028413e-01,\n",
       "       -1.6670556e-01, -5.7889543e+00,  4.9917655e+00,  2.2116675e+00,\n",
       "       -6.6157928e+00, -3.5781127e-01,  3.4374087e+00, -3.3166537e+00,\n",
       "        7.3900642e+00, -1.3061574e+01,  8.4008998e-01, -1.4957640e+00,\n",
       "        2.0444899e+00, -1.3448535e+00,  1.0648657e+00, -7.5471014e-01,\n",
       "        6.7626414e+00,  7.0463979e-01,  1.5731297e+00, -1.1869717e+01,\n",
       "        9.8413830e+00,  3.1023698e+00, -9.0841665e+00,  8.8485022e+00,\n",
       "       -5.9273615e+00, -3.7240171e+00,  2.7151942e+00,  5.9389482e+00,\n",
       "        5.7348213e+00,  6.5321064e-01, -5.9904351e+00, -4.4275837e+00,\n",
       "       -4.8359466e+00,  7.5293384e-02, -1.1676450e+00,  2.8652644e+00],\n",
       "      dtype=float32)"
      ]
     },
     "execution_count": 4,
     "metadata": {},
     "output_type": "execute_result"
    }
   ],
   "source": [
    "# can query by node name or id; make sure to specify the node type if you're \n",
    "# looking at a specific clinical vocabulary\n",
    "ind = node_map_df.loc[(node_map_df['node_name'] == 'Asthma') & (node_map_df['ntype'] == 'ICD9CM')]['global_graph_index'].values[0]\n",
    "\n",
    "embed_mat[ind]"
   ]
  },
  {
   "cell_type": "markdown",
   "metadata": {},
   "source": [
    "## Visualize using UMAP"
   ]
  },
  {
   "cell_type": "code",
   "execution_count": 5,
   "metadata": {},
   "outputs": [],
   "source": [
    "# phecodes are grouped according to organ system/clinical specialty\n",
    "# (provided from the Phewas database, https://phewascatalog.org/)\n",
    "phecode_category_df = pd.read_csv(\"../kg/phekg/phecode_definitions1.1.csv\")\n",
    "\n",
    "# limit to only phecodes\n",
    "phecode_inds = node_map_df.loc[node_map_df['ntype'] == 'PHECODE']\n",
    "\n",
    "# convert ids to floats to combine with defn file\n",
    "phecode_inds = phecode_inds.assign(node_id=phecode_inds['node_id'].astype(float))\n",
    "phecode_inds = phecode_inds.merge(phecode_category_df, left_on='node_id', right_on='phecode', how='inner')\n",
    "\n",
    "# remove symptoms/injuries/congenital anomalies because they are not organ specific\n",
    "phecode_inds = phecode_inds.loc[~phecode_inds['category'].isin(['symptoms', 'congenital anomalies', 'injuries & poisonings'])]\n",
    "keep_inds = phecode_inds['global_graph_index'].tolist()\n",
    "phecode_embed_mat = embed_mat[keep_inds]"
   ]
  },
  {
   "cell_type": "code",
   "execution_count": 6,
   "metadata": {},
   "outputs": [],
   "source": [
    "torch.manual_seed(0)\n",
    "\n",
    "umap_mat = umap.UMAP(n_components=2, metric='cosine', n_neighbors=5, min_dist=0.8).fit_transform(phecode_embed_mat)\n",
    "\n",
    "umap_df = pd.DataFrame(umap_mat)\n",
    "umap_df = umap_df.assign(phecode=phecode_inds['phecode'])\n",
    "umap_df = umap_df.assign(description=phecode_inds['node_name'])\n",
    "umap_df = umap_df.assign(category=phecode_inds['category'])"
   ]
  },
  {
   "cell_type": "code",
   "execution_count": 12,
   "metadata": {},
   "outputs": [
    {
     "data": {
      "application/vnd.plotly.v1+json": {
       "config": {
        "plotlyServerURL": "https://plot.ly"
       },
       "data": [
        {
         "customdata": [
          [
           "Intestinal infection",
           8
          ],
          [
           "Bacterial enteritis",
           8.5
          ],
          [
           "Intestinal e.coli",
           8.51
          ],
          [
           "Intestinal infection due to C. difficile",
           8.52
          ],
          [
           "Viral Enteritis",
           8.6
          ],
          [
           "Intestinal infection due to protozoa",
           8.7
          ],
          [
           "Tuberculosis",
           10
          ],
          [
           "Diseases due to other mycobacteria",
           31
          ],
          [
           "Leprosy",
           31.1
          ],
          [
           "Septicemia",
           38
          ],
          [
           "Gram negative septicemia",
           38.1
          ],
          [
           "Gram positive septicemia",
           38.2
          ],
          [
           "Bacteremia",
           38.3
          ],
          [
           "Bacterial infection NOS",
           41
          ],
          [
           "Staphylococcus infections",
           41.1
          ],
          [
           "Methicillin sensitive Staphylococcus aureus",
           41.11
          ],
          [
           "Methicillin resistant Staphylococcus aureus",
           41.12
          ],
          [
           "Streptococcus infection",
           41.2
          ],
          [
           "Rheumatic fever / chorea",
           41.21
          ],
          [
           "E. coli",
           41.4
          ],
          [
           "H. pylori",
           41.8
          ],
          [
           "Infection with drug-resistant microorganisms",
           41.9
          ],
          [
           "Herpes zoster",
           53
          ],
          [
           "Herpes zoster with nervous system complications",
           53.1
          ],
          [
           "Herpes simplex",
           54
          ],
          [
           "Viral hepatitis",
           70
          ],
          [
           "Viral hepatitis A",
           70.1
          ],
          [
           "Viral hepatitis B",
           70.2
          ],
          [
           "Viral hepatitis C",
           70.3
          ],
          [
           "Chronic hepatitis",
           70.4
          ],
          [
           "Hepatitis NOS",
           70.9
          ],
          [
           "Human immunodeficiency virus [HIV] disease",
           71
          ],
          [
           "HIV infection, symptomatic",
           71.1
          ],
          [
           "Viral warts & HPV",
           78
          ],
          [
           "Viral infection",
           79
          ],
          [
           "Varicella infection",
           79.1
          ],
          [
           "Infectious mononucleosis",
           79.2
          ],
          [
           "Viremia, NOS",
           79.9
          ],
          [
           "Graft-versus-host disease",
           81.1
          ],
          [
           "Acute graft-versus-host disease",
           81.11
          ],
          [
           "Chronic graft-versus-host disease",
           81.12
          ],
          [
           "Sexually transmitted infections (not HIV or hepatitis)",
           90
          ],
          [
           "Gonococcal infections",
           90.2
          ],
          [
           "Venereal diseases due to Chlamydia trachomatis",
           90.3
          ],
          [
           "Dermatophytosis / Dermatomycosis",
           110
          ],
          [
           "Dermatophytosis",
           110.1
          ],
          [
           "Dermatophytosis of nail",
           110.11
          ],
          [
           "Althete's foot",
           110.12
          ],
          [
           "Dermatophytosis of the body",
           110.13
          ],
          [
           "Dermatomycoses",
           110.2
          ],
          [
           "Candidiasis",
           112
          ],
          [
           "Candidiasis of skin and nails",
           112.3
          ],
          [
           "Mycoses",
           117
          ],
          [
           "Histoplasmosis",
           117.1
          ],
          [
           "Coccidioidomycosis",
           117.2
          ],
          [
           "Blastomycotic infection",
           117.3
          ],
          [
           "Aspergillosis",
           117.4
          ],
          [
           "Spirochetal infection",
           130
          ],
          [
           "Lyme disease",
           130.1
          ],
          [
           "Protozoan infection",
           131
          ],
          [
           "Infestation (lice, mites)",
           132
          ],
          [
           "Pediculosis and phthirus infestation",
           132.1
          ],
          [
           "Arthropod-borne diseases",
           133
          ],
          [
           "Helminthiases",
           134
          ],
          [
           "Intestinal helminthiases",
           134.1
          ],
          [
           "Other infectious and parasitic diseases",
           136
          ]
         ],
         "hovertemplate": "<b>%{hovertext}</b><br><br>category=infectious diseases<br>0=%{x}<br>1=%{y}<br>description=%{customdata[0]}<br>phecode=%{customdata[1]}<extra></extra>",
         "hovertext": [
          "Intestinal infection",
          "Bacterial enteritis",
          "Intestinal e.coli",
          "Intestinal infection due to C. difficile",
          "Viral Enteritis",
          "Intestinal infection due to protozoa",
          "Tuberculosis",
          "Diseases due to other mycobacteria",
          "Leprosy",
          "Septicemia",
          "Gram negative septicemia",
          "Gram positive septicemia",
          "Bacteremia",
          "Bacterial infection NOS",
          "Staphylococcus infections",
          "Methicillin sensitive Staphylococcus aureus",
          "Methicillin resistant Staphylococcus aureus",
          "Streptococcus infection",
          "Rheumatic fever / chorea",
          "E. coli",
          "H. pylori",
          "Infection with drug-resistant microorganisms",
          "Herpes zoster",
          "Herpes zoster with nervous system complications",
          "Herpes simplex",
          "Viral hepatitis",
          "Viral hepatitis A",
          "Viral hepatitis B",
          "Viral hepatitis C",
          "Chronic hepatitis",
          "Hepatitis NOS",
          "Human immunodeficiency virus [HIV] disease",
          "HIV infection, symptomatic",
          "Viral warts & HPV",
          "Viral infection",
          "Varicella infection",
          "Infectious mononucleosis",
          "Viremia, NOS",
          "Graft-versus-host disease",
          "Acute graft-versus-host disease",
          "Chronic graft-versus-host disease",
          "Sexually transmitted infections (not HIV or hepatitis)",
          "Gonococcal infections",
          "Venereal diseases due to Chlamydia trachomatis",
          "Dermatophytosis / Dermatomycosis",
          "Dermatophytosis",
          "Dermatophytosis of nail",
          "Althete's foot",
          "Dermatophytosis of the body",
          "Dermatomycoses",
          "Candidiasis",
          "Candidiasis of skin and nails",
          "Mycoses",
          "Histoplasmosis",
          "Coccidioidomycosis",
          "Blastomycotic infection",
          "Aspergillosis",
          "Spirochetal infection",
          "Lyme disease",
          "Protozoan infection",
          "Infestation (lice, mites)",
          "Pediculosis and phthirus infestation",
          "Arthropod-borne diseases",
          "Helminthiases",
          "Intestinal helminthiases",
          "Other infectious and parasitic diseases"
         ],
         "legendgroup": "infectious diseases",
         "marker": {
          "color": "#636efa",
          "symbol": "circle"
         },
         "mode": "markers",
         "name": "infectious diseases",
         "opacity": 0.9,
         "showlegend": true,
         "type": "scattergl",
         "x": [
          21.862651824951172,
          21.479459762573242,
          1.505781888961792,
          16.168676376342773,
          21.716157913208008,
          21.84137535095215,
          18.43552589416504,
          18.596904754638672,
          18.643653869628906,
          12.8917818069458,
          12.676386833190918,
          1.8108536005020142,
          12.34504222869873,
          10.223834991455078,
          11.338878631591797,
          9.82869815826416,
          12.165003776550293,
          10.820138931274414,
          9.032190322875977,
          21.425649642944336,
          14.968379974365234,
          18.228126525878906,
          8.427014350891113,
          8.24083137512207,
          9.307689666748047,
          12.218339920043945,
          11.299370765686035,
          11.370326042175293,
          12.16325855255127,
          13.667447090148926,
          11.00325870513916,
          9.860920906066895,
          8.792976379394531,
          7.036464691162109,
          9.574913024902344,
          10.03981876373291,
          9.934481620788574,
          9.573333740234375,
          15.83245849609375,
          0.3433370590209961,
          0.6323516964912415,
          8.017295837402344,
          8.061150550842285,
          7.878862380981445,
          3.827143669128418,
          11.963443756103516,
          10.669512748718262,
          10.7001953125,
          10.815823554992676,
          11.986879348754883,
          8.415440559387207,
          9.208839416503906,
          10.116002082824707,
          11.54135513305664,
          11.98392391204834,
          10.871675491333008,
          11.756211280822754,
          8.38165283203125,
          7.883017063140869,
          8.289959907531738,
          10.519651412963867,
          10.717440605163574,
          10.594755172729492,
          15.004398345947266,
          15.444282531738281,
          10.53493595123291
         ],
         "xaxis": "x",
         "y": [
          10.723630905151367,
          10.428871154785156,
          6.633399963378906,
          6.798152446746826,
          10.520975112915039,
          10.699081420898438,
          13.447731018066406,
          12.037018775939941,
          12.049162864685059,
          12.938542366027832,
          12.959209442138672,
          1.9670634269714355,
          13.003266334533691,
          10.412423133850098,
          11.700439453125,
          10.162115097045898,
          12.55827808380127,
          13.27746868133545,
          1.3421610593795776,
          10.331687927246094,
          8.731267929077148,
          13.507170677185059,
          1.2906652688980103,
          1.5132557153701782,
          11.963820457458496,
          6.467752456665039,
          6.569225788116455,
          6.4289937019348145,
          6.419186115264893,
          5.4314775466918945,
          6.370004177093506,
          11.703959465026855,
          11.514466285705566,
          12.147427558898926,
          12.519630432128906,
          11.780376434326172,
          12.281356811523438,
          12.39396858215332,
          10.859455108642578,
          4.637638092041016,
          4.497426986694336,
          11.33906078338623,
          10.845897674560547,
          11.608171463012695,
          1.5342437028884888,
          9.416872024536133,
          9.516356468200684,
          10.686625480651855,
          9.915265083312988,
          9.340158462524414,
          11.486478805541992,
          11.353593826293945,
          10.417336463928223,
          11.712891578674316,
          12.060548782348633,
          10.085746765136719,
          11.878783226013184,
          11.129403114318848,
          4.152481555938721,
          11.561124801635742,
          12.285740852355957,
          11.832534790039062,
          12.5947265625,
          9.505451202392578,
          8.909342765808105,
          12.915035247802734
         ],
         "yaxis": "y"
        },
        {
         "customdata": [
          [
           "Cancer of mouth",
           145
          ],
          [
           "Cancer of lip",
           145.1
          ],
          [
           "Cancer of tongue",
           145.2
          ],
          [
           "Cancer of major salivary glands",
           145.3
          ],
          [
           "Cancer of the gums",
           145.4
          ],
          [
           "Cancer of the mouth floor",
           145.5
          ],
          [
           "Cancer of larynx, pharynx, nasal cavities",
           149
          ],
          [
           "Cancer of oropharynx",
           149.1
          ],
          [
           "Cancer of nasopharynx",
           149.2
          ],
          [
           "Cancer of hypopharynx",
           149.3
          ],
          [
           "Cancer of larynx",
           149.4
          ],
          [
           "Hx of malignant neoplasm of oral cavity and pharynx",
           149.5
          ],
          [
           "Cancer of of nasal cavities",
           149.9
          ],
          [
           "Cancer of esophagus",
           150
          ],
          [
           "Cancer of stomach",
           151
          ],
          [
           "Colorectal cancer",
           153
          ],
          [
           "Colon cancer",
           153.2
          ],
          [
           "Malignant neoplasm of rectum, rectosigmoid junction, and anus",
           153.3
          ],
          [
           "Cancer of liver and intrahepatic bile duct",
           155
          ],
          [
           "Malignant neoplasm of liver, primary",
           155.1
          ],
          [
           "Pancreatic cancer",
           157
          ],
          [
           "Neoplasm of unspecified nature of digestive system",
           158
          ],
          [
           "Malignant neoplasm of other and ill-defined sites within the digestive organs and peritoneum",
           159
          ],
          [
           "Malignant neoplasm of small intestine, including duodenum",
           159.2
          ],
          [
           "Malignant neoplasm of gallbladder and extrahepatic bile ducts",
           159.3
          ],
          [
           "Malignant neoplasm of retroperitoneum and peritoneum",
           159.4
          ],
          [
           "Cancer of intrathoracic organs",
           164
          ],
          [
           "Cancer within the respiratory system",
           165
          ],
          [
           "Cancer of bronchus; lung",
           165.1
          ],
          [
           "Cancer of bone and connective tissue",
           170
          ],
          [
           "Bone cancer",
           170.1
          ],
          [
           "Cancer of connective tissue",
           170.2
          ],
          [
           "Skin cancer",
           172
          ],
          [
           "Melanomas of skin, dx or hx",
           172.1
          ],
          [
           "Melanomas of skin",
           172.11
          ],
          [
           "Other non-epithelial cancer of skin",
           172.2
          ],
          [
           "Basal cell carcinoma",
           172.21
          ],
          [
           "Squamous cell carcinoma",
           172.22
          ],
          [
           "Carcinoma in situ of skin",
           172.3
          ],
          [
           "Breast cancer",
           174
          ],
          [
           "Breast cancer [female]",
           174.1
          ],
          [
           "Malignant neoplasm of female breast",
           174.11
          ],
          [
           "Breast cancer [male]",
           174.2
          ],
          [
           "Neoplasm of uncertain behavior of breast",
           174.3
          ],
          [
           "Acquired absence of breast",
           175
          ],
          [
           "Cervical cancer and dysplasia",
           180
          ],
          [
           "Cervical cancer",
           180.1
          ],
          [
           "Cervical intraepithelial neoplasia [CIN] [Cervical dysplasia]",
           180.3
          ],
          [
           "Malignant neoplasm of uterus",
           182
          ],
          [
           "Cancer of other female genital organs",
           184
          ],
          [
           "Malignant neoplasm of ovary and other uterine adnexa",
           184.1
          ],
          [
           "Malignant neoplasm of ovary",
           184.11
          ],
          [
           "Cancer of other female genital organs (excluding uterus and ovary)",
           184.2
          ],
          [
           "Cancer of prostate",
           185
          ],
          [
           "Cancer of other male genital organs",
           187
          ],
          [
           "Malignant neoplasm of unspecified male genital organ",
           187.1
          ],
          [
           "Malignant neoplasm of testis",
           187.2
          ],
          [
           "Neoplasm of uncertain behavior of male genital organs",
           187.8
          ],
          [
           "Cancer of urinary organs (incl. kidney and bladder)",
           189
          ],
          [
           "Cancer of kidney and renal pelvis",
           189.1
          ],
          [
           "Malignant neoplasm of kidney, except pelvis",
           189.11
          ],
          [
           "Malignant neoplasm of renal pelvis",
           189.12
          ],
          [
           "Cancer of bladder",
           189.2
          ],
          [
           "Malignant neoplasm of bladder",
           189.21
          ],
          [
           "Malignant neoplasm of other urinary organs",
           189.4
          ],
          [
           "Cancer of eye",
           190
          ],
          [
           "Manlignant and unknown neoplasms of brain and nervous system",
           191
          ],
          [
           "Cancer of brain and nervous system",
           191.1
          ],
          [
           "Cancer of brain",
           191.11
          ],
          [
           "Thyroid cancer",
           193
          ],
          [
           "Cancer of other endocrine glands",
           194
          ],
          [
           "Cancer, suspected or other",
           195
          ],
          [
           "Malignant neoplasm, other",
           195.1
          ],
          [
           "Chemotherapy",
           197
          ],
          [
           "Secondary malignant neoplasm",
           198
          ],
          [
           "Secondary malignancy of lymph nodes",
           198.1
          ],
          [
           "Secondary malignancy of respiratory organs",
           198.2
          ],
          [
           "Secondary malignant neoplasm of digestive systems",
           198.3
          ],
          [
           "Secondary malignant neoplasm of liver",
           198.4
          ],
          [
           "Secondary malignancy of brain/spine",
           198.5
          ],
          [
           "Secondary malignancy of bone",
           198.6
          ],
          [
           "Secondary malignant neoplasm of skin",
           198.7
          ],
          [
           "Neoplasm of uncertain behavior",
           199
          ],
          [
           "Neurofibromatosis",
           199.4
          ],
          [
           "Myeloproliferative disease",
           200
          ],
          [
           "Polycythemia vera",
           200.1
          ],
          [
           "Hodgkin's disease",
           201
          ],
          [
           "Cancer of other lymphoid, histiocytic tissue",
           202
          ],
          [
           "Non-Hodgkins lymphoma",
           202.2
          ],
          [
           "Nodular lymphoma",
           202.21
          ],
          [
           "Reticulosarcoma",
           202.22
          ],
          [
           "Lymphosarcoma",
           202.23
          ],
          [
           "Large cell lymphoma",
           202.24
          ],
          [
           "Leukemia",
           204
          ],
          [
           "Lymphoid leukemia",
           204.1
          ],
          [
           "Lymphoid leukemia, acute",
           204.11
          ],
          [
           "Lymphoid leukemia, chronic",
           204.12
          ],
          [
           "Myeloid leukemia",
           204.2
          ],
          [
           "Myeloid leukemia, acute",
           204.21
          ],
          [
           "Myeloid leukemia, chronic",
           204.22
          ],
          [
           "Monocytic leukemia",
           204.3
          ],
          [
           "Multiple myeloma",
           204.4
          ],
          [
           "Benign neoplasm of colon",
           208
          ],
          [
           "Neuroendocrine tumors",
           209
          ],
          [
           "Benign neoplasm of lip, oral cavity, and pharynx",
           210
          ],
          [
           "Benign neoplasm of other parts of digestive system",
           211
          ],
          [
           "Benign neoplasm of respiratory and intrathoracic organs",
           212
          ],
          [
           "Benign neoplasm of bone and articular cartilage",
           213
          ],
          [
           "Lipoma",
           214
          ],
          [
           "Lipoma of skin and subcutaneous tissue",
           214.1
          ],
          [
           "Other benign neoplasm of connective and other soft tissue",
           215
          ],
          [
           "Benign neoplasm of skin",
           216
          ],
          [
           "Vascular hamartomas and non-neoplastic nevi",
           217
          ],
          [
           "Nevus, non-neoplastic",
           217.1
          ],
          [
           "Benign neoplasm of uterus",
           218
          ],
          [
           "Uterine leiomyoma",
           218.1
          ],
          [
           "Other benign neoplasm of uterus",
           218.2
          ],
          [
           "Benign neoplasm of other female genital organs",
           221
          ],
          [
           "Benign neoplasm of male genital organs",
           222
          ],
          [
           "Benign neoplasm of kidney and other urinary organs",
           223
          ],
          [
           "Benign neoplasm of eye",
           224
          ],
          [
           "Benign neoplasm of eye, uveal",
           224.1
          ],
          [
           "Benign neoplasm of brain and other parts of nervous system",
           225
          ],
          [
           "Benign neoplasm of brain, cranial nerves, meninges",
           225.1
          ],
          [
           "Benign neoplasm of spinal cord, meninges",
           225.2
          ],
          [
           "Benign neoplasm of other endocrine glands and related structures",
           227
          ],
          [
           "Benign neoplasm of adrenal gland",
           227.1
          ],
          [
           "Benign neoplasm of parathyroid gland",
           227.2
          ],
          [
           "Benign neoplasm of pituitary gland and craniopharyngeal duct (pouch)",
           227.3
          ],
          [
           "Hemangioma and lymphangioma, any site",
           228
          ],
          [
           "Hemangioma of skin and subcutaneous tissue",
           228.1
          ],
          [
           "Benign neoplasm of unspecified sites",
           229
          ],
          [
           "Benign neoplasm of lymph nodes",
           229.1
          ],
          [
           "Kaposi's sarcoma",
           230
          ]
         ],
         "hovertemplate": "<b>%{hovertext}</b><br><br>category=neoplasms<br>0=%{x}<br>1=%{y}<br>description=%{customdata[0]}<br>phecode=%{customdata[1]}<extra></extra>",
         "hovertext": [
          "Cancer of mouth",
          "Cancer of lip",
          "Cancer of tongue",
          "Cancer of major salivary glands",
          "Cancer of the gums",
          "Cancer of the mouth floor",
          "Cancer of larynx, pharynx, nasal cavities",
          "Cancer of oropharynx",
          "Cancer of nasopharynx",
          "Cancer of hypopharynx",
          "Cancer of larynx",
          "Hx of malignant neoplasm of oral cavity and pharynx",
          "Cancer of of nasal cavities",
          "Cancer of esophagus",
          "Cancer of stomach",
          "Colorectal cancer",
          "Colon cancer",
          "Malignant neoplasm of rectum, rectosigmoid junction, and anus",
          "Cancer of liver and intrahepatic bile duct",
          "Malignant neoplasm of liver, primary",
          "Pancreatic cancer",
          "Neoplasm of unspecified nature of digestive system",
          "Malignant neoplasm of other and ill-defined sites within the digestive organs and peritoneum",
          "Malignant neoplasm of small intestine, including duodenum",
          "Malignant neoplasm of gallbladder and extrahepatic bile ducts",
          "Malignant neoplasm of retroperitoneum and peritoneum",
          "Cancer of intrathoracic organs",
          "Cancer within the respiratory system",
          "Cancer of bronchus; lung",
          "Cancer of bone and connective tissue",
          "Bone cancer",
          "Cancer of connective tissue",
          "Skin cancer",
          "Melanomas of skin, dx or hx",
          "Melanomas of skin",
          "Other non-epithelial cancer of skin",
          "Basal cell carcinoma",
          "Squamous cell carcinoma",
          "Carcinoma in situ of skin",
          "Breast cancer",
          "Breast cancer [female]",
          "Malignant neoplasm of female breast",
          "Breast cancer [male]",
          "Neoplasm of uncertain behavior of breast",
          "Acquired absence of breast",
          "Cervical cancer and dysplasia",
          "Cervical cancer",
          "Cervical intraepithelial neoplasia [CIN] [Cervical dysplasia]",
          "Malignant neoplasm of uterus",
          "Cancer of other female genital organs",
          "Malignant neoplasm of ovary and other uterine adnexa",
          "Malignant neoplasm of ovary",
          "Cancer of other female genital organs (excluding uterus and ovary)",
          "Cancer of prostate",
          "Cancer of other male genital organs",
          "Malignant neoplasm of unspecified male genital organ",
          "Malignant neoplasm of testis",
          "Neoplasm of uncertain behavior of male genital organs",
          "Cancer of urinary organs (incl. kidney and bladder)",
          "Cancer of kidney and renal pelvis",
          "Malignant neoplasm of kidney, except pelvis",
          "Malignant neoplasm of renal pelvis",
          "Cancer of bladder",
          "Malignant neoplasm of bladder",
          "Malignant neoplasm of other urinary organs",
          "Cancer of eye",
          "Manlignant and unknown neoplasms of brain and nervous system",
          "Cancer of brain and nervous system",
          "Cancer of brain",
          "Thyroid cancer",
          "Cancer of other endocrine glands",
          "Cancer, suspected or other",
          "Malignant neoplasm, other",
          "Chemotherapy",
          "Secondary malignant neoplasm",
          "Secondary malignancy of lymph nodes",
          "Secondary malignancy of respiratory organs",
          "Secondary malignant neoplasm of digestive systems",
          "Secondary malignant neoplasm of liver",
          "Secondary malignancy of brain/spine",
          "Secondary malignancy of bone",
          "Secondary malignant neoplasm of skin",
          "Neoplasm of uncertain behavior",
          "Neurofibromatosis",
          "Myeloproliferative disease",
          "Polycythemia vera",
          "Hodgkin's disease",
          "Cancer of other lymphoid, histiocytic tissue",
          "Non-Hodgkins lymphoma",
          "Nodular lymphoma",
          "Reticulosarcoma",
          "Lymphosarcoma",
          "Large cell lymphoma",
          "Leukemia",
          "Lymphoid leukemia",
          "Lymphoid leukemia, acute",
          "Lymphoid leukemia, chronic",
          "Myeloid leukemia",
          "Myeloid leukemia, acute",
          "Myeloid leukemia, chronic",
          "Monocytic leukemia",
          "Multiple myeloma",
          "Benign neoplasm of colon",
          "Neuroendocrine tumors",
          "Benign neoplasm of lip, oral cavity, and pharynx",
          "Benign neoplasm of other parts of digestive system",
          "Benign neoplasm of respiratory and intrathoracic organs",
          "Benign neoplasm of bone and articular cartilage",
          "Lipoma",
          "Lipoma of skin and subcutaneous tissue",
          "Other benign neoplasm of connective and other soft tissue",
          "Benign neoplasm of skin",
          "Vascular hamartomas and non-neoplastic nevi",
          "Nevus, non-neoplastic",
          "Benign neoplasm of uterus",
          "Uterine leiomyoma",
          "Other benign neoplasm of uterus",
          "Benign neoplasm of other female genital organs",
          "Benign neoplasm of male genital organs",
          "Benign neoplasm of kidney and other urinary organs",
          "Benign neoplasm of eye",
          "Benign neoplasm of eye, uveal",
          "Benign neoplasm of brain and other parts of nervous system",
          "Benign neoplasm of brain, cranial nerves, meninges",
          "Benign neoplasm of spinal cord, meninges",
          "Benign neoplasm of other endocrine glands and related structures",
          "Benign neoplasm of adrenal gland",
          "Benign neoplasm of parathyroid gland",
          "Benign neoplasm of pituitary gland and craniopharyngeal duct (pouch)",
          "Hemangioma and lymphangioma, any site",
          "Hemangioma of skin and subcutaneous tissue",
          "Benign neoplasm of unspecified sites",
          "Benign neoplasm of lymph nodes",
          "Kaposi's sarcoma"
         ],
         "legendgroup": "neoplasms",
         "marker": {
          "color": "#00cc96",
          "symbol": "circle"
         },
         "mode": "markers",
         "name": "neoplasms",
         "opacity": 0.9,
         "showlegend": true,
         "type": "scattergl",
         "x": [
          9.479629516601562,
          9.249332427978516,
          9.001858711242676,
          8.257633209228516,
          0.3282621204853058,
          0.5284894704818726,
          9.584567070007324,
          9.310954093933105,
          7.7324042320251465,
          9.592487335205078,
          9.45375919342041,
          0.5804618000984192,
          11.157651901245117,
          13.691237449645996,
          15.385642051696777,
          12.632461547851562,
          12.596627235412598,
          6.419101238250732,
          14.025858879089355,
          13.65063762664795,
          13.060858726501465,
          15.516170501708984,
          12.805235862731934,
          12.613265037536621,
          14.169271469116211,
          9.133244514465332,
          12.420378684997559,
          16.401660919189453,
          13.399271011352539,
          9.429431915283203,
          9.645795822143555,
          12.26980972290039,
          4.032122611999512,
          4.284233570098877,
          4.176231861114502,
          4.868333339691162,
          0.4416842460632324,
          4.41766357421875,
          0.5004966259002686,
          5.679165363311768,
          5.46252965927124,
          5.392456531524658,
          5.463344573974609,
          6.243507385253906,
          5.859121799468994,
          -3.5601296424865723,
          6.017664909362793,
          5.73821496963501,
          5.788952827453613,
          -3.3670949935913086,
          5.7075090408325195,
          5.553197860717773,
          6.533362865447998,
          4.40132474899292,
          7.46169900894165,
          6.756809234619141,
          6.1757636070251465,
          4.378575801849365,
          -4.280211448669434,
          19.811803817749023,
          20.09977912902832,
          20.013046264648438,
          7.860456466674805,
          8.056330680847168,
          7.731068134307861,
          7.546647071838379,
          8.42034912109375,
          15.820762634277344,
          16.033414840698242,
          8.511971473693848,
          8.648221969604492,
          9.506707191467285,
          13.230351448059082,
          12.777831077575684,
          9.66804313659668,
          9.7217378616333,
          13.708500862121582,
          9.80557632446289,
          10.126543045043945,
          13.18441390991211,
          9.340178489685059,
          -0.231319859623909,
          12.752477645874023,
          7.782347202301025,
          15.817708969116211,
          16.17776107788086,
          14.009921073913574,
          13.520886421203613,
          14.032706260681152,
          13.66944408416748,
          14.260077476501465,
          14.188849449157715,
          14.162894248962402,
          16.039609909057617,
          15.383665084838867,
          14.643535614013672,
          14.394829750061035,
          15.941642761230469,
          15.592195510864258,
          15.569242477416992,
          14.865426063537598,
          15.755965232849121,
          12.302081108093262,
          10.26215934753418,
          6.382490158081055,
          14.84011459350586,
          9.914161682128906,
          9.58142375946045,
          8.858556747436523,
          0.1630910187959671,
          8.129352569580078,
          4.456356525421143,
          8.887059211730957,
          6.116105079650879,
          -2.1586697101593018,
          3.2967007160186768,
          -2.0248701572418213,
          5.839416027069092,
          4.48112678527832,
          8.821869850158691,
          8.64284610748291,
          7.619771957397461,
          0.8770067691802979,
          7.9380950927734375,
          0.3796185255050659,
          -2.1997601985931396,
          7.622183322906494,
          -0.7922573089599609,
          8.07165241241455,
          9.078714370727539,
          -0.5282155871391296,
          9.219246864318848,
          1.251554012298584,
          5.248814105987549
         ],
         "xaxis": "x",
         "y": [
          17.28621482849121,
          17.36155128479004,
          16.91478729248047,
          16.368995666503906,
          7.238718032836914,
          7.169382572174072,
          17.343019485473633,
          16.96726417541504,
          12.323923110961914,
          17.345380783081055,
          16.701419830322266,
          7.257296085357666,
          -1.4795078039169312,
          10.358280181884766,
          7.825901031494141,
          10.287863731384277,
          10.437963485717773,
          12.611790657043457,
          8.3218355178833,
          7.918356418609619,
          9.327094078063965,
          7.178239345550537,
          10.620530128479004,
          10.108406066894531,
          7.7573137283325195,
          13.303038597106934,
          10.433631896972656,
          13.355782508850098,
          11.284466743469238,
          14.293397903442383,
          14.6614990234375,
          11.982041358947754,
          8.067411422729492,
          8.124838829040527,
          7.954692363739014,
          7.703173637390137,
          8.28281307220459,
          7.745064735412598,
          7.356670379638672,
          16.316959381103516,
          16.24033546447754,
          16.40758514404297,
          16.050125122070312,
          15.169506072998047,
          16.17139434814453,
          7.9185261726379395,
          12.118002891540527,
          11.950611114501953,
          14.31177043914795,
          8.015034675598145,
          15.01712703704834,
          15.643074035644531,
          14.08635425567627,
          10.452932357788086,
          12.849637031555176,
          13.831381797790527,
          14.252522468566895,
          10.284120559692383,
          6.528314590454102,
          11.37833023071289,
          11.285836219787598,
          11.2132568359375,
          12.76044750213623,
          12.628267288208008,
          12.033834457397461,
          -4.140573024749756,
          16.072830200195312,
          12.53274154663086,
          12.873059272766113,
          14.365168571472168,
          13.184123039245605,
          13.569144248962402,
          11.581825256347656,
          11.497745513916016,
          13.543092727661133,
          13.788396835327148,
          11.340267181396484,
          13.734702110290527,
          13.929403305053711,
          11.965580940246582,
          14.16290283203125,
          6.959897518157959,
          11.8297119140625,
          16.19196319580078,
          11.181327819824219,
          10.75717544555664,
          12.192120552062988,
          12.462347984313965,
          12.557963371276855,
          12.018267631530762,
          12.347310066223145,
          12.333795547485352,
          12.467463493347168,
          11.554203987121582,
          11.613308906555176,
          12.164694786071777,
          11.12316608428955,
          11.640024185180664,
          11.462536811828613,
          11.346282005310059,
          11.14820384979248,
          11.978870391845703,
          10.592305183410645,
          13.659268379211426,
          5.105610370635986,
          7.741541385650635,
          17.097625732421875,
          14.801685333251953,
          14.631336212158203,
          8.37713623046875,
          16.149898529052734,
          7.869326591491699,
          -4.412033557891846,
          -1.7284992933273315,
          7.8564133644104,
          13.970191955566406,
          7.923791408538818,
          11.54620361328125,
          10.710787773132324,
          6.497848987579346,
          -5.630946636199951,
          -5.588093280792236,
          8.344024658203125,
          15.60204792022705,
          7.742374897003174,
          3.8260462284088135,
          13.537763595581055,
          6.275100231170654,
          15.102651596069336,
          -4.152162075042725,
          5.1807026863098145,
          13.929852485656738,
          8.959172248840332,
          7.2090630531311035
         ],
         "yaxis": "y"
        },
        {
         "customdata": [
          [
           "Simple and unspecified goiter",
           240
          ],
          [
           "Nontoxic nodular goiter",
           241
          ],
          [
           "Nontoxic uninodular goiter",
           241.1
          ],
          [
           "Nontoxic multinodular goiter",
           241.2
          ],
          [
           "Thyrotoxicosis with or without goiter",
           242
          ],
          [
           "Graves' disease",
           242.1
          ],
          [
           "Toxic multinodular goiter",
           242.2
          ],
          [
           "Exophthalmos",
           242.3
          ],
          [
           "Thyrotoxic exophthalmos",
           242.31
          ],
          [
           "Hypothyroidism",
           244
          ],
          [
           "Secondary hypothyroidism",
           244.1
          ],
          [
           "Acquired hypothyroidism",
           244.2
          ],
          [
           "Iodine hypothyroidism",
           244.3
          ],
          [
           "Hypothyroidism NOS",
           244.4
          ],
          [
           "Congenital hypothyroidism",
           244.5
          ],
          [
           "Thyroiditis",
           245
          ],
          [
           "Thyroiditis, acute and subacute",
           245.1
          ],
          [
           "Chronic thyroiditis",
           245.2
          ],
          [
           "Chronic lymphocytic thyroiditis",
           245.21
          ],
          [
           "Other disorders of thyroid",
           246
          ],
          [
           "Thyroid cyst",
           246.2
          ],
          [
           "Abnormal results of function study of thyroid",
           246.7
          ],
          [
           "Secondary diabetes mellitus",
           249
          ],
          [
           "Diabetes mellitus",
           250
          ],
          [
           "Type 1 diabetes",
           250.1
          ],
          [
           "Type 1 diabetes with ketoacidosis",
           250.11
          ],
          [
           "Type 1 diabetes with renal manifestations",
           250.12
          ],
          [
           "Type 1 diabetes with ophthalmic manifestations",
           250.13
          ],
          [
           "Type 1 diabetes with neurological manifestations",
           250.14
          ],
          [
           "Diabetes type 1 with peripheral circulatory disorders",
           250.15
          ],
          [
           "Type 2 diabetes",
           250.2
          ],
          [
           "Type 2 diabetes with ketoacidosis",
           250.21
          ],
          [
           "Type 2 diabetes with renal manifestations",
           250.22
          ],
          [
           "Type 2 diabetes with ophthalmic manifestations",
           250.23
          ],
          [
           "Type 2 diabetes with neurological manifestations",
           250.24
          ],
          [
           "Diabetes type 2 with peripheral circulatory disorders",
           250.25
          ],
          [
           "Insulin pump user",
           250.3
          ],
          [
           "Abnormal glucose",
           250.4
          ],
          [
           "Impaired fasting glucose",
           250.41
          ],
          [
           "Other abnormal glucose",
           250.42
          ],
          [
           "Glycosuria or Acetonuria",
           250.5
          ],
          [
           "Polyneuropathy in diabetes",
           250.6
          ],
          [
           "Diabetic retinopathy",
           250.7
          ],
          [
           "Other disorders of pancreatic internal secretion",
           251
          ],
          [
           "Hypoglycemia",
           251.1
          ],
          [
           "Abnormality of secretion of glucagon or gastrin",
           251.8
          ],
          [
           "Disorders of parathyroid gland",
           252
          ],
          [
           "Hyperparathyroidism",
           252.1
          ],
          [
           "Hypoparathyroidism",
           252.2
          ],
          [
           "Disorders of the pituitary gland and its hypothalamic control",
           253
          ],
          [
           "Pituitary hyperfunction",
           253.1
          ],
          [
           "Acromegaly and gigantism",
           253.11
          ],
          [
           "Pituitary hypofunction",
           253.2
          ],
          [
           "Diabetes insipidus",
           253.3
          ],
          [
           "Anterior pituitary disorders",
           253.4
          ],
          [
           "Pituitary dwarfism",
           253.5
          ],
          [
           "Other disorders of neurohypophysis",
           253.7
          ],
          [
           "Diseases of thymus gland",
           254
          ],
          [
           "Disorders of adrenal glands",
           255
          ],
          [
           "Adrenal hyperfunction",
           255.1
          ],
          [
           "Cushing's syndrome",
           255.11
          ],
          [
           "Hyperaldosteronism",
           255.12
          ],
          [
           "Medulloadrenal hyperfunction",
           255.13
          ],
          [
           "Adrenal hypofunction",
           255.2
          ],
          [
           "Glucocorticoid deficiency",
           255.21
          ],
          [
           "Mineralocorticoid deficiency",
           255.22
          ],
          [
           "Adrenogenital disorders",
           255.3
          ],
          [
           "Ovarian dysfunction",
           256
          ],
          [
           "Hyperestrogenism",
           256.1
          ],
          [
           "Polycystic ovaries",
           256.4
          ],
          [
           "Testicular dysfunction",
           257
          ],
          [
           "Testicular hypofunction",
           257.1
          ],
          [
           "Other endocrine disorders",
           259
          ],
          [
           "Nonspecific abnormal results of other endocrine function study",
           259.1
          ],
          [
           "Carcinoid syndrome",
           259.2
          ],
          [
           "Delay in sexual development and puberty NEC",
           259.3
          ],
          [
           "Precocious sexual development and puberty NEC",
           259.4
          ],
          [
           "Polyglandular activity in multiple endocrine adenomatosis",
           259.8
          ],
          [
           "Protein-calorie malnutrition",
           260
          ],
          [
           "severe protein-calorie malnutrition",
           260.2
          ],
          [
           "Kwashiorkor",
           260.21
          ],
          [
           "Nutritional marasmus",
           260.22
          ],
          [
           "Adult failure to thrive",
           260.3
          ],
          [
           "Anorexia",
           260.6
          ],
          [
           "Polyphagia",
           260.7
          ],
          [
           "Vitamin deficiency",
           261
          ],
          [
           "Vitamin A deficiency",
           261.1
          ],
          [
           "Vitamin B-complex deficiencies",
           261.2
          ],
          [
           "Vitamin C deficiencies",
           261.3
          ],
          [
           "Vitamin D deficiency",
           261.4
          ],
          [
           "Rickets or osteomalacia",
           261.41
          ],
          [
           "Mineral deficiency NEC",
           262
          ],
          [
           "Other nutritional deficiency",
           263
          ],
          [
           "Lack of normal physiological development",
           264
          ],
          [
           "Short stature",
           264.1
          ],
          [
           "Failure to thrive (childhood)",
           264.2
          ],
          [
           "Delayed milestones",
           264.3
          ],
          [
           "Lack of normal physiological development, unspecified",
           264.9
          ],
          [
           "Proteinuria",
           269
          ],
          [
           "Disturbances of amino-acid transport",
           270.1
          ],
          [
           "Disturbances of sulphur-bearing amino-acid metabolism",
           270.11
          ],
          [
           "Phenylketonuria [PKU]",
           270.12
          ],
          [
           "Disorders of amino-acid metabolism",
           270.2
          ],
          [
           "Disorders of urea cycle metabolism",
           270.21
          ],
          [
           "Disorders of plasma protein metabolism",
           270.3
          ],
          [
           "Polyclonal hypergammaglobulinemia",
           270.31
          ],
          [
           "Paraproteinemia",
           270.32
          ],
          [
           "Amyloidosis",
           270.33
          ],
          [
           "Alpha-1-antitrypsin deficiency",
           270.34
          ],
          [
           "Macroglobulinemia",
           270.35
          ],
          [
           "Other specified disorders of plasma protein metabolism",
           270.38
          ],
          [
           "Disorders of carbohydrate transport and metabolism",
           271
          ],
          [
           "Intestinal disaccharidase deficiencies and disaccharide malabsorption",
           271.3
          ],
          [
           "Other disorders of carbohydrate transport and metabolism",
           271.9
          ],
          [
           "Disorders of lipoid metabolism",
           272
          ],
          [
           "Hyperlipidemia",
           272.1
          ],
          [
           "Hypercholesterolemia",
           272.11
          ],
          [
           "Hyperglyceridemia",
           272.12
          ],
          [
           "Mixed hyperlipidemia",
           272.13
          ],
          [
           "Hyperchylomicronemia",
           272.14
          ],
          [
           "Unspecified disorder of lipoid metabolism",
           272.9
          ],
          [
           "Gout",
           274.1
          ],
          [
           "Gouty arthropathy",
           274.11
          ],
          [
           "Crystal arthropathies",
           274.2
          ],
          [
           "Chondrocalcinosis",
           274.21
          ],
          [
           "Disorders of mineral metabolism",
           275
          ],
          [
           "Disorders of copper metabolism",
           275.2
          ],
          [
           "Disorders of magnesium metabolism",
           275.3
          ],
          [
           "Disorders of calcium/phosphorus metabolism",
           275.5
          ],
          [
           "Hypocalcemia",
           275.51
          ],
          [
           "Disorders of phosphorus metabolism",
           275.53
          ],
          [
           "Hypercalcemia",
           275.6
          ],
          [
           "Disorders of fluid, electrolyte, and acid-base balance",
           276
          ],
          [
           "Electrolyte imbalance",
           276.1
          ],
          [
           "Hyperosmolality and/or hypernatremia",
           276.11
          ],
          [
           "Hyposmolality and/or hyponatremia",
           276.12
          ],
          [
           "Hyperpotassemia",
           276.13
          ],
          [
           "Hypopotassemia",
           276.14
          ],
          [
           "Acid-base balance disorder",
           276.4
          ],
          [
           "Acidosis",
           276.41
          ],
          [
           "Alkalosis",
           276.42
          ],
          [
           "Hypovolemia",
           276.5
          ],
          [
           "Fluid overload",
           276.6
          ],
          [
           "Polydipsia",
           276.8
          ],
          [
           "Other disorders of metabolism",
           277
          ],
          [
           "Disorders of porphyrin metabolism",
           277.1
          ],
          [
           "Other disorders of purine and pyrimidine metabolism",
           277.2
          ],
          [
           "Disorders of bilirubin excretion",
           277.4
          ],
          [
           "Other disorders of lipoid metabolism",
           277.5
          ],
          [
           "Lipoprotein disorders",
           277.51
          ],
          [
           "Other deficiencies of circulating enzymes",
           277.6
          ],
          [
           "Dysmetabolic syndrome X",
           277.7
          ],
          [
           "Carnitine deficiencies",
           277.8
          ],
          [
           "Overweight, obesity and other hyperalimentation",
           278
          ],
          [
           "Obesity",
           278.1
          ],
          [
           "Morbid obesity",
           278.11
          ],
          [
           "Localized adiposity",
           278.3
          ],
          [
           "Abnormal weight gain",
           278.4
          ],
          [
           "Disorders involving the immune mechanism",
           279
          ],
          [
           "Immunity deficiency",
           279.1
          ],
          [
           "Deficiency of humoral immunity",
           279.11
          ],
          [
           "Autoimmune disease NEC",
           279.2
          ],
          [
           "Other immunological findings",
           279.7
          ],
          [
           "Other specified disorders involving the immune mechanism",
           279.8
          ]
         ],
         "hovertemplate": "<b>%{hovertext}</b><br><br>category=endocrine/metabolic<br>0=%{x}<br>1=%{y}<br>description=%{customdata[0]}<br>phecode=%{customdata[1]}<extra></extra>",
         "hovertext": [
          "Simple and unspecified goiter",
          "Nontoxic nodular goiter",
          "Nontoxic uninodular goiter",
          "Nontoxic multinodular goiter",
          "Thyrotoxicosis with or without goiter",
          "Graves' disease",
          "Toxic multinodular goiter",
          "Exophthalmos",
          "Thyrotoxic exophthalmos",
          "Hypothyroidism",
          "Secondary hypothyroidism",
          "Acquired hypothyroidism",
          "Iodine hypothyroidism",
          "Hypothyroidism NOS",
          "Congenital hypothyroidism",
          "Thyroiditis",
          "Thyroiditis, acute and subacute",
          "Chronic thyroiditis",
          "Chronic lymphocytic thyroiditis",
          "Other disorders of thyroid",
          "Thyroid cyst",
          "Abnormal results of function study of thyroid",
          "Secondary diabetes mellitus",
          "Diabetes mellitus",
          "Type 1 diabetes",
          "Type 1 diabetes with ketoacidosis",
          "Type 1 diabetes with renal manifestations",
          "Type 1 diabetes with ophthalmic manifestations",
          "Type 1 diabetes with neurological manifestations",
          "Diabetes type 1 with peripheral circulatory disorders",
          "Type 2 diabetes",
          "Type 2 diabetes with ketoacidosis",
          "Type 2 diabetes with renal manifestations",
          "Type 2 diabetes with ophthalmic manifestations",
          "Type 2 diabetes with neurological manifestations",
          "Diabetes type 2 with peripheral circulatory disorders",
          "Insulin pump user",
          "Abnormal glucose",
          "Impaired fasting glucose",
          "Other abnormal glucose",
          "Glycosuria or Acetonuria",
          "Polyneuropathy in diabetes",
          "Diabetic retinopathy",
          "Other disorders of pancreatic internal secretion",
          "Hypoglycemia",
          "Abnormality of secretion of glucagon or gastrin",
          "Disorders of parathyroid gland",
          "Hyperparathyroidism",
          "Hypoparathyroidism",
          "Disorders of the pituitary gland and its hypothalamic control",
          "Pituitary hyperfunction",
          "Acromegaly and gigantism",
          "Pituitary hypofunction",
          "Diabetes insipidus",
          "Anterior pituitary disorders",
          "Pituitary dwarfism",
          "Other disorders of neurohypophysis",
          "Diseases of thymus gland",
          "Disorders of adrenal glands",
          "Adrenal hyperfunction",
          "Cushing's syndrome",
          "Hyperaldosteronism",
          "Medulloadrenal hyperfunction",
          "Adrenal hypofunction",
          "Glucocorticoid deficiency",
          "Mineralocorticoid deficiency",
          "Adrenogenital disorders",
          "Ovarian dysfunction",
          "Hyperestrogenism",
          "Polycystic ovaries",
          "Testicular dysfunction",
          "Testicular hypofunction",
          "Other endocrine disorders",
          "Nonspecific abnormal results of other endocrine function study",
          "Carcinoid syndrome",
          "Delay in sexual development and puberty NEC",
          "Precocious sexual development and puberty NEC",
          "Polyglandular activity in multiple endocrine adenomatosis",
          "Protein-calorie malnutrition",
          "severe protein-calorie malnutrition",
          "Kwashiorkor",
          "Nutritional marasmus",
          "Adult failure to thrive",
          "Anorexia",
          "Polyphagia",
          "Vitamin deficiency",
          "Vitamin A deficiency",
          "Vitamin B-complex deficiencies",
          "Vitamin C deficiencies",
          "Vitamin D deficiency",
          "Rickets or osteomalacia",
          "Mineral deficiency NEC",
          "Other nutritional deficiency",
          "Lack of normal physiological development",
          "Short stature",
          "Failure to thrive (childhood)",
          "Delayed milestones",
          "Lack of normal physiological development, unspecified",
          "Proteinuria",
          "Disturbances of amino-acid transport",
          "Disturbances of sulphur-bearing amino-acid metabolism",
          "Phenylketonuria [PKU]",
          "Disorders of amino-acid metabolism",
          "Disorders of urea cycle metabolism",
          "Disorders of plasma protein metabolism",
          "Polyclonal hypergammaglobulinemia",
          "Paraproteinemia",
          "Amyloidosis",
          "Alpha-1-antitrypsin deficiency",
          "Macroglobulinemia",
          "Other specified disorders of plasma protein metabolism",
          "Disorders of carbohydrate transport and metabolism",
          "Intestinal disaccharidase deficiencies and disaccharide malabsorption",
          "Other disorders of carbohydrate transport and metabolism",
          "Disorders of lipoid metabolism",
          "Hyperlipidemia",
          "Hypercholesterolemia",
          "Hyperglyceridemia",
          "Mixed hyperlipidemia",
          "Hyperchylomicronemia",
          "Unspecified disorder of lipoid metabolism",
          "Gout",
          "Gouty arthropathy",
          "Crystal arthropathies",
          "Chondrocalcinosis",
          "Disorders of mineral metabolism",
          "Disorders of copper metabolism",
          "Disorders of magnesium metabolism",
          "Disorders of calcium/phosphorus metabolism",
          "Hypocalcemia",
          "Disorders of phosphorus metabolism",
          "Hypercalcemia",
          "Disorders of fluid, electrolyte, and acid-base balance",
          "Electrolyte imbalance",
          "Hyperosmolality and/or hypernatremia",
          "Hyposmolality and/or hyponatremia",
          "Hyperpotassemia",
          "Hypopotassemia",
          "Acid-base balance disorder",
          "Acidosis",
          "Alkalosis",
          "Hypovolemia",
          "Fluid overload",
          "Polydipsia",
          "Other disorders of metabolism",
          "Disorders of porphyrin metabolism",
          "Other disorders of purine and pyrimidine metabolism",
          "Disorders of bilirubin excretion",
          "Other disorders of lipoid metabolism",
          "Lipoprotein disorders",
          "Other deficiencies of circulating enzymes",
          "Dysmetabolic syndrome X",
          "Carnitine deficiencies",
          "Overweight, obesity and other hyperalimentation",
          "Obesity",
          "Morbid obesity",
          "Localized adiposity",
          "Abnormal weight gain",
          "Disorders involving the immune mechanism",
          "Immunity deficiency",
          "Deficiency of humoral immunity",
          "Autoimmune disease NEC",
          "Other immunological findings",
          "Other specified disorders involving the immune mechanism"
         ],
         "legendgroup": "endocrine/metabolic",
         "marker": {
          "color": "#ab63fa",
          "symbol": "circle"
         },
         "mode": "markers",
         "name": "endocrine/metabolic",
         "opacity": 0.9,
         "showlegend": true,
         "type": "scattergl",
         "x": [
          8.228429794311523,
          8.413145065307617,
          8.089795112609863,
          1.1491665840148926,
          8.011022567749023,
          8.051018714904785,
          8.25123405456543,
          6.731940746307373,
          -3.2702534198760986,
          1.8553630113601685,
          1.8938347101211548,
          8.147623062133789,
          2.2656772136688232,
          7.802278995513916,
          7.900970935821533,
          7.2621636390686035,
          7.620793342590332,
          8.272041320800781,
          8.174748420715332,
          8.073999404907227,
          1.335982322692871,
          7.58234167098999,
          9.694525718688965,
          10.420432090759277,
          18.52840805053711,
          17.967702865600586,
          18.187984466552734,
          18.343116760253906,
          18.08272361755371,
          18.489578247070312,
          10.90108871459961,
          10.536199569702148,
          10.39617919921875,
          17.807830810546875,
          10.861881256103516,
          11.218280792236328,
          9.99285888671875,
          -2.464571237564087,
          -2.5394790172576904,
          17.356292724609375,
          10.049304008483887,
          11.39759635925293,
          16.928319931030273,
          -0.5777562260627747,
          10.736834526062012,
          15.198633193969727,
          -3.3837547302246094,
          13.748039245605469,
          9.711357116699219,
          7.731586933135986,
          7.696354389190674,
          8.184897422790527,
          13.807751655578613,
          11.09080982208252,
          1.2237870693206787,
          1.1118086576461792,
          14.676587104797363,
          13.52009105682373,
          10.31091594696045,
          7.378742694854736,
          8.03727912902832,
          10.435091018676758,
          -0.5860296487808228,
          -1.8411672115325928,
          19.611600875854492,
          -1.4474680423736572,
          5.5280442237854,
          5.06274938583374,
          -3.8630635738372803,
          5.353574275970459,
          4.7070136070251465,
          5.824987411499023,
          5.244204044342041,
          3.425130605697632,
          10.269148826599121,
          6.375239849090576,
          5.4575042724609375,
          13.22284984588623,
          13.3093900680542,
          2.4739997386932373,
          13.498672485351562,
          13.348289489746094,
          2.4904847145080566,
          18.62946128845215,
          18.875696182250977,
          12.315701484680176,
          11.46320915222168,
          12.891358375549316,
          15.072661399841309,
          14.093645095825195,
          13.802077293395996,
          7.628698348999023,
          13.119904518127441,
          -1.207187533378601,
          5.479851245880127,
          16.414323806762695,
          -0.844563901424408,
          -1.0877225399017334,
          9.936994552612305,
          9.012299537658691,
          10.055401802062988,
          12.771302223205566,
          14.948577880859375,
          14.049302101135254,
          0.38024333119392395,
          0.25774431228637695,
          15.196928024291992,
          16.862268447875977,
          15.866494178771973,
          5.86917781829834,
          6.205623149871826,
          -0.9848929643630981,
          12.211173057556152,
          14.796844482421875,
          -2.7292721271514893,
          17.716726303100586,
          17.183666229248047,
          18.68381118774414,
          17.557533264160156,
          14.213868141174316,
          16.876956939697266,
          13.17988109588623,
          7.163338661193848,
          13.339834213256836,
          13.476648330688477,
          -3.416722059249878,
          14.796740531921387,
          12.305173873901367,
          13.674031257629395,
          12.917415618896484,
          13.2293062210083,
          13.337696075439453,
          -1.7124981880187988,
          11.57701301574707,
          11.706602096557617,
          11.53677749633789,
          9.69853401184082,
          12.04941177368164,
          -1.1795858144760132,
          9.594003677368164,
          10.03384780883789,
          11.947161674499512,
          -1.5608279705047607,
          11.263289451599121,
          13.253190994262695,
          13.089764595031738,
          13.776145935058594,
          12.98351001739502,
          7.848745822906494,
          15.699009895324707,
          14.166940689086914,
          18.445091247558594,
          9.528053283691406,
          10.366681098937988,
          11.055952072143555,
          10.761341094970703,
          -3.2789714336395264,
          -3.5045199394226074,
          1.2090154886245728,
          9.060432434082031,
          14.490520477294922,
          16.554086685180664,
          3.222994327545166,
          14.968649864196777
         ],
         "xaxis": "x",
         "y": [
          15.605891227722168,
          15.522004127502441,
          15.545339584350586,
          8.576087951660156,
          14.634735107421875,
          14.285255432128906,
          14.685750007629395,
          -4.0955657958984375,
          -1.4272775650024414,
          9.712627410888672,
          9.783467292785645,
          15.190420150756836,
          10.118335723876953,
          14.827458381652832,
          14.868561744689941,
          13.407380104064941,
          13.583953857421875,
          15.266651153564453,
          15.262222290039062,
          16.00967025756836,
          8.902812004089355,
          15.177961349487305,
          3.6925971508026123,
          2.9485552310943604,
          0.7808621525764465,
          1.1242121458053589,
          0.8506097793579102,
          0.8071664571762085,
          1.0212899446487427,
          0.5687780976295471,
          2.7670466899871826,
          2.7795958518981934,
          2.8662846088409424,
          1.1712528467178345,
          2.775660991668701,
          2.569098711013794,
          2.883988618850708,
          4.4889373779296875,
          4.515316009521484,
          1.4453402757644653,
          3.126230239868164,
          2.719992160797119,
          1.3342663049697876,
          4.639875411987305,
          3.1476688385009766,
          6.651723384857178,
          4.365451812744141,
          2.0728299617767334,
          -4.558879852294922,
          14.595040321350098,
          14.924508094787598,
          14.650269508361816,
          -5.362429141998291,
          3.7753195762634277,
          8.770292282104492,
          9.052131652832031,
          -3.2315003871917725,
          -5.291343688964844,
          4.691250801086426,
          14.202751159667969,
          13.71414566040039,
          4.43140983581543,
          8.370484352111816,
          4.482347011566162,
          10.991759300231934,
          5.145362854003906,
          14.277624130249023,
          13.946815490722656,
          8.051950454711914,
          13.860883712768555,
          14.033355712890625,
          12.406522750854492,
          14.938868522644043,
          14.529797554016113,
          13.311497688293457,
          12.657232284545898,
          14.554373741149902,
          10.526659965515137,
          3.8292179107666016,
          5.6421003341674805,
          3.9771080017089844,
          3.8692657947540283,
          5.907332420349121,
          -5.3125457763671875,
          -4.986291885375977,
          3.498023271560669,
          3.1155104637145996,
          3.749678373336792,
          10.031493186950684,
          1.3473881483078003,
          1.1297088861465454,
          14.6571626663208,
          3.905380964279175,
          6.899823188781738,
          15.210886001586914,
          17.010547637939453,
          6.183653831481934,
          6.233503341674805,
          5.527970790863037,
          11.042868614196777,
          -4.362472057342529,
          -4.127781391143799,
          4.092125415802002,
          4.357534408569336,
          3.9585561752319336,
          3.6784965991973877,
          10.699848175048828,
          3.192730665206909,
          13.660906791687012,
          -1.5996588468551636,
          -1.0636227130889893,
          4.054234981536865,
          4.302890777587891,
          3.6217806339263916,
          1.2602319717407227,
          3.024991750717163,
          2.6361167430877686,
          5.025432586669922,
          2.8864941596984863,
          4.911796569824219,
          2.330233097076416,
          1.8735204935073853,
          7.71129035949707,
          1.506465196609497,
          1.4070537090301514,
          4.408626556396484,
          4.03186559677124,
          3.6754956245422363,
          1.7374809980392456,
          2.950331211090088,
          2.6845240592956543,
          2.702807903289795,
          4.775216579437256,
          4.183300018310547,
          4.036149501800537,
          4.051527500152588,
          4.223361015319824,
          4.396852970123291,
          4.5562849044799805,
          4.4645304679870605,
          4.5368428230285645,
          4.205925464630127,
          4.6855878829956055,
          3.889348030090332,
          4.156681537628174,
          5.903931617736816,
          1.5492160320281982,
          -4.817272663116455,
          -2.72810697555542,
          3.546428680419922,
          6.639194011688232,
          4.9154767990112305,
          1.661461353302002,
          2.7968528270721436,
          3.4977266788482666,
          3.9529778957366943,
          4.606688499450684,
          5.133551597595215,
          8.466611862182617,
          16.13715934753418,
          11.108715057373047,
          15.96909236907959,
          14.769608497619629,
          10.436657905578613
         ],
         "yaxis": "y"
        },
        {
         "customdata": [
          [
           "Disorders of iron metabolism",
           275.1
          ],
          [
           "Hereditary hemochromatosis",
           275.11
          ],
          [
           "Iron deficiency anemias",
           280
          ],
          [
           "Iron deficiency anemias, unspecified or not due to blood loss",
           280.1
          ],
          [
           "Iron deficiency anemia secondary to blood loss (chronic)",
           280.2
          ],
          [
           "Other deficiency anemia",
           281
          ],
          [
           "Megaloblastic anemia",
           281.1
          ],
          [
           "Pernicious anemia",
           281.11
          ],
          [
           "Other vitamin B12 deficiency anemia",
           281.12
          ],
          [
           "Folate-deficiency anemia",
           281.13
          ],
          [
           "Deficiency anemias",
           281.9
          ],
          [
           "Hereditary hemolytic anemias",
           282
          ],
          [
           "Sickle cell anemia",
           282.5
          ],
          [
           "Other hemoglobinopathies",
           282.8
          ],
          [
           "Other hereditary hemolytic anemias",
           282.9
          ],
          [
           "Acquired hemolytic anemias",
           283
          ],
          [
           "Autoimmune hemolytic anemias",
           283.1
          ],
          [
           "Non-autoimmune hemolytic anemias",
           283.2
          ],
          [
           "Hemolytic-uremic syndrome",
           283.21
          ],
          [
           "Aplastic anemia",
           284
          ],
          [
           "Pancytopenia",
           284.1
          ],
          [
           "Constitutional aplastic anemia",
           284.2
          ],
          [
           "Other anemias",
           285
          ],
          [
           "Acute posthemorrhagic anemia",
           285.1
          ],
          [
           "Anemia of chronic disease",
           285.2
          ],
          [
           "Anemia in chronic kidney disease",
           285.21
          ],
          [
           "Anemia in neoplastic disease",
           285.22
          ],
          [
           "Sideroblastic anemia",
           285.3
          ],
          [
           "Hemoglobinuria",
           285.8
          ],
          [
           "Coagulation defects",
           286
          ],
          [
           "Congenital coagulation defects",
           286.1
          ],
          [
           "Von willebrand's disease",
           286.11
          ],
          [
           "Congenital deficiency of other clotting factors (including factor VII)",
           286.12
          ],
          [
           "Congenital factor VIII disorder",
           286.13
          ],
          [
           "Coagulation defects complicating pregnancy or postpartum",
           286.3
          ],
          [
           "Acquired coagulation factor deficiency",
           286.4
          ],
          [
           "Hemorrhagic disorder due to intrinsic circulating anticoagulants",
           286.5
          ],
          [
           "Defibrination syndrome",
           286.6
          ],
          [
           "Other and unspecified coagulation defects",
           286.7
          ],
          [
           "Hypercoagulable state",
           286.8
          ],
          [
           "Primary hypercoagulable state",
           286.81
          ],
          [
           "Abnormal coagulation profile",
           286.9
          ],
          [
           "Purpura and other hemorrhagic conditions",
           287
          ],
          [
           "Allergic purpura",
           287.2
          ],
          [
           "Thrombocytopenia",
           287.3
          ],
          [
           "Primary thrombocytopenia",
           287.31
          ],
          [
           "Secondary thrombocytopenia",
           287.32
          ],
          [
           "Qualitative platelet defects",
           287.4
          ],
          [
           "Diseases of white blood cells",
           288
          ],
          [
           "Decreased white blood cell count",
           288.1
          ],
          [
           "Neutropenia",
           288.11
          ],
          [
           "Elevated white blood cell count",
           288.2
          ],
          [
           "Eosinophilia",
           288.3
          ],
          [
           "Other diseases of blood and blood-forming organs",
           289
          ],
          [
           "Myelofibrosis",
           289.1
          ],
          [
           "Personal history of diseases of blood and blood-forming organs",
           289.3
          ],
          [
           "Lymphadenitis",
           289.4
          ],
          [
           "Diseases of spleen",
           289.5
          ],
          [
           "Polycythemia, secondary",
           289.8
          ],
          [
           "Abnormality of red blood cells",
           289.9
          ]
         ],
         "hovertemplate": "<b>%{hovertext}</b><br><br>category=hematopoietic<br>0=%{x}<br>1=%{y}<br>description=%{customdata[0]}<br>phecode=%{customdata[1]}<extra></extra>",
         "hovertext": [
          "Disorders of iron metabolism",
          "Hereditary hemochromatosis",
          "Iron deficiency anemias",
          "Iron deficiency anemias, unspecified or not due to blood loss",
          "Iron deficiency anemia secondary to blood loss (chronic)",
          "Other deficiency anemia",
          "Megaloblastic anemia",
          "Pernicious anemia",
          "Other vitamin B12 deficiency anemia",
          "Folate-deficiency anemia",
          "Deficiency anemias",
          "Hereditary hemolytic anemias",
          "Sickle cell anemia",
          "Other hemoglobinopathies",
          "Other hereditary hemolytic anemias",
          "Acquired hemolytic anemias",
          "Autoimmune hemolytic anemias",
          "Non-autoimmune hemolytic anemias",
          "Hemolytic-uremic syndrome",
          "Aplastic anemia",
          "Pancytopenia",
          "Constitutional aplastic anemia",
          "Other anemias",
          "Acute posthemorrhagic anemia",
          "Anemia of chronic disease",
          "Anemia in chronic kidney disease",
          "Anemia in neoplastic disease",
          "Sideroblastic anemia",
          "Hemoglobinuria",
          "Coagulation defects",
          "Congenital coagulation defects",
          "Von willebrand's disease",
          "Congenital deficiency of other clotting factors (including factor VII)",
          "Congenital factor VIII disorder",
          "Coagulation defects complicating pregnancy or postpartum",
          "Acquired coagulation factor deficiency",
          "Hemorrhagic disorder due to intrinsic circulating anticoagulants",
          "Defibrination syndrome",
          "Other and unspecified coagulation defects",
          "Hypercoagulable state",
          "Primary hypercoagulable state",
          "Abnormal coagulation profile",
          "Purpura and other hemorrhagic conditions",
          "Allergic purpura",
          "Thrombocytopenia",
          "Primary thrombocytopenia",
          "Secondary thrombocytopenia",
          "Qualitative platelet defects",
          "Diseases of white blood cells",
          "Decreased white blood cell count",
          "Neutropenia",
          "Elevated white blood cell count",
          "Eosinophilia",
          "Other diseases of blood and blood-forming organs",
          "Myelofibrosis",
          "Personal history of diseases of blood and blood-forming organs",
          "Lymphadenitis",
          "Diseases of spleen",
          "Polycythemia, secondary",
          "Abnormality of red blood cells"
         ],
         "legendgroup": "hematopoietic",
         "marker": {
          "color": "#FFA15A",
          "symbol": "circle"
         },
         "mode": "markers",
         "name": "hematopoietic",
         "opacity": 0.9,
         "showlegend": true,
         "type": "scattergl",
         "x": [
          14.892379760742188,
          13.921547889709473,
          -1.027388572692871,
          15.090115547180176,
          -1.6865333318710327,
          15.107890129089355,
          15.149334907531738,
          13.247255325317383,
          15.187458992004395,
          12.992204666137695,
          14.635960578918457,
          2.404061794281006,
          13.725160598754883,
          14.424406051635742,
          17.0864315032959,
          -0.8409758806228638,
          16.062213897705078,
          -0.7710317373275757,
          11.604731559753418,
          15.429056167602539,
          15.67639446258545,
          15.019493103027344,
          14.677020072937012,
          13.652100563049316,
          15.571130752563477,
          -0.14642690122127533,
          0.19849900901317596,
          15.392080307006836,
          14.982812881469727,
          14.906871795654297,
          17.163036346435547,
          17.199195861816406,
          16.142969131469727,
          17.169843673706055,
          10.610747337341309,
          -2.2202675342559814,
          16.279516220092773,
          6.171310901641846,
          5.833762168884277,
          15.4950532913208,
          16.000652313232422,
          -2.058642864227295,
          15.069331169128418,
          20.855228424072266,
          15.931233406066895,
          14.96966552734375,
          0.6945911049842834,
          17.06361198425293,
          14.55774211883545,
          15.761617660522461,
          16.03053092956543,
          15.632315635681152,
          15.261210441589355,
          16.111093521118164,
          15.952656745910645,
          16.19774055480957,
          10.999981880187988,
          10.106476783752441,
          16.87152099609375,
          14.6465482711792
         ],
         "xaxis": "x",
         "y": [
          3.9612741470336914,
          2.977916955947876,
          6.485493183135986,
          7.646960258483887,
          7.360917091369629,
          9.594304084777832,
          9.043530464172363,
          7.647621154785156,
          8.6240873336792,
          6.4634528160095215,
          8.120901107788086,
          5.96574068069458,
          6.618155479431152,
          6.9574198722839355,
          12.789146423339844,
          4.973520278930664,
          9.831842422485352,
          4.58429479598999,
          6.880521297454834,
          9.755196571350098,
          10.29554557800293,
          10.795496940612793,
          9.094378471374512,
          7.230897903442383,
          10.960648536682129,
          5.641060829162598,
          5.330399513244629,
          9.998311042785645,
          9.303651809692383,
          15.696467399597168,
          11.8690824508667,
          11.854289054870605,
          15.207858085632324,
          12.214043617248535,
          6.562101364135742,
          8.710123062133789,
          15.710268020629883,
          -0.48719438910484314,
          -0.4524244964122772,
          15.615172386169434,
          15.753125190734863,
          8.475398063659668,
          4.530782699584961,
          10.141680717468262,
          9.8164644241333,
          9.405044555664062,
          5.126038551330566,
          11.45164680480957,
          11.949542999267578,
          11.04751968383789,
          11.359867095947266,
          11.264633178710938,
          11.006424903869629,
          10.347360610961914,
          10.35328197479248,
          13.001808166503906,
          12.055209159851074,
          5.868134021759033,
          10.676668167114258,
          6.3647236824035645
         ],
         "yaxis": "y"
        },
        {
         "customdata": [
          [
           "Delirium dementia and amnestic and other cognitive disorders",
           290
          ],
          [
           "Dementias",
           290.1
          ],
          [
           "Alzheimer's disease",
           290.11
          ],
          [
           "Dementia with cerebral degenerations",
           290.12
          ],
          [
           "Senile dementia",
           290.13
          ],
          [
           "Vascular dementia",
           290.16
          ],
          [
           "Delirium due to conditions classified elsewhere",
           290.2
          ],
          [
           "Other persistent mental disorders due to conditions classified elsewhere",
           290.3
          ],
          [
           "Other specified nonpsychotic and/or transient mental disorders",
           291
          ],
          [
           "Transient mental disorders due to conditions classified elsewhere",
           291.1
          ],
          [
           "Specific nonpsychotic mental disorders due to brain damage",
           291.4
          ],
          [
           "Alteration of consciousness",
           291.8
          ],
          [
           "Neurological disorders",
           292
          ],
          [
           "Aphasia/speech disturbance",
           292.1
          ],
          [
           "Aphasia",
           292.11
          ],
          [
           "Symbolic dysfunction",
           292.12
          ],
          [
           "Mild cognitive impairment",
           292.2
          ],
          [
           "Memory loss",
           292.3
          ],
          [
           "Altered mental status",
           292.4
          ],
          [
           "Transient alteration of awareness",
           292.5
          ],
          [
           "Hallucinations",
           292.6
          ],
          [
           "Symptoms involving head and neck",
           293
          ],
          [
           "Swelling, mass, or lump in head and neck [Space-occupying lesion, intracranial NOS]",
           293.1
          ],
          [
           "Schizophrenia and other psychotic disorders",
           295
          ],
          [
           "Schizophrenia",
           295.1
          ],
          [
           "Paranoid disorders",
           295.2
          ],
          [
           "Psychosis",
           295.3
          ],
          [
           "Mood disorders",
           296
          ],
          [
           "Bipolar",
           296.1
          ],
          [
           "Depression",
           296.2
          ],
          [
           "Major depressive disorder",
           296.22
          ],
          [
           "Suicidal ideation or attempt",
           297
          ],
          [
           "Suicidal ideation",
           297.1
          ],
          [
           "Suicide or self-inflicted injury",
           297.2
          ],
          [
           "Anxiety disorders",
           300
          ],
          [
           "Anxiety disorder",
           300.1
          ],
          [
           "Generalized anxiety disorder",
           300.11
          ],
          [
           "Agorophobia, social phobia, and panic disorder",
           300.12
          ],
          [
           "Phobia",
           300.13
          ],
          [
           "Generalized anxiety & phobic disorders",
           300.2
          ],
          [
           "Obsessive-compulsive disorders",
           300.3
          ],
          [
           "Dysthymic disorder",
           300.4
          ],
          [
           "Acute reaction to stress",
           300.8
          ],
          [
           "Posttraumatic stress disorder",
           300.9
          ],
          [
           "Personality disorders",
           301
          ],
          [
           "Schizoid personality disorder",
           301.1
          ],
          [
           "Antisocial/borderline personality disorder",
           301.2
          ],
          [
           "Sexual and gender identity disorders",
           302
          ],
          [
           "Decreased libido",
           302.1
          ],
          [
           "Psychogenic and somatoform disorders",
           303
          ],
          [
           "Dissociative disorder",
           303.1
          ],
          [
           "Psychogenic disorder",
           303.3
          ],
          [
           "Gastrointestinal malfunction arising from mental factors",
           303.31
          ],
          [
           "Somatoform disorder",
           303.4
          ],
          [
           "Adjustment reaction",
           304
          ],
          [
           "Eating disorder",
           305.2
          ],
          [
           "Anorexia nervosa",
           305.21
          ],
          [
           "Other mental disorder",
           306
          ],
          [
           "Tension headache",
           306.9
          ],
          [
           "Conduct disorders",
           312
          ],
          [
           "Impulse control disorder",
           312.3
          ],
          [
           "Pervasive developmental disorders",
           313
          ],
          [
           "Attention deficit hyperactivity disorder",
           313.1
          ],
          [
           "Tics and stuttering",
           313.2
          ],
          [
           "Autism",
           313.3
          ],
          [
           "Develomental delays and disorders",
           315
          ],
          [
           "Learning disorder",
           315.1
          ],
          [
           "Speech and language disorder",
           315.2
          ],
          [
           "Mental retardation",
           315.3
          ],
          [
           "Substance addiction and disorders",
           316
          ],
          [
           "Polyneuropathy due to drugs",
           316.1
          ],
          [
           "Alcohol-related disorders",
           317
          ],
          [
           "Alcoholism",
           317.1
          ],
          [
           "Alcoholic liver damage",
           317.11
          ]
         ],
         "hovertemplate": "<b>%{hovertext}</b><br><br>category=mental disorders<br>0=%{x}<br>1=%{y}<br>description=%{customdata[0]}<br>phecode=%{customdata[1]}<extra></extra>",
         "hovertext": [
          "Delirium dementia and amnestic and other cognitive disorders",
          "Dementias",
          "Alzheimer's disease",
          "Dementia with cerebral degenerations",
          "Senile dementia",
          "Vascular dementia",
          "Delirium due to conditions classified elsewhere",
          "Other persistent mental disorders due to conditions classified elsewhere",
          "Other specified nonpsychotic and/or transient mental disorders",
          "Transient mental disorders due to conditions classified elsewhere",
          "Specific nonpsychotic mental disorders due to brain damage",
          "Alteration of consciousness",
          "Neurological disorders",
          "Aphasia/speech disturbance",
          "Aphasia",
          "Symbolic dysfunction",
          "Mild cognitive impairment",
          "Memory loss",
          "Altered mental status",
          "Transient alteration of awareness",
          "Hallucinations",
          "Symptoms involving head and neck",
          "Swelling, mass, or lump in head and neck [Space-occupying lesion, intracranial NOS]",
          "Schizophrenia and other psychotic disorders",
          "Schizophrenia",
          "Paranoid disorders",
          "Psychosis",
          "Mood disorders",
          "Bipolar",
          "Depression",
          "Major depressive disorder",
          "Suicidal ideation or attempt",
          "Suicidal ideation",
          "Suicide or self-inflicted injury",
          "Anxiety disorders",
          "Anxiety disorder",
          "Generalized anxiety disorder",
          "Agorophobia, social phobia, and panic disorder",
          "Phobia",
          "Generalized anxiety & phobic disorders",
          "Obsessive-compulsive disorders",
          "Dysthymic disorder",
          "Acute reaction to stress",
          "Posttraumatic stress disorder",
          "Personality disorders",
          "Schizoid personality disorder",
          "Antisocial/borderline personality disorder",
          "Sexual and gender identity disorders",
          "Decreased libido",
          "Psychogenic and somatoform disorders",
          "Dissociative disorder",
          "Psychogenic disorder",
          "Gastrointestinal malfunction arising from mental factors",
          "Somatoform disorder",
          "Adjustment reaction",
          "Eating disorder",
          "Anorexia nervosa",
          "Other mental disorder",
          "Tension headache",
          "Conduct disorders",
          "Impulse control disorder",
          "Pervasive developmental disorders",
          "Attention deficit hyperactivity disorder",
          "Tics and stuttering",
          "Autism",
          "Develomental delays and disorders",
          "Learning disorder",
          "Speech and language disorder",
          "Mental retardation",
          "Substance addiction and disorders",
          "Polyneuropathy due to drugs",
          "Alcohol-related disorders",
          "Alcoholism",
          "Alcoholic liver damage"
         ],
         "legendgroup": "mental disorders",
         "marker": {
          "color": "#19d3f3",
          "symbol": "circle"
         },
         "mode": "markers",
         "name": "mental disorders",
         "opacity": 0.9,
         "showlegend": true,
         "type": "scattergl",
         "x": [
          12.488649368286133,
          12.393447875976562,
          13.052299499511719,
          12.330265998840332,
          12.57081127166748,
          14.413559913635254,
          14.313575744628906,
          14.59074592590332,
          -1.3303945064544678,
          -0.9909306764602661,
          12.552689552307129,
          14.62150764465332,
          14.832745552062988,
          12.087956428527832,
          12.260451316833496,
          12.203353881835938,
          14.930985450744629,
          13.178892135620117,
          14.808381080627441,
          -1.2945506572723389,
          16.616453170776367,
          6.523606777191162,
          11.21535873413086,
          19.6656494140625,
          19.799203872680664,
          19.702951431274414,
          19.570470809936523,
          19.116138458251953,
          19.178163528442383,
          17.82427406311035,
          18.303953170776367,
          6.5696024894714355,
          19.16499137878418,
          16.606454849243164,
          18.059131622314453,
          18.269119262695312,
          17.51878547668457,
          17.729900360107422,
          19.213069915771484,
          17.88241958618164,
          17.514373779296875,
          18.593124389648438,
          18.778289794921875,
          17.834819793701172,
          18.92645263671875,
          18.872802734375,
          19.62067413330078,
          6.5014777183532715,
          6.755464553833008,
          17.256046295166016,
          17.111230850219727,
          18.824848175048828,
          2.313843250274658,
          17.413244247436523,
          19.35719108581543,
          18.92378807067871,
          18.329387664794922,
          19.293167114257812,
          9.906108856201172,
          19.227720260620117,
          17.444602966308594,
          18.299501419067383,
          14.135284423828125,
          15.412711143493652,
          16.271089553833008,
          15.96068286895752,
          15.684955596923828,
          12.570793151855469,
          14.303812026977539,
          19.2514591217041,
          2.5262839794158936,
          18.73600196838379,
          14.59762191772461,
          12.08630084991455
         ],
         "xaxis": "x",
         "y": [
          -4.417555809020996,
          -4.076502799987793,
          -3.4678449630737305,
          -4.300517559051514,
          -4.326015472412109,
          -2.835204601287842,
          -3.8343541622161865,
          -4.432613372802734,
          3.0253005027770996,
          3.438415288925171,
          -2.6745753288269043,
          -3.3974273204803467,
          -4.490686416625977,
          -3.9783577919006348,
          -3.3077175617218018,
          -3.596022605895996,
          -4.550077438354492,
          -3.36220645904541,
          -4.345273494720459,
          3.2870230674743652,
          -4.424714088439941,
          4.483733654022217,
          11.668889045715332,
          -4.528345108032227,
          -3.4565887451171875,
          -3.270524501800537,
          -4.490242004394531,
          -3.6157097816467285,
          -3.6741952896118164,
          -3.8791966438293457,
          -3.8984007835388184,
          -1.9134351015090942,
          -4.611518859863281,
          -5.11906099319458,
          -4.102149963378906,
          -4.232644557952881,
          -4.596273899078369,
          -5.520869255065918,
          -3.8516664505004883,
          -3.751324415206909,
          -4.0928473472595215,
          -3.8811025619506836,
          -3.6269924640655518,
          -4.821817874908447,
          -3.4894251823425293,
          -4.022099494934082,
          -3.3617734909057617,
          7.403890609741211,
          7.227882385253906,
          -4.385785102844238,
          -4.2773566246032715,
          -4.807283401489258,
          5.02225399017334,
          -4.172684669494629,
          -3.4121594429016113,
          -5.325722694396973,
          -5.591873645782471,
          -4.035190582275391,
          -2.634197950363159,
          -4.492691993713379,
          -5.166007995605469,
          -4.371241092681885,
          -4.632055282592773,
          -4.746002197265625,
          -4.6440110206604,
          -4.9491705894470215,
          -4.607163429260254,
          -4.246731281280518,
          -3.8977274894714355,
          -5.083955764770508,
          5.354249000549316,
          -5.028392791748047,
          -4.10482931137085,
          5.655031681060791
         ],
         "yaxis": "y"
        },
        {
         "customdata": [
          [
           "Meningitis",
           320
          ],
          [
           "Encephalitis",
           323
          ],
          [
           "Acute (transverse) myelitis",
           323.2
          ],
          [
           "Encephalitis, non-infectious",
           323.8
          ],
          [
           "Other CNS infection and poliomyelitis",
           324
          ],
          [
           "Jakob-Creutzfeldt disease",
           324.1
          ],
          [
           "Phlebitis and thrombophlebitis of intracranial venous sinuses",
           325
          ],
          [
           "Sleep disorders",
           327
          ],
          [
           "Hypersomnia",
           327.1
          ],
          [
           "Sleep apnea",
           327.3
          ],
          [
           "Central/nonobstroctive sleep apnea",
           327.31
          ],
          [
           "Obstructive sleep apnea",
           327.32
          ],
          [
           "Insomnia",
           327.4
          ],
          [
           "Organic or persistent insomnia",
           327.41
          ],
          [
           "Parasomnia",
           327.5
          ],
          [
           "Circadian rhythm sleep disorder",
           327.6
          ],
          [
           "Sleep related movement disorders",
           327.7
          ],
          [
           "Restless legs syndrome",
           327.71
          ],
          [
           "Sleep related leg cramps",
           327.72
          ],
          [
           "Other cerebral degenerations",
           331
          ],
          [
           "Hydrocephalus",
           331.1
          ],
          [
           "Cerebral degeneration, unspecified",
           331.9
          ],
          [
           "Parkinson's disease",
           332
          ],
          [
           "Extrapyramidal disease and abnormal movement disorders",
           333
          ],
          [
           "Essential tremor",
           333.1
          ],
          [
           "Myoclonus",
           333.2
          ],
          [
           "Tics and choreas",
           333.3
          ],
          [
           "Torsion dystonia",
           333.4
          ],
          [
           "Other degenerative diseases of the basal ganglia",
           333.8
          ],
          [
           "Degenerative disease of the spinal cord",
           334
          ],
          [
           "Spinocerebellar disease",
           334.1
          ],
          [
           "Anterior horn cell disease",
           334.2
          ],
          [
           "Amyotrophic Lateral Sclerosis",
           334.21
          ],
          [
           "Multiple sclerosis",
           335
          ],
          [
           "Disorders of the autonomic nervous system",
           337
          ],
          [
           "Peripheral autonomic neuropathy",
           337.1
          ],
          [
           "Pain",
           338
          ],
          [
           "Other headache syndromes",
           339
          ],
          [
           "Migraine",
           340
          ],
          [
           "Migrain with aura",
           340.1
          ],
          [
           "Other demyelinating diseases of central nervous system",
           341
          ],
          [
           "Infantile cerebral palsy",
           343
          ],
          [
           "Other paralytic syndromes",
           344
          ],
          [
           "Epilepsy, recurrent seizures, convulsions",
           345
          ],
          [
           "Epilepsy",
           345.1
          ],
          [
           "Generalized convulsive epilepsy",
           345.11
          ],
          [
           "Partial epilepsy",
           345.12
          ],
          [
           "Convulsions",
           345.3
          ],
          [
           "Abnormal findings on study of brain and/or nervous system",
           346
          ],
          [
           "Nonspecific abnormal results of function study of brain and central nervous system",
           346.2
          ],
          [
           "Cataplexy and narcolepsy",
           347
          ],
          [
           "Other conditions of brain",
           348
          ],
          [
           "Cerebral edema and compression of brain",
           348.2
          ],
          [
           "Cerebral cysts",
           348.4
          ],
          [
           "Coma",
           348.7
          ],
          [
           "Encephalopathy, not elsewhere classified",
           348.8
          ],
          [
           "Other conditions of brain, NOS",
           348.9
          ],
          [
           "Other and unspecified disorders of the nervous system",
           349
          ],
          [
           "Abnormal movement",
           350
          ],
          [
           "Abnormal involuntary movements",
           350.1
          ],
          [
           "Abnormality of gait",
           350.2
          ],
          [
           "Lack of coordination",
           350.3
          ],
          [
           "Abnormal reflex",
           350.5
          ],
          [
           "Disturbances of sensation of smell and taste",
           350.6
          ],
          [
           "Other peripheral nerve disorders",
           351
          ],
          [
           "Disorders of other cranial nerves",
           352
          ],
          [
           "Trigeminal nerve disorders [CN5]",
           352.1
          ],
          [
           "Facial nerve disorders [CN7]",
           352.2
          ],
          [
           "Nerve root and plexus disorders",
           353
          ],
          [
           "Nerve plexus lesions",
           353.1
          ],
          [
           "Nerve root lesions",
           353.2
          ],
          [
           "Complex regional/central pain syndrome",
           355
          ],
          [
           "Chronic pain syndrome",
           355.1
          ],
          [
           "Hereditary and idiopathic peripheral neuropathy",
           356
          ],
          [
           "Inflammatory and toxic neuropathy",
           357
          ],
          [
           "Myoneural disorders",
           358
          ],
          [
           "Myasthenia gravis",
           358.1
          ],
          [
           "Muscular dystrophies and other myopathies",
           359
          ],
          [
           "Muscular dystrophies",
           359.1
          ],
          [
           "Myopathy",
           359.2
          ]
         ],
         "hovertemplate": "<b>%{hovertext}</b><br><br>category=neurological<br>0=%{x}<br>1=%{y}<br>description=%{customdata[0]}<br>phecode=%{customdata[1]}<extra></extra>",
         "hovertext": [
          "Meningitis",
          "Encephalitis",
          "Acute (transverse) myelitis",
          "Encephalitis, non-infectious",
          "Other CNS infection and poliomyelitis",
          "Jakob-Creutzfeldt disease",
          "Phlebitis and thrombophlebitis of intracranial venous sinuses",
          "Sleep disorders",
          "Hypersomnia",
          "Sleep apnea",
          "Central/nonobstroctive sleep apnea",
          "Obstructive sleep apnea",
          "Insomnia",
          "Organic or persistent insomnia",
          "Parasomnia",
          "Circadian rhythm sleep disorder",
          "Sleep related movement disorders",
          "Restless legs syndrome",
          "Sleep related leg cramps",
          "Other cerebral degenerations",
          "Hydrocephalus",
          "Cerebral degeneration, unspecified",
          "Parkinson's disease",
          "Extrapyramidal disease and abnormal movement disorders",
          "Essential tremor",
          "Myoclonus",
          "Tics and choreas",
          "Torsion dystonia",
          "Other degenerative diseases of the basal ganglia",
          "Degenerative disease of the spinal cord",
          "Spinocerebellar disease",
          "Anterior horn cell disease",
          "Amyotrophic Lateral Sclerosis",
          "Multiple sclerosis",
          "Disorders of the autonomic nervous system",
          "Peripheral autonomic neuropathy",
          "Pain",
          "Other headache syndromes",
          "Migraine",
          "Migrain with aura",
          "Other demyelinating diseases of central nervous system",
          "Infantile cerebral palsy",
          "Other paralytic syndromes",
          "Epilepsy, recurrent seizures, convulsions",
          "Epilepsy",
          "Generalized convulsive epilepsy",
          "Partial epilepsy",
          "Convulsions",
          "Abnormal findings on study of brain and/or nervous system",
          "Nonspecific abnormal results of function study of brain and central nervous system",
          "Cataplexy and narcolepsy",
          "Other conditions of brain",
          "Cerebral edema and compression of brain",
          "Cerebral cysts",
          "Coma",
          "Encephalopathy, not elsewhere classified",
          "Other conditions of brain, NOS",
          "Other and unspecified disorders of the nervous system",
          "Abnormal movement",
          "Abnormal involuntary movements",
          "Abnormality of gait",
          "Lack of coordination",
          "Abnormal reflex",
          "Disturbances of sensation of smell and taste",
          "Other peripheral nerve disorders",
          "Disorders of other cranial nerves",
          "Trigeminal nerve disorders [CN5]",
          "Facial nerve disorders [CN7]",
          "Nerve root and plexus disorders",
          "Nerve plexus lesions",
          "Nerve root lesions",
          "Complex regional/central pain syndrome",
          "Chronic pain syndrome",
          "Hereditary and idiopathic peripheral neuropathy",
          "Inflammatory and toxic neuropathy",
          "Myoneural disorders",
          "Myasthenia gravis",
          "Muscular dystrophies and other myopathies",
          "Muscular dystrophies",
          "Myopathy"
         ],
         "legendgroup": "neurological",
         "marker": {
          "color": "#FF6692",
          "symbol": "circle"
         },
         "mode": "markers",
         "name": "neurological",
         "opacity": 0.9,
         "showlegend": true,
         "type": "scattergl",
         "x": [
          8.663392066955566,
          8.498244285583496,
          8.55892562866211,
          10.74112319946289,
          10.517678260803223,
          10.551092147827148,
          8.921748161315918,
          17.30793571472168,
          17.041587829589844,
          21.455074310302734,
          14.842923164367676,
          20.929014205932617,
          17.07340431213379,
          17.24728012084961,
          16.99383544921875,
          17.14304542541504,
          17.583232879638672,
          17.541748046875,
          -1.0737327337265015,
          13.193428039550781,
          12.82793140411377,
          13.511263847351074,
          13.468369483947754,
          15.21471118927002,
          13.930731773376465,
          10.262256622314453,
          14.101405143737793,
          14.455367088317871,
          10.584359169006348,
          11.040712356567383,
          11.960929870605469,
          13.137798309326172,
          11.447545051574707,
          11.083083152770996,
          11.684525489807129,
          9.393905639648438,
          13.006121635437012,
          11.182599067687988,
          10.647720336914062,
          10.452046394348145,
          14.953649520874023,
          13.036105155944824,
          6.149504661560059,
          11.833562850952148,
          11.902946472167969,
          13.318408012390137,
          13.523366928100586,
          12.03148365020752,
          -4.185152053833008,
          -4.445871829986572,
          15.434986114501953,
          14.645573616027832,
          10.833171844482422,
          11.75712776184082,
          12.52127742767334,
          14.228022575378418,
          12.932092666625977,
          11.89085865020752,
          -0.7438184022903442,
          10.24416732788086,
          -0.5747569799423218,
          12.544486045837402,
          -0.7310208082199097,
          6.350223064422607,
          15.3047513961792,
          10.075817108154297,
          10.728888511657715,
          9.953414916992188,
          10.748080253601074,
          14.768778800964355,
          13.301753044128418,
          16.818971633911133,
          6.421105861663818,
          10.546140670776367,
          9.970321655273438,
          14.591485977172852,
          15.381208419799805,
          -4.997754096984863,
          15.699162483215332,
          15.399788856506348
         ],
         "xaxis": "x",
         "y": [
          1.6678045988082886,
          1.779486894607544,
          1.305101752281189,
          -1.1455347537994385,
          -0.6630188822746277,
          -3.662229299545288,
          -0.05876028910279274,
          -6.022250175476074,
          -5.899346828460693,
          6.43477201461792,
          -2.6375045776367188,
          7.119681358337402,
          -6.206984519958496,
          -6.337630748748779,
          -5.870278835296631,
          -6.266422271728516,
          -6.273556232452393,
          -5.867307662963867,
          3.6250710487365723,
          -4.063403129577637,
          -4.423421382904053,
          -3.7639882564544678,
          -4.14884090423584,
          -4.735106945037842,
          -4.099712371826172,
          -3.721585512161255,
          -3.058366537094116,
          -4.632408142089844,
          -3.9989256858825684,
          -2.98410964012146,
          -2.9086732864379883,
          -5.570861339569092,
          -3.3438241481781006,
          -3.12933087348938,
          -3.42708683013916,
          -3.356997013092041,
          0.10117198526859283,
          -3.1920697689056396,
          -2.9874563217163086,
          -3.579110860824585,
          -4.385705471038818,
          -5.572894096374512,
          7.343959331512451,
          -3.904062509536743,
          -3.5331249237060547,
          -4.481292724609375,
          -5.423250198364258,
          -3.4479026794433594,
          0.18097054958343506,
          0.07787288725376129,
          -4.201521873474121,
          -2.2357242107391357,
          -4.16395378112793,
          -3.3749818801879883,
          -2.651883840560913,
          -2.288628339767456,
          -3.5607824325561523,
          1.9941366910934448,
          3.8876607418060303,
          -4.2018914222717285,
          3.7160141468048096,
          -3.3485710620880127,
          3.674177646636963,
          3.9782419204711914,
          0.9626582264900208,
          -0.21443575620651245,
          -2.7446000576019287,
          -1.1112736463546753,
          -2.3729476928710938,
          2.0687315464019775,
          -0.9550208449363708,
          -0.08120137453079224,
          6.754640102386475,
          -2.549453020095825,
          -3.1664235591888428,
          10.474312782287598,
          4.2797980308532715,
          3.3122310638427734,
          3.176602602005005,
          3.357745885848999
         ],
         "yaxis": "y"
        },
        {
         "customdata": [
          [
           "Disorders of the globe",
           360
          ],
          [
           "Progressive myopia",
           360.2
          ],
          [
           "Hypotony of eye",
           360.3
          ],
          [
           "Retinal detachments and defects",
           361
          ],
          [
           "Retinal detachment with retinal defect",
           361.1
          ],
          [
           "Retinoschisis and retinal cysts",
           361.2
          ],
          [
           "Other retinal disorders",
           362
          ],
          [
           "Retinopathy of prematurity",
           362.1
          ],
          [
           "Degeneration of macula and posterior pole of retina",
           362.2
          ],
          [
           "Macular degeneration, dry",
           362.21
          ],
          [
           "Macular degeneration, wet",
           362.22
          ],
          [
           "Cystoid macular degeneration of retina",
           362.23
          ],
          [
           "Macular puckering of retina",
           362.26
          ],
          [
           "Drusen (degenerative) of retina",
           362.27
          ],
          [
           "Macular degeneration (senile) of retina NOS",
           362.29
          ],
          [
           "Other nondiabetic retinopathy",
           362.3
          ],
          [
           "Separation of retinal layers",
           362.31
          ],
          [
           "Retinal vascular changes and abnomalities",
           362.4
          ],
          [
           "Toxic maculopathy of retina",
           362.5
          ],
          [
           "Peripheral retinal degenerations",
           362.6
          ],
          [
           "Hereditary retinal dystrophies",
           362.7
          ],
          [
           "Retinal hemorrhage/ischemia",
           362.8
          ],
          [
           "Retinal edema",
           362.9
          ],
          [
           "Chorioretinal inflammations, scars, and other disorders of choroid",
           363
          ],
          [
           "Chorioretinal scars",
           363.3
          ],
          [
           "Choroidal degenerations",
           363.4
          ],
          [
           "Corneal opacity and other disorders of cornea",
           364
          ],
          [
           "Corneal opacity",
           364.1
          ],
          [
           "Corneal edema",
           364.2
          ],
          [
           "Corneal degenerations",
           364.4
          ],
          [
           "Keratoconus",
           364.41
          ],
          [
           "Corneal dystrophy",
           364.5
          ],
          [
           "Fuchs' dystrophy",
           364.51
          ],
          [
           "Cornea replaced by transplant",
           364.9
          ],
          [
           "Glaucoma",
           365
          ],
          [
           "Open-angle glaucoma",
           365.1
          ],
          [
           "Primary open angle glaucoma",
           365.11
          ],
          [
           "Primary angle-closure glaucoma",
           365.2
          ],
          [
           "Pseudoexfoliation glaucoma",
           365.5
          ],
          [
           "Cataract",
           366
          ],
          [
           "Nonsenile Cataract",
           366.1
          ],
          [
           "Senile cataract",
           366.2
          ],
          [
           "Traumatic cataract",
           366.3
          ],
          [
           "Disorders of refraction and accommodation; blindness and low vision",
           367
          ],
          [
           "Myopia",
           367.1
          ],
          [
           "Astigmatism",
           367.2
          ],
          [
           "Presbyopia",
           367.4
          ],
          [
           "Hypermetropia",
           367.8
          ],
          [
           "Blindness and low vision",
           367.9
          ],
          [
           "Visual disturbances",
           368
          ],
          [
           "Amblyopia",
           368.1
          ],
          [
           "Diplopia and disorders of binocular vision",
           368.2
          ],
          [
           "Anisometropia",
           368.3
          ],
          [
           "Color vision deficiencies",
           368.5
          ],
          [
           "Disorders of accommodation",
           368.7
          ],
          [
           "Subjective visual disturbances",
           368.9
          ],
          [
           "Psychophysical visual disturbances",
           368.91
          ],
          [
           "Infection of the eye",
           369
          ],
          [
           "Eye infection, viral",
           369.2
          ],
          [
           "Conjunctivitis, infectious",
           369.5
          ],
          [
           "Keratitis",
           370
          ],
          [
           "Corneal ulcer",
           370.1
          ],
          [
           "Superficial keratitis",
           370.2
          ],
          [
           "Keratoconjunctivitis",
           370.3
          ],
          [
           "Keratoconjunctivitis sicca",
           370.31
          ],
          [
           "Inflammation of the eye",
           371
          ],
          [
           "Uveitis, noninfectious or NOS",
           371.1
          ],
          [
           "Conjunctivitis, noninfectious",
           371.2
          ],
          [
           "Allergic conjunctivitis",
           371.21
          ],
          [
           "Inflammation of eyelids",
           371.3
          ],
          [
           "Noninfectious dermatoses of eyelid",
           371.33
          ],
          [
           "Chronic inflammatory disorders of orbit",
           371.9
          ],
          [
           "Disorders of conjunctiva",
           372
          ],
          [
           "Other disorders of eyelids",
           374
          ],
          [
           "Ectropion or entropion",
           374.1
          ],
          [
           "Lagophthalmos",
           374.2
          ],
          [
           "Ptosis of eyelid",
           374.3
          ],
          [
           "Dermatochalasis",
           374.6
          ],
          [
           "Disorders of lacrimal system",
           375
          ],
          [
           "Dry eyes",
           375.1
          ],
          [
           "Epiphora",
           375.2
          ],
          [
           "Disorders of the orbit",
           376
          ],
          [
           "Disorders of optic nerve and visual pathways",
           377
          ],
          [
           "Optic atrophy",
           377.1
          ],
          [
           "Optic neuritis/neuropathy",
           377.3
          ],
          [
           "Strabismus and other disorders of binocular eye movements",
           378
          ],
          [
           "Strabismus (not specified as paralytic)",
           378.1
          ],
          [
           "Nystagmus and other irregular eye movements",
           378.2
          ],
          [
           "Paralytic strabismus",
           378.5
          ],
          [
           "Other disorders of eye",
           379
          ],
          [
           "Scleritis and episcleritis",
           379.1
          ],
          [
           "Disorders of vitreous body",
           379.2
          ],
          [
           "Aphakia and other disorders of lens",
           379.3
          ],
          [
           "Anomalies of pupillary function",
           379.4
          ],
          [
           "Disorders of iris and ciliary body",
           379.5
          ],
          [
           "Pigmentary iris degeneration",
           379.51
          ],
          [
           "Pain, swelling or discharge of eye",
           379.9
          ],
          [
           "Disorders of external ear",
           380
          ],
          [
           "Otitis externa",
           380.1
          ],
          [
           "Otitis media and Eustachian tube disorders",
           381
          ],
          [
           "Otitis media",
           381.1
          ],
          [
           "Suppurative and unspecified otitis media",
           381.11
          ],
          [
           "Eustachian tube disorders",
           381.2
          ],
          [
           "Mastoiditis & related conditions",
           381.3
          ],
          [
           "Otorrhea",
           381.9
          ],
          [
           "Otalgia",
           382
          ],
          [
           "Otosclerosis",
           383
          ],
          [
           "Other disorders of tympanic membrane",
           384
          ],
          [
           "Myringitis",
           384.1
          ],
          [
           "Perforation of tympanic membrane",
           384.4
          ],
          [
           "Other disorders of middle ear and mastoid",
           385
          ],
          [
           "Cholesteatoma",
           385.3
          ],
          [
           "Tympanosclerosis and middle ear disease related to otitis media",
           385.5
          ],
          [
           "Vertiginous syndromes and other disorders of vestibular system",
           386
          ],
          [
           "Meniere's disease",
           386.1
          ],
          [
           "Peripheral or central vertigo",
           386.2
          ],
          [
           "Central origin vertigo",
           386.21
          ],
          [
           "Labyrinthitis",
           386.3
          ],
          [
           "Dizziness and giddiness (Light-headedness and vertigo)",
           386.9
          ],
          [
           "Other disorders of ear",
           388
          ],
          [
           "Hearing loss",
           389
          ],
          [
           "Sensorineural hearing loss",
           389.1
          ],
          [
           "Conductive hearing loss",
           389.2
          ],
          [
           "Degenerative and vascular disorders of ear",
           389.3
          ],
          [
           "Tinnitus",
           389.4
          ],
          [
           "Disorders of acoustic nerve",
           389.5
          ]
         ],
         "hovertemplate": "<b>%{hovertext}</b><br><br>category=sense organs<br>0=%{x}<br>1=%{y}<br>description=%{customdata[0]}<br>phecode=%{customdata[1]}<extra></extra>",
         "hovertext": [
          "Disorders of the globe",
          "Progressive myopia",
          "Hypotony of eye",
          "Retinal detachments and defects",
          "Retinal detachment with retinal defect",
          "Retinoschisis and retinal cysts",
          "Other retinal disorders",
          "Retinopathy of prematurity",
          "Degeneration of macula and posterior pole of retina",
          "Macular degeneration, dry",
          "Macular degeneration, wet",
          "Cystoid macular degeneration of retina",
          "Macular puckering of retina",
          "Drusen (degenerative) of retina",
          "Macular degeneration (senile) of retina NOS",
          "Other nondiabetic retinopathy",
          "Separation of retinal layers",
          "Retinal vascular changes and abnomalities",
          "Toxic maculopathy of retina",
          "Peripheral retinal degenerations",
          "Hereditary retinal dystrophies",
          "Retinal hemorrhage/ischemia",
          "Retinal edema",
          "Chorioretinal inflammations, scars, and other disorders of choroid",
          "Chorioretinal scars",
          "Choroidal degenerations",
          "Corneal opacity and other disorders of cornea",
          "Corneal opacity",
          "Corneal edema",
          "Corneal degenerations",
          "Keratoconus",
          "Corneal dystrophy",
          "Fuchs' dystrophy",
          "Cornea replaced by transplant",
          "Glaucoma",
          "Open-angle glaucoma",
          "Primary open angle glaucoma",
          "Primary angle-closure glaucoma",
          "Pseudoexfoliation glaucoma",
          "Cataract",
          "Nonsenile Cataract",
          "Senile cataract",
          "Traumatic cataract",
          "Disorders of refraction and accommodation; blindness and low vision",
          "Myopia",
          "Astigmatism",
          "Presbyopia",
          "Hypermetropia",
          "Blindness and low vision",
          "Visual disturbances",
          "Amblyopia",
          "Diplopia and disorders of binocular vision",
          "Anisometropia",
          "Color vision deficiencies",
          "Disorders of accommodation",
          "Subjective visual disturbances",
          "Psychophysical visual disturbances",
          "Infection of the eye",
          "Eye infection, viral",
          "Conjunctivitis, infectious",
          "Keratitis",
          "Corneal ulcer",
          "Superficial keratitis",
          "Keratoconjunctivitis",
          "Keratoconjunctivitis sicca",
          "Inflammation of the eye",
          "Uveitis, noninfectious or NOS",
          "Conjunctivitis, noninfectious",
          "Allergic conjunctivitis",
          "Inflammation of eyelids",
          "Noninfectious dermatoses of eyelid",
          "Chronic inflammatory disorders of orbit",
          "Disorders of conjunctiva",
          "Other disorders of eyelids",
          "Ectropion or entropion",
          "Lagophthalmos",
          "Ptosis of eyelid",
          "Dermatochalasis",
          "Disorders of lacrimal system",
          "Dry eyes",
          "Epiphora",
          "Disorders of the orbit",
          "Disorders of optic nerve and visual pathways",
          "Optic atrophy",
          "Optic neuritis/neuropathy",
          "Strabismus and other disorders of binocular eye movements",
          "Strabismus (not specified as paralytic)",
          "Nystagmus and other irregular eye movements",
          "Paralytic strabismus",
          "Other disorders of eye",
          "Scleritis and episcleritis",
          "Disorders of vitreous body",
          "Aphakia and other disorders of lens",
          "Anomalies of pupillary function",
          "Disorders of iris and ciliary body",
          "Pigmentary iris degeneration",
          "Pain, swelling or discharge of eye",
          "Disorders of external ear",
          "Otitis externa",
          "Otitis media and Eustachian tube disorders",
          "Otitis media",
          "Suppurative and unspecified otitis media",
          "Eustachian tube disorders",
          "Mastoiditis & related conditions",
          "Otorrhea",
          "Otalgia",
          "Otosclerosis",
          "Other disorders of tympanic membrane",
          "Myringitis",
          "Perforation of tympanic membrane",
          "Other disorders of middle ear and mastoid",
          "Cholesteatoma",
          "Tympanosclerosis and middle ear disease related to otitis media",
          "Vertiginous syndromes and other disorders of vestibular system",
          "Meniere's disease",
          "Peripheral or central vertigo",
          "Central origin vertigo",
          "Labyrinthitis",
          "Dizziness and giddiness (Light-headedness and vertigo)",
          "Other disorders of ear",
          "Hearing loss",
          "Sensorineural hearing loss",
          "Conductive hearing loss",
          "Degenerative and vascular disorders of ear",
          "Tinnitus",
          "Disorders of acoustic nerve"
         ],
         "legendgroup": "sense organs",
         "marker": {
          "color": "#B6E880",
          "symbol": "circle"
         },
         "mode": "markers",
         "name": "sense organs",
         "opacity": 0.9,
         "showlegend": true,
         "type": "scattergl",
         "x": [
          8.748893737792969,
          -3.126136541366577,
          19.207895278930664,
          9.770450592041016,
          8.662814140319824,
          9.118819236755371,
          9.267702102661133,
          9.398877143859863,
          -3.2512295246124268,
          -3.430750608444214,
          -3.7863969802856445,
          10.19324779510498,
          8.743986129760742,
          -3.3720359802246094,
          9.945527076721191,
          10.553522109985352,
          8.72017765045166,
          16.86402130126953,
          -3.0074050426483154,
          9.395417213439941,
          9.299698829650879,
          -2.8419032096862793,
          -3.1580417156219482,
          18.959928512573242,
          -3.8470003604888916,
          -4.200350284576416,
          6.4936981201171875,
          6.317888259887695,
          -3.939962863922119,
          6.421553134918213,
          6.601571083068848,
          6.985993385314941,
          8.38736343383789,
          -4.038997173309326,
          8.51708984375,
          7.6044182777404785,
          7.854840278625488,
          7.997821807861328,
          9.050777435302734,
          9.995560646057129,
          -3.13559889793396,
          9.766348838806152,
          9.221654891967773,
          8.779362678527832,
          8.673111915588379,
          8.304414749145508,
          8.238046646118164,
          8.28164005279541,
          8.838374137878418,
          7.817674160003662,
          7.821376323699951,
          7.495713710784912,
          -4.089691638946533,
          7.0142669677734375,
          -4.218752861022949,
          8.8298921585083,
          7.712506294250488,
          8.355224609375,
          8.263092041015625,
          8.171979904174805,
          8.342206001281738,
          8.443315505981445,
          8.40188217163086,
          8.249828338623047,
          14.190648078918457,
          8.273574829101562,
          8.709721565246582,
          -3.489253044128418,
          8.085856437683105,
          7.9469122886657715,
          -3.718491792678833,
          7.0546464920043945,
          8.291640281677246,
          7.617242336273193,
          8.255447387695312,
          -3.784212350845337,
          7.502572059631348,
          7.837133407592773,
          8.205926895141602,
          7.962395191192627,
          9.671302795410156,
          6.813538074493408,
          7.816039085388184,
          8.046197891235352,
          8.75512409210205,
          7.973815441131592,
          8.720199584960938,
          7.424799919128418,
          8.715176582336426,
          8.443131446838379,
          8.998117446899414,
          9.134933471679688,
          -2.958672285079956,
          9.469401359558105,
          9.20627212524414,
          -3.1563313007354736,
          9.179815292358398,
          7.580543518066406,
          7.619297504425049,
          3.269371747970581,
          6.065911769866943,
          7.019810676574707,
          5.061229228973389,
          6.598146438598633,
          7.6970086097717285,
          6.081803798675537,
          7.10371208190918,
          2.0571351051330566,
          7.32319974899292,
          7.320204734802246,
          7.4951887130737305,
          6.562355041503906,
          7.402285575866699,
          3.404851198196411,
          7.735315799713135,
          7.754377365112305,
          7.779767990112305,
          8.040532112121582,
          9.905435562133789,
          6.20389986038208,
          7.266324520111084,
          6.768498420715332,
          2.807363510131836,
          6.373795032501221,
          6.908746719360352,
          3.8780009746551514
         ],
         "xaxis": "x",
         "y": [
          -1.5349701642990112,
          -1.5116626024246216,
          11.699639320373535,
          -5.277188777923584,
          -5.195310592651367,
          -6.043068885803223,
          -1.5960806608200073,
          -5.3002095222473145,
          -0.00794051494449377,
          0.24525292217731476,
          0.2773163914680481,
          -5.681277751922607,
          -6.277421474456787,
          -0.01115886028856039,
          -5.732273578643799,
          -5.461701393127441,
          -5.008394718170166,
          0.9970434308052063,
          0.17059414088726044,
          -4.916253566741943,
          -5.9034247398376465,
          0.10623220354318619,
          0.5568293929100037,
          11.650005340576172,
          0.4084851145744324,
          0.35856443643569946,
          -6.44964075088501,
          -6.549283027648926,
          -0.5485872030258179,
          -6.512461185455322,
          -6.313192367553711,
          -5.977293968200684,
          -5.221366882324219,
          -0.8312570452690125,
          -6.333861827850342,
          -6.080288887023926,
          -6.359573841094971,
          -6.233071327209473,
          -5.564497947692871,
          -5.995405673980713,
          -1.306509256362915,
          -5.74811315536499,
          -4.477388381958008,
          -4.802671909332275,
          -5.620828628540039,
          -4.805689334869385,
          -4.775821208953857,
          -5.375885486602783,
          -5.235857963562012,
          -5.174655437469482,
          -4.640319347381592,
          -4.659185409545898,
          -0.3089374303817749,
          -4.364687442779541,
          -0.34220364689826965,
          -3.8913118839263916,
          -5.9286322593688965,
          -0.04039172828197479,
          0.826915979385376,
          0.26719579100608826,
          -0.8833566904067993,
          -1.372640609741211,
          -1.730064868927002,
          -1.3851826190948486,
          10.13586711883545,
          -1.6301910877227783,
          -0.4519438147544861,
          -0.9014601707458496,
          -1.1163734197616577,
          -1.8283920288085938,
          -1.1445388793945312,
          -4.274096488952637,
          -2.0444421768188477,
          -3.485333204269409,
          -1.9205583333969116,
          -1.0328822135925293,
          -4.023514270782471,
          -2.371809244155884,
          -0.40901240706443787,
          -3.2660229206085205,
          -1.1611347198486328,
          -4.195453643798828,
          -6.043972015380859,
          -4.851609230041504,
          -0.17243237793445587,
          -4.151844024658203,
          -3.664297342300415,
          -5.265624046325684,
          -4.127453327178955,
          -4.12021017074585,
          -1.0282502174377441,
          -4.713761806488037,
          -1.6198354959487915,
          -3.4794247150421143,
          -1.154384970664978,
          -1.2297112941741943,
          -2.9402549266815186,
          3.754509925842285,
          3.6769187450408936,
          4.052208423614502,
          2.884298801422119,
          3.1397390365600586,
          3.0993008613586426,
          2.933168888092041,
          2.2753939628601074,
          2.963927984237671,
          1.6224279403686523,
          4.050655364990234,
          3.442453384399414,
          2.699016571044922,
          3.2390003204345703,
          2.735673189163208,
          3.4617843627929688,
          3.852231979370117,
          1.8849810361862183,
          1.6671110391616821,
          1.7454546689987183,
          1.7644308805465698,
          0.12820331752300262,
          2.418227195739746,
          1.8938056230545044,
          2.1510114669799805,
          3.7822206020355225,
          2.4760468006134033,
          2.331936836242676,
          3.5762884616851807
         ],
         "yaxis": "y"
        },
        {
         "customdata": [
          [
           "Rheumatic disease of the heart valves",
           394
          ],
          [
           "Mitral valve stenosis and aortic valve stenosis",
           394.1
          ],
          [
           "Mitral valve disease",
           394.2
          ],
          [
           "Aortic valve disease",
           394.3
          ],
          [
           "Acute rheumatic heart disease",
           394.4
          ],
          [
           "Disease of tricuspid valve",
           394.7
          ],
          [
           "Heart valve disorders",
           395
          ],
          [
           "Nonrheumatic mitral valve disorders",
           395.1
          ],
          [
           "Nonrheumatic aortic valve disorders",
           395.2
          ],
          [
           "Nonrheumatic tricuspid valve disorders",
           395.3
          ],
          [
           "Nonrheumatic pulmonary valve disorders",
           395.4
          ],
          [
           "Heart valve replaced",
           395.6
          ],
          [
           "Abnormal heart sounds",
           396
          ],
          [
           "Hypertension",
           401
          ],
          [
           "Essential hypertension",
           401.1
          ],
          [
           "Hypertensive heart and/or renal disease",
           401.2
          ],
          [
           "Hypertensive heart disease",
           401.21
          ],
          [
           "Hypertensive chronic kidney disease",
           401.22
          ],
          [
           "Other hypertensive complications",
           401.3
          ],
          [
           "Elevated blood pressure reading without diagnosis of hypertension",
           402
          ],
          [
           "Ischemic Heart Disease",
           411
          ],
          [
           "Unstable angina (intermediate coronary syndrome)",
           411.1
          ],
          [
           "Myocardial infarction",
           411.2
          ],
          [
           "Angina pectoris",
           411.3
          ],
          [
           "Coronary atherosclerosis",
           411.4
          ],
          [
           "Aneurysm and dissection of heart",
           411.41
          ],
          [
           "Other chronic ischemic heart disease, unspecified",
           411.8
          ],
          [
           "Other acute and subacute forms of ischemic heart disease",
           411.9
          ],
          [
           "Other forms of chronic heart disease",
           414
          ],
          [
           "ASCVD",
           414.2
          ],
          [
           "Pulmonary heart disease",
           415
          ],
          [
           "Acute pulmonary heart disease",
           415.1
          ],
          [
           "Pulmonary embolism and infarction, acute",
           415.11
          ],
          [
           "Chronic pulmonary heart disease",
           415.2
          ],
          [
           "Primary pulmonary hypertension",
           415.21
          ],
          [
           "Cardiomegaly",
           416
          ],
          [
           "Nonspecific chest pain",
           418
          ],
          [
           "Carditis",
           420
          ],
          [
           "Myocarditis",
           420.1
          ],
          [
           "Pericarditis",
           420.2
          ],
          [
           "Acute pericarditis",
           420.21
          ],
          [
           "Chronic pericarditis",
           420.22
          ],
          [
           "Endocarditis",
           420.3
          ],
          [
           "Cardiomyopathy",
           425
          ],
          [
           "Primary/intrinsic cardiomyopathies",
           425.1
          ],
          [
           "Hypertrophic obstructive cardiomyopathy",
           425.11
          ],
          [
           "Other hypertrophic cardiomyopathy",
           425.12
          ],
          [
           "Secondary/extrinsic cardiomyopathies",
           425.2
          ],
          [
           "Other cardiomyopathy",
           425.8
          ],
          [
           "Cardiac conduction disorders",
           426
          ],
          [
           "Atrioventricular [AV] block",
           426.2
          ],
          [
           "First degree AV block",
           426.21
          ],
          [
           "Mobitz II AV block",
           426.22
          ],
          [
           "Second degree AV block",
           426.23
          ],
          [
           "Atrioventricular block, complete",
           426.24
          ],
          [
           "Other heart block",
           426.25
          ],
          [
           "Bundle branch block",
           426.3
          ],
          [
           "Right bundle branch block",
           426.31
          ],
          [
           "Left bundle branch block",
           426.32
          ],
          [
           "Anomalous atrioventricular excitation",
           426.4
          ],
          [
           "Abnormal electrocardiogram [ECG] [EKG]",
           426.7
          ],
          [
           "Other cardiac conduction disorders",
           426.8
          ],
          [
           "Cardiac pacemaker/device in situ",
           426.9
          ],
          [
           "Cardiac pacemaker in situ",
           426.91
          ],
          [
           "Cardiac defibrillator in situ",
           426.92
          ],
          [
           "Cardiac dysrhythmias",
           427
          ],
          [
           "Paroxysmal tachycardia, unspecified",
           427.1
          ],
          [
           "Paroxysmal supraventricular tachycardia",
           427.11
          ],
          [
           "Paroxysmal ventricular tachycardia",
           427.12
          ],
          [
           "Atrial fibrillation and flutter",
           427.2
          ],
          [
           "Atrial fibrillation",
           427.21
          ],
          [
           "Atrial flutter",
           427.22
          ],
          [
           "Other specified cardiac dysrhythmias",
           427.3
          ],
          [
           "Cardiac arrest and ventricular fibrillation",
           427.4
          ],
          [
           "Ventricular fibrillation and flutter",
           427.41
          ],
          [
           "Cardiac arrest",
           427.42
          ],
          [
           "Arrhythmia (cardiac) NOS",
           427.5
          ],
          [
           "Premature beats",
           427.6
          ],
          [
           "Supraventricular premature beats",
           427.61
          ],
          [
           "Tachycardia NOS",
           427.7
          ],
          [
           "Sinoatrial node dysfunction (Bradycardia)",
           427.8
          ],
          [
           "Palpitations",
           427.9
          ],
          [
           "Congestive heart failure; nonhypertensive",
           428
          ],
          [
           "Congestive heart failure (CHF) NOS",
           428.1
          ],
          [
           "Heart failure NOS",
           428.2
          ],
          [
           "Heart failure with reduced EF [Systolic or combined heart failure]",
           428.3
          ],
          [
           "Heart failure with preserved EF [Diastolic heart failure]",
           428.4
          ],
          [
           "Ill-defined descriptions and complications of heart disease",
           429
          ],
          [
           "Heart transplant/surgery",
           429.1
          ],
          [
           "Abnormal function study of cardiovascular system",
           429.2
          ],
          [
           "Symptoms involving cardiovascular system",
           429.3
          ],
          [
           "Cardiac complications, not elsewhere classified",
           429.9
          ],
          [
           "Intracranial hemorrhage",
           430
          ],
          [
           "Subarachnoid hemorrhage",
           430.1
          ],
          [
           "Intracerebral hemorrhage",
           430.2
          ],
          [
           "Subdural hemorrhage",
           430.3
          ],
          [
           "Cerebrovascular disease",
           433
          ],
          [
           "Occlusion and stenosis of precerebral arteries",
           433.1
          ],
          [
           "Occlusion of cerebral arteries, with cerebral infarction",
           433.11
          ],
          [
           "Cerebral atherosclerosis",
           433.12
          ],
          [
           "Occlusion of cerebral arteries",
           433.2
          ],
          [
           "Cerebral artery occlusion, with cerebral infarction",
           433.21
          ],
          [
           "Cerebral ischemia",
           433.3
          ],
          [
           "Transient cerebral ischemia",
           433.31
          ],
          [
           "Moyamoya disease",
           433.32
          ],
          [
           "Cerebral aneurysm",
           433.5
          ],
          [
           "Acute, but ill-defined cerebrovascular disease",
           433.6
          ],
          [
           "Late effects of cerebrovascular disease",
           433.8
          ],
          [
           "Atherosclerosis",
           440
          ],
          [
           "Atherosclerosis of renal artery",
           440.1
          ],
          [
           "Atherosclerosis of the extremities",
           440.2
          ],
          [
           "Atherosclerosis of native arteries of the extremities with ulceration or gangrene",
           440.21
          ],
          [
           "Atherosclerosis of native arteries of the extremities with intermittent claudication",
           440.22
          ],
          [
           "Atherosclerosis of aorta",
           440.9
          ],
          [
           "Vascular insufficiency of intestine",
           441
          ],
          [
           "Acute vascular insufficiency of intestine",
           441.1
          ],
          [
           "Chronic vascular insufficiency of intestine",
           441.2
          ],
          [
           "Other aneurysm",
           442
          ],
          [
           "Aortic aneurysm",
           442.1
          ],
          [
           "Abdominal aortic aneurysm",
           442.11
          ],
          [
           "Aneurysm of iliac artery",
           442.2
          ],
          [
           "Aneurysm of artery of lower extremity",
           442.3
          ],
          [
           "Arterial dissection",
           442.4
          ],
          [
           "Aneurysm of other specified artery",
           442.8
          ],
          [
           "Peripheral vascular disease",
           443
          ],
          [
           "Raynaud's syndrome",
           443.1
          ],
          [
           "Peripheral angiopathy in diseases classified elsewhere",
           443.7
          ],
          [
           "Other specified peripheral vascular diseases",
           443.8
          ],
          [
           "Peripheral vascular disease, unspecified",
           443.9
          ],
          [
           "Arterial embolism and thrombosis",
           444
          ],
          [
           "Arterial embolism and thrombosis of lower extremity artery",
           444.1
          ],
          [
           "Embolism and thrombosis of abdominal aorta",
           444.2
          ],
          [
           "Atheroembolism",
           444.5
          ],
          [
           "Polyarteritis nodosa and allied conditions",
           446
          ],
          [
           "Thromboangiitis obliterans",
           446.1
          ],
          [
           "Acute febrile mucocutaneous lymph node syndrome (Kawasaki disease)",
           446.2
          ],
          [
           "Hypersensitivity angiitis",
           446.3
          ],
          [
           "Wegener's granulomatosis",
           446.4
          ],
          [
           "Giant cell arteritis",
           446.5
          ],
          [
           "Polyarteritis nodosa",
           446.6
          ],
          [
           "Takayasu's disease",
           446.7
          ],
          [
           "Thrombotic microangiopathy",
           446.8
          ],
          [
           "Arteritis NOS",
           446.9
          ],
          [
           "Other disorders of arteries and arterioles",
           447
          ],
          [
           "Stricture of artery",
           447.1
          ],
          [
           "Aortic ectasia",
           447.7
          ],
          [
           "Disease of capillaries",
           448
          ],
          [
           "Noninfectious disorders of lymphatic channels",
           450
          ],
          [
           "Phlebitis and thrombophlebitis",
           451
          ],
          [
           "Phlebitis and thrombophlebitis of lower extremities",
           451.2
          ],
          [
           "Other venous embolism and thrombosis",
           452
          ],
          [
           "Deep vein thrombosis [DVT]",
           452.2
          ],
          [
           "Postphlebitic syndrome",
           452.8
          ],
          [
           "Varicose veins",
           454
          ],
          [
           "Varicose veins of lower extremity",
           454.1
          ],
          [
           "Varicose veins of lower extremity, symptomtic",
           454.11
          ],
          [
           "Hemorrhoids",
           455
          ],
          [
           "Chronic venous insufficiency [CVI]",
           456
          ],
          [
           "Encounter for long-term (current) use of anticoagulants, antithrombotics, aspirin",
           457
          ],
          [
           "Encounter for long-term (current) use of antiplatelets/antithrombotics",
           457.2
          ],
          [
           "Encounter for long-term (current) use of aspirin",
           457.3
          ],
          [
           "Hypotension",
           458
          ],
          [
           "Orthostatic hypotension",
           458.1
          ],
          [
           "Iatrogenic hypotension",
           458.2
          ],
          [
           "Hypotension NOS",
           458.9
          ],
          [
           "Other disorders of circulatory system",
           459
          ],
          [
           "Hemorrhage NOS",
           459.1
          ],
          [
           "Blood vessel replaced",
           459.7
          ],
          [
           "Circulatory disease NEC",
           459.9
          ]
         ],
         "hovertemplate": "<b>%{hovertext}</b><br><br>category=circulatory system<br>0=%{x}<br>1=%{y}<br>description=%{customdata[0]}<br>phecode=%{customdata[1]}<extra></extra>",
         "hovertext": [
          "Rheumatic disease of the heart valves",
          "Mitral valve stenosis and aortic valve stenosis",
          "Mitral valve disease",
          "Aortic valve disease",
          "Acute rheumatic heart disease",
          "Disease of tricuspid valve",
          "Heart valve disorders",
          "Nonrheumatic mitral valve disorders",
          "Nonrheumatic aortic valve disorders",
          "Nonrheumatic tricuspid valve disorders",
          "Nonrheumatic pulmonary valve disorders",
          "Heart valve replaced",
          "Abnormal heart sounds",
          "Hypertension",
          "Essential hypertension",
          "Hypertensive heart and/or renal disease",
          "Hypertensive heart disease",
          "Hypertensive chronic kidney disease",
          "Other hypertensive complications",
          "Elevated blood pressure reading without diagnosis of hypertension",
          "Ischemic Heart Disease",
          "Unstable angina (intermediate coronary syndrome)",
          "Myocardial infarction",
          "Angina pectoris",
          "Coronary atherosclerosis",
          "Aneurysm and dissection of heart",
          "Other chronic ischemic heart disease, unspecified",
          "Other acute and subacute forms of ischemic heart disease",
          "Other forms of chronic heart disease",
          "ASCVD",
          "Pulmonary heart disease",
          "Acute pulmonary heart disease",
          "Pulmonary embolism and infarction, acute",
          "Chronic pulmonary heart disease",
          "Primary pulmonary hypertension",
          "Cardiomegaly",
          "Nonspecific chest pain",
          "Carditis",
          "Myocarditis",
          "Pericarditis",
          "Acute pericarditis",
          "Chronic pericarditis",
          "Endocarditis",
          "Cardiomyopathy",
          "Primary/intrinsic cardiomyopathies",
          "Hypertrophic obstructive cardiomyopathy",
          "Other hypertrophic cardiomyopathy",
          "Secondary/extrinsic cardiomyopathies",
          "Other cardiomyopathy",
          "Cardiac conduction disorders",
          "Atrioventricular [AV] block",
          "First degree AV block",
          "Mobitz II AV block",
          "Second degree AV block",
          "Atrioventricular block, complete",
          "Other heart block",
          "Bundle branch block",
          "Right bundle branch block",
          "Left bundle branch block",
          "Anomalous atrioventricular excitation",
          "Abnormal electrocardiogram [ECG] [EKG]",
          "Other cardiac conduction disorders",
          "Cardiac pacemaker/device in situ",
          "Cardiac pacemaker in situ",
          "Cardiac defibrillator in situ",
          "Cardiac dysrhythmias",
          "Paroxysmal tachycardia, unspecified",
          "Paroxysmal supraventricular tachycardia",
          "Paroxysmal ventricular tachycardia",
          "Atrial fibrillation and flutter",
          "Atrial fibrillation",
          "Atrial flutter",
          "Other specified cardiac dysrhythmias",
          "Cardiac arrest and ventricular fibrillation",
          "Ventricular fibrillation and flutter",
          "Cardiac arrest",
          "Arrhythmia (cardiac) NOS",
          "Premature beats",
          "Supraventricular premature beats",
          "Tachycardia NOS",
          "Sinoatrial node dysfunction (Bradycardia)",
          "Palpitations",
          "Congestive heart failure; nonhypertensive",
          "Congestive heart failure (CHF) NOS",
          "Heart failure NOS",
          "Heart failure with reduced EF [Systolic or combined heart failure]",
          "Heart failure with preserved EF [Diastolic heart failure]",
          "Ill-defined descriptions and complications of heart disease",
          "Heart transplant/surgery",
          "Abnormal function study of cardiovascular system",
          "Symptoms involving cardiovascular system",
          "Cardiac complications, not elsewhere classified",
          "Intracranial hemorrhage",
          "Subarachnoid hemorrhage",
          "Intracerebral hemorrhage",
          "Subdural hemorrhage",
          "Cerebrovascular disease",
          "Occlusion and stenosis of precerebral arteries",
          "Occlusion of cerebral arteries, with cerebral infarction",
          "Cerebral atherosclerosis",
          "Occlusion of cerebral arteries",
          "Cerebral artery occlusion, with cerebral infarction",
          "Cerebral ischemia",
          "Transient cerebral ischemia",
          "Moyamoya disease",
          "Cerebral aneurysm",
          "Acute, but ill-defined cerebrovascular disease",
          "Late effects of cerebrovascular disease",
          "Atherosclerosis",
          "Atherosclerosis of renal artery",
          "Atherosclerosis of the extremities",
          "Atherosclerosis of native arteries of the extremities with ulceration or gangrene",
          "Atherosclerosis of native arteries of the extremities with intermittent claudication",
          "Atherosclerosis of aorta",
          "Vascular insufficiency of intestine",
          "Acute vascular insufficiency of intestine",
          "Chronic vascular insufficiency of intestine",
          "Other aneurysm",
          "Aortic aneurysm",
          "Abdominal aortic aneurysm",
          "Aneurysm of iliac artery",
          "Aneurysm of artery of lower extremity",
          "Arterial dissection",
          "Aneurysm of other specified artery",
          "Peripheral vascular disease",
          "Raynaud's syndrome",
          "Peripheral angiopathy in diseases classified elsewhere",
          "Other specified peripheral vascular diseases",
          "Peripheral vascular disease, unspecified",
          "Arterial embolism and thrombosis",
          "Arterial embolism and thrombosis of lower extremity artery",
          "Embolism and thrombosis of abdominal aorta",
          "Atheroembolism",
          "Polyarteritis nodosa and allied conditions",
          "Thromboangiitis obliterans",
          "Acute febrile mucocutaneous lymph node syndrome (Kawasaki disease)",
          "Hypersensitivity angiitis",
          "Wegener's granulomatosis",
          "Giant cell arteritis",
          "Polyarteritis nodosa",
          "Takayasu's disease",
          "Thrombotic microangiopathy",
          "Arteritis NOS",
          "Other disorders of arteries and arterioles",
          "Stricture of artery",
          "Aortic ectasia",
          "Disease of capillaries",
          "Noninfectious disorders of lymphatic channels",
          "Phlebitis and thrombophlebitis",
          "Phlebitis and thrombophlebitis of lower extremities",
          "Other venous embolism and thrombosis",
          "Deep vein thrombosis [DVT]",
          "Postphlebitic syndrome",
          "Varicose veins",
          "Varicose veins of lower extremity",
          "Varicose veins of lower extremity, symptomtic",
          "Hemorrhoids",
          "Chronic venous insufficiency [CVI]",
          "Encounter for long-term (current) use of anticoagulants, antithrombotics, aspirin",
          "Encounter for long-term (current) use of antiplatelets/antithrombotics",
          "Encounter for long-term (current) use of aspirin",
          "Hypotension",
          "Orthostatic hypotension",
          "Iatrogenic hypotension",
          "Hypotension NOS",
          "Other disorders of circulatory system",
          "Hemorrhage NOS",
          "Blood vessel replaced",
          "Circulatory disease NEC"
         ],
         "legendgroup": "circulatory system",
         "marker": {
          "color": "#FF97FF",
          "symbol": "circle"
         },
         "mode": "markers",
         "name": "circulatory system",
         "opacity": 0.9,
         "showlegend": true,
         "type": "scattergl",
         "x": [
          20.232973098754883,
          -0.11616271734237671,
          18.796682357788086,
          19.2718563079834,
          -0.3658517599105835,
          21.297435760498047,
          15.701045036315918,
          20.088212966918945,
          19.479154586791992,
          0.18227814137935638,
          21.13650894165039,
          0.23356930911540985,
          21.051279067993164,
          19.202119827270508,
          19.029067993164062,
          20.076026916503906,
          20.514968872070312,
          8.74282455444336,
          18.017547607421875,
          18.71136474609375,
          20.84114646911621,
          20.582008361816406,
          20.156574249267578,
          19.671483993530273,
          18.929885864257812,
          20.67811393737793,
          19.806697845458984,
          19.691011428833008,
          20.29698944091797,
          20.519174575805664,
          19.75756072998047,
          1.285938024520874,
          19.555212020874023,
          19.725217819213867,
          19.150251388549805,
          21.638816833496094,
          18.901174545288086,
          19.744606018066406,
          12.714313507080078,
          18.95730209350586,
          19.333574295043945,
          19.218725204467773,
          19.49585723876953,
          20.93665313720703,
          20.591218948364258,
          20.71404457092285,
          20.325851440429688,
          20.82978630065918,
          21.65282440185547,
          22.52863121032715,
          20.404987335205078,
          22.064558029174805,
          -1.2951401472091675,
          22.230743408203125,
          -1.2597378492355347,
          20.514202117919922,
          18.15736961364746,
          -0.9092618227005005,
          -0.6935949921607971,
          22.898818969726562,
          23.86503028869629,
          21.78860092163086,
          23.41263771057129,
          -0.6039231419563293,
          -0.4461994171142578,
          23.60828971862793,
          23.56346321105957,
          22.342344284057617,
          22.2091064453125,
          23.4097900390625,
          21.289762496948242,
          21.111690521240234,
          22.135303497314453,
          23.780595779418945,
          21.822429656982422,
          20.91629409790039,
          21.633298873901367,
          21.429094314575195,
          -0.9147116541862488,
          21.862958908081055,
          21.9376220703125,
          21.833797454833984,
          20.89049530029297,
          20.336353302001953,
          20.546213150024414,
          20.622896194458008,
          20.946184158325195,
          -0.21566638350486755,
          20.285797119140625,
          -0.09542743861675262,
          18.09952735900879,
          -0.09924454241991043,
          13.235819816589355,
          13.1274995803833,
          14.394379615783691,
          12.21033763885498,
          14.462248802185059,
          17.328874588012695,
          -1.1161168813705444,
          -1.4577890634536743,
          14.266376495361328,
          13.705145835876465,
          17.555356979370117,
          17.776273727416992,
          10.729469299316406,
          14.6803617477417,
          14.673792839050293,
          10.752971649169922,
          18.210201263427734,
          -2.6538589000701904,
          -2.6512396335601807,
          -0.8736931681632996,
          -0.9923332333564758,
          19.192533493041992,
          12.633512496948242,
          13.010697364807129,
          12.759897232055664,
          17.978412628173828,
          19.119985580444336,
          19.531963348388672,
          -2.0877766609191895,
          -2.4166648387908936,
          14.897262573242188,
          14.781448364257812,
          -1.967918038368225,
          17.118633270263672,
          18.15427017211914,
          18.310270309448242,
          17.93627166748047,
          18.707006454467773,
          1.2461870908737183,
          1.5194034576416016,
          18.363582611083984,
          17.38315773010254,
          17.86252784729004,
          17.654312133789062,
          6.284929275512695,
          6.173255920410156,
          9.851167678833008,
          6.220298767089844,
          6.071174621582031,
          16.62139892578125,
          17.466739654541016,
          18.672346115112305,
          -2.7853918075561523,
          -2.7925121784210205,
          16.34964370727539,
          14.218578338623047,
          18.894826889038086,
          18.87021827697754,
          18.867124557495117,
          19.035011291503906,
          1.5722744464874268,
          13.724920272827148,
          13.631902694702148,
          -0.19148623943328857,
          15.85307502746582,
          13.6665678024292,
          -1.3485515117645264,
          -1.0561773777008057,
          -1.4896010160446167,
          19.316442489624023,
          18.772241592407227,
          19.25520896911621,
          19.40744400024414,
          -0.5953359007835388,
          15.540894508361816,
          -1.5594308376312256,
          18.168249130249023
         ],
         "xaxis": "x",
         "y": [
          7.981308460235596,
          1.8754961490631104,
          7.246115684509277,
          6.925056457519531,
          1.2369111776351929,
          7.750577926635742,
          13.14111614227295,
          7.257442951202393,
          6.87214994430542,
          1.9312797784805298,
          7.993747711181641,
          1.4456076622009277,
          7.887491226196289,
          4.561595916748047,
          4.759922504425049,
          4.102985382080078,
          4.985363960266113,
          5.804927825927734,
          2.754809617996216,
          4.85679292678833,
          4.320359230041504,
          4.318577289581299,
          4.165722370147705,
          3.5397753715515137,
          4.118574142456055,
          5.109382629394531,
          4.072164058685303,
          3.654545307159424,
          3.9575612545013428,
          4.073912620544434,
          7.370110511779785,
          2.6564531326293945,
          7.66269588470459,
          7.572959899902344,
          7.312595367431641,
          5.982614517211914,
          7.006865978240967,
          8.573522567749023,
          12.927982330322266,
          10.824902534484863,
          10.805438995361328,
          10.994414329528809,
          7.807149887084961,
          5.449930667877197,
          5.891236782073975,
          5.52998685836792,
          6.5751729011535645,
          7.871304988861084,
          5.708793640136719,
          5.059703826904297,
          6.274810791015625,
          5.241244792938232,
          1.122762680053711,
          4.384438991546631,
          1.2126703262329102,
          5.9627532958984375,
          6.854097843170166,
          0.8672041893005371,
          1.1227079629898071,
          5.337756156921387,
          5.550252914428711,
          5.2090559005737305,
          5.472063064575195,
          2.1497445106506348,
          2.5777547359466553,
          5.443502902984619,
          5.266100883483887,
          4.359477519989014,
          5.2691497802734375,
          5.292581558227539,
          4.0491533279418945,
          4.01262903213501,
          4.532429218292236,
          5.525744438171387,
          5.011429786682129,
          6.273663520812988,
          4.459590911865234,
          4.755788803100586,
          1.6027114391326904,
          4.62098503112793,
          5.031095504760742,
          5.515336990356445,
          7.689903736114502,
          4.883726119995117,
          4.995361804962158,
          7.683476448059082,
          7.9541826248168945,
          2.4913017749786377,
          7.149176597595215,
          3.151245355606079,
          13.380824089050293,
          2.6982059478759766,
          -2.7383151054382324,
          -2.831406593322754,
          -3.3668031692504883,
          -2.8448421955108643,
          -2.199780225753784,
          2.9352025985717773,
          3.1897923946380615,
          3.2300150394439697,
          -1.879408597946167,
          -2.484299898147583,
          3.048131227493286,
          3.179142713546753,
          -4.165461540222168,
          -1.8260788917541504,
          -1.952289342880249,
          -4.0904927253723145,
          3.5574426651000977,
          2.2034671306610107,
          2.7477216720581055,
          2.5068106651306152,
          2.4025156497955322,
          3.9197185039520264,
          5.082516670227051,
          5.065457344055176,
          4.953956127166748,
          2.910668134689331,
          5.027988433837891,
          4.255430698394775,
          1.2552372217178345,
          1.4854751825332642,
          -2.02896785736084,
          -1.8711923360824585,
          1.197582483291626,
          4.41300630569458,
          3.8074848651885986,
          4.230124473571777,
          3.975762367248535,
          3.7150089740753174,
          3.388324022293091,
          3.2742834091186523,
          4.1631340980529785,
          4.407149314880371,
          4.21127462387085,
          6.476476669311523,
          0.6242392659187317,
          0.15498027205467224,
          -2.427651882171631,
          0.619425892829895,
          0.49835047125816345,
          9.975069046020508,
          4.947595596313477,
          4.136270999908447,
          2.273914098739624,
          2.2888033390045166,
          9.934123992919922,
          10.947606086730957,
          8.578961372375488,
          8.720110893249512,
          8.676813125610352,
          8.840560913085938,
          3.5633652210235596,
          9.711328506469727,
          9.361359596252441,
          5.708376407623291,
          4.903718948364258,
          9.309951782226562,
          5.051427841186523,
          5.033738613128662,
          5.188997745513916,
          2.8288652896881104,
          2.5578644275665283,
          2.7635953426361084,
          2.7231884002685547,
          2.5278499126434326,
          4.057513236999512,
          6.532296657562256,
          3.5272159576416016
         ],
         "yaxis": "y"
        },
        {
         "customdata": [
          [
           "Acute sinusitis",
           464
          ],
          [
           "Acute upper respiratory infections of multiple or unspecified sites",
           465
          ],
          [
           "Acute pharyngitis",
           465.2
          ],
          [
           "Acute laryngitis and tracheitis",
           465.4
          ],
          [
           "Septal Deviations/Turbinate Hypertrophy",
           470
          ],
          [
           "Nasal polyps",
           471
          ],
          [
           "Chronic pharyngitis and nasopharyngitis",
           472
          ],
          [
           "Diseases of the larynx and vocal cords",
           473
          ],
          [
           "Chronic laryngitis",
           473.1
          ],
          [
           "Paralysis/spasm of vocal cords or larynx",
           473.3
          ],
          [
           "Voice disturbance",
           473.4
          ],
          [
           "Acute and chronic tonsillitis",
           474
          ],
          [
           "Acute tonsillitis",
           474.1
          ],
          [
           "Chronic tonsillitis and adenoiditis",
           474.2
          ],
          [
           "Chronic sinusitis",
           475
          ],
          [
           "Postnasal drip",
           475.9
          ],
          [
           "Allergic rhinitis",
           476
          ],
          [
           "Epistaxis or throat hemorrhage",
           477
          ],
          [
           "Throat pain",
           478
          ],
          [
           "Other upper respiratory disease",
           479
          ],
          [
           "Pneumonia",
           480
          ],
          [
           "Bacterial pneumonia",
           480.1
          ],
          [
           "Pneumococcal pneumonia",
           480.11
          ],
          [
           "Pseudomonal pneumonia",
           480.12
          ],
          [
           "MRSA pneumonia",
           480.13
          ],
          [
           "Viral pneumonia",
           480.2
          ],
          [
           "Pneumonia due to fungus (mycoses)",
           480.3
          ],
          [
           "Bronchopneumonia and lung abscess",
           480.5
          ],
          [
           "Influenza",
           481
          ],
          [
           "Acute bronchitis and bronchiolitis",
           483
          ],
          [
           "Asthma",
           495
          ],
          [
           "Chronic obstructive asthma",
           495.1
          ],
          [
           "Chronic obstructive asthma with exacerbation",
           495.11
          ],
          [
           "Asthma with exacerbation",
           495.2
          ],
          [
           "Chronic airway obstruction",
           496
          ],
          [
           "Emphysema",
           496.1
          ],
          [
           "Chronic bronchitis",
           496.2
          ],
          [
           "Obstructive chronic bronchitis",
           496.21
          ],
          [
           "Bronchiectasis",
           496.3
          ],
          [
           "Bronchitis",
           497
          ],
          [
           "Cystic fibrosis",
           499
          ],
          [
           "Lung disease due to external agents",
           500
          ],
          [
           "Extrinsic allergic alveolitis",
           500.1
          ],
          [
           "Pneumoconiosis",
           500.2
          ],
          [
           "Pneumonitis due to inhalation of food or vomitus",
           501
          ],
          [
           "Postinflammatory pulmonary fibrosis",
           502
          ],
          [
           "Pulmonary congestion and hypostasis",
           503
          ],
          [
           "Other alveolar and parietoalveolar pneumonopathy",
           504
          ],
          [
           "Idiopathic fibrosing alveolitis",
           504.1
          ],
          [
           "Other pulmonary inflamation or edema",
           505
          ],
          [
           "Empyema and pneumothorax",
           506
          ],
          [
           "Pleurisy; pleural effusion",
           507
          ],
          [
           "Pulmonary collapse; interstitial and compensatory emphysema",
           508
          ],
          [
           "Respiratory failure, insufficiency, arrest",
           509
          ],
          [
           "Respiratory failure",
           509.1
          ],
          [
           "Respiratory insufficiency",
           509.2
          ],
          [
           "Pulmonary insufficiency or respiratory failure following trauma and surgery",
           509.3
          ],
          [
           "Respiratory arrest",
           509.5
          ],
          [
           "Dependence on respirator [Ventilator] or supplemental oxygen",
           509.8
          ],
          [
           "Other diseases of lung",
           510
          ],
          [
           "Lung transplant",
           510.2
          ],
          [
           "Other symptoms of respiratory system",
           512
          ],
          [
           "Wheezing",
           512.1
          ],
          [
           "Painful respiration",
           512.2
          ],
          [
           "Abnormal chest sounds",
           512.3
          ],
          [
           "Shortness of breath",
           512.7
          ],
          [
           "Cough",
           512.8
          ],
          [
           "Other dyspnea",
           512.9
          ],
          [
           "Respiratory abnormalities",
           513
          ],
          [
           "Hypoventilation",
           513.3
          ],
          [
           "Apnea",
           513.31
          ],
          [
           "Orthopnea",
           513.32
          ],
          [
           "Hyperventilation",
           513.4
          ],
          [
           "Disorders of diaphragm",
           513.8
          ],
          [
           "Solitary pulmonary nodule",
           514.2
          ],
          [
           "Abnormal sputum",
           516
          ],
          [
           "Hemoptysis",
           516.1
          ],
          [
           "Other diseases of respiratory system, not elsewhere classified",
           519
          ],
          [
           "Respiratory complications",
           519.2
          ],
          [
           "Other diseases of respiratory system, NEC",
           519.8
          ],
          [
           "Symptoms involving respiratory system and other chest symptoms",
           519.9
          ]
         ],
         "hovertemplate": "<b>%{hovertext}</b><br><br>category=respiratory<br>0=%{x}<br>1=%{y}<br>description=%{customdata[0]}<br>phecode=%{customdata[1]}<extra></extra>",
         "hovertext": [
          "Acute sinusitis",
          "Acute upper respiratory infections of multiple or unspecified sites",
          "Acute pharyngitis",
          "Acute laryngitis and tracheitis",
          "Septal Deviations/Turbinate Hypertrophy",
          "Nasal polyps",
          "Chronic pharyngitis and nasopharyngitis",
          "Diseases of the larynx and vocal cords",
          "Chronic laryngitis",
          "Paralysis/spasm of vocal cords or larynx",
          "Voice disturbance",
          "Acute and chronic tonsillitis",
          "Acute tonsillitis",
          "Chronic tonsillitis and adenoiditis",
          "Chronic sinusitis",
          "Postnasal drip",
          "Allergic rhinitis",
          "Epistaxis or throat hemorrhage",
          "Throat pain",
          "Other upper respiratory disease",
          "Pneumonia",
          "Bacterial pneumonia",
          "Pneumococcal pneumonia",
          "Pseudomonal pneumonia",
          "MRSA pneumonia",
          "Viral pneumonia",
          "Pneumonia due to fungus (mycoses)",
          "Bronchopneumonia and lung abscess",
          "Influenza",
          "Acute bronchitis and bronchiolitis",
          "Asthma",
          "Chronic obstructive asthma",
          "Chronic obstructive asthma with exacerbation",
          "Asthma with exacerbation",
          "Chronic airway obstruction",
          "Emphysema",
          "Chronic bronchitis",
          "Obstructive chronic bronchitis",
          "Bronchiectasis",
          "Bronchitis",
          "Cystic fibrosis",
          "Lung disease due to external agents",
          "Extrinsic allergic alveolitis",
          "Pneumoconiosis",
          "Pneumonitis due to inhalation of food or vomitus",
          "Postinflammatory pulmonary fibrosis",
          "Pulmonary congestion and hypostasis",
          "Other alveolar and parietoalveolar pneumonopathy",
          "Idiopathic fibrosing alveolitis",
          "Other pulmonary inflamation or edema",
          "Empyema and pneumothorax",
          "Pleurisy; pleural effusion",
          "Pulmonary collapse; interstitial and compensatory emphysema",
          "Respiratory failure, insufficiency, arrest",
          "Respiratory failure",
          "Respiratory insufficiency",
          "Pulmonary insufficiency or respiratory failure following trauma and surgery",
          "Respiratory arrest",
          "Dependence on respirator [Ventilator] or supplemental oxygen",
          "Other diseases of lung",
          "Lung transplant",
          "Other symptoms of respiratory system",
          "Wheezing",
          "Painful respiration",
          "Abnormal chest sounds",
          "Shortness of breath",
          "Cough",
          "Other dyspnea",
          "Respiratory abnormalities",
          "Hypoventilation",
          "Apnea",
          "Orthopnea",
          "Hyperventilation",
          "Disorders of diaphragm",
          "Solitary pulmonary nodule",
          "Abnormal sputum",
          "Hemoptysis",
          "Other diseases of respiratory system, not elsewhere classified",
          "Respiratory complications",
          "Other diseases of respiratory system, NEC",
          "Symptoms involving respiratory system and other chest symptoms"
         ],
         "legendgroup": "respiratory",
         "marker": {
          "color": "#FECB52",
          "symbol": "circle"
         },
         "mode": "markers",
         "name": "respiratory",
         "opacity": 0.9,
         "showlegend": true,
         "type": "scattergl",
         "x": [
          8.067381858825684,
          10.615540504455566,
          10.35948371887207,
          11.511434555053711,
          11.620742797851562,
          12.050029754638672,
          10.904390335083008,
          6.136630058288574,
          1.725156545639038,
          6.226883888244629,
          6.502838134765625,
          6.333784580230713,
          10.40430736541748,
          1.7392849922180176,
          8.032939910888672,
          12.281881332397461,
          12.05482292175293,
          11.92109489440918,
          10.931473731994629,
          11.946596145629883,
          12.998010635375977,
          10.878678321838379,
          2.079669237136841,
          2.463127851486206,
          2.208860158920288,
          11.173748970031738,
          11.921285629272461,
          12.536185264587402,
          11.792705535888672,
          11.916199684143066,
          13.565032005310059,
          13.681889533996582,
          1.4193583726882935,
          13.814430236816406,
          14.153013229370117,
          14.49033260345459,
          13.650347709655762,
          1.5911799669265747,
          17.71725845336914,
          13.03847885131836,
          13.555766105651855,
          6.163894176483154,
          14.225800514221191,
          18.250988006591797,
          13.718520164489746,
          14.347855567932129,
          19.45758819580078,
          14.290477752685547,
          14.078975677490234,
          13.305927276611328,
          13.8251371383667,
          14.641419410705566,
          14.738703727722168,
          0.395252525806427,
          18.146547317504883,
          15.641161918640137,
          -0.002073771320283413,
          0.4660102128982544,
          0.05984804779291153,
          15.260851860046387,
          16.33436393737793,
          14.76188850402832,
          12.667417526245117,
          12.574275016784668,
          1.1523867845535278,
          18.407682418823242,
          12.453888893127441,
          17.829469680786133,
          1.2958272695541382,
          19.179868698120117,
          1.1295300722122192,
          18.595285415649414,
          17.960826873779297,
          19.009336471557617,
          18.172401428222656,
          0.9763434529304504,
          14.737166404724121,
          15.754976272583008,
          11.26221752166748,
          15.45028018951416,
          15.058454513549805
         ],
         "xaxis": "x",
         "y": [
          3.944870948791504,
          12.2572021484375,
          12.143417358398438,
          12.162473678588867,
          -2.1951489448547363,
          14.006929397583008,
          12.478520393371582,
          4.01129674911499,
          3.537806749343872,
          3.933664321899414,
          3.5446040630340576,
          -1.5170226097106934,
          12.299155235290527,
          4.965177536010742,
          4.369256019592285,
          14.001420974731445,
          14.275790214538574,
          -2.2135674953460693,
          12.390715599060059,
          13.962589263916016,
          13.487869262695312,
          12.910141944885254,
          1.7182297706604004,
          1.5330249071121216,
          1.673344612121582,
          13.121794700622559,
          12.57006549835205,
          13.29542350769043,
          12.745912551879883,
          13.316912651062012,
          14.4589262008667,
          14.786998748779297,
          2.336153745651245,
          14.481660842895508,
          14.481242179870605,
          14.179603576660156,
          13.68533992767334,
          2.305652379989624,
          12.899809837341309,
          13.420187950134277,
          7.6380720138549805,
          -0.32810625433921814,
          14.694127082824707,
          12.407516479492188,
          14.480716705322266,
          13.996764183044434,
          7.153620719909668,
          13.99706745147705,
          14.365718841552734,
          14.194860458374023,
          13.358830451965332,
          13.419604301452637,
          14.469534873962402,
          4.162147045135498,
          7.26809549331665,
          14.001604080200195,
          4.502133846282959,
          3.2772958278656006,
          4.893809795379639,
          13.229860305786133,
          13.149690628051758,
          14.758917808532715,
          13.309103965759277,
          12.746959686279297,
          2.793168544769287,
          7.426984786987305,
          13.217391967773438,
          7.092260360717773,
          2.399152994155884,
          7.137568950653076,
          2.326181650161743,
          7.2194504737854,
          7.3461480140686035,
          6.573955535888672,
          12.47353458404541,
          2.713252305984497,
          13.47486400604248,
          14.264861106872559,
          13.550100326538086,
          14.256701469421387,
          14.487401008605957
         ],
         "yaxis": "y"
        },
        {
         "customdata": [
          [
           "Disorders of tooth development",
           520
          ],
          [
           "Hereditary disturbances in tooth structure",
           520.1
          ],
          [
           "Disturbances in tooth eruption",
           520.2
          ],
          [
           "Diseases of hard tissues of teeth",
           521
          ],
          [
           "Dental caries",
           521.1
          ],
          [
           "Dental abrasion, erosion and attrition",
           521.2
          ],
          [
           "Tooth complications likely association with other diseases",
           521.4
          ],
          [
           "Diseases of pulp and periapical tissues",
           522
          ],
          [
           "Pulpitis and necrosis of tooth pulp",
           522.1
          ],
          [
           "Periapical abscess",
           522.5
          ],
          [
           "Gingival and periodontal diseases",
           523
          ],
          [
           "Gingivitis",
           523.1
          ],
          [
           "Periodontitis (acute or chronic)",
           523.3
          ],
          [
           "Acute periodontitis",
           523.31
          ],
          [
           "Chronic periodontitis",
           523.32
          ],
          [
           "Dentofacial anomalies, including malocclusion",
           524
          ],
          [
           "Anomalies of tooth position/malocclusion",
           524.3
          ],
          [
           "Other diseases of the teeth and supporting structures",
           525
          ],
          [
           "Loss of teeth or edentulism",
           525.1
          ],
          [
           "Atrophy of edentulous alveolar ridge",
           525.2
          ],
          [
           "Diseases of the jaws",
           526
          ],
          [
           "Cysts of the jaws",
           526.1
          ],
          [
           "Anomalies of jaw size/symmetry",
           526.3
          ],
          [
           "Temporomandibular joint disorders",
           526.4
          ],
          [
           "Temporomandibular joint disorder, unspecified",
           526.41
          ],
          [
           "Arthralgia/ankylosis of temporomandibular joint",
           526.42
          ],
          [
           "Inflammatory conditions of jaw",
           526.5
          ],
          [
           "Exostosis of jaw",
           526.8
          ],
          [
           "Jaw disease NOS",
           526.9
          ],
          [
           "Diseases of the salivary glands",
           527
          ],
          [
           "Hypertrophy of salivary gland",
           527.1
          ],
          [
           "Sialoadenitis",
           527.2
          ],
          [
           "Disturbance of salivary secretion",
           527.7
          ],
          [
           "Other specified diseases of the salivary glands",
           527.8
          ],
          [
           "Diseases of the oral soft tissues, excluding lesions specific for gingiva and tongue",
           528
          ],
          [
           "Stomatitis and mucositis",
           528.1
          ],
          [
           "Stomatitis and mucositis (ulcerative)",
           528.11
          ],
          [
           "Oral aphthae",
           528.12
          ],
          [
           "Cellulitis and abscess of oral soft tissues",
           528.3
          ],
          [
           "Cysts of oral soft tissues",
           528.4
          ],
          [
           "Cyst of the salivary gland",
           528.41
          ],
          [
           "Diseases of lips",
           528.5
          ],
          [
           "Leukoplakia of oral mucosa",
           528.6
          ],
          [
           "Sialolithiasis",
           528.7
          ],
          [
           "Diseases and other conditions of the tongue",
           529
          ],
          [
           "Glossitis",
           529.1
          ],
          [
           "Glossodynia",
           529.6
          ],
          [
           "Diseases of esophagus",
           530
          ],
          [
           "Esophagitis, GERD and related diseases",
           530.1
          ],
          [
           "GERD",
           530.11
          ],
          [
           "Ulcer of esophagus",
           530.12
          ],
          [
           "Barrett's esophagus",
           530.13
          ],
          [
           "Reflux esophagitis",
           530.14
          ],
          [
           "Eosinophilic esophagitis",
           530.15
          ],
          [
           "Esophageal bleeding (varices/hemorrhage)",
           530.2
          ],
          [
           "Stricture and stenosis of esophagus",
           530.3
          ],
          [
           "Disorders of esophageal motility",
           530.5
          ],
          [
           "Diverticulum of esophagus, acquired",
           530.6
          ],
          [
           "Gastroesophageal laceration-hemorrhage syndrome",
           530.7
          ],
          [
           "Heartburn",
           530.9
          ],
          [
           "Peptic ulcer (excl. esophageal)",
           531
          ],
          [
           "Hemorrhage from gastrointestinal ulcer",
           531.1
          ],
          [
           "Gastric ulcer",
           531.2
          ],
          [
           "Duodenal ulcer",
           531.3
          ],
          [
           "Peptic ulcer, site unspecified",
           531.4
          ],
          [
           "Gastrojejunal ulcer",
           531.5
          ],
          [
           "Dysphagia",
           532
          ],
          [
           "Gastritis and duodenitis",
           535
          ],
          [
           "Acute gastritis",
           535.1
          ],
          [
           "Atrophic gastritis",
           535.2
          ],
          [
           "Duodenitis",
           535.6
          ],
          [
           "Other specified gastritis",
           535.8
          ],
          [
           "Gastritis and duodenitis, NOS",
           535.9
          ],
          [
           "Disorders of function of stomach",
           536
          ],
          [
           "Gastroparesis",
           536.3
          ],
          [
           "Complications of gastrostomy, colostomy and enterostomy",
           536.7
          ],
          [
           "Dyspepsia and other specified disorders of function of stomach",
           536.8
          ],
          [
           "Other disorders of stomach and duodenum",
           537
          ],
          [
           "Lesions of stomach and duodenum",
           537.1
          ],
          [
           "Bariatric surgery",
           539
          ],
          [
           "Appendicitis",
           540.1
          ],
          [
           "Acute appendicitis",
           540.11
          ],
          [
           "Abdominal hernia",
           550
          ],
          [
           "Inguinal hernia",
           550.1
          ],
          [
           "Diaphragmatic hernia",
           550.2
          ],
          [
           "Femoral hernia",
           550.3
          ],
          [
           "Umbilical hernia",
           550.4
          ],
          [
           "Ventral hernia",
           550.5
          ],
          [
           "Incisional hernia",
           550.6
          ],
          [
           "Inflammatory bowel disease and other gastroenteritis and colitis",
           555
          ],
          [
           "Regional enteritis",
           555.1
          ],
          [
           "Ulcerative colitis",
           555.2
          ],
          [
           "Ulcerative colitis (chronic)",
           555.21
          ],
          [
           "Ulceration of intestine",
           556.1
          ],
          [
           "Angiodysplasia of intestine (without mention of hemorrhage)",
           556.11
          ],
          [
           "Intestinal malabsorption (non-celiac)",
           557
          ],
          [
           "Celiac disease",
           557.1
          ],
          [
           "Noninfectious gastroenteritis",
           558
          ],
          [
           "Intestinal obstruction without mention of hernia",
           560
          ],
          [
           "Paralytic ileus",
           560.1
          ],
          [
           "Impaction of intestine",
           560.2
          ],
          [
           "Peritoneal or intestinal adhesions",
           560.3
          ],
          [
           "Other intestinal obstruction",
           560.4
          ],
          [
           "Symptoms involving digestive system",
           561
          ],
          [
           "Diarrhea",
           561.1
          ],
          [
           "Flatulence",
           561.2
          ],
          [
           "Diverticulosis and diverticulitis",
           562
          ],
          [
           "Diverticulosis",
           562.1
          ],
          [
           "Diverticulitis",
           562.2
          ],
          [
           "Constipation",
           563
          ],
          [
           "Functional digestive disorders",
           564
          ],
          [
           "Irritable Bowel Syndrome",
           564.1
          ],
          [
           "Personal history of diseases of digestive system",
           564.9
          ],
          [
           "Anal and rectal conditions",
           565
          ],
          [
           "Anal and rectal polyp",
           565.1
          ],
          [
           "Peritonitis and retroperitoneal infections",
           567
          ],
          [
           "Other disorders of peritoneum",
           568
          ],
          [
           "Peritoneal adhesions (postoperative) (postinfection)",
           568.1
          ],
          [
           "Other disorders of intestine",
           569
          ],
          [
           "Toxic gastroenteritis and colitis",
           569.1
          ],
          [
           "Gastrointestinal complications",
           569.2
          ],
          [
           "Chronic liver disease and cirrhosis",
           571
          ],
          [
           "Other chronic nonalcoholic liver disease",
           571.5
          ],
          [
           "Cirrhosis of liver without mention of alcohol",
           571.51
          ],
          [
           "Primary biliary cirrhosis",
           571.6
          ],
          [
           "Liver abscess and sequelae of chronic liver disease",
           571.8
          ],
          [
           "Portal hypertension",
           571.81
          ],
          [
           "Ascites (non malignant)",
           572
          ],
          [
           "Other disorders of liver",
           573
          ],
          [
           "Chronic passive congestion of liver",
           573.1
          ],
          [
           "Hepatomegaly",
           573.3
          ],
          [
           "Acute and subacute necrosis of liver",
           573.4
          ],
          [
           "Jaundice (not of newborn)",
           573.5
          ],
          [
           "Abnormal serum enzyme levels",
           573.9
          ],
          [
           "Cholelithiasis and cholecystitis",
           574
          ],
          [
           "Cholelithiasis",
           574.1
          ],
          [
           "Cholelithiasis with acute cholecystitis",
           574.11
          ],
          [
           "Cholelithiasis with other cholecystitis",
           574.12
          ],
          [
           "Calculus of bile duct",
           574.2
          ],
          [
           "Cholecystitis without cholelithiasis",
           574.3
          ],
          [
           "Other biliary tract disease",
           575
          ],
          [
           "Cholangitis",
           575.1
          ],
          [
           "Obstruction of bile duct",
           575.2
          ],
          [
           "Cholesterolosis of gallbladder",
           575.6
          ],
          [
           "Other disorders of gallbladder",
           575.7
          ],
          [
           "Other disorders of biliary tract",
           575.8
          ],
          [
           "Nonspecific abnormal findings on radiological and other examination of biliary tract",
           575.9
          ],
          [
           "Diseases of pancreas",
           577
          ],
          [
           "Acute pancreatitis",
           577.1
          ],
          [
           "Chronic pancreatitis",
           577.2
          ],
          [
           "Cyst and pseudocyst of pancreas",
           577.3
          ],
          [
           "Gastrointestinal hemorrhage",
           578
          ],
          [
           "Hematemesis",
           578.1
          ],
          [
           "Blood in stool",
           578.2
          ],
          [
           "Hemorrhage of rectum and anus",
           578.8
          ],
          [
           "Hemorrhage of gastrointestinal tract",
           578.9
          ],
          [
           "Other symptoms involving abdomen and pelvis",
           579
          ],
          [
           "Splenomegaly",
           579.2
          ]
         ],
         "hovertemplate": "<b>%{hovertext}</b><br><br>category=digestive<br>0=%{x}<br>1=%{y}<br>description=%{customdata[0]}<br>phecode=%{customdata[1]}<extra></extra>",
         "hovertext": [
          "Disorders of tooth development",
          "Hereditary disturbances in tooth structure",
          "Disturbances in tooth eruption",
          "Diseases of hard tissues of teeth",
          "Dental caries",
          "Dental abrasion, erosion and attrition",
          "Tooth complications likely association with other diseases",
          "Diseases of pulp and periapical tissues",
          "Pulpitis and necrosis of tooth pulp",
          "Periapical abscess",
          "Gingival and periodontal diseases",
          "Gingivitis",
          "Periodontitis (acute or chronic)",
          "Acute periodontitis",
          "Chronic periodontitis",
          "Dentofacial anomalies, including malocclusion",
          "Anomalies of tooth position/malocclusion",
          "Other diseases of the teeth and supporting structures",
          "Loss of teeth or edentulism",
          "Atrophy of edentulous alveolar ridge",
          "Diseases of the jaws",
          "Cysts of the jaws",
          "Anomalies of jaw size/symmetry",
          "Temporomandibular joint disorders",
          "Temporomandibular joint disorder, unspecified",
          "Arthralgia/ankylosis of temporomandibular joint",
          "Inflammatory conditions of jaw",
          "Exostosis of jaw",
          "Jaw disease NOS",
          "Diseases of the salivary glands",
          "Hypertrophy of salivary gland",
          "Sialoadenitis",
          "Disturbance of salivary secretion",
          "Other specified diseases of the salivary glands",
          "Diseases of the oral soft tissues, excluding lesions specific for gingiva and tongue",
          "Stomatitis and mucositis",
          "Stomatitis and mucositis (ulcerative)",
          "Oral aphthae",
          "Cellulitis and abscess of oral soft tissues",
          "Cysts of oral soft tissues",
          "Cyst of the salivary gland",
          "Diseases of lips",
          "Leukoplakia of oral mucosa",
          "Sialolithiasis",
          "Diseases and other conditions of the tongue",
          "Glossitis",
          "Glossodynia",
          "Diseases of esophagus",
          "Esophagitis, GERD and related diseases",
          "GERD",
          "Ulcer of esophagus",
          "Barrett's esophagus",
          "Reflux esophagitis",
          "Eosinophilic esophagitis",
          "Esophageal bleeding (varices/hemorrhage)",
          "Stricture and stenosis of esophagus",
          "Disorders of esophageal motility",
          "Diverticulum of esophagus, acquired",
          "Gastroesophageal laceration-hemorrhage syndrome",
          "Heartburn",
          "Peptic ulcer (excl. esophageal)",
          "Hemorrhage from gastrointestinal ulcer",
          "Gastric ulcer",
          "Duodenal ulcer",
          "Peptic ulcer, site unspecified",
          "Gastrojejunal ulcer",
          "Dysphagia",
          "Gastritis and duodenitis",
          "Acute gastritis",
          "Atrophic gastritis",
          "Duodenitis",
          "Other specified gastritis",
          "Gastritis and duodenitis, NOS",
          "Disorders of function of stomach",
          "Gastroparesis",
          "Complications of gastrostomy, colostomy and enterostomy",
          "Dyspepsia and other specified disorders of function of stomach",
          "Other disorders of stomach and duodenum",
          "Lesions of stomach and duodenum",
          "Bariatric surgery",
          "Appendicitis",
          "Acute appendicitis",
          "Abdominal hernia",
          "Inguinal hernia",
          "Diaphragmatic hernia",
          "Femoral hernia",
          "Umbilical hernia",
          "Ventral hernia",
          "Incisional hernia",
          "Inflammatory bowel disease and other gastroenteritis and colitis",
          "Regional enteritis",
          "Ulcerative colitis",
          "Ulcerative colitis (chronic)",
          "Ulceration of intestine",
          "Angiodysplasia of intestine (without mention of hemorrhage)",
          "Intestinal malabsorption (non-celiac)",
          "Celiac disease",
          "Noninfectious gastroenteritis",
          "Intestinal obstruction without mention of hernia",
          "Paralytic ileus",
          "Impaction of intestine",
          "Peritoneal or intestinal adhesions",
          "Other intestinal obstruction",
          "Symptoms involving digestive system",
          "Diarrhea",
          "Flatulence",
          "Diverticulosis and diverticulitis",
          "Diverticulosis",
          "Diverticulitis",
          "Constipation",
          "Functional digestive disorders",
          "Irritable Bowel Syndrome",
          "Personal history of diseases of digestive system",
          "Anal and rectal conditions",
          "Anal and rectal polyp",
          "Peritonitis and retroperitoneal infections",
          "Other disorders of peritoneum",
          "Peritoneal adhesions (postoperative) (postinfection)",
          "Other disorders of intestine",
          "Toxic gastroenteritis and colitis",
          "Gastrointestinal complications",
          "Chronic liver disease and cirrhosis",
          "Other chronic nonalcoholic liver disease",
          "Cirrhosis of liver without mention of alcohol",
          "Primary biliary cirrhosis",
          "Liver abscess and sequelae of chronic liver disease",
          "Portal hypertension",
          "Ascites (non malignant)",
          "Other disorders of liver",
          "Chronic passive congestion of liver",
          "Hepatomegaly",
          "Acute and subacute necrosis of liver",
          "Jaundice (not of newborn)",
          "Abnormal serum enzyme levels",
          "Cholelithiasis and cholecystitis",
          "Cholelithiasis",
          "Cholelithiasis with acute cholecystitis",
          "Cholelithiasis with other cholecystitis",
          "Calculus of bile duct",
          "Cholecystitis without cholelithiasis",
          "Other biliary tract disease",
          "Cholangitis",
          "Obstruction of bile duct",
          "Cholesterolosis of gallbladder",
          "Other disorders of gallbladder",
          "Other disorders of biliary tract",
          "Nonspecific abnormal findings on radiological and other examination of biliary tract",
          "Diseases of pancreas",
          "Acute pancreatitis",
          "Chronic pancreatitis",
          "Cyst and pseudocyst of pancreas",
          "Gastrointestinal hemorrhage",
          "Hematemesis",
          "Blood in stool",
          "Hemorrhage of rectum and anus",
          "Hemorrhage of gastrointestinal tract",
          "Other symptoms involving abdomen and pelvis",
          "Splenomegaly"
         ],
         "legendgroup": "digestive",
         "marker": {
          "color": "#636efa",
          "symbol": "circle"
         },
         "mode": "markers",
         "name": "digestive",
         "opacity": 0.9,
         "showlegend": true,
         "type": "scattergl",
         "x": [
          4.911837577819824,
          7.747166156768799,
          5.1641106605529785,
          4.932296276092529,
          11.466246604919434,
          11.565065383911133,
          2.084928035736084,
          0.7104979157447815,
          0.7481576204299927,
          8.720193862915039,
          5.266696929931641,
          7.192880153656006,
          5.047712802886963,
          10.112760543823242,
          5.159213542938232,
          6.099095821380615,
          5.400835990905762,
          5.661811828613281,
          3.1630845069885254,
          2.7315423488616943,
          9.774079322814941,
          7.126909255981445,
          12.107854843139648,
          11.357282638549805,
          11.616260528564453,
          2.1251769065856934,
          5.54942512512207,
          2.4831345081329346,
          14.761062622070312,
          1.6124436855316162,
          1.539473533630371,
          18.617023468017578,
          6.893959999084473,
          13.70739459991455,
          11.288453102111816,
          6.511362075805664,
          6.496057987213135,
          11.142569541931152,
          11.466320991516113,
          1.373098373413086,
          1.114081621170044,
          6.686004638671875,
          5.561542510986328,
          7.814343452453613,
          5.8449177742004395,
          6.092709064483643,
          6.099653244018555,
          16.00166893005371,
          16.021230697631836,
          15.983896255493164,
          2.842400074005127,
          15.83899974822998,
          15.868431091308594,
          14.372843742370605,
          12.887770652770996,
          15.86645793914795,
          15.099903106689453,
          2.613924980163574,
          13.295397758483887,
          13.892159461975098,
          14.922014236450195,
          3.1042323112487793,
          15.173181533813477,
          3.0390076637268066,
          14.308850288391113,
          14.65089225769043,
          17.451507568359375,
          14.7177095413208,
          21.994426727294922,
          15.482575416564941,
          14.533584594726562,
          15.392457008361816,
          14.699152946472168,
          15.509639739990234,
          14.891090393066406,
          2.5194993019104004,
          14.377678871154785,
          15.159357070922852,
          -0.330269455909729,
          14.539196968078613,
          16.11969757080078,
          1.7868388891220093,
          28.135766983032227,
          8.097732543945312,
          16.2362117767334,
          27.88788414001465,
          28.180904388427734,
          28.07593536376953,
          28.156482696533203,
          2.6603012084960938,
          16.35376739501953,
          16.26042366027832,
          16.54104232788086,
          2.0225577354431152,
          15.330779075622559,
          16.111303329467773,
          16.205230712890625,
          16.446613311767578,
          1.4148974418640137,
          0.278251588344574,
          15.528672218322754,
          0.04518260434269905,
          15.724333763122559,
          15.203207969665527,
          21.658599853515625,
          15.562214851379395,
          2.0103256702423096,
          15.798832893371582,
          16.07721710205078,
          15.533844947814941,
          15.43860149383545,
          15.323095321655273,
          13.97765827178955,
          7.006316184997559,
          1.7050870656967163,
          12.864459037780762,
          -1.6502834558486938,
          -1.0715407133102417,
          15.021696090698242,
          2.621128559112549,
          15.3637113571167,
          2.341566324234009,
          12.92910099029541,
          12.574237823486328,
          13.717818260192871,
          12.434468269348145,
          13.368507385253906,
          13.342942237854004,
          11.629806518554688,
          19.670928955078125,
          12.987174987792969,
          12.29348373413086,
          16.725969314575195,
          9.635104179382324,
          3.2253222465515137,
          13.827645301818848,
          2.4866700172424316,
          2.6891233921051025,
          14.11767578125,
          11.780570030212402,
          13.111037254333496,
          14.038622856140137,
          13.525352478027344,
          -0.24556782841682434,
          13.00887680053711,
          13.108131408691406,
          -0.21218933165073395,
          14.652420997619629,
          13.500417709350586,
          12.785414695739746,
          14.07921314239502,
          2.3767573833465576,
          13.518330574035645,
          15.195725440979004,
          15.380247116088867,
          15.315472602844238,
          12.02794075012207,
          15.62370777130127
         ],
         "xaxis": "x",
         "y": [
          3.272617816925049,
          10.931102752685547,
          3.442330837249756,
          3.1931936740875244,
          -1.6963139772415161,
          9.321600914001465,
          4.852689266204834,
          4.107799053192139,
          4.556899547576904,
          2.2196907997131348,
          3.141960382461548,
          4.312049865722656,
          2.673482894897461,
          0.5676723122596741,
          2.836589813232422,
          3.2410924434661865,
          3.9052011966705322,
          3.4870896339416504,
          4.269289970397949,
          4.461119651794434,
          -2.5312788486480713,
          16.204526901245117,
          11.096966743469238,
          0.5185975432395935,
          0.32713574171066284,
          4.635962963104248,
          2.6472222805023193,
          4.602914333343506,
          -0.3016679584980011,
          4.828867435455322,
          4.499982833862305,
          13.720827102661133,
          4.836191177368164,
          12.191204071044922,
          -1.3053557872772217,
          5.3221330642700195,
          5.882453441619873,
          -1.366318702697754,
          -1.7358367443084717,
          5.766557216644287,
          4.726917743682861,
          5.151144027709961,
          6.59929895401001,
          4.141416549682617,
          5.425243854522705,
          5.7652764320373535,
          5.188218593597412,
          8.443048477172852,
          8.681713104248047,
          8.62792682647705,
          7.058557510375977,
          7.8462324142456055,
          8.775961875915527,
          9.038461685180664,
          6.989331245422363,
          7.809414863586426,
          8.828436851501465,
          7.091215133666992,
          6.38743257522583,
          7.0759382247924805,
          6.567020893096924,
          6.707666397094727,
          6.895900726318359,
          6.889082431793213,
          6.317969799041748,
          6.252748966217041,
          6.719787120819092,
          6.221319675445557,
          10.864169120788574,
          7.051120758056641,
          5.968847751617432,
          8.159907341003418,
          6.244103908538818,
          6.286243915557861,
          5.7221879959106445,
          7.101907730102539,
          6.033395290374756,
          6.5693039894104,
          4.962003231048584,
          4.63103723526001,
          4.982462406158447,
          6.558675289154053,
          -0.584937572479248,
          7.600192070007324,
          5.291933059692383,
          -0.4038308560848236,
          -0.6303621530532837,
          -0.5210718512535095,
          -0.6095473170280457,
          7.0402326583862305,
          6.51785135269165,
          6.170648574829102,
          6.19135046005249,
          6.6888041496276855,
          6.748064041137695,
          7.270327091217041,
          6.988633155822754,
          6.99365234375,
          6.523257732391357,
          5.667459487915039,
          4.873981475830078,
          5.265559673309326,
          5.275764465332031,
          4.9254536628723145,
          10.481444358825684,
          5.408621788024902,
          7.098686695098877,
          5.706595420837402,
          5.474318981170654,
          5.079775333404541,
          6.146243572235107,
          5.545181751251221,
          6.452728271484375,
          9.651764869689941,
          6.859160900115967,
          6.501416206359863,
          5.970402717590332,
          6.05936336517334,
          6.375378608703613,
          6.743404865264893,
          6.068339824676514,
          6.051445960998535,
          5.268604278564453,
          6.044966220855713,
          6.034639358520508,
          5.446834564208984,
          7.531590461730957,
          7.261544227600098,
          6.336452960968018,
          4.093642234802246,
          5.523979663848877,
          5.617359638214111,
          14.537309646606445,
          7.022767066955566,
          6.208430767059326,
          7.9546966552734375,
          6.508983135223389,
          6.331027030944824,
          7.680920600891113,
          6.42047643661499,
          7.227492809295654,
          8.273197174072266,
          6.556286334991455,
          5.315654277801514,
          6.526519298553467,
          7.030069828033447,
          4.902169704437256,
          7.366830825805664,
          7.9025492668151855,
          5.778561115264893,
          7.467635154724121,
          6.846951484680176,
          6.73020601272583,
          6.811689853668213,
          6.489225387573242,
          6.839470386505127,
          6.61794900894165,
          9.285091400146484
         ],
         "yaxis": "y"
        },
        {
         "customdata": [
          [
           "Nephritis; nephrosis; renal sclerosis",
           580
          ],
          [
           "Glomerulonephritis",
           580.1
          ],
          [
           "Proliferative glomerulonephritis",
           580.11
          ],
          [
           "Non-proliferative glomerulonephritis",
           580.12
          ],
          [
           "Acute glomerulonephritis, NOS",
           580.13
          ],
          [
           "Chronic glomerulonephritis, NOS",
           580.14
          ],
          [
           "Nephrotic syndrome without mention of glomerulonephritis",
           580.2
          ],
          [
           "Nephritis and nephropathy without mention of glomerulonephritis",
           580.3
          ],
          [
           "Nephritis and nephropathy in diseases classified elsewhere",
           580.31
          ],
          [
           "Nephritis and nephropathy with pathological lesion",
           580.32
          ],
          [
           "Renal sclerosis, NOS",
           580.4
          ],
          [
           "Renal failure",
           585
          ],
          [
           "Acute renal failure",
           585.1
          ],
          [
           "Renal failure NOS",
           585.2
          ],
          [
           "Chronic renal failure [CKD]",
           585.3
          ],
          [
           "Renal dialysis",
           585.31
          ],
          [
           "End stage renal disease",
           585.32
          ],
          [
           "Chronic Kidney Disease, Stage III",
           585.33
          ],
          [
           "Chronic Kidney Disease, Stage IV",
           585.34
          ],
          [
           "Chronic kidney disease, Stage I or II",
           585.4
          ],
          [
           "Other disorders of the kidney and ureters",
           586
          ],
          [
           "Anatomical abnormatilies of kidney and ureters",
           586.1
          ],
          [
           "Small kidney",
           586.11
          ],
          [
           "Vesicoureteral reflux",
           586.12
          ],
          [
           "Cyst of kidney, acquired",
           586.2
          ],
          [
           "Vascular disorders of kidney/hypertrophy",
           586.3
          ],
          [
           "Stricture/obstruction of ureter",
           586.4
          ],
          [
           "Disorders resulting from impaired renal function",
           588
          ],
          [
           "Renal osteodystrophy",
           588.1
          ],
          [
           "Secondary hyperparathyroidism (of renal origin)",
           588.2
          ],
          [
           "Pyelonephritis",
           590
          ],
          [
           "Urinary tract infection",
           591
          ],
          [
           "Cystitis and urethritis",
           592
          ],
          [
           "Cystitis",
           592.1
          ],
          [
           "Acute cystitis",
           592.11
          ],
          [
           "Chronic cystitis",
           592.12
          ],
          [
           "Chronic interstitial cystitis",
           592.13
          ],
          [
           "Urethritis and urethral syndrome",
           592.2
          ],
          [
           "Urethral syndrome",
           592.21
          ],
          [
           "Urethral stricture due to infecton",
           592.3
          ],
          [
           "Hematuria",
           593
          ],
          [
           "Gross hematuria",
           593.1
          ],
          [
           "Urinary calculus",
           594
          ],
          [
           "Calculus of kidney",
           594.1
          ],
          [
           "Calculus of lower urinary tract",
           594.2
          ],
          [
           "Calculus of ureter",
           594.3
          ],
          [
           "Renal colic",
           594.8
          ],
          [
           "Hydronephrosis",
           595
          ],
          [
           "Other disorders of bladder",
           596
          ],
          [
           "Bladder neck obstruction",
           596.1
          ],
          [
           "Functional disorders of bladder",
           596.5
          ],
          [
           "Other disorders of urethra and urinary tract",
           597
          ],
          [
           "Urethral stricture (not specified as infectious)",
           597.1
          ],
          [
           "Urethral hypermobility/ISD",
           597.8
          ],
          [
           "Abnormal findings on examination of urine",
           598
          ],
          [
           "Other cells and casts in urine",
           598.4
          ],
          [
           "Other nonspecific findings on examination of urine",
           598.9
          ],
          [
           "Other symptoms/disorders or the urinary system",
           599
          ],
          [
           "Urinary obstruction",
           599.1
          ],
          [
           "Retention of urine",
           599.2
          ],
          [
           "Dysuria",
           599.3
          ],
          [
           "Urinary incontinence",
           599.4
          ],
          [
           "Frequency of urination and polyuria",
           599.5
          ],
          [
           "Oliguria and anuria",
           599.6
          ],
          [
           "Urethral discharge",
           599.7
          ],
          [
           "Other symptoms involving urinary system",
           599.8
          ],
          [
           "Other abnormality of urination",
           599.9
          ],
          [
           "Hyperplasia of prostate",
           600
          ],
          [
           "Inflammatory diseases of prostate",
           601
          ],
          [
           "Prostatitis",
           601.1
          ],
          [
           "Acute prostatitis",
           601.11
          ],
          [
           "Chronic prostatitis",
           601.12
          ],
          [
           "Orchitis and epididymitis",
           601.3
          ],
          [
           "Balanoposthitis",
           601.4
          ],
          [
           "Other inflammatory disorders of male genital organs",
           601.8
          ],
          [
           "Other disorders of prostate",
           602
          ],
          [
           "Dysplasia of prostate",
           602.3
          ],
          [
           "Other disorders of testis",
           603
          ],
          [
           "Hydrocele",
           603.1
          ],
          [
           "Spermatocele",
           603.2
          ],
          [
           "Disorders of penis",
           604
          ],
          [
           "Redundant prepuce and phimosis/BXO",
           604.1
          ],
          [
           "Vascular disorders of penis",
           604.2
          ],
          [
           "Peyronie's disease",
           604.3
          ],
          [
           "Erectile dysfunction [ED]",
           605
          ],
          [
           "Other disorders of male genital organs",
           608
          ],
          [
           "Male infertility and abnormal spermatozoa",
           609
          ],
          [
           "Infertility, male",
           609.1
          ],
          [
           "Azoospermia and oligospermia",
           609.11
          ],
          [
           "Abnormal spermatozoa",
           609.2
          ],
          [
           "Benign mammary dysplasias",
           610
          ],
          [
           "Cystic mastopathy",
           610.1
          ],
          [
           "Fibroadenosis of breast",
           610.2
          ],
          [
           "Fibrosclerosis of breast",
           610.3
          ],
          [
           "Benign neoplasm of breast",
           610.4
          ],
          [
           "Other specified benign mammary dysplasias",
           610.8
          ],
          [
           "Abnormal findings on mammogram or breast exam",
           611
          ],
          [
           "Abnormal mammogram",
           611.1
          ],
          [
           "Mammographic microcalcification",
           611.11
          ],
          [
           "Lump or mass in breast",
           611.3
          ],
          [
           "Breast conditions, congenital or relating to hormones",
           612
          ],
          [
           "Galactorrhea",
           612.1
          ],
          [
           "Hypertrophy of breast (Gynecomastia)",
           612.2
          ],
          [
           "Congenital anomalies of breast",
           612.3
          ],
          [
           "Other nonmalignant breast conditions",
           613
          ],
          [
           "Inflammatory disease of breast",
           613.1
          ],
          [
           "Mastodynia",
           613.5
          ],
          [
           "Other signs and symptoms in breast",
           613.7
          ],
          [
           "Other specified disorders of breast",
           613.8
          ],
          [
           "Breast disorder NOS",
           613.9
          ],
          [
           "Inflammatory diseases of female pelvic organs",
           614
          ],
          [
           "Pelvic peritoneal adhesions, female (postoperative) (postinfection)",
           614.1
          ],
          [
           "Pelvic inflammatory disease (PID)",
           614.3
          ],
          [
           "Acute inflammatory pelvic disease",
           614.31
          ],
          [
           "Chronic inflammatory pelvic disease",
           614.32
          ],
          [
           "Pelvic inflammatory disease, NOS",
           614.33
          ],
          [
           "Inflammatory diseases of uterus, except cervix",
           614.4
          ],
          [
           "Inflammatory disease of cervix, vagina, and vulva",
           614.5
          ],
          [
           "Cervicitis and endocervicitis",
           614.51
          ],
          [
           "Vaginitis and vulvovaginitis",
           614.52
          ],
          [
           "Cyst or abscess of Bartholin's gland",
           614.53
          ],
          [
           "Abscess or ulceration of vulva",
           614.54
          ],
          [
           "Endometriosis",
           615
          ],
          [
           "Disorders secondary to childbirth, surgery, trauma",
           617
          ],
          [
           "Genital prolapse",
           618
          ],
          [
           "Prolapse of vaginal walls",
           618.1
          ],
          [
           "Uterine/Uterovaginal prolapse",
           618.2
          ],
          [
           "Prolapse of vaginal vault after hysterectomy",
           618.5
          ],
          [
           "Vaginal enterocele, congenital or acquired",
           618.6
          ],
          [
           "Noninflammatory female genital disorders",
           619
          ],
          [
           "Noninflammatory disorders of ovary, fallopian tube, and broad ligament",
           619.1
          ],
          [
           "Disorders of uterus, NEC",
           619.2
          ],
          [
           "Noninflammatory disorders of cervix",
           619.3
          ],
          [
           "Noninflammatory disorders of vagina",
           619.4
          ],
          [
           "Noninflammatory disorders of vulva and perineum",
           619.5
          ],
          [
           "Dysplasia of female genital organs",
           620
          ],
          [
           "Dysplasia of cervix",
           620.1
          ],
          [
           "Polyp of female genital organs",
           622
          ],
          [
           "Polyp of corpus uteri",
           622.1
          ],
          [
           "Mucous polyp of cervix",
           622.2
          ],
          [
           "Symptoms involving female genital tract",
           624
          ],
          [
           "Dystrophy of female genital tract",
           624.1
          ],
          [
           "Atrophy of female genital tract",
           624.2
          ],
          [
           "stress incontinence, female",
           624.9
          ],
          [
           "Pain and other symptoms associated with female genital organs",
           625
          ],
          [
           "Dyspareunia",
           625.1
          ],
          [
           "Disorders of menstruation and other abnormal bleeding from female genital tract",
           626
          ],
          [
           "Irregular menstrual cycle/bleeding",
           626.1
          ],
          [
           "Absent or infrequent menstruation",
           626.11
          ],
          [
           "Excessive or frequent menstruation",
           626.12
          ],
          [
           "Irregular menstrual cycle",
           626.13
          ],
          [
           "Irregular menstrual bleeding",
           626.14
          ],
          [
           "Infertility, female, associated with anovulation",
           626.15
          ],
          [
           "Dysmenorrhea",
           626.2
          ],
          [
           "Mittelschmerz",
           626.21
          ],
          [
           "Premenstrual tension syndromes",
           626.4
          ],
          [
           "Infertility, female",
           626.8
          ],
          [
           "Menopausal and postmenopausal disorders",
           627
          ],
          [
           "Postmenopausal bleeding",
           627.1
          ],
          [
           "Symptomatic menopause",
           627.2
          ],
          [
           "Symptomatic artificial menopause",
           627.21
          ],
          [
           "Need for Hormone replacement therapy (postmenopausal)",
           627.22
          ],
          [
           "Postmenopausal atrophic vaginitis",
           627.3
          ],
          [
           "Premenopausal menorrhagia",
           627.4
          ],
          [
           "Premature menopause and other ovarian failure",
           627.5
          ],
          [
           "Ovarian cyst",
           628
          ]
         ],
         "hovertemplate": "<b>%{hovertext}</b><br><br>category=genitourinary<br>0=%{x}<br>1=%{y}<br>description=%{customdata[0]}<br>phecode=%{customdata[1]}<extra></extra>",
         "hovertext": [
          "Nephritis; nephrosis; renal sclerosis",
          "Glomerulonephritis",
          "Proliferative glomerulonephritis",
          "Non-proliferative glomerulonephritis",
          "Acute glomerulonephritis, NOS",
          "Chronic glomerulonephritis, NOS",
          "Nephrotic syndrome without mention of glomerulonephritis",
          "Nephritis and nephropathy without mention of glomerulonephritis",
          "Nephritis and nephropathy in diseases classified elsewhere",
          "Nephritis and nephropathy with pathological lesion",
          "Renal sclerosis, NOS",
          "Renal failure",
          "Acute renal failure",
          "Renal failure NOS",
          "Chronic renal failure [CKD]",
          "Renal dialysis",
          "End stage renal disease",
          "Chronic Kidney Disease, Stage III",
          "Chronic Kidney Disease, Stage IV",
          "Chronic kidney disease, Stage I or II",
          "Other disorders of the kidney and ureters",
          "Anatomical abnormatilies of kidney and ureters",
          "Small kidney",
          "Vesicoureteral reflux",
          "Cyst of kidney, acquired",
          "Vascular disorders of kidney/hypertrophy",
          "Stricture/obstruction of ureter",
          "Disorders resulting from impaired renal function",
          "Renal osteodystrophy",
          "Secondary hyperparathyroidism (of renal origin)",
          "Pyelonephritis",
          "Urinary tract infection",
          "Cystitis and urethritis",
          "Cystitis",
          "Acute cystitis",
          "Chronic cystitis",
          "Chronic interstitial cystitis",
          "Urethritis and urethral syndrome",
          "Urethral syndrome",
          "Urethral stricture due to infecton",
          "Hematuria",
          "Gross hematuria",
          "Urinary calculus",
          "Calculus of kidney",
          "Calculus of lower urinary tract",
          "Calculus of ureter",
          "Renal colic",
          "Hydronephrosis",
          "Other disorders of bladder",
          "Bladder neck obstruction",
          "Functional disorders of bladder",
          "Other disorders of urethra and urinary tract",
          "Urethral stricture (not specified as infectious)",
          "Urethral hypermobility/ISD",
          "Abnormal findings on examination of urine",
          "Other cells and casts in urine",
          "Other nonspecific findings on examination of urine",
          "Other symptoms/disorders or the urinary system",
          "Urinary obstruction",
          "Retention of urine",
          "Dysuria",
          "Urinary incontinence",
          "Frequency of urination and polyuria",
          "Oliguria and anuria",
          "Urethral discharge",
          "Other symptoms involving urinary system",
          "Other abnormality of urination",
          "Hyperplasia of prostate",
          "Inflammatory diseases of prostate",
          "Prostatitis",
          "Acute prostatitis",
          "Chronic prostatitis",
          "Orchitis and epididymitis",
          "Balanoposthitis",
          "Other inflammatory disorders of male genital organs",
          "Other disorders of prostate",
          "Dysplasia of prostate",
          "Other disorders of testis",
          "Hydrocele",
          "Spermatocele",
          "Disorders of penis",
          "Redundant prepuce and phimosis/BXO",
          "Vascular disorders of penis",
          "Peyronie's disease",
          "Erectile dysfunction [ED]",
          "Other disorders of male genital organs",
          "Male infertility and abnormal spermatozoa",
          "Infertility, male",
          "Azoospermia and oligospermia",
          "Abnormal spermatozoa",
          "Benign mammary dysplasias",
          "Cystic mastopathy",
          "Fibroadenosis of breast",
          "Fibrosclerosis of breast",
          "Benign neoplasm of breast",
          "Other specified benign mammary dysplasias",
          "Abnormal findings on mammogram or breast exam",
          "Abnormal mammogram",
          "Mammographic microcalcification",
          "Lump or mass in breast",
          "Breast conditions, congenital or relating to hormones",
          "Galactorrhea",
          "Hypertrophy of breast (Gynecomastia)",
          "Congenital anomalies of breast",
          "Other nonmalignant breast conditions",
          "Inflammatory disease of breast",
          "Mastodynia",
          "Other signs and symptoms in breast",
          "Other specified disorders of breast",
          "Breast disorder NOS",
          "Inflammatory diseases of female pelvic organs",
          "Pelvic peritoneal adhesions, female (postoperative) (postinfection)",
          "Pelvic inflammatory disease (PID)",
          "Acute inflammatory pelvic disease",
          "Chronic inflammatory pelvic disease",
          "Pelvic inflammatory disease, NOS",
          "Inflammatory diseases of uterus, except cervix",
          "Inflammatory disease of cervix, vagina, and vulva",
          "Cervicitis and endocervicitis",
          "Vaginitis and vulvovaginitis",
          "Cyst or abscess of Bartholin's gland",
          "Abscess or ulceration of vulva",
          "Endometriosis",
          "Disorders secondary to childbirth, surgery, trauma",
          "Genital prolapse",
          "Prolapse of vaginal walls",
          "Uterine/Uterovaginal prolapse",
          "Prolapse of vaginal vault after hysterectomy",
          "Vaginal enterocele, congenital or acquired",
          "Noninflammatory female genital disorders",
          "Noninflammatory disorders of ovary, fallopian tube, and broad ligament",
          "Disorders of uterus, NEC",
          "Noninflammatory disorders of cervix",
          "Noninflammatory disorders of vagina",
          "Noninflammatory disorders of vulva and perineum",
          "Dysplasia of female genital organs",
          "Dysplasia of cervix",
          "Polyp of female genital organs",
          "Polyp of corpus uteri",
          "Mucous polyp of cervix",
          "Symptoms involving female genital tract",
          "Dystrophy of female genital tract",
          "Atrophy of female genital tract",
          "stress incontinence, female",
          "Pain and other symptoms associated with female genital organs",
          "Dyspareunia",
          "Disorders of menstruation and other abnormal bleeding from female genital tract",
          "Irregular menstrual cycle/bleeding",
          "Absent or infrequent menstruation",
          "Excessive or frequent menstruation",
          "Irregular menstrual cycle",
          "Irregular menstrual bleeding",
          "Infertility, female, associated with anovulation",
          "Dysmenorrhea",
          "Mittelschmerz",
          "Premenstrual tension syndromes",
          "Infertility, female",
          "Menopausal and postmenopausal disorders",
          "Postmenopausal bleeding",
          "Symptomatic menopause",
          "Symptomatic artificial menopause",
          "Need for Hormone replacement therapy (postmenopausal)",
          "Postmenopausal atrophic vaginitis",
          "Premenopausal menorrhagia",
          "Premature menopause and other ovarian failure",
          "Ovarian cyst"
         ],
         "legendgroup": "genitourinary",
         "marker": {
          "color": "#EF553B",
          "symbol": "circle"
         },
         "mode": "markers",
         "name": "genitourinary",
         "opacity": 0.9,
         "showlegend": true,
         "type": "scattergl",
         "x": [
          -2.7811672687530518,
          -2.5532569885253906,
          8.016501426696777,
          7.795526027679443,
          8.824131965637207,
          9.943777084350586,
          9.103485107421875,
          19.150794982910156,
          9.770586013793945,
          9.012864112854004,
          9.048912048339844,
          10.4073486328125,
          8.681821823120117,
          10.98416519165039,
          9.351168632507324,
          9.240471839904785,
          9.398921012878418,
          -2.930995464324951,
          10.14357852935791,
          10.29099178314209,
          7.916418075561523,
          9.395331382751465,
          -1.737099528312683,
          8.22238540649414,
          7.851541042327881,
          10.371682167053223,
          8.567678451538086,
          11.080617904663086,
          13.151965141296387,
          -2.987950563430786,
          8.179838180541992,
          7.4843430519104,
          -3.86830997467041,
          7.774681568145752,
          -4.317473411560059,
          7.799335956573486,
          5.988718032836914,
          7.319082736968994,
          7.493646621704102,
          6.1880645751953125,
          7.996055603027344,
          -4.0427751541137695,
          7.209132194519043,
          7.210479736328125,
          6.904517650604248,
          -3.653146743774414,
          -3.6091039180755615,
          7.757594108581543,
          7.507104873657227,
          6.289688587188721,
          6.253640174865723,
          5.292016983032227,
          5.9310526847839355,
          -3.2104525566101074,
          15.811470031738281,
          -1.734284520149231,
          7.696491718292236,
          19.24651336669922,
          7.4172797203063965,
          6.094357967376709,
          7.067625999450684,
          6.326237201690674,
          6.611937046051025,
          6.68894100189209,
          -4.135191917419434,
          8.369086265563965,
          6.249362945556641,
          5.811058521270752,
          -4.1848039627075195,
          6.632596492767334,
          7.068415641784668,
          -4.4072675704956055,
          6.924548625946045,
          7.716976165771484,
          7.052887439727783,
          4.632357597351074,
          -3.502868175506592,
          5.387078762054443,
          5.723283290863037,
          4.507562160491943,
          6.418534278869629,
          4.825770378112793,
          -4.1063232421875,
          5.378661155700684,
          10.36989688873291,
          6.3401408195495605,
          -3.1202197074890137,
          4.781657695770264,
          4.667119979858398,
          8.018025398254395,
          -0.5797901749610901,
          6.562779426574707,
          -0.6804911494255066,
          -0.8302542567253113,
          5.940807342529297,
          6.322612762451172,
          -0.1104820966720581,
          -0.2660808861255646,
          -0.807137668132782,
          6.731911659240723,
          -0.05073663592338562,
          6.499668121337891,
          6.652793884277344,
          6.1726460456848145,
          -0.11358465254306793,
          6.328132152557373,
          6.868503093719482,
          6.626704216003418,
          -0.5332598090171814,
          -0.6501641273498535,
          6.689639091491699,
          -4.1651387214660645,
          6.959006309509277,
          -3.9173054695129395,
          -4.2719550132751465,
          6.764338970184326,
          -4.3165283203125,
          7.081486701965332,
          7.390458106994629,
          7.061864852905273,
          6.606706619262695,
          -3.694817543029785,
          4.253817558288574,
          8.709110260009766,
          -4.169966697692871,
          4.937454700469971,
          5.6037187576293945,
          -2.688300609588623,
          28.35932731628418,
          3.3375933170318604,
          3.623359203338623,
          4.516479015350342,
          13.164559364318848,
          4.024360656738281,
          -2.070267915725708,
          16.138097763061523,
          7.455470085144043,
          -3.687561273574829,
          3.6328513622283936,
          3.0862233638763428,
          6.425090312957764,
          -3.3753740787506104,
          -1.5415375232696533,
          6.352518081665039,
          6.3944172859191895,
          5.912572860717773,
          3.4069161415100098,
          3.0038158893585205,
          5.524816513061523,
          2.9521713256835938,
          3.3564915657043457,
          2.913999319076538,
          3.0964207649230957,
          6.808751106262207,
          4.565615177154541,
          18.132654190063477,
          4.986299514770508,
          -1.4401131868362427,
          -2.631359338760376,
          6.2786054611206055,
          -1.4932069778442383,
          -1.2299723625183105,
          7.695134162902832,
          -2.0196704864501953,
          5.1130805015563965,
          3.493243455886841
         ],
         "xaxis": "x",
         "y": [
          5.4540252685546875,
          5.116968631744385,
          8.905739784240723,
          8.796917915344238,
          5.3483991622924805,
          5.673640251159668,
          4.9845428466796875,
          8.31103515625,
          4.90615701675415,
          5.712240695953369,
          5.492738723754883,
          5.431086540222168,
          5.401001453399658,
          4.928649425506592,
          4.139784812927246,
          4.521035194396973,
          4.602103233337402,
          5.721858501434326,
          5.506164073944092,
          5.185945987701416,
          6.973415851593018,
          6.057850360870361,
          4.494965076446533,
          7.226609706878662,
          6.563002109527588,
          5.342478275299072,
          6.295881748199463,
          4.488637447357178,
          3.0918848514556885,
          4.419171333312988,
          6.999931812286377,
          9.978401184082031,
          6.128514766693115,
          9.378581047058105,
          6.213961601257324,
          9.548433303833008,
          7.987004280090332,
          11.042512893676758,
          9.6182222366333,
          8.644268035888672,
          7.355662822723389,
          6.131431579589844,
          7.533540725708008,
          7.521186351776123,
          7.985974311828613,
          5.530751705169678,
          5.649892330169678,
          7.603076934814453,
          7.959043979644775,
          8.920171737670898,
          7.370006561279297,
          9.891528129577637,
          8.915436744689941,
          7.286942958831787,
          2.484473466873169,
          2.589897394180298,
          6.917959213256836,
          6.304285526275635,
          9.756957054138184,
          8.512788772583008,
          10.180216789245605,
          7.703348636627197,
          7.563142776489258,
          1.2590152025222778,
          6.592929840087891,
          6.694240570068359,
          7.93563175201416,
          9.144532203674316,
          6.689320087432861,
          10.081045150756836,
          10.206036567687988,
          6.725252151489258,
          10.609016418457031,
          11.323328018188477,
          10.874184608459473,
          10.190635681152344,
          6.846036911010742,
          9.906427383422852,
          10.136792182922363,
          11.769023895263672,
          10.888838768005371,
          10.458081245422363,
          6.76492166519165,
          10.621268272399902,
          4.1869072914123535,
          10.345600128173828,
          7.461764335632324,
          13.629411697387695,
          13.58459758758545,
          7.89036750793457,
          8.342288970947266,
          15.523322105407715,
          6.457925796508789,
          6.504150867462158,
          16.02524185180664,
          15.591095924377441,
          8.48939037322998,
          8.350502967834473,
          7.936254024505615,
          15.744574546813965,
          8.16696548461914,
          15.675761222839355,
          14.632901191711426,
          15.9041748046875,
          8.53585433959961,
          15.878021240234375,
          15.083843231201172,
          15.381513595581055,
          8.228166580200195,
          8.112049102783203,
          12.12133502960205,
          7.6714677810668945,
          11.982185363769531,
          7.623093128204346,
          7.862480163574219,
          12.434267044067383,
          7.453975677490234,
          9.008362770080566,
          11.66071605682373,
          11.42800235748291,
          11.207602500915527,
          7.021649360656738,
          12.78128719329834,
          7.420688152313232,
          7.726212024688721,
          10.369879722595215,
          9.589653968811035,
          7.5047736167907715,
          -0.8044045567512512,
          12.874707221984863,
          13.087801933288574,
          11.402569770812988,
          16.86440086364746,
          13.392032623291016,
          7.186927795410156,
          13.156830787658691,
          13.065839767456055,
          7.055632591247559,
          14.287162780761719,
          13.4234037399292,
          11.557626724243164,
          6.79749059677124,
          6.82669734954834,
          8.17724895477295,
          11.191259384155273,
          10.833039283752441,
          14.322017669677734,
          14.468344688415527,
          14.711102485656738,
          14.70510482788086,
          14.675146102905273,
          14.351700782775879,
          14.385308265686035,
          12.489013671875,
          12.127294540405273,
          -4.888153076171875,
          12.379940032958984,
          7.465019226074219,
          7.774744510650635,
          13.766824722290039,
          5.81959867477417,
          6.308152675628662,
          10.796235084533691,
          5.862910747528076,
          14.530844688415527,
          12.933112144470215
         ],
         "yaxis": "y"
        },
        {
         "customdata": [
          [
           "Miscarriage; stillbirth",
           634
          ],
          [
           "Missed abortion/Hydatidiform mole",
           634.1
          ],
          [
           "Ectopic pregnancy",
           634.3
          ],
          [
           "Hemorrhage during pregnancy; childbirth and postpartum",
           635
          ],
          [
           "Antepartum hemorrhage, abruptio placentae, and placenta previa",
           635.2
          ],
          [
           "Placenta previa and abruptio placenta",
           635.3
          ],
          [
           "Early or threatened labor; hemorrhage in early pregnancy",
           636
          ],
          [
           "Threatened premature labor",
           636.1
          ],
          [
           "Early onset of delivery",
           636.2
          ],
          [
           "Hemorrhage in early pregnancy",
           636.3
          ],
          [
           "Cervical incompetence",
           636.8
          ],
          [
           "Short gestation; low birth weight; and fetal growth retardation",
           637
          ],
          [
           "Hypertension complicating pregnancy, childbirth, and the puerperium",
           642
          ],
          [
           "Preeclampsia and eclampsia",
           642.1
          ],
          [
           "Excessive vomiting in pregnancy",
           643
          ],
          [
           "Hyperemesis gravidarum",
           643.1
          ],
          [
           "Other complications of pregnancy NEC",
           646
          ],
          [
           "Infectious and parasitic complications affecting pregnancy",
           647
          ],
          [
           "Major puerperal infection",
           647.3
          ],
          [
           "Other conditions or status of the mother complicating pregnancy, childbirth, or the puerperium",
           649
          ],
          [
           "Diabetes or abnormal glucose tolerance complicating pregnancy",
           649.1
          ],
          [
           "Multiple gestation",
           651
          ],
          [
           "Malposition and malpresentation of fetus or obstruction",
           652
          ],
          [
           "Problems associated with amniotic cavity and membranes",
           653
          ],
          [
           "Known or suspected fetal abnormality affecting management of mother",
           655
          ],
          [
           "Abnormality in fetal heart rate or rhythm",
           655.1
          ],
          [
           "Other perinatal conditions of fetus or newborn",
           656
          ],
          [
           "Isoimmunization of fetus or newborn",
           656.1
          ],
          [
           "Respiratory conditions of fetus and newborn",
           656.2
          ],
          [
           "Interstitial emphysema and related conditions of newborn",
           656.22
          ],
          [
           "Transitory tachypnea or apnea of newborn",
           656.26
          ],
          [
           "Endocrine and metabolic disturbances of fetus and newborn",
           656.3
          ],
          [
           "Hemorrhage of fetus or newborn",
           656.4
          ],
          [
           "Hematological disorders of newborn",
           656.5
          ],
          [
           "Perinatal disorders of digestive system",
           656.6
          ],
          [
           "Conditions involving the integument and temperature regulation of fetus and newborn",
           656.7
          ],
          [
           "Perinatal jaundice",
           656.8
          ],
          [
           "Neonatal bradycardia or tachycardia",
           656.9
          ],
          [
           "Infections specific to the perinatal period",
           657
          ],
          [
           "Maternal complication of pregnancy affecting fetus or newborn",
           658
          ],
          [
           "Fetal distress and abnormal forces of labor",
           661
          ],
          [
           "Umbilical cord complications during labor and delivery",
           663
          ],
          [
           "Obstetrical/birth trauma",
           665
          ],
          [
           "Complications of the administration of anesthetic or other sedation in labor and delivery",
           668
          ],
          [
           "Complications of labor and delivery NEC",
           669
          ],
          [
           "Venous/cerebrovascular complications embolism in pregnancy and the puerperium",
           671
          ],
          [
           "Other complications of the puerperium NEC",
           674
          ],
          [
           "Other disorders of the breast associated with childbirth and disorders of lactation",
           676
          ],
          [
           "Complications of in utero procedures",
           679
          ]
         ],
         "hovertemplate": "<b>%{hovertext}</b><br><br>category=pregnancy complications<br>0=%{x}<br>1=%{y}<br>description=%{customdata[0]}<br>phecode=%{customdata[1]}<extra></extra>",
         "hovertext": [
          "Miscarriage; stillbirth",
          "Missed abortion/Hydatidiform mole",
          "Ectopic pregnancy",
          "Hemorrhage during pregnancy; childbirth and postpartum",
          "Antepartum hemorrhage, abruptio placentae, and placenta previa",
          "Placenta previa and abruptio placenta",
          "Early or threatened labor; hemorrhage in early pregnancy",
          "Threatened premature labor",
          "Early onset of delivery",
          "Hemorrhage in early pregnancy",
          "Cervical incompetence",
          "Short gestation; low birth weight; and fetal growth retardation",
          "Hypertension complicating pregnancy, childbirth, and the puerperium",
          "Preeclampsia and eclampsia",
          "Excessive vomiting in pregnancy",
          "Hyperemesis gravidarum",
          "Other complications of pregnancy NEC",
          "Infectious and parasitic complications affecting pregnancy",
          "Major puerperal infection",
          "Other conditions or status of the mother complicating pregnancy, childbirth, or the puerperium",
          "Diabetes or abnormal glucose tolerance complicating pregnancy",
          "Multiple gestation",
          "Malposition and malpresentation of fetus or obstruction",
          "Problems associated with amniotic cavity and membranes",
          "Known or suspected fetal abnormality affecting management of mother",
          "Abnormality in fetal heart rate or rhythm",
          "Other perinatal conditions of fetus or newborn",
          "Isoimmunization of fetus or newborn",
          "Respiratory conditions of fetus and newborn",
          "Interstitial emphysema and related conditions of newborn",
          "Transitory tachypnea or apnea of newborn",
          "Endocrine and metabolic disturbances of fetus and newborn",
          "Hemorrhage of fetus or newborn",
          "Hematological disorders of newborn",
          "Perinatal disorders of digestive system",
          "Conditions involving the integument and temperature regulation of fetus and newborn",
          "Perinatal jaundice",
          "Neonatal bradycardia or tachycardia",
          "Infections specific to the perinatal period",
          "Maternal complication of pregnancy affecting fetus or newborn",
          "Fetal distress and abnormal forces of labor",
          "Umbilical cord complications during labor and delivery",
          "Obstetrical/birth trauma",
          "Complications of the administration of anesthetic or other sedation in labor and delivery",
          "Complications of labor and delivery NEC",
          "Venous/cerebrovascular complications embolism in pregnancy and the puerperium",
          "Other complications of the puerperium NEC",
          "Other disorders of the breast associated with childbirth and disorders of lactation",
          "Complications of in utero procedures"
         ],
         "legendgroup": "pregnancy complications",
         "marker": {
          "color": "#00cc96",
          "symbol": "circle"
         },
         "mode": "markers",
         "name": "pregnancy complications",
         "opacity": 0.9,
         "showlegend": true,
         "type": "scattergl",
         "x": [
          13.486324310302734,
          2.972416400909424,
          5.254363059997559,
          16.218103408813477,
          14.045599937438965,
          15.508070945739746,
          14.447625160217285,
          -2.2650961875915527,
          14.818925857543945,
          13.707310676574707,
          13.553389549255371,
          14.305869102478027,
          -10.332717895507812,
          16.137901306152344,
          13.788442611694336,
          13.934796333312988,
          15.185564041137695,
          -10.273713111877441,
          9.155518531799316,
          13.64354419708252,
          16.278125762939453,
          14.755453109741211,
          14.864216804504395,
          15.127488136291504,
          14.7742338180542,
          -2.1938846111297607,
          16.121562957763672,
          16.708763122558594,
          15.706258773803711,
          -2.409794569015503,
          15.979833602905273,
          16.455026626586914,
          16.297975540161133,
          16.376285552978516,
          6.185848712921143,
          16.183012008666992,
          12.69994068145752,
          14.680272102355957,
          9.399028778076172,
          16.015405654907227,
          15.583650588989258,
          15.181012153625488,
          -6.049516677856445,
          -10.114936828613281,
          14.660816192626953,
          15.182807922363281,
          20.72796058654785,
          -10.279077529907227,
          -10.5209379196167
         ],
         "xaxis": "x",
         "y": [
          16.90544891357422,
          14.595048904418945,
          12.123963356018066,
          16.224899291992188,
          16.89796257019043,
          16.417678833007812,
          16.745105743408203,
          8.902826309204102,
          16.77797508239746,
          16.88875389099121,
          17.049602508544922,
          16.711416244506836,
          12.527345657348633,
          16.696626663208008,
          4.160994529724121,
          4.194096565246582,
          14.696826934814453,
          12.421345710754395,
          9.841288566589355,
          -5.166638374328613,
          17.068145751953125,
          17.0488224029541,
          16.182065963745117,
          16.775915145874023,
          16.3299617767334,
          8.286474227905273,
          16.6626033782959,
          15.462849617004395,
          15.542885780334473,
          9.03895092010498,
          15.437203407287598,
          17.131025314331055,
          16.474496841430664,
          15.680853843688965,
          -0.8003311157226562,
          16.022680282592773,
          -5.2723917961120605,
          17.08292579650879,
          12.233772277832031,
          16.939685821533203,
          15.199609756469727,
          16.99940299987793,
          2.8244993686676025,
          12.626983642578125,
          16.405176162719727,
          16.14863395690918,
          8.299494743347168,
          12.42958927154541,
          12.617289543151855
         ],
         "yaxis": "y"
        },
        {
         "customdata": [
          [
           "Superficial cellulitis and abscess",
           681
          ],
          [
           "Cellulitis and abscess of fingers/toes",
           681.1
          ],
          [
           "Cellulitis and abscess of face/neck",
           681.2
          ],
          [
           "Cellulitis and abscess of arm/hand",
           681.3
          ],
          [
           "Cellulitis and abscess of leg, except foot",
           681.5
          ],
          [
           "Cellulitis and abscess of foot, toe",
           681.6
          ],
          [
           "Cellulitis and abscess of trunk",
           681.7
          ],
          [
           "Other local infections of skin and subcutaneous tissue",
           686
          ],
          [
           "Carbuncle and furuncle",
           686.1
          ],
          [
           "Impetigo",
           686.2
          ],
          [
           "Pilonidal cyst",
           686.3
          ],
          [
           "Pyogenic granuloma",
           686.4
          ],
          [
           "Pyoderma",
           686.5
          ],
          [
           "Symptoms affecting skin",
           687
          ],
          [
           "Rash and other nonspecific skin eruption",
           687.1
          ],
          [
           "Localized superficial swelling, mass, or lump",
           687.2
          ],
          [
           "Changes in skin texture",
           687.3
          ],
          [
           "Disorder of skin and subcutaneous tissue NOS",
           689
          ],
          [
           "Erythematosquamous dermatosis",
           690
          ],
          [
           "Seborrheic dermatitis",
           690.1
          ],
          [
           "Congenital anomalies of skin",
           691
          ],
          [
           "Ichthyosis congenita",
           691.1
          ],
          [
           "Congenital pigmentary anomalies of skin",
           691.3
          ],
          [
           "Dyschromia and Vitiligo",
           694
          ],
          [
           "Vitiligo",
           694.1
          ],
          [
           "Other dyschromia",
           694.2
          ],
          [
           "Vascular disorders of skin",
           694.3
          ],
          [
           "Erythematous conditions",
           695
          ],
          [
           "Toxic erythema",
           695.1
          ],
          [
           "Bullous dermatoses",
           695.2
          ],
          [
           "Dermatitis herpetiformis",
           695.21
          ],
          [
           "Pemphigus and pemphigoid",
           695.22
          ],
          [
           "Rosacea",
           695.3
          ],
          [
           "Lupus (localized and systemic)",
           695.4
          ],
          [
           "Cutaneous lupus erythematosus",
           695.41
          ],
          [
           "Systemic lupus erythematosus",
           695.42
          ],
          [
           "Prurigo and Lichen",
           695.7
          ],
          [
           "Other specified erythematous conditions",
           695.8
          ],
          [
           "Erythema nodosum",
           695.81
          ],
          [
           "Unspecified erythematous condition",
           695.9
          ],
          [
           "Psoriasis and related disorders",
           696
          ],
          [
           "Parapsoriasis",
           696.2
          ],
          [
           "Pityriasis",
           696.3
          ],
          [
           "Psoriasis",
           696.4
          ],
          [
           "Psoriasis vulgaris",
           696.41
          ],
          [
           "Psoriatic arthropathy",
           696.42
          ],
          [
           "Sarcoidosis",
           697
          ],
          [
           "Pruritus and related conditions",
           698
          ],
          [
           "Corns and callosities",
           700
          ],
          [
           "Other hypertrophic and atrophic conditions of skin",
           701
          ],
          [
           "Keratoderma, acquired",
           701.1
          ],
          [
           "Scar conditions and fibrosis of skin",
           701.2
          ],
          [
           "Circumscribed scleroderma",
           701.3
          ],
          [
           "Keloid scar",
           701.4
          ],
          [
           "Abnormal granulation tissue",
           701.5
          ],
          [
           "Acquired acanthosis nigricans",
           701.6
          ],
          [
           "Degenerative skin conditions and other dermatoses",
           702
          ],
          [
           "Actinic keratosis",
           702.1
          ],
          [
           "Seborrheic keratosis",
           702.2
          ],
          [
           "Degenerative skin disorders",
           702.4
          ],
          [
           "Diseases of nail, NOS",
           703
          ],
          [
           "Ingrowing nail",
           703.1
          ],
          [
           "Diseases of hair and hair follicles",
           704
          ],
          [
           "Alopecia",
           704.1
          ],
          [
           "Alopecia Areata",
           704.11
          ],
          [
           "Telogen effluvium",
           704.12
          ],
          [
           "Hirsutism",
           704.2
          ],
          [
           "Other specified diseases of hair and hair follicles",
           704.8
          ],
          [
           "Disorders of sweat glands",
           705
          ],
          [
           "Dyshidrosis",
           705.1
          ],
          [
           "Hidradenitis",
           705.3
          ],
          [
           "Hyperhidrosis",
           705.8
          ],
          [
           "Diseases of sebaceous glands",
           706
          ],
          [
           "Acne",
           706.1
          ],
          [
           "Sebaceous cyst",
           706.2
          ],
          [
           "Seborrhea",
           706.3
          ],
          [
           "Other specified diseases of sebaceous glands",
           706.8
          ],
          [
           "Chronic ulcer of skin",
           707
          ],
          [
           "Decubitus ulcer",
           707.1
          ],
          [
           "Chronic ulcer of leg or foot",
           707.2
          ],
          [
           "Chronic ulcer of unspecified site",
           707.3
          ],
          [
           "Diffuse diseases of connective tissue",
           709
          ],
          [
           "Sicca syndrome",
           709.2
          ],
          [
           "Systemic sclerosis",
           709.3
          ],
          [
           "Polymyositis",
           709.4
          ],
          [
           "Dermatomyositis",
           709.5
          ],
          [
           "Other specified diffuse diseases of connective tissue",
           709.6
          ],
          [
           "Unspecified diffuse connective tissue disease",
           709.7
          ]
         ],
         "hovertemplate": "<b>%{hovertext}</b><br><br>category=dermatologic<br>0=%{x}<br>1=%{y}<br>description=%{customdata[0]}<br>phecode=%{customdata[1]}<extra></extra>",
         "hovertext": [
          "Superficial cellulitis and abscess",
          "Cellulitis and abscess of fingers/toes",
          "Cellulitis and abscess of face/neck",
          "Cellulitis and abscess of arm/hand",
          "Cellulitis and abscess of leg, except foot",
          "Cellulitis and abscess of foot, toe",
          "Cellulitis and abscess of trunk",
          "Other local infections of skin and subcutaneous tissue",
          "Carbuncle and furuncle",
          "Impetigo",
          "Pilonidal cyst",
          "Pyogenic granuloma",
          "Pyoderma",
          "Symptoms affecting skin",
          "Rash and other nonspecific skin eruption",
          "Localized superficial swelling, mass, or lump",
          "Changes in skin texture",
          "Disorder of skin and subcutaneous tissue NOS",
          "Erythematosquamous dermatosis",
          "Seborrheic dermatitis",
          "Congenital anomalies of skin",
          "Ichthyosis congenita",
          "Congenital pigmentary anomalies of skin",
          "Dyschromia and Vitiligo",
          "Vitiligo",
          "Other dyschromia",
          "Vascular disorders of skin",
          "Erythematous conditions",
          "Toxic erythema",
          "Bullous dermatoses",
          "Dermatitis herpetiformis",
          "Pemphigus and pemphigoid",
          "Rosacea",
          "Lupus (localized and systemic)",
          "Cutaneous lupus erythematosus",
          "Systemic lupus erythematosus",
          "Prurigo and Lichen",
          "Other specified erythematous conditions",
          "Erythema nodosum",
          "Unspecified erythematous condition",
          "Psoriasis and related disorders",
          "Parapsoriasis",
          "Pityriasis",
          "Psoriasis",
          "Psoriasis vulgaris",
          "Psoriatic arthropathy",
          "Sarcoidosis",
          "Pruritus and related conditions",
          "Corns and callosities",
          "Other hypertrophic and atrophic conditions of skin",
          "Keratoderma, acquired",
          "Scar conditions and fibrosis of skin",
          "Circumscribed scleroderma",
          "Keloid scar",
          "Abnormal granulation tissue",
          "Acquired acanthosis nigricans",
          "Degenerative skin conditions and other dermatoses",
          "Actinic keratosis",
          "Seborrheic keratosis",
          "Degenerative skin disorders",
          "Diseases of nail, NOS",
          "Ingrowing nail",
          "Diseases of hair and hair follicles",
          "Alopecia",
          "Alopecia Areata",
          "Telogen effluvium",
          "Hirsutism",
          "Other specified diseases of hair and hair follicles",
          "Disorders of sweat glands",
          "Dyshidrosis",
          "Hidradenitis",
          "Hyperhidrosis",
          "Diseases of sebaceous glands",
          "Acne",
          "Sebaceous cyst",
          "Seborrhea",
          "Other specified diseases of sebaceous glands",
          "Chronic ulcer of skin",
          "Decubitus ulcer",
          "Chronic ulcer of leg or foot",
          "Chronic ulcer of unspecified site",
          "Diffuse diseases of connective tissue",
          "Sicca syndrome",
          "Systemic sclerosis",
          "Polymyositis",
          "Dermatomyositis",
          "Other specified diffuse diseases of connective tissue",
          "Unspecified diffuse connective tissue disease"
         ],
         "legendgroup": "dermatologic",
         "marker": {
          "color": "#ab63fa",
          "symbol": "circle"
         },
         "mode": "markers",
         "name": "dermatologic",
         "opacity": 0.9,
         "showlegend": true,
         "type": "scattergl",
         "x": [
          10.534306526184082,
          10.318546295166016,
          8.11868953704834,
          3.689218521118164,
          3.7375030517578125,
          3.5746450424194336,
          3.2177460193634033,
          10.330636978149414,
          10.48186206817627,
          11.034598350524902,
          9.309326171875,
          6.268489837646484,
          12.23957633972168,
          6.002769470214844,
          10.540197372436523,
          6.294784069061279,
          10.809688568115234,
          12.827187538146973,
          11.387271881103516,
          10.669370651245117,
          5.49965238571167,
          5.158840179443359,
          8.470487594604492,
          0.7723044157028198,
          5.1333723068237305,
          4.665829181671143,
          0.894043505191803,
          11.064401626586914,
          11.08973503112793,
          3.9629530906677246,
          10.39013385772705,
          11.533686637878418,
          5.77177619934082,
          12.568999290466309,
          12.052604675292969,
          13.83425235748291,
          10.312082290649414,
          11.017651557922363,
          10.672417640686035,
          12.427478790283203,
          1.3983978033065796,
          12.180780410766602,
          8.690786361694336,
          11.228649139404297,
          10.876036643981934,
          12.445195198059082,
          9.594443321228027,
          12.278005599975586,
          16.417633056640625,
          4.045518398284912,
          4.922867298126221,
          4.627810955047607,
          4.6358208656311035,
          6.180453300476074,
          0.7064008712768555,
          8.215824127197266,
          4.803349018096924,
          4.480774402618408,
          9.791814804077148,
          16.989906311035156,
          10.51542854309082,
          10.510466575622559,
          9.581398010253906,
          5.375560760498047,
          5.758615493774414,
          8.507436752319336,
          5.929324150085449,
          9.72874927520752,
          11.367720603942871,
          10.24963665008545,
          10.164179801940918,
          19.239704132080078,
          0.989165186882019,
          9.219100952148438,
          4.744744777679443,
          1.358874797821045,
          10.76120376586914,
          -6.415676116943359,
          10.68155288696289,
          -5.863511085510254,
          10.57601547241211,
          0.9791989922523499,
          14.364809036254883,
          17.651531219482422,
          14.495505332946777,
          13.395435333251953,
          14.196895599365234,
          13.925572395324707
         ],
         "xaxis": "x",
         "y": [
          9.683547973632812,
          10.71063232421875,
          3.3630905151367188,
          1.4049525260925293,
          1.4964838027954102,
          1.2145967483520508,
          1.2404648065567017,
          9.962684631347656,
          9.643688201904297,
          9.57317066192627,
          15.239633560180664,
          -2.2014718055725098,
          8.417252540588379,
          -2.264991044998169,
          11.047377586364746,
          -1.9027751684188843,
          9.122977256774902,
          9.568743705749512,
          9.488853454589844,
          7.938923358917236,
          6.065187931060791,
          6.234871864318848,
          -3.757774591445923,
          6.693044662475586,
          6.387049674987793,
          6.573681831359863,
          5.06998872756958,
          8.43450927734375,
          11.158912658691406,
          1.9657983779907227,
          8.452322959899902,
          8.138822555541992,
          -1.8042349815368652,
          8.521329879760742,
          8.152135848999023,
          9.453069686889648,
          8.04333209991455,
          8.966848373413086,
          11.448039054870605,
          9.256973266601562,
          5.918034553527832,
          8.851486206054688,
          11.291632652282715,
          7.5417799949646,
          7.510291576385498,
          0.7243759036064148,
          -1.7998087406158447,
          9.257566452026367,
          4.044861793518066,
          8.081470489501953,
          6.053988456726074,
          6.271012783050537,
          7.166718482971191,
          -1.9474281072616577,
          5.983534812927246,
          13.207574844360352,
          6.750914096832275,
          6.625313758850098,
          8.035317420959473,
          4.214989185333252,
          7.917750835418701,
          0.8886558413505554,
          8.156933784484863,
          7.5244059562683105,
          -2.156571626663208,
          15.781148910522461,
          14.513642311096191,
          8.136300086975098,
          7.760444164276123,
          8.015420913696289,
          8.239920616149902,
          11.456786155700684,
          6.340054512023926,
          8.104145050048828,
          7.539660453796387,
          5.738330841064453,
          8.632084846496582,
          4.603416442871094,
          1.1981678009033203,
          4.619368553161621,
          1.9043563604354858,
          3.257471799850464,
          10.408109664916992,
          6.072414398193359,
          10.508634567260742,
          9.09001350402832,
          10.289480209350586,
          9.653951644897461
         ],
         "yaxis": "y"
        },
        {
         "customdata": [
          [
           "Osteomyelitis, periostitis, and other infections involving bone",
           710
          ],
          [
           "Osteomyelitis",
           710.1
          ],
          [
           "Acute osteomyelitis",
           710.11
          ],
          [
           "Chronic osteomyelitis",
           710.12
          ],
          [
           "Unspecified osteomyelitis",
           710.19
          ],
          [
           "Periostitis",
           710.2
          ],
          [
           "Osteopathy resulting from poliomyelitis",
           710.3
          ],
          [
           "Arthropathy associated with infections",
           711
          ],
          [
           "Pyogenic arthritis",
           711.1
          ],
          [
           "Reiter's disease",
           711.2
          ],
          [
           "Behcet's syndrome",
           711.3
          ],
          [
           "Infective connective tissue disorders",
           712
          ],
          [
           "Arthropathy associated with other disorders classified elsewhere",
           713
          ],
          [
           "Arthropathy associated with neurological disorders",
           713.5
          ],
          [
           "Rheumatoid arthritis and other inflammatory polyarthropathies",
           714
          ],
          [
           "Rheumatoid arthritis",
           714.1
          ],
          [
           "Juvenile rheumatoid arthritis",
           714.2
          ],
          [
           "Other inflammatory spondylopathies",
           715
          ],
          [
           "Sacroiliitis NEC",
           715.1
          ],
          [
           "Ankylosing spondylitis",
           715.2
          ],
          [
           "Spinal enthesopathy",
           715.3
          ],
          [
           "Other arthropathies",
           716
          ],
          [
           "Unspecified polyarthropathy or polyarthritis",
           716.1
          ],
          [
           "Unspecified monoarthritis",
           716.2
          ],
          [
           "Kaschin-Beck disease",
           716.3
          ],
          [
           "Palindromic rheumatism",
           716.8
          ],
          [
           "Arthropathy NOS",
           716.9
          ],
          [
           "Polymyalgia Rheumatica",
           717
          ],
          [
           "Spinal stenosis",
           720
          ],
          [
           "Spinal stenosis of lumbar region",
           720.1
          ],
          [
           "Spondylosis and allied disorders",
           721
          ],
          [
           "Spondylosis without myelopathy",
           721.1
          ],
          [
           "Spondylosis with myelopathy",
           721.2
          ],
          [
           "Other allied disorders of spine",
           721.8
          ],
          [
           "Intervertebral disc disorders",
           722
          ],
          [
           "Displacement of intervertebral disc",
           722.1
          ],
          [
           "Schmorl's nodes",
           722.3
          ],
          [
           "Degeneration of intervertebral disc",
           722.6
          ],
          [
           "Intervertebral disc disorder with myelopathy",
           722.7
          ],
          [
           "Postlaminectomy syndrome",
           722.8
          ],
          [
           "Other and unspecified disc disorder",
           722.9
          ],
          [
           "Other disorders of cervical region",
           723
          ],
          [
           "Torticollis",
           723.1
          ],
          [
           "Other and unspecified disorders of back",
           724
          ],
          [
           "Disorders of sacrum",
           724.1
          ],
          [
           "Disorders of coccyx",
           724.2
          ],
          [
           "Other symptoms referable to back",
           724.8
          ],
          [
           "Other unspecified back disorders",
           724.9
          ],
          [
           "Peripheral enthesopathies and allied syndromes",
           726
          ],
          [
           "Enthesopathy",
           726.1
          ],
          [
           "Synoviopathy",
           726.2
          ],
          [
           "Bursitis",
           726.3
          ],
          [
           "Calcaneal spur; Exostosis NOS",
           726.4
          ],
          [
           "Other disorders of synovium, tendon, and bursa",
           727
          ],
          [
           "Synovitis and tenosynovitis",
           727.1
          ],
          [
           "Bursitis disorders",
           727.2
          ],
          [
           "Ganglion and cyst of synovium, tendon, and bursa",
           727.4
          ],
          [
           "Rupture of synovium",
           727.5
          ],
          [
           "Rupture of tendon, nontraumatic",
           727.6
          ],
          [
           "Contracture of tendon (sheath)",
           727.7
          ],
          [
           "Plica syndrome",
           727.8
          ],
          [
           "Disorders of muscle, ligament, and fascia",
           728
          ],
          [
           "Fasciitis",
           728.7
          ],
          [
           "Contracture of palmar fascia [Dupuytren's disease]",
           728.71
          ],
          [
           "Other disorders of soft tissues",
           729
          ],
          [
           "Rheumatism, unspecified and fibrositis",
           729.1
          ],
          [
           "Panniculitis",
           729.3
          ],
          [
           "Nontraumatic compartment syndrome",
           729.7
          ],
          [
           "Osteitis deformans and osteopathies associated with other disorders classified elsewhere",
           731
          ],
          [
           "Osteitis deformans [Paget's disease of bone]",
           731.1
          ],
          [
           "Osteochondropathies",
           732
          ],
          [
           "Juvenile osteochondrosis",
           732.1
          ],
          [
           "Osteochondritis dissecans",
           732.7
          ],
          [
           "Other disorders of bone and cartilage",
           733
          ],
          [
           "Cyst of bone",
           733.2
          ],
          [
           "Aseptic necrosis of bone",
           733.4
          ],
          [
           "Acquired foot deformities",
           735
          ],
          [
           "Flat foot",
           735.1
          ],
          [
           "Acquired toe deformities",
           735.2
          ],
          [
           "Hammer toe (acquired)",
           735.21
          ],
          [
           "Claw toe (acquired)",
           735.22
          ],
          [
           "Hallux rigidus",
           735.23
          ],
          [
           "Hallux valgus (Bunion)",
           735.3
          ],
          [
           "Other acquired deformities of limbs",
           736
          ],
          [
           "Acquired deformities of forearm",
           736.1
          ],
          [
           "Acquired deformities of finger",
           736.2
          ],
          [
           "Acquired deformities of hip",
           736.3
          ],
          [
           "Genu valgum or varum (acquired)",
           736.4
          ],
          [
           "Acquired deformities of knee",
           736.5
          ],
          [
           "Unequal leg length (acquired)",
           736.6
          ],
          [
           "Curvature of spine",
           737
          ],
          [
           "Kyphosis (acquired)",
           737.1
          ],
          [
           "Lordosis (acquired)",
           737.2
          ],
          [
           "Kyphoscoliosis and scoliosis",
           737.3
          ],
          [
           "Other acquired musculoskeletal deformity",
           738
          ],
          [
           "Acquired spondylolisthesis",
           738.4
          ],
          [
           "Osteoarthrosis",
           740
          ],
          [
           "Osteoarthritis; localized",
           740.1
          ],
          [
           "Osteoarthrosis, localized, primary",
           740.11
          ],
          [
           "Osteoarthrosis, localized, secondary",
           740.12
          ],
          [
           "Osteoarthrosis, generalized",
           740.2
          ],
          [
           "Osteoarthrosis involving more than one site, but not specified as generalized",
           740.3
          ],
          [
           "Osteoarthrosis NOS",
           740.9
          ],
          [
           "Symptoms and disorders of the joints",
           741
          ],
          [
           "Ankylosis of joint",
           741.1
          ],
          [
           "Stiffness of joint",
           741.2
          ],
          [
           "Difficulty in walking",
           741.3
          ],
          [
           "Joint effusions",
           741.4
          ],
          [
           "Hemarthrosis",
           741.5
          ],
          [
           "Villonodular synovitis",
           741.6
          ],
          [
           "Derangement of joint, non-traumatic",
           742
          ],
          [
           "Loose body in joint",
           742.1
          ],
          [
           "Pathological, developmental or recurrent dislocation",
           742.2
          ],
          [
           "Articular cartilage disorder",
           742.8
          ],
          [
           "Other derangement of joint",
           742.9
          ],
          [
           "Osteoporosis, osteopenia and pathological fracture",
           743
          ],
          [
           "Osteoporosis",
           743.1
          ],
          [
           "Osteoporosis NOS",
           743.11
          ],
          [
           "Senile osteoporosis",
           743.12
          ],
          [
           "Other specified osteoporosis",
           743.13
          ],
          [
           "Pathologic fracture",
           743.2
          ],
          [
           "Pathologic fracture of vertebrae",
           743.21
          ],
          [
           "Pathologic fracture of femur",
           743.22
          ],
          [
           "Stress fracture",
           743.4
          ],
          [
           "Osteopenia or other disorder of bone and cartilage",
           743.9
          ],
          [
           "Pain in joint",
           745
          ]
         ],
         "hovertemplate": "<b>%{hovertext}</b><br><br>category=musculoskeletal<br>0=%{x}<br>1=%{y}<br>description=%{customdata[0]}<br>phecode=%{customdata[1]}<extra></extra>",
         "hovertext": [
          "Osteomyelitis, periostitis, and other infections involving bone",
          "Osteomyelitis",
          "Acute osteomyelitis",
          "Chronic osteomyelitis",
          "Unspecified osteomyelitis",
          "Periostitis",
          "Osteopathy resulting from poliomyelitis",
          "Arthropathy associated with infections",
          "Pyogenic arthritis",
          "Reiter's disease",
          "Behcet's syndrome",
          "Infective connective tissue disorders",
          "Arthropathy associated with other disorders classified elsewhere",
          "Arthropathy associated with neurological disorders",
          "Rheumatoid arthritis and other inflammatory polyarthropathies",
          "Rheumatoid arthritis",
          "Juvenile rheumatoid arthritis",
          "Other inflammatory spondylopathies",
          "Sacroiliitis NEC",
          "Ankylosing spondylitis",
          "Spinal enthesopathy",
          "Other arthropathies",
          "Unspecified polyarthropathy or polyarthritis",
          "Unspecified monoarthritis",
          "Kaschin-Beck disease",
          "Palindromic rheumatism",
          "Arthropathy NOS",
          "Polymyalgia Rheumatica",
          "Spinal stenosis",
          "Spinal stenosis of lumbar region",
          "Spondylosis and allied disorders",
          "Spondylosis without myelopathy",
          "Spondylosis with myelopathy",
          "Other allied disorders of spine",
          "Intervertebral disc disorders",
          "Displacement of intervertebral disc",
          "Schmorl's nodes",
          "Degeneration of intervertebral disc",
          "Intervertebral disc disorder with myelopathy",
          "Postlaminectomy syndrome",
          "Other and unspecified disc disorder",
          "Other disorders of cervical region",
          "Torticollis",
          "Other and unspecified disorders of back",
          "Disorders of sacrum",
          "Disorders of coccyx",
          "Other symptoms referable to back",
          "Other unspecified back disorders",
          "Peripheral enthesopathies and allied syndromes",
          "Enthesopathy",
          "Synoviopathy",
          "Bursitis",
          "Calcaneal spur; Exostosis NOS",
          "Other disorders of synovium, tendon, and bursa",
          "Synovitis and tenosynovitis",
          "Bursitis disorders",
          "Ganglion and cyst of synovium, tendon, and bursa",
          "Rupture of synovium",
          "Rupture of tendon, nontraumatic",
          "Contracture of tendon (sheath)",
          "Plica syndrome",
          "Disorders of muscle, ligament, and fascia",
          "Fasciitis",
          "Contracture of palmar fascia [Dupuytren's disease]",
          "Other disorders of soft tissues",
          "Rheumatism, unspecified and fibrositis",
          "Panniculitis",
          "Nontraumatic compartment syndrome",
          "Osteitis deformans and osteopathies associated with other disorders classified elsewhere",
          "Osteitis deformans [Paget's disease of bone]",
          "Osteochondropathies",
          "Juvenile osteochondrosis",
          "Osteochondritis dissecans",
          "Other disorders of bone and cartilage",
          "Cyst of bone",
          "Aseptic necrosis of bone",
          "Acquired foot deformities",
          "Flat foot",
          "Acquired toe deformities",
          "Hammer toe (acquired)",
          "Claw toe (acquired)",
          "Hallux rigidus",
          "Hallux valgus (Bunion)",
          "Other acquired deformities of limbs",
          "Acquired deformities of forearm",
          "Acquired deformities of finger",
          "Acquired deformities of hip",
          "Genu valgum or varum (acquired)",
          "Acquired deformities of knee",
          "Unequal leg length (acquired)",
          "Curvature of spine",
          "Kyphosis (acquired)",
          "Lordosis (acquired)",
          "Kyphoscoliosis and scoliosis",
          "Other acquired musculoskeletal deformity",
          "Acquired spondylolisthesis",
          "Osteoarthrosis",
          "Osteoarthritis; localized",
          "Osteoarthrosis, localized, primary",
          "Osteoarthrosis, localized, secondary",
          "Osteoarthrosis, generalized",
          "Osteoarthrosis involving more than one site, but not specified as generalized",
          "Osteoarthrosis NOS",
          "Symptoms and disorders of the joints",
          "Ankylosis of joint",
          "Stiffness of joint",
          "Difficulty in walking",
          "Joint effusions",
          "Hemarthrosis",
          "Villonodular synovitis",
          "Derangement of joint, non-traumatic",
          "Loose body in joint",
          "Pathological, developmental or recurrent dislocation",
          "Articular cartilage disorder",
          "Other derangement of joint",
          "Osteoporosis, osteopenia and pathological fracture",
          "Osteoporosis",
          "Osteoporosis NOS",
          "Senile osteoporosis",
          "Other specified osteoporosis",
          "Pathologic fracture",
          "Pathologic fracture of vertebrae",
          "Pathologic fracture of femur",
          "Stress fracture",
          "Osteopenia or other disorder of bone and cartilage",
          "Pain in joint"
         ],
         "legendgroup": "musculoskeletal",
         "marker": {
          "color": "#FFA15A",
          "symbol": "circle"
         },
         "mode": "markers",
         "name": "musculoskeletal",
         "opacity": 0.9,
         "showlegend": true,
         "type": "scattergl",
         "x": [
          11.4874267578125,
          11.37551498413086,
          9.120798110961914,
          13.106332778930664,
          11.748283386230469,
          -5.415457725524902,
          -5.781684875488281,
          8.840560913085938,
          9.056062698364258,
          8.714978218078613,
          10.047236442565918,
          11.792440414428711,
          14.24712085723877,
          11.778477668762207,
          12.10344409942627,
          13.237552642822266,
          10.810565948486328,
          -4.976832866668701,
          11.330100059509277,
          11.848443031311035,
          -4.398549556732178,
          -7.229439735412598,
          -3.9765524864196777,
          11.68814468383789,
          -3.9186031818389893,
          -3.6160926818847656,
          12.769465446472168,
          12.12987995147705,
          13.805535316467285,
          -5.3120903968811035,
          12.83017635345459,
          12.900607109069824,
          -5.892131805419922,
          14.203048706054688,
          -6.699305534362793,
          13.10477352142334,
          -6.390763282775879,
          13.23239803314209,
          -6.293487071990967,
          12.985662460327148,
          12.90751838684082,
          -0.30789807438850403,
          13.4282865524292,
          -2.149003267288208,
          -2.0215821266174316,
          -1.9005730152130127,
          16.42186737060547,
          -1.8107166290283203,
          15.588357925415039,
          14.526272773742676,
          15.88505744934082,
          14.211385726928711,
          14.79876708984375,
          13.75007438659668,
          11.130497932434082,
          13.806437492370605,
          13.479361534118652,
          14.909101486206055,
          15.187918663024902,
          -5.693722248077393,
          15.725530624389648,
          15.651861190795898,
          14.098044395446777,
          19.31940269470215,
          15.234626770019531,
          10.206290245056152,
          18.40275001525879,
          15.52540397644043,
          13.494145393371582,
          11.00196361541748,
          15.539948463439941,
          15.136942863464355,
          14.986035346984863,
          14.389477729797363,
          15.793163299560547,
          14.697768211364746,
          15.768848419189453,
          15.368250846862793,
          15.993890762329102,
          14.561695098876953,
          16.25787925720215,
          15.822450637817383,
          15.133803367614746,
          15.661818504333496,
          15.080471992492676,
          16.294204711914062,
          15.165487289428711,
          14.338044166564941,
          14.20654296875,
          -4.476626873016357,
          17.364831924438477,
          17.531295776367188,
          17.01067352294922,
          17.232147216796875,
          -4.082836627960205,
          14.770072937011719,
          16.18991470336914,
          -7.409864902496338,
          -5.562539577484131,
          -5.5866522789001465,
          -7.400089740753174,
          -6.982966423034668,
          12.427234649658203,
          12.429813385009766,
          -7.044584274291992,
          11.264853477478027,
          -6.049698352813721,
          -7.348353385925293,
          -7.031660079956055,
          13.782506942749023,
          16.676660537719727,
          -4.052045822143555,
          16.503496170043945,
          -4.140893936157227,
          16.2058162689209,
          -5.930820941925049,
          -6.179315567016602,
          14.174461364746094,
          -6.030676364898682,
          -6.228457927703857,
          15.28670883178711,
          15.19970989227295,
          -4.4579644203186035,
          15.311248779296875,
          14.812405586242676,
          14.165325164794922
         ],
         "xaxis": "x",
         "y": [
          1.0636405944824219,
          1.2561533451080322,
          10.071439743041992,
          0.5846628546714783,
          0.9632608890533447,
          4.12579345703125,
          4.136031627655029,
          10.149523735046387,
          9.876067161560059,
          10.5530366897583,
          -0.8773006200790405,
          11.791465759277344,
          10.271510124206543,
          0.7663491368293762,
          0.9124653935432434,
          0.9549064040184021,
          0.08476152271032333,
          3.8662784099578857,
          0.813568115234375,
          0.5367947220802307,
          3.7065794467926025,
          4.434632301330566,
          3.2689170837402344,
          0.8410971164703369,
          3.254737615585327,
          3.500459671020508,
          0.7942869067192078,
          0.4466072618961334,
          -0.7635409235954285,
          3.3076364994049072,
          -0.36673861742019653,
          -0.5151093602180481,
          3.563535213470459,
          0.5441977381706238,
          3.6696035861968994,
          -0.7525603771209717,
          3.6678624153137207,
          -0.5774278044700623,
          3.1857192516326904,
          -0.7260095477104187,
          -0.9583601355552673,
          8.030771255493164,
          -5.891608238220215,
          5.729488372802734,
          6.026467323303223,
          6.14575719833374,
          -0.9280784130096436,
          5.979353904724121,
          0.4823865294456482,
          1.3971701860427856,
          0.6762845516204834,
          1.1913241147994995,
          0.9467589259147644,
          0.9889079332351685,
          0.8302789926528931,
          1.1191385984420776,
          0.7217937111854553,
          1.6087442636489868,
          0.7302359938621521,
          3.559239387512207,
          0.36838334798812866,
          2.815243721008301,
          0.9551798105239868,
          11.250983238220215,
          2.0605521202087402,
          -2.5348622798919678,
          13.636598587036133,
          2.4138050079345703,
          0.41446635127067566,
          0.6563682556152344,
          -0.956900954246521,
          -0.7607539296150208,
          0.3146565556526184,
          1.6313822269439697,
          -0.6792242527008057,
          0.7995147109031677,
          -0.6362123489379883,
          0.46222907304763794,
          -1.024227261543274,
          -0.40455469489097595,
          -0.6362648010253906,
          0.5759798288345337,
          0.5905841588973999,
          0.19081810116767883,
          1.4278422594070435,
          -0.09872011840343475,
          0.2435581386089325,
          -0.17231041193008423,
          0.14370985329151154,
          3.3424136638641357,
          -1.2367205619812012,
          -1.7003047466278076,
          -1.3854140043258667,
          -1.5097401142120361,
          3.0803239345550537,
          -0.6702638268470764,
          0.340361624956131,
          4.23732328414917,
          3.8671178817749023,
          3.4086105823516846,
          4.355618953704834,
          4.225087642669678,
          1.1200041770935059,
          0.7280281186103821,
          4.7877044677734375,
          -2.7503573894500732,
          3.845083475112915,
          4.591371059417725,
          4.574243545532227,
          10.321885108947754,
          -0.34926217794418335,
          3.7134130001068115,
          -0.2363770753145218,
          3.403785467147827,
          -0.20382149517536163,
          2.8274953365325928,
          2.799058675765991,
          0.32008442282676697,
          2.5399417877197266,
          2.6980972290039062,
          3.024733781814575,
          -0.6905489563941956,
          3.2962684631347656,
          3.5315427780151367,
          -0.3133738934993744,
          0.83794105052948
         ],
         "yaxis": "y"
        }
       ],
       "layout": {
        "height": 450,
        "legend": {
         "title": {
          "text": "category"
         },
         "tracegroupgap": 0
        },
        "margin": {
         "t": 60
        },
        "template": {
         "data": {
          "bar": [
           {
            "error_x": {
             "color": "#2a3f5f"
            },
            "error_y": {
             "color": "#2a3f5f"
            },
            "marker": {
             "line": {
              "color": "#E5ECF6",
              "width": 0.5
             },
             "pattern": {
              "fillmode": "overlay",
              "size": 10,
              "solidity": 0.2
             }
            },
            "type": "bar"
           }
          ],
          "barpolar": [
           {
            "marker": {
             "line": {
              "color": "#E5ECF6",
              "width": 0.5
             },
             "pattern": {
              "fillmode": "overlay",
              "size": 10,
              "solidity": 0.2
             }
            },
            "type": "barpolar"
           }
          ],
          "carpet": [
           {
            "aaxis": {
             "endlinecolor": "#2a3f5f",
             "gridcolor": "white",
             "linecolor": "white",
             "minorgridcolor": "white",
             "startlinecolor": "#2a3f5f"
            },
            "baxis": {
             "endlinecolor": "#2a3f5f",
             "gridcolor": "white",
             "linecolor": "white",
             "minorgridcolor": "white",
             "startlinecolor": "#2a3f5f"
            },
            "type": "carpet"
           }
          ],
          "choropleth": [
           {
            "colorbar": {
             "outlinewidth": 0,
             "ticks": ""
            },
            "type": "choropleth"
           }
          ],
          "contour": [
           {
            "colorbar": {
             "outlinewidth": 0,
             "ticks": ""
            },
            "colorscale": [
             [
              0,
              "#0d0887"
             ],
             [
              0.1111111111111111,
              "#46039f"
             ],
             [
              0.2222222222222222,
              "#7201a8"
             ],
             [
              0.3333333333333333,
              "#9c179e"
             ],
             [
              0.4444444444444444,
              "#bd3786"
             ],
             [
              0.5555555555555556,
              "#d8576b"
             ],
             [
              0.6666666666666666,
              "#ed7953"
             ],
             [
              0.7777777777777778,
              "#fb9f3a"
             ],
             [
              0.8888888888888888,
              "#fdca26"
             ],
             [
              1,
              "#f0f921"
             ]
            ],
            "type": "contour"
           }
          ],
          "contourcarpet": [
           {
            "colorbar": {
             "outlinewidth": 0,
             "ticks": ""
            },
            "type": "contourcarpet"
           }
          ],
          "heatmap": [
           {
            "colorbar": {
             "outlinewidth": 0,
             "ticks": ""
            },
            "colorscale": [
             [
              0,
              "#0d0887"
             ],
             [
              0.1111111111111111,
              "#46039f"
             ],
             [
              0.2222222222222222,
              "#7201a8"
             ],
             [
              0.3333333333333333,
              "#9c179e"
             ],
             [
              0.4444444444444444,
              "#bd3786"
             ],
             [
              0.5555555555555556,
              "#d8576b"
             ],
             [
              0.6666666666666666,
              "#ed7953"
             ],
             [
              0.7777777777777778,
              "#fb9f3a"
             ],
             [
              0.8888888888888888,
              "#fdca26"
             ],
             [
              1,
              "#f0f921"
             ]
            ],
            "type": "heatmap"
           }
          ],
          "heatmapgl": [
           {
            "colorbar": {
             "outlinewidth": 0,
             "ticks": ""
            },
            "colorscale": [
             [
              0,
              "#0d0887"
             ],
             [
              0.1111111111111111,
              "#46039f"
             ],
             [
              0.2222222222222222,
              "#7201a8"
             ],
             [
              0.3333333333333333,
              "#9c179e"
             ],
             [
              0.4444444444444444,
              "#bd3786"
             ],
             [
              0.5555555555555556,
              "#d8576b"
             ],
             [
              0.6666666666666666,
              "#ed7953"
             ],
             [
              0.7777777777777778,
              "#fb9f3a"
             ],
             [
              0.8888888888888888,
              "#fdca26"
             ],
             [
              1,
              "#f0f921"
             ]
            ],
            "type": "heatmapgl"
           }
          ],
          "histogram": [
           {
            "marker": {
             "pattern": {
              "fillmode": "overlay",
              "size": 10,
              "solidity": 0.2
             }
            },
            "type": "histogram"
           }
          ],
          "histogram2d": [
           {
            "colorbar": {
             "outlinewidth": 0,
             "ticks": ""
            },
            "colorscale": [
             [
              0,
              "#0d0887"
             ],
             [
              0.1111111111111111,
              "#46039f"
             ],
             [
              0.2222222222222222,
              "#7201a8"
             ],
             [
              0.3333333333333333,
              "#9c179e"
             ],
             [
              0.4444444444444444,
              "#bd3786"
             ],
             [
              0.5555555555555556,
              "#d8576b"
             ],
             [
              0.6666666666666666,
              "#ed7953"
             ],
             [
              0.7777777777777778,
              "#fb9f3a"
             ],
             [
              0.8888888888888888,
              "#fdca26"
             ],
             [
              1,
              "#f0f921"
             ]
            ],
            "type": "histogram2d"
           }
          ],
          "histogram2dcontour": [
           {
            "colorbar": {
             "outlinewidth": 0,
             "ticks": ""
            },
            "colorscale": [
             [
              0,
              "#0d0887"
             ],
             [
              0.1111111111111111,
              "#46039f"
             ],
             [
              0.2222222222222222,
              "#7201a8"
             ],
             [
              0.3333333333333333,
              "#9c179e"
             ],
             [
              0.4444444444444444,
              "#bd3786"
             ],
             [
              0.5555555555555556,
              "#d8576b"
             ],
             [
              0.6666666666666666,
              "#ed7953"
             ],
             [
              0.7777777777777778,
              "#fb9f3a"
             ],
             [
              0.8888888888888888,
              "#fdca26"
             ],
             [
              1,
              "#f0f921"
             ]
            ],
            "type": "histogram2dcontour"
           }
          ],
          "mesh3d": [
           {
            "colorbar": {
             "outlinewidth": 0,
             "ticks": ""
            },
            "type": "mesh3d"
           }
          ],
          "parcoords": [
           {
            "line": {
             "colorbar": {
              "outlinewidth": 0,
              "ticks": ""
             }
            },
            "type": "parcoords"
           }
          ],
          "pie": [
           {
            "automargin": true,
            "type": "pie"
           }
          ],
          "scatter": [
           {
            "fillpattern": {
             "fillmode": "overlay",
             "size": 10,
             "solidity": 0.2
            },
            "type": "scatter"
           }
          ],
          "scatter3d": [
           {
            "line": {
             "colorbar": {
              "outlinewidth": 0,
              "ticks": ""
             }
            },
            "marker": {
             "colorbar": {
              "outlinewidth": 0,
              "ticks": ""
             }
            },
            "type": "scatter3d"
           }
          ],
          "scattercarpet": [
           {
            "marker": {
             "colorbar": {
              "outlinewidth": 0,
              "ticks": ""
             }
            },
            "type": "scattercarpet"
           }
          ],
          "scattergeo": [
           {
            "marker": {
             "colorbar": {
              "outlinewidth": 0,
              "ticks": ""
             }
            },
            "type": "scattergeo"
           }
          ],
          "scattergl": [
           {
            "marker": {
             "colorbar": {
              "outlinewidth": 0,
              "ticks": ""
             }
            },
            "type": "scattergl"
           }
          ],
          "scattermapbox": [
           {
            "marker": {
             "colorbar": {
              "outlinewidth": 0,
              "ticks": ""
             }
            },
            "type": "scattermapbox"
           }
          ],
          "scatterpolar": [
           {
            "marker": {
             "colorbar": {
              "outlinewidth": 0,
              "ticks": ""
             }
            },
            "type": "scatterpolar"
           }
          ],
          "scatterpolargl": [
           {
            "marker": {
             "colorbar": {
              "outlinewidth": 0,
              "ticks": ""
             }
            },
            "type": "scatterpolargl"
           }
          ],
          "scatterternary": [
           {
            "marker": {
             "colorbar": {
              "outlinewidth": 0,
              "ticks": ""
             }
            },
            "type": "scatterternary"
           }
          ],
          "surface": [
           {
            "colorbar": {
             "outlinewidth": 0,
             "ticks": ""
            },
            "colorscale": [
             [
              0,
              "#0d0887"
             ],
             [
              0.1111111111111111,
              "#46039f"
             ],
             [
              0.2222222222222222,
              "#7201a8"
             ],
             [
              0.3333333333333333,
              "#9c179e"
             ],
             [
              0.4444444444444444,
              "#bd3786"
             ],
             [
              0.5555555555555556,
              "#d8576b"
             ],
             [
              0.6666666666666666,
              "#ed7953"
             ],
             [
              0.7777777777777778,
              "#fb9f3a"
             ],
             [
              0.8888888888888888,
              "#fdca26"
             ],
             [
              1,
              "#f0f921"
             ]
            ],
            "type": "surface"
           }
          ],
          "table": [
           {
            "cells": {
             "fill": {
              "color": "#EBF0F8"
             },
             "line": {
              "color": "white"
             }
            },
            "header": {
             "fill": {
              "color": "#C8D4E3"
             },
             "line": {
              "color": "white"
             }
            },
            "type": "table"
           }
          ]
         },
         "layout": {
          "annotationdefaults": {
           "arrowcolor": "#2a3f5f",
           "arrowhead": 0,
           "arrowwidth": 1
          },
          "autotypenumbers": "strict",
          "coloraxis": {
           "colorbar": {
            "outlinewidth": 0,
            "ticks": ""
           }
          },
          "colorscale": {
           "diverging": [
            [
             0,
             "#8e0152"
            ],
            [
             0.1,
             "#c51b7d"
            ],
            [
             0.2,
             "#de77ae"
            ],
            [
             0.3,
             "#f1b6da"
            ],
            [
             0.4,
             "#fde0ef"
            ],
            [
             0.5,
             "#f7f7f7"
            ],
            [
             0.6,
             "#e6f5d0"
            ],
            [
             0.7,
             "#b8e186"
            ],
            [
             0.8,
             "#7fbc41"
            ],
            [
             0.9,
             "#4d9221"
            ],
            [
             1,
             "#276419"
            ]
           ],
           "sequential": [
            [
             0,
             "#0d0887"
            ],
            [
             0.1111111111111111,
             "#46039f"
            ],
            [
             0.2222222222222222,
             "#7201a8"
            ],
            [
             0.3333333333333333,
             "#9c179e"
            ],
            [
             0.4444444444444444,
             "#bd3786"
            ],
            [
             0.5555555555555556,
             "#d8576b"
            ],
            [
             0.6666666666666666,
             "#ed7953"
            ],
            [
             0.7777777777777778,
             "#fb9f3a"
            ],
            [
             0.8888888888888888,
             "#fdca26"
            ],
            [
             1,
             "#f0f921"
            ]
           ],
           "sequentialminus": [
            [
             0,
             "#0d0887"
            ],
            [
             0.1111111111111111,
             "#46039f"
            ],
            [
             0.2222222222222222,
             "#7201a8"
            ],
            [
             0.3333333333333333,
             "#9c179e"
            ],
            [
             0.4444444444444444,
             "#bd3786"
            ],
            [
             0.5555555555555556,
             "#d8576b"
            ],
            [
             0.6666666666666666,
             "#ed7953"
            ],
            [
             0.7777777777777778,
             "#fb9f3a"
            ],
            [
             0.8888888888888888,
             "#fdca26"
            ],
            [
             1,
             "#f0f921"
            ]
           ]
          },
          "colorway": [
           "#636efa",
           "#EF553B",
           "#00cc96",
           "#ab63fa",
           "#FFA15A",
           "#19d3f3",
           "#FF6692",
           "#B6E880",
           "#FF97FF",
           "#FECB52"
          ],
          "font": {
           "color": "#2a3f5f"
          },
          "geo": {
           "bgcolor": "white",
           "lakecolor": "white",
           "landcolor": "#E5ECF6",
           "showlakes": true,
           "showland": true,
           "subunitcolor": "white"
          },
          "hoverlabel": {
           "align": "left"
          },
          "hovermode": "closest",
          "mapbox": {
           "style": "light"
          },
          "paper_bgcolor": "white",
          "plot_bgcolor": "#E5ECF6",
          "polar": {
           "angularaxis": {
            "gridcolor": "white",
            "linecolor": "white",
            "ticks": ""
           },
           "bgcolor": "#E5ECF6",
           "radialaxis": {
            "gridcolor": "white",
            "linecolor": "white",
            "ticks": ""
           }
          },
          "scene": {
           "xaxis": {
            "backgroundcolor": "#E5ECF6",
            "gridcolor": "white",
            "gridwidth": 2,
            "linecolor": "white",
            "showbackground": true,
            "ticks": "",
            "zerolinecolor": "white"
           },
           "yaxis": {
            "backgroundcolor": "#E5ECF6",
            "gridcolor": "white",
            "gridwidth": 2,
            "linecolor": "white",
            "showbackground": true,
            "ticks": "",
            "zerolinecolor": "white"
           },
           "zaxis": {
            "backgroundcolor": "#E5ECF6",
            "gridcolor": "white",
            "gridwidth": 2,
            "linecolor": "white",
            "showbackground": true,
            "ticks": "",
            "zerolinecolor": "white"
           }
          },
          "shapedefaults": {
           "line": {
            "color": "#2a3f5f"
           }
          },
          "ternary": {
           "aaxis": {
            "gridcolor": "white",
            "linecolor": "white",
            "ticks": ""
           },
           "baxis": {
            "gridcolor": "white",
            "linecolor": "white",
            "ticks": ""
           },
           "bgcolor": "#E5ECF6",
           "caxis": {
            "gridcolor": "white",
            "linecolor": "white",
            "ticks": ""
           }
          },
          "title": {
           "x": 0.05
          },
          "xaxis": {
           "automargin": true,
           "gridcolor": "white",
           "linecolor": "white",
           "ticks": "",
           "title": {
            "standoff": 15
           },
           "zerolinecolor": "white",
           "zerolinewidth": 2
          },
          "yaxis": {
           "automargin": true,
           "gridcolor": "white",
           "linecolor": "white",
           "ticks": "",
           "title": {
            "standoff": 15
           },
           "zerolinecolor": "white",
           "zerolinewidth": 2
          }
         }
        },
        "width": 700,
        "xaxis": {
         "anchor": "y",
         "domain": [
          0,
          1
         ],
         "title": {
          "text": "0"
         }
        },
        "yaxis": {
         "anchor": "x",
         "domain": [
          0,
          1
         ],
         "title": {
          "text": "1"
         }
        }
       }
      },
      "text/html": [
       "<div>                            <div id=\"b1cb83ac-aca9-45f8-b968-36889dea1f4d\" class=\"plotly-graph-div\" style=\"height:450px; width:700px;\"></div>            <script type=\"text/javascript\">                require([\"plotly\"], function(Plotly) {                    window.PLOTLYENV=window.PLOTLYENV || {};                                    if (document.getElementById(\"b1cb83ac-aca9-45f8-b968-36889dea1f4d\")) {                    Plotly.newPlot(                        \"b1cb83ac-aca9-45f8-b968-36889dea1f4d\",                        [{\"customdata\":[[\"Intestinal infection\",8.0],[\"Bacterial enteritis\",8.5],[\"Intestinal e.coli\",8.51],[\"Intestinal infection due to C. difficile\",8.52],[\"Viral Enteritis\",8.6],[\"Intestinal infection due to protozoa\",8.7],[\"Tuberculosis\",10.0],[\"Diseases due to other mycobacteria\",31.0],[\"Leprosy\",31.1],[\"Septicemia\",38.0],[\"Gram negative septicemia\",38.1],[\"Gram positive septicemia\",38.2],[\"Bacteremia\",38.3],[\"Bacterial infection NOS\",41.0],[\"Staphylococcus infections\",41.1],[\"Methicillin sensitive Staphylococcus aureus\",41.11],[\"Methicillin resistant Staphylococcus aureus\",41.12],[\"Streptococcus infection\",41.2],[\"Rheumatic fever \\u002f chorea\",41.21],[\"E. coli\",41.4],[\"H. pylori\",41.8],[\"Infection with drug-resistant microorganisms\",41.9],[\"Herpes zoster\",53.0],[\"Herpes zoster with nervous system complications\",53.1],[\"Herpes simplex\",54.0],[\"Viral hepatitis\",70.0],[\"Viral hepatitis A\",70.1],[\"Viral hepatitis B\",70.2],[\"Viral hepatitis C\",70.3],[\"Chronic hepatitis\",70.4],[\"Hepatitis NOS\",70.9],[\"Human immunodeficiency virus [HIV] disease\",71.0],[\"HIV infection, symptomatic\",71.1],[\"Viral warts & HPV\",78.0],[\"Viral infection\",79.0],[\"Varicella infection\",79.1],[\"Infectious mononucleosis\",79.2],[\"Viremia, NOS\",79.9],[\"Graft-versus-host disease\",81.1],[\"Acute graft-versus-host disease\",81.11],[\"Chronic graft-versus-host disease\",81.12],[\"Sexually transmitted infections (not HIV or hepatitis)\",90.0],[\"Gonococcal infections\",90.2],[\"Venereal diseases due to Chlamydia trachomatis\",90.3],[\"Dermatophytosis \\u002f Dermatomycosis\",110.0],[\"Dermatophytosis\",110.1],[\"Dermatophytosis of nail\",110.11],[\"Althete's foot\",110.12],[\"Dermatophytosis of the body\",110.13],[\"Dermatomycoses\",110.2],[\"Candidiasis\",112.0],[\"Candidiasis of skin and nails\",112.3],[\"Mycoses\",117.0],[\"Histoplasmosis\",117.1],[\"Coccidioidomycosis\",117.2],[\"Blastomycotic infection\",117.3],[\"Aspergillosis\",117.4],[\"Spirochetal infection\",130.0],[\"Lyme disease\",130.1],[\"Protozoan infection\",131.0],[\"Infestation (lice, mites)\",132.0],[\"Pediculosis and phthirus infestation\",132.1],[\"Arthropod-borne diseases\",133.0],[\"Helminthiases\",134.0],[\"Intestinal helminthiases\",134.1],[\"Other infectious and parasitic diseases\",136.0]],\"hovertemplate\":\"\\u003cb\\u003e%{hovertext}\\u003c\\u002fb\\u003e\\u003cbr\\u003e\\u003cbr\\u003ecategory=infectious diseases\\u003cbr\\u003e0=%{x}\\u003cbr\\u003e1=%{y}\\u003cbr\\u003edescription=%{customdata[0]}\\u003cbr\\u003ephecode=%{customdata[1]}\\u003cextra\\u003e\\u003c\\u002fextra\\u003e\",\"hovertext\":[\"Intestinal infection\",\"Bacterial enteritis\",\"Intestinal e.coli\",\"Intestinal infection due to C. difficile\",\"Viral Enteritis\",\"Intestinal infection due to protozoa\",\"Tuberculosis\",\"Diseases due to other mycobacteria\",\"Leprosy\",\"Septicemia\",\"Gram negative septicemia\",\"Gram positive septicemia\",\"Bacteremia\",\"Bacterial infection NOS\",\"Staphylococcus infections\",\"Methicillin sensitive Staphylococcus aureus\",\"Methicillin resistant Staphylococcus aureus\",\"Streptococcus infection\",\"Rheumatic fever \\u002f chorea\",\"E. coli\",\"H. pylori\",\"Infection with drug-resistant microorganisms\",\"Herpes zoster\",\"Herpes zoster with nervous system complications\",\"Herpes simplex\",\"Viral hepatitis\",\"Viral hepatitis A\",\"Viral hepatitis B\",\"Viral hepatitis C\",\"Chronic hepatitis\",\"Hepatitis NOS\",\"Human immunodeficiency virus [HIV] disease\",\"HIV infection, symptomatic\",\"Viral warts & HPV\",\"Viral infection\",\"Varicella infection\",\"Infectious mononucleosis\",\"Viremia, NOS\",\"Graft-versus-host disease\",\"Acute graft-versus-host disease\",\"Chronic graft-versus-host disease\",\"Sexually transmitted infections (not HIV or hepatitis)\",\"Gonococcal infections\",\"Venereal diseases due to Chlamydia trachomatis\",\"Dermatophytosis \\u002f Dermatomycosis\",\"Dermatophytosis\",\"Dermatophytosis of nail\",\"Althete's foot\",\"Dermatophytosis of the body\",\"Dermatomycoses\",\"Candidiasis\",\"Candidiasis of skin and nails\",\"Mycoses\",\"Histoplasmosis\",\"Coccidioidomycosis\",\"Blastomycotic infection\",\"Aspergillosis\",\"Spirochetal infection\",\"Lyme disease\",\"Protozoan infection\",\"Infestation (lice, mites)\",\"Pediculosis and phthirus infestation\",\"Arthropod-borne diseases\",\"Helminthiases\",\"Intestinal helminthiases\",\"Other infectious and parasitic diseases\"],\"legendgroup\":\"infectious diseases\",\"marker\":{\"color\":\"#636efa\",\"symbol\":\"circle\"},\"mode\":\"markers\",\"name\":\"infectious diseases\",\"showlegend\":true,\"x\":[21.862651824951172,21.479459762573242,1.505781888961792,16.168676376342773,21.716157913208008,21.84137535095215,18.43552589416504,18.596904754638672,18.643653869628906,12.8917818069458,12.676386833190918,1.8108536005020142,12.34504222869873,10.223834991455078,11.338878631591797,9.82869815826416,12.165003776550293,10.820138931274414,9.032190322875977,21.425649642944336,14.968379974365234,18.228126525878906,8.427014350891113,8.24083137512207,9.307689666748047,12.218339920043945,11.299370765686035,11.370326042175293,12.16325855255127,13.667447090148926,11.00325870513916,9.860920906066895,8.792976379394531,7.036464691162109,9.574913024902344,10.03981876373291,9.934481620788574,9.573333740234375,15.83245849609375,0.3433370590209961,0.6323516964912415,8.017295837402344,8.061150550842285,7.878862380981445,3.827143669128418,11.963443756103516,10.669512748718262,10.7001953125,10.815823554992676,11.986879348754883,8.415440559387207,9.208839416503906,10.116002082824707,11.54135513305664,11.98392391204834,10.871675491333008,11.756211280822754,8.38165283203125,7.883017063140869,8.289959907531738,10.519651412963867,10.717440605163574,10.594755172729492,15.004398345947266,15.444282531738281,10.53493595123291],\"xaxis\":\"x\",\"y\":[10.723630905151367,10.428871154785156,6.633399963378906,6.798152446746826,10.520975112915039,10.699081420898438,13.447731018066406,12.037018775939941,12.049162864685059,12.938542366027832,12.959209442138672,1.9670634269714355,13.003266334533691,10.412423133850098,11.700439453125,10.162115097045898,12.55827808380127,13.27746868133545,1.3421610593795776,10.331687927246094,8.731267929077148,13.507170677185059,1.2906652688980103,1.5132557153701782,11.963820457458496,6.467752456665039,6.569225788116455,6.4289937019348145,6.419186115264893,5.4314775466918945,6.370004177093506,11.703959465026855,11.514466285705566,12.147427558898926,12.519630432128906,11.780376434326172,12.281356811523438,12.39396858215332,10.859455108642578,4.637638092041016,4.497426986694336,11.33906078338623,10.845897674560547,11.608171463012695,1.5342437028884888,9.416872024536133,9.516356468200684,10.686625480651855,9.915265083312988,9.340158462524414,11.486478805541992,11.353593826293945,10.417336463928223,11.712891578674316,12.060548782348633,10.085746765136719,11.878783226013184,11.129403114318848,4.152481555938721,11.561124801635742,12.285740852355957,11.832534790039062,12.5947265625,9.505451202392578,8.909342765808105,12.915035247802734],\"yaxis\":\"y\",\"type\":\"scattergl\",\"opacity\":0.9},{\"customdata\":[[\"Cancer of mouth\",145.0],[\"Cancer of lip\",145.1],[\"Cancer of tongue\",145.2],[\"Cancer of major salivary glands\",145.3],[\"Cancer of the gums\",145.4],[\"Cancer of the mouth floor\",145.5],[\"Cancer of larynx, pharynx, nasal cavities\",149.0],[\"Cancer of oropharynx\",149.1],[\"Cancer of nasopharynx\",149.2],[\"Cancer of hypopharynx\",149.3],[\"Cancer of larynx\",149.4],[\"Hx of malignant neoplasm of oral cavity and pharynx\",149.5],[\"Cancer of of nasal cavities\",149.9],[\"Cancer of esophagus\",150.0],[\"Cancer of stomach\",151.0],[\"Colorectal cancer\",153.0],[\"Colon cancer\",153.2],[\"Malignant neoplasm of rectum, rectosigmoid junction, and anus\",153.3],[\"Cancer of liver and intrahepatic bile duct\",155.0],[\"Malignant neoplasm of liver, primary\",155.1],[\"Pancreatic cancer\",157.0],[\"Neoplasm of unspecified nature of digestive system\",158.0],[\"Malignant neoplasm of other and ill-defined sites within the digestive organs and peritoneum\",159.0],[\"Malignant neoplasm of small intestine, including duodenum\",159.2],[\"Malignant neoplasm of gallbladder and extrahepatic bile ducts\",159.3],[\"Malignant neoplasm of retroperitoneum and peritoneum\",159.4],[\"Cancer of intrathoracic organs\",164.0],[\"Cancer within the respiratory system\",165.0],[\"Cancer of bronchus; lung\",165.1],[\"Cancer of bone and connective tissue\",170.0],[\"Bone cancer\",170.1],[\"Cancer of connective tissue\",170.2],[\"Skin cancer\",172.0],[\"Melanomas of skin, dx or hx\",172.1],[\"Melanomas of skin\",172.11],[\"Other non-epithelial cancer of skin\",172.2],[\"Basal cell carcinoma\",172.21],[\"Squamous cell carcinoma\",172.22],[\"Carcinoma in situ of skin\",172.3],[\"Breast cancer\",174.0],[\"Breast cancer [female]\",174.1],[\"Malignant neoplasm of female breast\",174.11],[\"Breast cancer [male]\",174.2],[\"Neoplasm of uncertain behavior of breast\",174.3],[\"Acquired absence of breast\",175.0],[\"Cervical cancer and dysplasia\",180.0],[\"Cervical cancer\",180.1],[\"Cervical intraepithelial neoplasia [CIN] [Cervical dysplasia]\",180.3],[\"Malignant neoplasm of uterus\",182.0],[\"Cancer of other female genital organs\",184.0],[\"Malignant neoplasm of ovary and other uterine adnexa\",184.1],[\"Malignant neoplasm of ovary\",184.11],[\"Cancer of other female genital organs (excluding uterus and ovary)\",184.2],[\"Cancer of prostate\",185.0],[\"Cancer of other male genital organs\",187.0],[\"Malignant neoplasm of unspecified male genital organ\",187.1],[\"Malignant neoplasm of testis\",187.2],[\"Neoplasm of uncertain behavior of male genital organs\",187.8],[\"Cancer of urinary organs (incl. kidney and bladder)\",189.0],[\"Cancer of kidney and renal pelvis\",189.1],[\"Malignant neoplasm of kidney, except pelvis\",189.11],[\"Malignant neoplasm of renal pelvis\",189.12],[\"Cancer of bladder\",189.2],[\"Malignant neoplasm of bladder\",189.21],[\"Malignant neoplasm of other urinary organs\",189.4],[\"Cancer of eye\",190.0],[\"Manlignant and unknown neoplasms of brain and nervous system\",191.0],[\"Cancer of brain and nervous system\",191.1],[\"Cancer of brain\",191.11],[\"Thyroid cancer\",193.0],[\"Cancer of other endocrine glands\",194.0],[\"Cancer, suspected or other\",195.0],[\"Malignant neoplasm, other\",195.1],[\"Chemotherapy\",197.0],[\"Secondary malignant neoplasm\",198.0],[\"Secondary malignancy of lymph nodes\",198.1],[\"Secondary malignancy of respiratory organs\",198.2],[\"Secondary malignant neoplasm of digestive systems\",198.3],[\"Secondary malignant neoplasm of liver\",198.4],[\"Secondary malignancy of brain\\u002fspine\",198.5],[\"Secondary malignancy of bone\",198.6],[\"Secondary malignant neoplasm of skin\",198.7],[\"Neoplasm of uncertain behavior\",199.0],[\"Neurofibromatosis\",199.4],[\"Myeloproliferative disease\",200.0],[\"Polycythemia vera\",200.1],[\"Hodgkin's disease\",201.0],[\"Cancer of other lymphoid, histiocytic tissue\",202.0],[\"Non-Hodgkins lymphoma\",202.2],[\"Nodular lymphoma\",202.21],[\"Reticulosarcoma\",202.22],[\"Lymphosarcoma\",202.23],[\"Large cell lymphoma\",202.24],[\"Leukemia\",204.0],[\"Lymphoid leukemia\",204.1],[\"Lymphoid leukemia, acute\",204.11],[\"Lymphoid leukemia, chronic\",204.12],[\"Myeloid leukemia\",204.2],[\"Myeloid leukemia, acute\",204.21],[\"Myeloid leukemia, chronic\",204.22],[\"Monocytic leukemia\",204.3],[\"Multiple myeloma\",204.4],[\"Benign neoplasm of colon\",208.0],[\"Neuroendocrine tumors\",209.0],[\"Benign neoplasm of lip, oral cavity, and pharynx\",210.0],[\"Benign neoplasm of other parts of digestive system\",211.0],[\"Benign neoplasm of respiratory and intrathoracic organs\",212.0],[\"Benign neoplasm of bone and articular cartilage\",213.0],[\"Lipoma\",214.0],[\"Lipoma of skin and subcutaneous tissue\",214.1],[\"Other benign neoplasm of connective and other soft tissue\",215.0],[\"Benign neoplasm of skin\",216.0],[\"Vascular hamartomas and non-neoplastic nevi\",217.0],[\"Nevus, non-neoplastic\",217.1],[\"Benign neoplasm of uterus\",218.0],[\"Uterine leiomyoma\",218.1],[\"Other benign neoplasm of uterus\",218.2],[\"Benign neoplasm of other female genital organs\",221.0],[\"Benign neoplasm of male genital organs\",222.0],[\"Benign neoplasm of kidney and other urinary organs\",223.0],[\"Benign neoplasm of eye\",224.0],[\"Benign neoplasm of eye, uveal\",224.1],[\"Benign neoplasm of brain and other parts of nervous system\",225.0],[\"Benign neoplasm of brain, cranial nerves, meninges\",225.1],[\"Benign neoplasm of spinal cord, meninges\",225.2],[\"Benign neoplasm of other endocrine glands and related structures\",227.0],[\"Benign neoplasm of adrenal gland\",227.1],[\"Benign neoplasm of parathyroid gland\",227.2],[\"Benign neoplasm of pituitary gland and craniopharyngeal duct (pouch)\",227.3],[\"Hemangioma and lymphangioma, any site\",228.0],[\"Hemangioma of skin and subcutaneous tissue\",228.1],[\"Benign neoplasm of unspecified sites\",229.0],[\"Benign neoplasm of lymph nodes\",229.1],[\"Kaposi's sarcoma\",230.0]],\"hovertemplate\":\"\\u003cb\\u003e%{hovertext}\\u003c\\u002fb\\u003e\\u003cbr\\u003e\\u003cbr\\u003ecategory=neoplasms\\u003cbr\\u003e0=%{x}\\u003cbr\\u003e1=%{y}\\u003cbr\\u003edescription=%{customdata[0]}\\u003cbr\\u003ephecode=%{customdata[1]}\\u003cextra\\u003e\\u003c\\u002fextra\\u003e\",\"hovertext\":[\"Cancer of mouth\",\"Cancer of lip\",\"Cancer of tongue\",\"Cancer of major salivary glands\",\"Cancer of the gums\",\"Cancer of the mouth floor\",\"Cancer of larynx, pharynx, nasal cavities\",\"Cancer of oropharynx\",\"Cancer of nasopharynx\",\"Cancer of hypopharynx\",\"Cancer of larynx\",\"Hx of malignant neoplasm of oral cavity and pharynx\",\"Cancer of of nasal cavities\",\"Cancer of esophagus\",\"Cancer of stomach\",\"Colorectal cancer\",\"Colon cancer\",\"Malignant neoplasm of rectum, rectosigmoid junction, and anus\",\"Cancer of liver and intrahepatic bile duct\",\"Malignant neoplasm of liver, primary\",\"Pancreatic cancer\",\"Neoplasm of unspecified nature of digestive system\",\"Malignant neoplasm of other and ill-defined sites within the digestive organs and peritoneum\",\"Malignant neoplasm of small intestine, including duodenum\",\"Malignant neoplasm of gallbladder and extrahepatic bile ducts\",\"Malignant neoplasm of retroperitoneum and peritoneum\",\"Cancer of intrathoracic organs\",\"Cancer within the respiratory system\",\"Cancer of bronchus; lung\",\"Cancer of bone and connective tissue\",\"Bone cancer\",\"Cancer of connective tissue\",\"Skin cancer\",\"Melanomas of skin, dx or hx\",\"Melanomas of skin\",\"Other non-epithelial cancer of skin\",\"Basal cell carcinoma\",\"Squamous cell carcinoma\",\"Carcinoma in situ of skin\",\"Breast cancer\",\"Breast cancer [female]\",\"Malignant neoplasm of female breast\",\"Breast cancer [male]\",\"Neoplasm of uncertain behavior of breast\",\"Acquired absence of breast\",\"Cervical cancer and dysplasia\",\"Cervical cancer\",\"Cervical intraepithelial neoplasia [CIN] [Cervical dysplasia]\",\"Malignant neoplasm of uterus\",\"Cancer of other female genital organs\",\"Malignant neoplasm of ovary and other uterine adnexa\",\"Malignant neoplasm of ovary\",\"Cancer of other female genital organs (excluding uterus and ovary)\",\"Cancer of prostate\",\"Cancer of other male genital organs\",\"Malignant neoplasm of unspecified male genital organ\",\"Malignant neoplasm of testis\",\"Neoplasm of uncertain behavior of male genital organs\",\"Cancer of urinary organs (incl. kidney and bladder)\",\"Cancer of kidney and renal pelvis\",\"Malignant neoplasm of kidney, except pelvis\",\"Malignant neoplasm of renal pelvis\",\"Cancer of bladder\",\"Malignant neoplasm of bladder\",\"Malignant neoplasm of other urinary organs\",\"Cancer of eye\",\"Manlignant and unknown neoplasms of brain and nervous system\",\"Cancer of brain and nervous system\",\"Cancer of brain\",\"Thyroid cancer\",\"Cancer of other endocrine glands\",\"Cancer, suspected or other\",\"Malignant neoplasm, other\",\"Chemotherapy\",\"Secondary malignant neoplasm\",\"Secondary malignancy of lymph nodes\",\"Secondary malignancy of respiratory organs\",\"Secondary malignant neoplasm of digestive systems\",\"Secondary malignant neoplasm of liver\",\"Secondary malignancy of brain\\u002fspine\",\"Secondary malignancy of bone\",\"Secondary malignant neoplasm of skin\",\"Neoplasm of uncertain behavior\",\"Neurofibromatosis\",\"Myeloproliferative disease\",\"Polycythemia vera\",\"Hodgkin's disease\",\"Cancer of other lymphoid, histiocytic tissue\",\"Non-Hodgkins lymphoma\",\"Nodular lymphoma\",\"Reticulosarcoma\",\"Lymphosarcoma\",\"Large cell lymphoma\",\"Leukemia\",\"Lymphoid leukemia\",\"Lymphoid leukemia, acute\",\"Lymphoid leukemia, chronic\",\"Myeloid leukemia\",\"Myeloid leukemia, acute\",\"Myeloid leukemia, chronic\",\"Monocytic leukemia\",\"Multiple myeloma\",\"Benign neoplasm of colon\",\"Neuroendocrine tumors\",\"Benign neoplasm of lip, oral cavity, and pharynx\",\"Benign neoplasm of other parts of digestive system\",\"Benign neoplasm of respiratory and intrathoracic organs\",\"Benign neoplasm of bone and articular cartilage\",\"Lipoma\",\"Lipoma of skin and subcutaneous tissue\",\"Other benign neoplasm of connective and other soft tissue\",\"Benign neoplasm of skin\",\"Vascular hamartomas and non-neoplastic nevi\",\"Nevus, non-neoplastic\",\"Benign neoplasm of uterus\",\"Uterine leiomyoma\",\"Other benign neoplasm of uterus\",\"Benign neoplasm of other female genital organs\",\"Benign neoplasm of male genital organs\",\"Benign neoplasm of kidney and other urinary organs\",\"Benign neoplasm of eye\",\"Benign neoplasm of eye, uveal\",\"Benign neoplasm of brain and other parts of nervous system\",\"Benign neoplasm of brain, cranial nerves, meninges\",\"Benign neoplasm of spinal cord, meninges\",\"Benign neoplasm of other endocrine glands and related structures\",\"Benign neoplasm of adrenal gland\",\"Benign neoplasm of parathyroid gland\",\"Benign neoplasm of pituitary gland and craniopharyngeal duct (pouch)\",\"Hemangioma and lymphangioma, any site\",\"Hemangioma of skin and subcutaneous tissue\",\"Benign neoplasm of unspecified sites\",\"Benign neoplasm of lymph nodes\",\"Kaposi's sarcoma\"],\"legendgroup\":\"neoplasms\",\"marker\":{\"color\":\"#00cc96\",\"symbol\":\"circle\"},\"mode\":\"markers\",\"name\":\"neoplasms\",\"showlegend\":true,\"x\":[9.479629516601562,9.249332427978516,9.001858711242676,8.257633209228516,0.3282621204853058,0.5284894704818726,9.584567070007324,9.310954093933105,7.7324042320251465,9.592487335205078,9.45375919342041,0.5804618000984192,11.157651901245117,13.691237449645996,15.385642051696777,12.632461547851562,12.596627235412598,6.419101238250732,14.025858879089355,13.65063762664795,13.060858726501465,15.516170501708984,12.805235862731934,12.613265037536621,14.169271469116211,9.133244514465332,12.420378684997559,16.401660919189453,13.399271011352539,9.429431915283203,9.645795822143555,12.26980972290039,4.032122611999512,4.284233570098877,4.176231861114502,4.868333339691162,0.4416842460632324,4.41766357421875,0.5004966259002686,5.679165363311768,5.46252965927124,5.392456531524658,5.463344573974609,6.243507385253906,5.859121799468994,-3.5601296424865723,6.017664909362793,5.73821496963501,5.788952827453613,-3.3670949935913086,5.7075090408325195,5.553197860717773,6.533362865447998,4.40132474899292,7.46169900894165,6.756809234619141,6.1757636070251465,4.378575801849365,-4.280211448669434,19.811803817749023,20.09977912902832,20.013046264648438,7.860456466674805,8.056330680847168,7.731068134307861,7.546647071838379,8.42034912109375,15.820762634277344,16.033414840698242,8.511971473693848,8.648221969604492,9.506707191467285,13.230351448059082,12.777831077575684,9.66804313659668,9.7217378616333,13.708500862121582,9.80557632446289,10.126543045043945,13.18441390991211,9.340178489685059,-0.231319859623909,12.752477645874023,7.782347202301025,15.817708969116211,16.17776107788086,14.009921073913574,13.520886421203613,14.032706260681152,13.66944408416748,14.260077476501465,14.188849449157715,14.162894248962402,16.039609909057617,15.383665084838867,14.643535614013672,14.394829750061035,15.941642761230469,15.592195510864258,15.569242477416992,14.865426063537598,15.755965232849121,12.302081108093262,10.26215934753418,6.382490158081055,14.84011459350586,9.914161682128906,9.58142375946045,8.858556747436523,0.1630910187959671,8.129352569580078,4.456356525421143,8.887059211730957,6.116105079650879,-2.1586697101593018,3.2967007160186768,-2.0248701572418213,5.839416027069092,4.48112678527832,8.821869850158691,8.64284610748291,7.619771957397461,0.8770067691802979,7.9380950927734375,0.3796185255050659,-2.1997601985931396,7.622183322906494,-0.7922573089599609,8.07165241241455,9.078714370727539,-0.5282155871391296,9.219246864318848,1.251554012298584,5.248814105987549],\"xaxis\":\"x\",\"y\":[17.28621482849121,17.36155128479004,16.91478729248047,16.368995666503906,7.238718032836914,7.169382572174072,17.343019485473633,16.96726417541504,12.323923110961914,17.345380783081055,16.701419830322266,7.257296085357666,-1.4795078039169312,10.358280181884766,7.825901031494141,10.287863731384277,10.437963485717773,12.611790657043457,8.3218355178833,7.918356418609619,9.327094078063965,7.178239345550537,10.620530128479004,10.108406066894531,7.7573137283325195,13.303038597106934,10.433631896972656,13.355782508850098,11.284466743469238,14.293397903442383,14.6614990234375,11.982041358947754,8.067411422729492,8.124838829040527,7.954692363739014,7.703173637390137,8.28281307220459,7.745064735412598,7.356670379638672,16.316959381103516,16.24033546447754,16.40758514404297,16.050125122070312,15.169506072998047,16.17139434814453,7.9185261726379395,12.118002891540527,11.950611114501953,14.31177043914795,8.015034675598145,15.01712703704834,15.643074035644531,14.08635425567627,10.452932357788086,12.849637031555176,13.831381797790527,14.252522468566895,10.284120559692383,6.528314590454102,11.37833023071289,11.285836219787598,11.2132568359375,12.76044750213623,12.628267288208008,12.033834457397461,-4.140573024749756,16.072830200195312,12.53274154663086,12.873059272766113,14.365168571472168,13.184123039245605,13.569144248962402,11.581825256347656,11.497745513916016,13.543092727661133,13.788396835327148,11.340267181396484,13.734702110290527,13.929403305053711,11.965580940246582,14.16290283203125,6.959897518157959,11.8297119140625,16.19196319580078,11.181327819824219,10.75717544555664,12.192120552062988,12.462347984313965,12.557963371276855,12.018267631530762,12.347310066223145,12.333795547485352,12.467463493347168,11.554203987121582,11.613308906555176,12.164694786071777,11.12316608428955,11.640024185180664,11.462536811828613,11.346282005310059,11.14820384979248,11.978870391845703,10.592305183410645,13.659268379211426,5.105610370635986,7.741541385650635,17.097625732421875,14.801685333251953,14.631336212158203,8.37713623046875,16.149898529052734,7.869326591491699,-4.412033557891846,-1.7284992933273315,7.8564133644104,13.970191955566406,7.923791408538818,11.54620361328125,10.710787773132324,6.497848987579346,-5.630946636199951,-5.588093280792236,8.344024658203125,15.60204792022705,7.742374897003174,3.8260462284088135,13.537763595581055,6.275100231170654,15.102651596069336,-4.152162075042725,5.1807026863098145,13.929852485656738,8.959172248840332,7.2090630531311035],\"yaxis\":\"y\",\"type\":\"scattergl\",\"opacity\":0.9},{\"customdata\":[[\"Simple and unspecified goiter\",240.0],[\"Nontoxic nodular goiter\",241.0],[\"Nontoxic uninodular goiter\",241.1],[\"Nontoxic multinodular goiter\",241.2],[\"Thyrotoxicosis with or without goiter\",242.0],[\"Graves' disease\",242.1],[\"Toxic multinodular goiter\",242.2],[\"Exophthalmos\",242.3],[\"Thyrotoxic exophthalmos\",242.31],[\"Hypothyroidism\",244.0],[\"Secondary hypothyroidism\",244.1],[\"Acquired hypothyroidism\",244.2],[\"Iodine hypothyroidism\",244.3],[\"Hypothyroidism NOS\",244.4],[\"Congenital hypothyroidism\",244.5],[\"Thyroiditis\",245.0],[\"Thyroiditis, acute and subacute\",245.1],[\"Chronic thyroiditis\",245.2],[\"Chronic lymphocytic thyroiditis\",245.21],[\"Other disorders of thyroid\",246.0],[\"Thyroid cyst\",246.2],[\"Abnormal results of function study of thyroid\",246.7],[\"Secondary diabetes mellitus\",249.0],[\"Diabetes mellitus\",250.0],[\"Type 1 diabetes\",250.1],[\"Type 1 diabetes with ketoacidosis\",250.11],[\"Type 1 diabetes with renal manifestations\",250.12],[\"Type 1 diabetes with ophthalmic manifestations\",250.13],[\"Type 1 diabetes with neurological manifestations\",250.14],[\"Diabetes type 1 with peripheral circulatory disorders\",250.15],[\"Type 2 diabetes\",250.2],[\"Type 2 diabetes with ketoacidosis\",250.21],[\"Type 2 diabetes with renal manifestations\",250.22],[\"Type 2 diabetes with ophthalmic manifestations\",250.23],[\"Type 2 diabetes with neurological manifestations\",250.24],[\"Diabetes type 2 with peripheral circulatory disorders\",250.25],[\"Insulin pump user\",250.3],[\"Abnormal glucose\",250.4],[\"Impaired fasting glucose\",250.41],[\"Other abnormal glucose\",250.42],[\"Glycosuria or Acetonuria\",250.5],[\"Polyneuropathy in diabetes\",250.6],[\"Diabetic retinopathy\",250.7],[\"Other disorders of pancreatic internal secretion\",251.0],[\"Hypoglycemia\",251.1],[\"Abnormality of secretion of glucagon or gastrin\",251.8],[\"Disorders of parathyroid gland\",252.0],[\"Hyperparathyroidism\",252.1],[\"Hypoparathyroidism\",252.2],[\"Disorders of the pituitary gland and its hypothalamic control\",253.0],[\"Pituitary hyperfunction\",253.1],[\"Acromegaly and gigantism\",253.11],[\"Pituitary hypofunction\",253.2],[\"Diabetes insipidus\",253.3],[\"Anterior pituitary disorders\",253.4],[\"Pituitary dwarfism\",253.5],[\"Other disorders of neurohypophysis\",253.7],[\"Diseases of thymus gland\",254.0],[\"Disorders of adrenal glands\",255.0],[\"Adrenal hyperfunction\",255.1],[\"Cushing's syndrome\",255.11],[\"Hyperaldosteronism\",255.12],[\"Medulloadrenal hyperfunction\",255.13],[\"Adrenal hypofunction\",255.2],[\"Glucocorticoid deficiency\",255.21],[\"Mineralocorticoid deficiency\",255.22],[\"Adrenogenital disorders\",255.3],[\"Ovarian dysfunction\",256.0],[\"Hyperestrogenism\",256.1],[\"Polycystic ovaries\",256.4],[\"Testicular dysfunction\",257.0],[\"Testicular hypofunction\",257.1],[\"Other endocrine disorders\",259.0],[\"Nonspecific abnormal results of other endocrine function study\",259.1],[\"Carcinoid syndrome\",259.2],[\"Delay in sexual development and puberty NEC\",259.3],[\"Precocious sexual development and puberty NEC\",259.4],[\"Polyglandular activity in multiple endocrine adenomatosis\",259.8],[\"Protein-calorie malnutrition\",260.0],[\"severe protein-calorie malnutrition\",260.2],[\"Kwashiorkor\",260.21],[\"Nutritional marasmus\",260.22],[\"Adult failure to thrive\",260.3],[\"Anorexia\",260.6],[\"Polyphagia\",260.7],[\"Vitamin deficiency\",261.0],[\"Vitamin A deficiency\",261.1],[\"Vitamin B-complex deficiencies\",261.2],[\"Vitamin C deficiencies\",261.3],[\"Vitamin D deficiency\",261.4],[\"Rickets or osteomalacia\",261.41],[\"Mineral deficiency NEC\",262.0],[\"Other nutritional deficiency\",263.0],[\"Lack of normal physiological development\",264.0],[\"Short stature\",264.1],[\"Failure to thrive (childhood)\",264.2],[\"Delayed milestones\",264.3],[\"Lack of normal physiological development, unspecified\",264.9],[\"Proteinuria\",269.0],[\"Disturbances of amino-acid transport\",270.1],[\"Disturbances of sulphur-bearing amino-acid metabolism\",270.11],[\"Phenylketonuria [PKU]\",270.12],[\"Disorders of amino-acid metabolism\",270.2],[\"Disorders of urea cycle metabolism\",270.21],[\"Disorders of plasma protein metabolism\",270.3],[\"Polyclonal hypergammaglobulinemia\",270.31],[\"Paraproteinemia\",270.32],[\"Amyloidosis\",270.33],[\"Alpha-1-antitrypsin deficiency\",270.34],[\"Macroglobulinemia\",270.35],[\"Other specified disorders of plasma protein metabolism\",270.38],[\"Disorders of carbohydrate transport and metabolism\",271.0],[\"Intestinal disaccharidase deficiencies and disaccharide malabsorption\",271.3],[\"Other disorders of carbohydrate transport and metabolism\",271.9],[\"Disorders of lipoid metabolism\",272.0],[\"Hyperlipidemia\",272.1],[\"Hypercholesterolemia\",272.11],[\"Hyperglyceridemia\",272.12],[\"Mixed hyperlipidemia\",272.13],[\"Hyperchylomicronemia\",272.14],[\"Unspecified disorder of lipoid metabolism\",272.9],[\"Gout\",274.1],[\"Gouty arthropathy\",274.11],[\"Crystal arthropathies\",274.2],[\"Chondrocalcinosis\",274.21],[\"Disorders of mineral metabolism\",275.0],[\"Disorders of copper metabolism\",275.2],[\"Disorders of magnesium metabolism\",275.3],[\"Disorders of calcium\\u002fphosphorus metabolism\",275.5],[\"Hypocalcemia\",275.51],[\"Disorders of phosphorus metabolism\",275.53],[\"Hypercalcemia\",275.6],[\"Disorders of fluid, electrolyte, and acid-base balance\",276.0],[\"Electrolyte imbalance\",276.1],[\"Hyperosmolality and\\u002for hypernatremia\",276.11],[\"Hyposmolality and\\u002for hyponatremia\",276.12],[\"Hyperpotassemia\",276.13],[\"Hypopotassemia\",276.14],[\"Acid-base balance disorder\",276.4],[\"Acidosis\",276.41],[\"Alkalosis\",276.42],[\"Hypovolemia\",276.5],[\"Fluid overload\",276.6],[\"Polydipsia\",276.8],[\"Other disorders of metabolism\",277.0],[\"Disorders of porphyrin metabolism\",277.1],[\"Other disorders of purine and pyrimidine metabolism\",277.2],[\"Disorders of bilirubin excretion\",277.4],[\"Other disorders of lipoid metabolism\",277.5],[\"Lipoprotein disorders\",277.51],[\"Other deficiencies of circulating enzymes\",277.6],[\"Dysmetabolic syndrome X\",277.7],[\"Carnitine deficiencies\",277.8],[\"Overweight, obesity and other hyperalimentation\",278.0],[\"Obesity\",278.1],[\"Morbid obesity\",278.11],[\"Localized adiposity\",278.3],[\"Abnormal weight gain\",278.4],[\"Disorders involving the immune mechanism\",279.0],[\"Immunity deficiency\",279.1],[\"Deficiency of humoral immunity\",279.11],[\"Autoimmune disease NEC\",279.2],[\"Other immunological findings\",279.7],[\"Other specified disorders involving the immune mechanism\",279.8]],\"hovertemplate\":\"\\u003cb\\u003e%{hovertext}\\u003c\\u002fb\\u003e\\u003cbr\\u003e\\u003cbr\\u003ecategory=endocrine\\u002fmetabolic\\u003cbr\\u003e0=%{x}\\u003cbr\\u003e1=%{y}\\u003cbr\\u003edescription=%{customdata[0]}\\u003cbr\\u003ephecode=%{customdata[1]}\\u003cextra\\u003e\\u003c\\u002fextra\\u003e\",\"hovertext\":[\"Simple and unspecified goiter\",\"Nontoxic nodular goiter\",\"Nontoxic uninodular goiter\",\"Nontoxic multinodular goiter\",\"Thyrotoxicosis with or without goiter\",\"Graves' disease\",\"Toxic multinodular goiter\",\"Exophthalmos\",\"Thyrotoxic exophthalmos\",\"Hypothyroidism\",\"Secondary hypothyroidism\",\"Acquired hypothyroidism\",\"Iodine hypothyroidism\",\"Hypothyroidism NOS\",\"Congenital hypothyroidism\",\"Thyroiditis\",\"Thyroiditis, acute and subacute\",\"Chronic thyroiditis\",\"Chronic lymphocytic thyroiditis\",\"Other disorders of thyroid\",\"Thyroid cyst\",\"Abnormal results of function study of thyroid\",\"Secondary diabetes mellitus\",\"Diabetes mellitus\",\"Type 1 diabetes\",\"Type 1 diabetes with ketoacidosis\",\"Type 1 diabetes with renal manifestations\",\"Type 1 diabetes with ophthalmic manifestations\",\"Type 1 diabetes with neurological manifestations\",\"Diabetes type 1 with peripheral circulatory disorders\",\"Type 2 diabetes\",\"Type 2 diabetes with ketoacidosis\",\"Type 2 diabetes with renal manifestations\",\"Type 2 diabetes with ophthalmic manifestations\",\"Type 2 diabetes with neurological manifestations\",\"Diabetes type 2 with peripheral circulatory disorders\",\"Insulin pump user\",\"Abnormal glucose\",\"Impaired fasting glucose\",\"Other abnormal glucose\",\"Glycosuria or Acetonuria\",\"Polyneuropathy in diabetes\",\"Diabetic retinopathy\",\"Other disorders of pancreatic internal secretion\",\"Hypoglycemia\",\"Abnormality of secretion of glucagon or gastrin\",\"Disorders of parathyroid gland\",\"Hyperparathyroidism\",\"Hypoparathyroidism\",\"Disorders of the pituitary gland and its hypothalamic control\",\"Pituitary hyperfunction\",\"Acromegaly and gigantism\",\"Pituitary hypofunction\",\"Diabetes insipidus\",\"Anterior pituitary disorders\",\"Pituitary dwarfism\",\"Other disorders of neurohypophysis\",\"Diseases of thymus gland\",\"Disorders of adrenal glands\",\"Adrenal hyperfunction\",\"Cushing's syndrome\",\"Hyperaldosteronism\",\"Medulloadrenal hyperfunction\",\"Adrenal hypofunction\",\"Glucocorticoid deficiency\",\"Mineralocorticoid deficiency\",\"Adrenogenital disorders\",\"Ovarian dysfunction\",\"Hyperestrogenism\",\"Polycystic ovaries\",\"Testicular dysfunction\",\"Testicular hypofunction\",\"Other endocrine disorders\",\"Nonspecific abnormal results of other endocrine function study\",\"Carcinoid syndrome\",\"Delay in sexual development and puberty NEC\",\"Precocious sexual development and puberty NEC\",\"Polyglandular activity in multiple endocrine adenomatosis\",\"Protein-calorie malnutrition\",\"severe protein-calorie malnutrition\",\"Kwashiorkor\",\"Nutritional marasmus\",\"Adult failure to thrive\",\"Anorexia\",\"Polyphagia\",\"Vitamin deficiency\",\"Vitamin A deficiency\",\"Vitamin B-complex deficiencies\",\"Vitamin C deficiencies\",\"Vitamin D deficiency\",\"Rickets or osteomalacia\",\"Mineral deficiency NEC\",\"Other nutritional deficiency\",\"Lack of normal physiological development\",\"Short stature\",\"Failure to thrive (childhood)\",\"Delayed milestones\",\"Lack of normal physiological development, unspecified\",\"Proteinuria\",\"Disturbances of amino-acid transport\",\"Disturbances of sulphur-bearing amino-acid metabolism\",\"Phenylketonuria [PKU]\",\"Disorders of amino-acid metabolism\",\"Disorders of urea cycle metabolism\",\"Disorders of plasma protein metabolism\",\"Polyclonal hypergammaglobulinemia\",\"Paraproteinemia\",\"Amyloidosis\",\"Alpha-1-antitrypsin deficiency\",\"Macroglobulinemia\",\"Other specified disorders of plasma protein metabolism\",\"Disorders of carbohydrate transport and metabolism\",\"Intestinal disaccharidase deficiencies and disaccharide malabsorption\",\"Other disorders of carbohydrate transport and metabolism\",\"Disorders of lipoid metabolism\",\"Hyperlipidemia\",\"Hypercholesterolemia\",\"Hyperglyceridemia\",\"Mixed hyperlipidemia\",\"Hyperchylomicronemia\",\"Unspecified disorder of lipoid metabolism\",\"Gout\",\"Gouty arthropathy\",\"Crystal arthropathies\",\"Chondrocalcinosis\",\"Disorders of mineral metabolism\",\"Disorders of copper metabolism\",\"Disorders of magnesium metabolism\",\"Disorders of calcium\\u002fphosphorus metabolism\",\"Hypocalcemia\",\"Disorders of phosphorus metabolism\",\"Hypercalcemia\",\"Disorders of fluid, electrolyte, and acid-base balance\",\"Electrolyte imbalance\",\"Hyperosmolality and\\u002for hypernatremia\",\"Hyposmolality and\\u002for hyponatremia\",\"Hyperpotassemia\",\"Hypopotassemia\",\"Acid-base balance disorder\",\"Acidosis\",\"Alkalosis\",\"Hypovolemia\",\"Fluid overload\",\"Polydipsia\",\"Other disorders of metabolism\",\"Disorders of porphyrin metabolism\",\"Other disorders of purine and pyrimidine metabolism\",\"Disorders of bilirubin excretion\",\"Other disorders of lipoid metabolism\",\"Lipoprotein disorders\",\"Other deficiencies of circulating enzymes\",\"Dysmetabolic syndrome X\",\"Carnitine deficiencies\",\"Overweight, obesity and other hyperalimentation\",\"Obesity\",\"Morbid obesity\",\"Localized adiposity\",\"Abnormal weight gain\",\"Disorders involving the immune mechanism\",\"Immunity deficiency\",\"Deficiency of humoral immunity\",\"Autoimmune disease NEC\",\"Other immunological findings\",\"Other specified disorders involving the immune mechanism\"],\"legendgroup\":\"endocrine\\u002fmetabolic\",\"marker\":{\"color\":\"#ab63fa\",\"symbol\":\"circle\"},\"mode\":\"markers\",\"name\":\"endocrine\\u002fmetabolic\",\"showlegend\":true,\"x\":[8.228429794311523,8.413145065307617,8.089795112609863,1.1491665840148926,8.011022567749023,8.051018714904785,8.25123405456543,6.731940746307373,-3.2702534198760986,1.8553630113601685,1.8938347101211548,8.147623062133789,2.2656772136688232,7.802278995513916,7.900970935821533,7.2621636390686035,7.620793342590332,8.272041320800781,8.174748420715332,8.073999404907227,1.335982322692871,7.58234167098999,9.694525718688965,10.420432090759277,18.52840805053711,17.967702865600586,18.187984466552734,18.343116760253906,18.08272361755371,18.489578247070312,10.90108871459961,10.536199569702148,10.39617919921875,17.807830810546875,10.861881256103516,11.218280792236328,9.99285888671875,-2.464571237564087,-2.5394790172576904,17.356292724609375,10.049304008483887,11.39759635925293,16.928319931030273,-0.5777562260627747,10.736834526062012,15.198633193969727,-3.3837547302246094,13.748039245605469,9.711357116699219,7.731586933135986,7.696354389190674,8.184897422790527,13.807751655578613,11.09080982208252,1.2237870693206787,1.1118086576461792,14.676587104797363,13.52009105682373,10.31091594696045,7.378742694854736,8.03727912902832,10.435091018676758,-0.5860296487808228,-1.8411672115325928,19.611600875854492,-1.4474680423736572,5.5280442237854,5.06274938583374,-3.8630635738372803,5.353574275970459,4.7070136070251465,5.824987411499023,5.244204044342041,3.425130605697632,10.269148826599121,6.375239849090576,5.4575042724609375,13.22284984588623,13.3093900680542,2.4739997386932373,13.498672485351562,13.348289489746094,2.4904847145080566,18.62946128845215,18.875696182250977,12.315701484680176,11.46320915222168,12.891358375549316,15.072661399841309,14.093645095825195,13.802077293395996,7.628698348999023,13.119904518127441,-1.207187533378601,5.479851245880127,16.414323806762695,-0.844563901424408,-1.0877225399017334,9.936994552612305,9.012299537658691,10.055401802062988,12.771302223205566,14.948577880859375,14.049302101135254,0.38024333119392395,0.25774431228637695,15.196928024291992,16.862268447875977,15.866494178771973,5.86917781829834,6.205623149871826,-0.9848929643630981,12.211173057556152,14.796844482421875,-2.7292721271514893,17.716726303100586,17.183666229248047,18.68381118774414,17.557533264160156,14.213868141174316,16.876956939697266,13.17988109588623,7.163338661193848,13.339834213256836,13.476648330688477,-3.416722059249878,14.796740531921387,12.305173873901367,13.674031257629395,12.917415618896484,13.2293062210083,13.337696075439453,-1.7124981880187988,11.57701301574707,11.706602096557617,11.53677749633789,9.69853401184082,12.04941177368164,-1.1795858144760132,9.594003677368164,10.03384780883789,11.947161674499512,-1.5608279705047607,11.263289451599121,13.253190994262695,13.089764595031738,13.776145935058594,12.98351001739502,7.848745822906494,15.699009895324707,14.166940689086914,18.445091247558594,9.528053283691406,10.366681098937988,11.055952072143555,10.761341094970703,-3.2789714336395264,-3.5045199394226074,1.2090154886245728,9.060432434082031,14.490520477294922,16.554086685180664,3.222994327545166,14.968649864196777],\"xaxis\":\"x\",\"y\":[15.605891227722168,15.522004127502441,15.545339584350586,8.576087951660156,14.634735107421875,14.285255432128906,14.685750007629395,-4.0955657958984375,-1.4272775650024414,9.712627410888672,9.783467292785645,15.190420150756836,10.118335723876953,14.827458381652832,14.868561744689941,13.407380104064941,13.583953857421875,15.266651153564453,15.262222290039062,16.00967025756836,8.902812004089355,15.177961349487305,3.6925971508026123,2.9485552310943604,0.7808621525764465,1.1242121458053589,0.8506097793579102,0.8071664571762085,1.0212899446487427,0.5687780976295471,2.7670466899871826,2.7795958518981934,2.8662846088409424,1.1712528467178345,2.775660991668701,2.569098711013794,2.883988618850708,4.4889373779296875,4.515316009521484,1.4453402757644653,3.126230239868164,2.719992160797119,1.3342663049697876,4.639875411987305,3.1476688385009766,6.651723384857178,4.365451812744141,2.0728299617767334,-4.558879852294922,14.595040321350098,14.924508094787598,14.650269508361816,-5.362429141998291,3.7753195762634277,8.770292282104492,9.052131652832031,-3.2315003871917725,-5.291343688964844,4.691250801086426,14.202751159667969,13.71414566040039,4.43140983581543,8.370484352111816,4.482347011566162,10.991759300231934,5.145362854003906,14.277624130249023,13.946815490722656,8.051950454711914,13.860883712768555,14.033355712890625,12.406522750854492,14.938868522644043,14.529797554016113,13.311497688293457,12.657232284545898,14.554373741149902,10.526659965515137,3.8292179107666016,5.6421003341674805,3.9771080017089844,3.8692657947540283,5.907332420349121,-5.3125457763671875,-4.986291885375977,3.498023271560669,3.1155104637145996,3.749678373336792,10.031493186950684,1.3473881483078003,1.1297088861465454,14.6571626663208,3.905380964279175,6.899823188781738,15.210886001586914,17.010547637939453,6.183653831481934,6.233503341674805,5.527970790863037,11.042868614196777,-4.362472057342529,-4.127781391143799,4.092125415802002,4.357534408569336,3.9585561752319336,3.6784965991973877,10.699848175048828,3.192730665206909,13.660906791687012,-1.5996588468551636,-1.0636227130889893,4.054234981536865,4.302890777587891,3.6217806339263916,1.2602319717407227,3.024991750717163,2.6361167430877686,5.025432586669922,2.8864941596984863,4.911796569824219,2.330233097076416,1.8735204935073853,7.71129035949707,1.506465196609497,1.4070537090301514,4.408626556396484,4.03186559677124,3.6754956245422363,1.7374809980392456,2.950331211090088,2.6845240592956543,2.702807903289795,4.775216579437256,4.183300018310547,4.036149501800537,4.051527500152588,4.223361015319824,4.396852970123291,4.5562849044799805,4.4645304679870605,4.5368428230285645,4.205925464630127,4.6855878829956055,3.889348030090332,4.156681537628174,5.903931617736816,1.5492160320281982,-4.817272663116455,-2.72810697555542,3.546428680419922,6.639194011688232,4.9154767990112305,1.661461353302002,2.7968528270721436,3.4977266788482666,3.9529778957366943,4.606688499450684,5.133551597595215,8.466611862182617,16.13715934753418,11.108715057373047,15.96909236907959,14.769608497619629,10.436657905578613],\"yaxis\":\"y\",\"type\":\"scattergl\",\"opacity\":0.9},{\"customdata\":[[\"Disorders of iron metabolism\",275.1],[\"Hereditary hemochromatosis\",275.11],[\"Iron deficiency anemias\",280.0],[\"Iron deficiency anemias, unspecified or not due to blood loss\",280.1],[\"Iron deficiency anemia secondary to blood loss (chronic)\",280.2],[\"Other deficiency anemia\",281.0],[\"Megaloblastic anemia\",281.1],[\"Pernicious anemia\",281.11],[\"Other vitamin B12 deficiency anemia\",281.12],[\"Folate-deficiency anemia\",281.13],[\"Deficiency anemias\",281.9],[\"Hereditary hemolytic anemias\",282.0],[\"Sickle cell anemia\",282.5],[\"Other hemoglobinopathies\",282.8],[\"Other hereditary hemolytic anemias\",282.9],[\"Acquired hemolytic anemias\",283.0],[\"Autoimmune hemolytic anemias\",283.1],[\"Non-autoimmune hemolytic anemias\",283.2],[\"Hemolytic-uremic syndrome\",283.21],[\"Aplastic anemia\",284.0],[\"Pancytopenia\",284.1],[\"Constitutional aplastic anemia\",284.2],[\"Other anemias\",285.0],[\"Acute posthemorrhagic anemia\",285.1],[\"Anemia of chronic disease\",285.2],[\"Anemia in chronic kidney disease\",285.21],[\"Anemia in neoplastic disease\",285.22],[\"Sideroblastic anemia\",285.3],[\"Hemoglobinuria\",285.8],[\"Coagulation defects\",286.0],[\"Congenital coagulation defects\",286.1],[\"Von willebrand's disease\",286.11],[\"Congenital deficiency of other clotting factors (including factor VII)\",286.12],[\"Congenital factor VIII disorder\",286.13],[\"Coagulation defects complicating pregnancy or postpartum\",286.3],[\"Acquired coagulation factor deficiency\",286.4],[\"Hemorrhagic disorder due to intrinsic circulating anticoagulants\",286.5],[\"Defibrination syndrome\",286.6],[\"Other and unspecified coagulation defects\",286.7],[\"Hypercoagulable state\",286.8],[\"Primary hypercoagulable state\",286.81],[\"Abnormal coagulation profile\",286.9],[\"Purpura and other hemorrhagic conditions\",287.0],[\"Allergic purpura\",287.2],[\"Thrombocytopenia\",287.3],[\"Primary thrombocytopenia\",287.31],[\"Secondary thrombocytopenia\",287.32],[\"Qualitative platelet defects\",287.4],[\"Diseases of white blood cells\",288.0],[\"Decreased white blood cell count\",288.1],[\"Neutropenia\",288.11],[\"Elevated white blood cell count\",288.2],[\"Eosinophilia\",288.3],[\"Other diseases of blood and blood-forming organs\",289.0],[\"Myelofibrosis\",289.1],[\"Personal history of diseases of blood and blood-forming organs\",289.3],[\"Lymphadenitis\",289.4],[\"Diseases of spleen\",289.5],[\"Polycythemia, secondary\",289.8],[\"Abnormality of red blood cells\",289.9]],\"hovertemplate\":\"\\u003cb\\u003e%{hovertext}\\u003c\\u002fb\\u003e\\u003cbr\\u003e\\u003cbr\\u003ecategory=hematopoietic\\u003cbr\\u003e0=%{x}\\u003cbr\\u003e1=%{y}\\u003cbr\\u003edescription=%{customdata[0]}\\u003cbr\\u003ephecode=%{customdata[1]}\\u003cextra\\u003e\\u003c\\u002fextra\\u003e\",\"hovertext\":[\"Disorders of iron metabolism\",\"Hereditary hemochromatosis\",\"Iron deficiency anemias\",\"Iron deficiency anemias, unspecified or not due to blood loss\",\"Iron deficiency anemia secondary to blood loss (chronic)\",\"Other deficiency anemia\",\"Megaloblastic anemia\",\"Pernicious anemia\",\"Other vitamin B12 deficiency anemia\",\"Folate-deficiency anemia\",\"Deficiency anemias\",\"Hereditary hemolytic anemias\",\"Sickle cell anemia\",\"Other hemoglobinopathies\",\"Other hereditary hemolytic anemias\",\"Acquired hemolytic anemias\",\"Autoimmune hemolytic anemias\",\"Non-autoimmune hemolytic anemias\",\"Hemolytic-uremic syndrome\",\"Aplastic anemia\",\"Pancytopenia\",\"Constitutional aplastic anemia\",\"Other anemias\",\"Acute posthemorrhagic anemia\",\"Anemia of chronic disease\",\"Anemia in chronic kidney disease\",\"Anemia in neoplastic disease\",\"Sideroblastic anemia\",\"Hemoglobinuria\",\"Coagulation defects\",\"Congenital coagulation defects\",\"Von willebrand's disease\",\"Congenital deficiency of other clotting factors (including factor VII)\",\"Congenital factor VIII disorder\",\"Coagulation defects complicating pregnancy or postpartum\",\"Acquired coagulation factor deficiency\",\"Hemorrhagic disorder due to intrinsic circulating anticoagulants\",\"Defibrination syndrome\",\"Other and unspecified coagulation defects\",\"Hypercoagulable state\",\"Primary hypercoagulable state\",\"Abnormal coagulation profile\",\"Purpura and other hemorrhagic conditions\",\"Allergic purpura\",\"Thrombocytopenia\",\"Primary thrombocytopenia\",\"Secondary thrombocytopenia\",\"Qualitative platelet defects\",\"Diseases of white blood cells\",\"Decreased white blood cell count\",\"Neutropenia\",\"Elevated white blood cell count\",\"Eosinophilia\",\"Other diseases of blood and blood-forming organs\",\"Myelofibrosis\",\"Personal history of diseases of blood and blood-forming organs\",\"Lymphadenitis\",\"Diseases of spleen\",\"Polycythemia, secondary\",\"Abnormality of red blood cells\"],\"legendgroup\":\"hematopoietic\",\"marker\":{\"color\":\"#FFA15A\",\"symbol\":\"circle\"},\"mode\":\"markers\",\"name\":\"hematopoietic\",\"showlegend\":true,\"x\":[14.892379760742188,13.921547889709473,-1.027388572692871,15.090115547180176,-1.6865333318710327,15.107890129089355,15.149334907531738,13.247255325317383,15.187458992004395,12.992204666137695,14.635960578918457,2.404061794281006,13.725160598754883,14.424406051635742,17.0864315032959,-0.8409758806228638,16.062213897705078,-0.7710317373275757,11.604731559753418,15.429056167602539,15.67639446258545,15.019493103027344,14.677020072937012,13.652100563049316,15.571130752563477,-0.14642690122127533,0.19849900901317596,15.392080307006836,14.982812881469727,14.906871795654297,17.163036346435547,17.199195861816406,16.142969131469727,17.169843673706055,10.610747337341309,-2.2202675342559814,16.279516220092773,6.171310901641846,5.833762168884277,15.4950532913208,16.000652313232422,-2.058642864227295,15.069331169128418,20.855228424072266,15.931233406066895,14.96966552734375,0.6945911049842834,17.06361198425293,14.55774211883545,15.761617660522461,16.03053092956543,15.632315635681152,15.261210441589355,16.111093521118164,15.952656745910645,16.19774055480957,10.999981880187988,10.106476783752441,16.87152099609375,14.6465482711792],\"xaxis\":\"x\",\"y\":[3.9612741470336914,2.977916955947876,6.485493183135986,7.646960258483887,7.360917091369629,9.594304084777832,9.043530464172363,7.647621154785156,8.6240873336792,6.4634528160095215,8.120901107788086,5.96574068069458,6.618155479431152,6.9574198722839355,12.789146423339844,4.973520278930664,9.831842422485352,4.58429479598999,6.880521297454834,9.755196571350098,10.29554557800293,10.795496940612793,9.094378471374512,7.230897903442383,10.960648536682129,5.641060829162598,5.330399513244629,9.998311042785645,9.303651809692383,15.696467399597168,11.8690824508667,11.854289054870605,15.207858085632324,12.214043617248535,6.562101364135742,8.710123062133789,15.710268020629883,-0.48719438910484314,-0.4524244964122772,15.615172386169434,15.753125190734863,8.475398063659668,4.530782699584961,10.141680717468262,9.8164644241333,9.405044555664062,5.126038551330566,11.45164680480957,11.949542999267578,11.04751968383789,11.359867095947266,11.264633178710938,11.006424903869629,10.347360610961914,10.35328197479248,13.001808166503906,12.055209159851074,5.868134021759033,10.676668167114258,6.3647236824035645],\"yaxis\":\"y\",\"type\":\"scattergl\",\"opacity\":0.9},{\"customdata\":[[\"Delirium dementia and amnestic and other cognitive disorders\",290.0],[\"Dementias\",290.1],[\"Alzheimer's disease\",290.11],[\"Dementia with cerebral degenerations\",290.12],[\"Senile dementia\",290.13],[\"Vascular dementia\",290.16],[\"Delirium due to conditions classified elsewhere\",290.2],[\"Other persistent mental disorders due to conditions classified elsewhere\",290.3],[\"Other specified nonpsychotic and\\u002for transient mental disorders\",291.0],[\"Transient mental disorders due to conditions classified elsewhere\",291.1],[\"Specific nonpsychotic mental disorders due to brain damage\",291.4],[\"Alteration of consciousness\",291.8],[\"Neurological disorders\",292.0],[\"Aphasia\\u002fspeech disturbance\",292.1],[\"Aphasia\",292.11],[\"Symbolic dysfunction\",292.12],[\"Mild cognitive impairment\",292.2],[\"Memory loss\",292.3],[\"Altered mental status\",292.4],[\"Transient alteration of awareness\",292.5],[\"Hallucinations\",292.6],[\"Symptoms involving head and neck\",293.0],[\"Swelling, mass, or lump in head and neck [Space-occupying lesion, intracranial NOS]\",293.1],[\"Schizophrenia and other psychotic disorders\",295.0],[\"Schizophrenia\",295.1],[\"Paranoid disorders\",295.2],[\"Psychosis\",295.3],[\"Mood disorders\",296.0],[\"Bipolar\",296.1],[\"Depression\",296.2],[\"Major depressive disorder\",296.22],[\"Suicidal ideation or attempt\",297.0],[\"Suicidal ideation\",297.1],[\"Suicide or self-inflicted injury\",297.2],[\"Anxiety disorders\",300.0],[\"Anxiety disorder\",300.1],[\"Generalized anxiety disorder\",300.11],[\"Agorophobia, social phobia, and panic disorder\",300.12],[\"Phobia\",300.13],[\"Generalized anxiety & phobic disorders\",300.2],[\"Obsessive-compulsive disorders\",300.3],[\"Dysthymic disorder\",300.4],[\"Acute reaction to stress\",300.8],[\"Posttraumatic stress disorder\",300.9],[\"Personality disorders\",301.0],[\"Schizoid personality disorder\",301.1],[\"Antisocial\\u002fborderline personality disorder\",301.2],[\"Sexual and gender identity disorders\",302.0],[\"Decreased libido\",302.1],[\"Psychogenic and somatoform disorders\",303.0],[\"Dissociative disorder\",303.1],[\"Psychogenic disorder\",303.3],[\"Gastrointestinal malfunction arising from mental factors\",303.31],[\"Somatoform disorder\",303.4],[\"Adjustment reaction\",304.0],[\"Eating disorder\",305.2],[\"Anorexia nervosa\",305.21],[\"Other mental disorder\",306.0],[\"Tension headache\",306.9],[\"Conduct disorders\",312.0],[\"Impulse control disorder\",312.3],[\"Pervasive developmental disorders\",313.0],[\"Attention deficit hyperactivity disorder\",313.1],[\"Tics and stuttering\",313.2],[\"Autism\",313.3],[\"Develomental delays and disorders\",315.0],[\"Learning disorder\",315.1],[\"Speech and language disorder\",315.2],[\"Mental retardation\",315.3],[\"Substance addiction and disorders\",316.0],[\"Polyneuropathy due to drugs\",316.1],[\"Alcohol-related disorders\",317.0],[\"Alcoholism\",317.1],[\"Alcoholic liver damage\",317.11]],\"hovertemplate\":\"\\u003cb\\u003e%{hovertext}\\u003c\\u002fb\\u003e\\u003cbr\\u003e\\u003cbr\\u003ecategory=mental disorders\\u003cbr\\u003e0=%{x}\\u003cbr\\u003e1=%{y}\\u003cbr\\u003edescription=%{customdata[0]}\\u003cbr\\u003ephecode=%{customdata[1]}\\u003cextra\\u003e\\u003c\\u002fextra\\u003e\",\"hovertext\":[\"Delirium dementia and amnestic and other cognitive disorders\",\"Dementias\",\"Alzheimer's disease\",\"Dementia with cerebral degenerations\",\"Senile dementia\",\"Vascular dementia\",\"Delirium due to conditions classified elsewhere\",\"Other persistent mental disorders due to conditions classified elsewhere\",\"Other specified nonpsychotic and\\u002for transient mental disorders\",\"Transient mental disorders due to conditions classified elsewhere\",\"Specific nonpsychotic mental disorders due to brain damage\",\"Alteration of consciousness\",\"Neurological disorders\",\"Aphasia\\u002fspeech disturbance\",\"Aphasia\",\"Symbolic dysfunction\",\"Mild cognitive impairment\",\"Memory loss\",\"Altered mental status\",\"Transient alteration of awareness\",\"Hallucinations\",\"Symptoms involving head and neck\",\"Swelling, mass, or lump in head and neck [Space-occupying lesion, intracranial NOS]\",\"Schizophrenia and other psychotic disorders\",\"Schizophrenia\",\"Paranoid disorders\",\"Psychosis\",\"Mood disorders\",\"Bipolar\",\"Depression\",\"Major depressive disorder\",\"Suicidal ideation or attempt\",\"Suicidal ideation\",\"Suicide or self-inflicted injury\",\"Anxiety disorders\",\"Anxiety disorder\",\"Generalized anxiety disorder\",\"Agorophobia, social phobia, and panic disorder\",\"Phobia\",\"Generalized anxiety & phobic disorders\",\"Obsessive-compulsive disorders\",\"Dysthymic disorder\",\"Acute reaction to stress\",\"Posttraumatic stress disorder\",\"Personality disorders\",\"Schizoid personality disorder\",\"Antisocial\\u002fborderline personality disorder\",\"Sexual and gender identity disorders\",\"Decreased libido\",\"Psychogenic and somatoform disorders\",\"Dissociative disorder\",\"Psychogenic disorder\",\"Gastrointestinal malfunction arising from mental factors\",\"Somatoform disorder\",\"Adjustment reaction\",\"Eating disorder\",\"Anorexia nervosa\",\"Other mental disorder\",\"Tension headache\",\"Conduct disorders\",\"Impulse control disorder\",\"Pervasive developmental disorders\",\"Attention deficit hyperactivity disorder\",\"Tics and stuttering\",\"Autism\",\"Develomental delays and disorders\",\"Learning disorder\",\"Speech and language disorder\",\"Mental retardation\",\"Substance addiction and disorders\",\"Polyneuropathy due to drugs\",\"Alcohol-related disorders\",\"Alcoholism\",\"Alcoholic liver damage\"],\"legendgroup\":\"mental disorders\",\"marker\":{\"color\":\"#19d3f3\",\"symbol\":\"circle\"},\"mode\":\"markers\",\"name\":\"mental disorders\",\"showlegend\":true,\"x\":[12.488649368286133,12.393447875976562,13.052299499511719,12.330265998840332,12.57081127166748,14.413559913635254,14.313575744628906,14.59074592590332,-1.3303945064544678,-0.9909306764602661,12.552689552307129,14.62150764465332,14.832745552062988,12.087956428527832,12.260451316833496,12.203353881835938,14.930985450744629,13.178892135620117,14.808381080627441,-1.2945506572723389,16.616453170776367,6.523606777191162,11.21535873413086,19.6656494140625,19.799203872680664,19.702951431274414,19.570470809936523,19.116138458251953,19.178163528442383,17.82427406311035,18.303953170776367,6.5696024894714355,19.16499137878418,16.606454849243164,18.059131622314453,18.269119262695312,17.51878547668457,17.729900360107422,19.213069915771484,17.88241958618164,17.514373779296875,18.593124389648438,18.778289794921875,17.834819793701172,18.92645263671875,18.872802734375,19.62067413330078,6.5014777183532715,6.755464553833008,17.256046295166016,17.111230850219727,18.824848175048828,2.313843250274658,17.413244247436523,19.35719108581543,18.92378807067871,18.329387664794922,19.293167114257812,9.906108856201172,19.227720260620117,17.444602966308594,18.299501419067383,14.135284423828125,15.412711143493652,16.271089553833008,15.96068286895752,15.684955596923828,12.570793151855469,14.303812026977539,19.2514591217041,2.5262839794158936,18.73600196838379,14.59762191772461,12.08630084991455],\"xaxis\":\"x\",\"y\":[-4.417555809020996,-4.076502799987793,-3.4678449630737305,-4.300517559051514,-4.326015472412109,-2.835204601287842,-3.8343541622161865,-4.432613372802734,3.0253005027770996,3.438415288925171,-2.6745753288269043,-3.3974273204803467,-4.490686416625977,-3.9783577919006348,-3.3077175617218018,-3.596022605895996,-4.550077438354492,-3.36220645904541,-4.345273494720459,3.2870230674743652,-4.424714088439941,4.483733654022217,11.668889045715332,-4.528345108032227,-3.4565887451171875,-3.270524501800537,-4.490242004394531,-3.6157097816467285,-3.6741952896118164,-3.8791966438293457,-3.8984007835388184,-1.9134351015090942,-4.611518859863281,-5.11906099319458,-4.102149963378906,-4.232644557952881,-4.596273899078369,-5.520869255065918,-3.8516664505004883,-3.751324415206909,-4.0928473472595215,-3.8811025619506836,-3.6269924640655518,-4.821817874908447,-3.4894251823425293,-4.022099494934082,-3.3617734909057617,7.403890609741211,7.227882385253906,-4.385785102844238,-4.2773566246032715,-4.807283401489258,5.02225399017334,-4.172684669494629,-3.4121594429016113,-5.325722694396973,-5.591873645782471,-4.035190582275391,-2.634197950363159,-4.492691993713379,-5.166007995605469,-4.371241092681885,-4.632055282592773,-4.746002197265625,-4.6440110206604,-4.9491705894470215,-4.607163429260254,-4.246731281280518,-3.8977274894714355,-5.083955764770508,5.354249000549316,-5.028392791748047,-4.10482931137085,5.655031681060791],\"yaxis\":\"y\",\"type\":\"scattergl\",\"opacity\":0.9},{\"customdata\":[[\"Meningitis\",320.0],[\"Encephalitis\",323.0],[\"Acute (transverse) myelitis\",323.2],[\"Encephalitis, non-infectious\",323.8],[\"Other CNS infection and poliomyelitis\",324.0],[\"Jakob-Creutzfeldt disease\",324.1],[\"Phlebitis and thrombophlebitis of intracranial venous sinuses\",325.0],[\"Sleep disorders\",327.0],[\"Hypersomnia\",327.1],[\"Sleep apnea\",327.3],[\"Central\\u002fnonobstroctive sleep apnea\",327.31],[\"Obstructive sleep apnea\",327.32],[\"Insomnia\",327.4],[\"Organic or persistent insomnia\",327.41],[\"Parasomnia\",327.5],[\"Circadian rhythm sleep disorder\",327.6],[\"Sleep related movement disorders\",327.7],[\"Restless legs syndrome\",327.71],[\"Sleep related leg cramps\",327.72],[\"Other cerebral degenerations\",331.0],[\"Hydrocephalus\",331.1],[\"Cerebral degeneration, unspecified\",331.9],[\"Parkinson's disease\",332.0],[\"Extrapyramidal disease and abnormal movement disorders\",333.0],[\"Essential tremor\",333.1],[\"Myoclonus\",333.2],[\"Tics and choreas\",333.3],[\"Torsion dystonia\",333.4],[\"Other degenerative diseases of the basal ganglia\",333.8],[\"Degenerative disease of the spinal cord\",334.0],[\"Spinocerebellar disease\",334.1],[\"Anterior horn cell disease\",334.2],[\"Amyotrophic Lateral Sclerosis\",334.21],[\"Multiple sclerosis\",335.0],[\"Disorders of the autonomic nervous system\",337.0],[\"Peripheral autonomic neuropathy\",337.1],[\"Pain\",338.0],[\"Other headache syndromes\",339.0],[\"Migraine\",340.0],[\"Migrain with aura\",340.1],[\"Other demyelinating diseases of central nervous system\",341.0],[\"Infantile cerebral palsy\",343.0],[\"Other paralytic syndromes\",344.0],[\"Epilepsy, recurrent seizures, convulsions\",345.0],[\"Epilepsy\",345.1],[\"Generalized convulsive epilepsy\",345.11],[\"Partial epilepsy\",345.12],[\"Convulsions\",345.3],[\"Abnormal findings on study of brain and\\u002for nervous system\",346.0],[\"Nonspecific abnormal results of function study of brain and central nervous system\",346.2],[\"Cataplexy and narcolepsy\",347.0],[\"Other conditions of brain\",348.0],[\"Cerebral edema and compression of brain\",348.2],[\"Cerebral cysts\",348.4],[\"Coma\",348.7],[\"Encephalopathy, not elsewhere classified\",348.8],[\"Other conditions of brain, NOS\",348.9],[\"Other and unspecified disorders of the nervous system\",349.0],[\"Abnormal movement\",350.0],[\"Abnormal involuntary movements\",350.1],[\"Abnormality of gait\",350.2],[\"Lack of coordination\",350.3],[\"Abnormal reflex\",350.5],[\"Disturbances of sensation of smell and taste\",350.6],[\"Other peripheral nerve disorders\",351.0],[\"Disorders of other cranial nerves\",352.0],[\"Trigeminal nerve disorders [CN5]\",352.1],[\"Facial nerve disorders [CN7]\",352.2],[\"Nerve root and plexus disorders\",353.0],[\"Nerve plexus lesions\",353.1],[\"Nerve root lesions\",353.2],[\"Complex regional\\u002fcentral pain syndrome\",355.0],[\"Chronic pain syndrome\",355.1],[\"Hereditary and idiopathic peripheral neuropathy\",356.0],[\"Inflammatory and toxic neuropathy\",357.0],[\"Myoneural disorders\",358.0],[\"Myasthenia gravis\",358.1],[\"Muscular dystrophies and other myopathies\",359.0],[\"Muscular dystrophies\",359.1],[\"Myopathy\",359.2]],\"hovertemplate\":\"\\u003cb\\u003e%{hovertext}\\u003c\\u002fb\\u003e\\u003cbr\\u003e\\u003cbr\\u003ecategory=neurological\\u003cbr\\u003e0=%{x}\\u003cbr\\u003e1=%{y}\\u003cbr\\u003edescription=%{customdata[0]}\\u003cbr\\u003ephecode=%{customdata[1]}\\u003cextra\\u003e\\u003c\\u002fextra\\u003e\",\"hovertext\":[\"Meningitis\",\"Encephalitis\",\"Acute (transverse) myelitis\",\"Encephalitis, non-infectious\",\"Other CNS infection and poliomyelitis\",\"Jakob-Creutzfeldt disease\",\"Phlebitis and thrombophlebitis of intracranial venous sinuses\",\"Sleep disorders\",\"Hypersomnia\",\"Sleep apnea\",\"Central\\u002fnonobstroctive sleep apnea\",\"Obstructive sleep apnea\",\"Insomnia\",\"Organic or persistent insomnia\",\"Parasomnia\",\"Circadian rhythm sleep disorder\",\"Sleep related movement disorders\",\"Restless legs syndrome\",\"Sleep related leg cramps\",\"Other cerebral degenerations\",\"Hydrocephalus\",\"Cerebral degeneration, unspecified\",\"Parkinson's disease\",\"Extrapyramidal disease and abnormal movement disorders\",\"Essential tremor\",\"Myoclonus\",\"Tics and choreas\",\"Torsion dystonia\",\"Other degenerative diseases of the basal ganglia\",\"Degenerative disease of the spinal cord\",\"Spinocerebellar disease\",\"Anterior horn cell disease\",\"Amyotrophic Lateral Sclerosis\",\"Multiple sclerosis\",\"Disorders of the autonomic nervous system\",\"Peripheral autonomic neuropathy\",\"Pain\",\"Other headache syndromes\",\"Migraine\",\"Migrain with aura\",\"Other demyelinating diseases of central nervous system\",\"Infantile cerebral palsy\",\"Other paralytic syndromes\",\"Epilepsy, recurrent seizures, convulsions\",\"Epilepsy\",\"Generalized convulsive epilepsy\",\"Partial epilepsy\",\"Convulsions\",\"Abnormal findings on study of brain and\\u002for nervous system\",\"Nonspecific abnormal results of function study of brain and central nervous system\",\"Cataplexy and narcolepsy\",\"Other conditions of brain\",\"Cerebral edema and compression of brain\",\"Cerebral cysts\",\"Coma\",\"Encephalopathy, not elsewhere classified\",\"Other conditions of brain, NOS\",\"Other and unspecified disorders of the nervous system\",\"Abnormal movement\",\"Abnormal involuntary movements\",\"Abnormality of gait\",\"Lack of coordination\",\"Abnormal reflex\",\"Disturbances of sensation of smell and taste\",\"Other peripheral nerve disorders\",\"Disorders of other cranial nerves\",\"Trigeminal nerve disorders [CN5]\",\"Facial nerve disorders [CN7]\",\"Nerve root and plexus disorders\",\"Nerve plexus lesions\",\"Nerve root lesions\",\"Complex regional\\u002fcentral pain syndrome\",\"Chronic pain syndrome\",\"Hereditary and idiopathic peripheral neuropathy\",\"Inflammatory and toxic neuropathy\",\"Myoneural disorders\",\"Myasthenia gravis\",\"Muscular dystrophies and other myopathies\",\"Muscular dystrophies\",\"Myopathy\"],\"legendgroup\":\"neurological\",\"marker\":{\"color\":\"#FF6692\",\"symbol\":\"circle\"},\"mode\":\"markers\",\"name\":\"neurological\",\"showlegend\":true,\"x\":[8.663392066955566,8.498244285583496,8.55892562866211,10.74112319946289,10.517678260803223,10.551092147827148,8.921748161315918,17.30793571472168,17.041587829589844,21.455074310302734,14.842923164367676,20.929014205932617,17.07340431213379,17.24728012084961,16.99383544921875,17.14304542541504,17.583232879638672,17.541748046875,-1.0737327337265015,13.193428039550781,12.82793140411377,13.511263847351074,13.468369483947754,15.21471118927002,13.930731773376465,10.262256622314453,14.101405143737793,14.455367088317871,10.584359169006348,11.040712356567383,11.960929870605469,13.137798309326172,11.447545051574707,11.083083152770996,11.684525489807129,9.393905639648438,13.006121635437012,11.182599067687988,10.647720336914062,10.452046394348145,14.953649520874023,13.036105155944824,6.149504661560059,11.833562850952148,11.902946472167969,13.318408012390137,13.523366928100586,12.03148365020752,-4.185152053833008,-4.445871829986572,15.434986114501953,14.645573616027832,10.833171844482422,11.75712776184082,12.52127742767334,14.228022575378418,12.932092666625977,11.89085865020752,-0.7438184022903442,10.24416732788086,-0.5747569799423218,12.544486045837402,-0.7310208082199097,6.350223064422607,15.3047513961792,10.075817108154297,10.728888511657715,9.953414916992188,10.748080253601074,14.768778800964355,13.301753044128418,16.818971633911133,6.421105861663818,10.546140670776367,9.970321655273438,14.591485977172852,15.381208419799805,-4.997754096984863,15.699162483215332,15.399788856506348],\"xaxis\":\"x\",\"y\":[1.6678045988082886,1.779486894607544,1.305101752281189,-1.1455347537994385,-0.6630188822746277,-3.662229299545288,-0.05876028910279274,-6.022250175476074,-5.899346828460693,6.43477201461792,-2.6375045776367188,7.119681358337402,-6.206984519958496,-6.337630748748779,-5.870278835296631,-6.266422271728516,-6.273556232452393,-5.867307662963867,3.6250710487365723,-4.063403129577637,-4.423421382904053,-3.7639882564544678,-4.14884090423584,-4.735106945037842,-4.099712371826172,-3.721585512161255,-3.058366537094116,-4.632408142089844,-3.9989256858825684,-2.98410964012146,-2.9086732864379883,-5.570861339569092,-3.3438241481781006,-3.12933087348938,-3.42708683013916,-3.356997013092041,0.10117198526859283,-3.1920697689056396,-2.9874563217163086,-3.579110860824585,-4.385705471038818,-5.572894096374512,7.343959331512451,-3.904062509536743,-3.5331249237060547,-4.481292724609375,-5.423250198364258,-3.4479026794433594,0.18097054958343506,0.07787288725376129,-4.201521873474121,-2.2357242107391357,-4.16395378112793,-3.3749818801879883,-2.651883840560913,-2.288628339767456,-3.5607824325561523,1.9941366910934448,3.8876607418060303,-4.2018914222717285,3.7160141468048096,-3.3485710620880127,3.674177646636963,3.9782419204711914,0.9626582264900208,-0.21443575620651245,-2.7446000576019287,-1.1112736463546753,-2.3729476928710938,2.0687315464019775,-0.9550208449363708,-0.08120137453079224,6.754640102386475,-2.549453020095825,-3.1664235591888428,10.474312782287598,4.2797980308532715,3.3122310638427734,3.176602602005005,3.357745885848999],\"yaxis\":\"y\",\"type\":\"scattergl\",\"opacity\":0.9},{\"customdata\":[[\"Disorders of the globe\",360.0],[\"Progressive myopia\",360.2],[\"Hypotony of eye\",360.3],[\"Retinal detachments and defects\",361.0],[\"Retinal detachment with retinal defect\",361.1],[\"Retinoschisis and retinal cysts\",361.2],[\"Other retinal disorders\",362.0],[\"Retinopathy of prematurity\",362.1],[\"Degeneration of macula and posterior pole of retina\",362.2],[\"Macular degeneration, dry\",362.21],[\"Macular degeneration, wet\",362.22],[\"Cystoid macular degeneration of retina\",362.23],[\"Macular puckering of retina\",362.26],[\"Drusen (degenerative) of retina\",362.27],[\"Macular degeneration (senile) of retina NOS\",362.29],[\"Other nondiabetic retinopathy\",362.3],[\"Separation of retinal layers\",362.31],[\"Retinal vascular changes and abnomalities\",362.4],[\"Toxic maculopathy of retina\",362.5],[\"Peripheral retinal degenerations\",362.6],[\"Hereditary retinal dystrophies\",362.7],[\"Retinal hemorrhage\\u002fischemia\",362.8],[\"Retinal edema\",362.9],[\"Chorioretinal inflammations, scars, and other disorders of choroid\",363.0],[\"Chorioretinal scars\",363.3],[\"Choroidal degenerations\",363.4],[\"Corneal opacity and other disorders of cornea\",364.0],[\"Corneal opacity\",364.1],[\"Corneal edema\",364.2],[\"Corneal degenerations\",364.4],[\"Keratoconus\",364.41],[\"Corneal dystrophy\",364.5],[\"Fuchs' dystrophy\",364.51],[\"Cornea replaced by transplant\",364.9],[\"Glaucoma\",365.0],[\"Open-angle glaucoma\",365.1],[\"Primary open angle glaucoma\",365.11],[\"Primary angle-closure glaucoma\",365.2],[\"Pseudoexfoliation glaucoma\",365.5],[\"Cataract\",366.0],[\"Nonsenile Cataract\",366.1],[\"Senile cataract\",366.2],[\"Traumatic cataract\",366.3],[\"Disorders of refraction and accommodation; blindness and low vision\",367.0],[\"Myopia\",367.1],[\"Astigmatism\",367.2],[\"Presbyopia\",367.4],[\"Hypermetropia\",367.8],[\"Blindness and low vision\",367.9],[\"Visual disturbances\",368.0],[\"Amblyopia\",368.1],[\"Diplopia and disorders of binocular vision\",368.2],[\"Anisometropia\",368.3],[\"Color vision deficiencies\",368.5],[\"Disorders of accommodation\",368.7],[\"Subjective visual disturbances\",368.9],[\"Psychophysical visual disturbances\",368.91],[\"Infection of the eye\",369.0],[\"Eye infection, viral\",369.2],[\"Conjunctivitis, infectious\",369.5],[\"Keratitis\",370.0],[\"Corneal ulcer\",370.1],[\"Superficial keratitis\",370.2],[\"Keratoconjunctivitis\",370.3],[\"Keratoconjunctivitis sicca\",370.31],[\"Inflammation of the eye\",371.0],[\"Uveitis, noninfectious or NOS\",371.1],[\"Conjunctivitis, noninfectious\",371.2],[\"Allergic conjunctivitis\",371.21],[\"Inflammation of eyelids\",371.3],[\"Noninfectious dermatoses of eyelid\",371.33],[\"Chronic inflammatory disorders of orbit\",371.9],[\"Disorders of conjunctiva\",372.0],[\"Other disorders of eyelids\",374.0],[\"Ectropion or entropion\",374.1],[\"Lagophthalmos\",374.2],[\"Ptosis of eyelid\",374.3],[\"Dermatochalasis\",374.6],[\"Disorders of lacrimal system\",375.0],[\"Dry eyes\",375.1],[\"Epiphora\",375.2],[\"Disorders of the orbit\",376.0],[\"Disorders of optic nerve and visual pathways\",377.0],[\"Optic atrophy\",377.1],[\"Optic neuritis\\u002fneuropathy\",377.3],[\"Strabismus and other disorders of binocular eye movements\",378.0],[\"Strabismus (not specified as paralytic)\",378.1],[\"Nystagmus and other irregular eye movements\",378.2],[\"Paralytic strabismus\",378.5],[\"Other disorders of eye\",379.0],[\"Scleritis and episcleritis\",379.1],[\"Disorders of vitreous body\",379.2],[\"Aphakia and other disorders of lens\",379.3],[\"Anomalies of pupillary function\",379.4],[\"Disorders of iris and ciliary body\",379.5],[\"Pigmentary iris degeneration\",379.51],[\"Pain, swelling or discharge of eye\",379.9],[\"Disorders of external ear\",380.0],[\"Otitis externa\",380.1],[\"Otitis media and Eustachian tube disorders\",381.0],[\"Otitis media\",381.1],[\"Suppurative and unspecified otitis media\",381.11],[\"Eustachian tube disorders\",381.2],[\"Mastoiditis & related conditions\",381.3],[\"Otorrhea\",381.9],[\"Otalgia\",382.0],[\"Otosclerosis\",383.0],[\"Other disorders of tympanic membrane\",384.0],[\"Myringitis\",384.1],[\"Perforation of tympanic membrane\",384.4],[\"Other disorders of middle ear and mastoid\",385.0],[\"Cholesteatoma\",385.3],[\"Tympanosclerosis and middle ear disease related to otitis media\",385.5],[\"Vertiginous syndromes and other disorders of vestibular system\",386.0],[\"Meniere's disease\",386.1],[\"Peripheral or central vertigo\",386.2],[\"Central origin vertigo\",386.21],[\"Labyrinthitis\",386.3],[\"Dizziness and giddiness (Light-headedness and vertigo)\",386.9],[\"Other disorders of ear\",388.0],[\"Hearing loss\",389.0],[\"Sensorineural hearing loss\",389.1],[\"Conductive hearing loss\",389.2],[\"Degenerative and vascular disorders of ear\",389.3],[\"Tinnitus\",389.4],[\"Disorders of acoustic nerve\",389.5]],\"hovertemplate\":\"\\u003cb\\u003e%{hovertext}\\u003c\\u002fb\\u003e\\u003cbr\\u003e\\u003cbr\\u003ecategory=sense organs\\u003cbr\\u003e0=%{x}\\u003cbr\\u003e1=%{y}\\u003cbr\\u003edescription=%{customdata[0]}\\u003cbr\\u003ephecode=%{customdata[1]}\\u003cextra\\u003e\\u003c\\u002fextra\\u003e\",\"hovertext\":[\"Disorders of the globe\",\"Progressive myopia\",\"Hypotony of eye\",\"Retinal detachments and defects\",\"Retinal detachment with retinal defect\",\"Retinoschisis and retinal cysts\",\"Other retinal disorders\",\"Retinopathy of prematurity\",\"Degeneration of macula and posterior pole of retina\",\"Macular degeneration, dry\",\"Macular degeneration, wet\",\"Cystoid macular degeneration of retina\",\"Macular puckering of retina\",\"Drusen (degenerative) of retina\",\"Macular degeneration (senile) of retina NOS\",\"Other nondiabetic retinopathy\",\"Separation of retinal layers\",\"Retinal vascular changes and abnomalities\",\"Toxic maculopathy of retina\",\"Peripheral retinal degenerations\",\"Hereditary retinal dystrophies\",\"Retinal hemorrhage\\u002fischemia\",\"Retinal edema\",\"Chorioretinal inflammations, scars, and other disorders of choroid\",\"Chorioretinal scars\",\"Choroidal degenerations\",\"Corneal opacity and other disorders of cornea\",\"Corneal opacity\",\"Corneal edema\",\"Corneal degenerations\",\"Keratoconus\",\"Corneal dystrophy\",\"Fuchs' dystrophy\",\"Cornea replaced by transplant\",\"Glaucoma\",\"Open-angle glaucoma\",\"Primary open angle glaucoma\",\"Primary angle-closure glaucoma\",\"Pseudoexfoliation glaucoma\",\"Cataract\",\"Nonsenile Cataract\",\"Senile cataract\",\"Traumatic cataract\",\"Disorders of refraction and accommodation; blindness and low vision\",\"Myopia\",\"Astigmatism\",\"Presbyopia\",\"Hypermetropia\",\"Blindness and low vision\",\"Visual disturbances\",\"Amblyopia\",\"Diplopia and disorders of binocular vision\",\"Anisometropia\",\"Color vision deficiencies\",\"Disorders of accommodation\",\"Subjective visual disturbances\",\"Psychophysical visual disturbances\",\"Infection of the eye\",\"Eye infection, viral\",\"Conjunctivitis, infectious\",\"Keratitis\",\"Corneal ulcer\",\"Superficial keratitis\",\"Keratoconjunctivitis\",\"Keratoconjunctivitis sicca\",\"Inflammation of the eye\",\"Uveitis, noninfectious or NOS\",\"Conjunctivitis, noninfectious\",\"Allergic conjunctivitis\",\"Inflammation of eyelids\",\"Noninfectious dermatoses of eyelid\",\"Chronic inflammatory disorders of orbit\",\"Disorders of conjunctiva\",\"Other disorders of eyelids\",\"Ectropion or entropion\",\"Lagophthalmos\",\"Ptosis of eyelid\",\"Dermatochalasis\",\"Disorders of lacrimal system\",\"Dry eyes\",\"Epiphora\",\"Disorders of the orbit\",\"Disorders of optic nerve and visual pathways\",\"Optic atrophy\",\"Optic neuritis\\u002fneuropathy\",\"Strabismus and other disorders of binocular eye movements\",\"Strabismus (not specified as paralytic)\",\"Nystagmus and other irregular eye movements\",\"Paralytic strabismus\",\"Other disorders of eye\",\"Scleritis and episcleritis\",\"Disorders of vitreous body\",\"Aphakia and other disorders of lens\",\"Anomalies of pupillary function\",\"Disorders of iris and ciliary body\",\"Pigmentary iris degeneration\",\"Pain, swelling or discharge of eye\",\"Disorders of external ear\",\"Otitis externa\",\"Otitis media and Eustachian tube disorders\",\"Otitis media\",\"Suppurative and unspecified otitis media\",\"Eustachian tube disorders\",\"Mastoiditis & related conditions\",\"Otorrhea\",\"Otalgia\",\"Otosclerosis\",\"Other disorders of tympanic membrane\",\"Myringitis\",\"Perforation of tympanic membrane\",\"Other disorders of middle ear and mastoid\",\"Cholesteatoma\",\"Tympanosclerosis and middle ear disease related to otitis media\",\"Vertiginous syndromes and other disorders of vestibular system\",\"Meniere's disease\",\"Peripheral or central vertigo\",\"Central origin vertigo\",\"Labyrinthitis\",\"Dizziness and giddiness (Light-headedness and vertigo)\",\"Other disorders of ear\",\"Hearing loss\",\"Sensorineural hearing loss\",\"Conductive hearing loss\",\"Degenerative and vascular disorders of ear\",\"Tinnitus\",\"Disorders of acoustic nerve\"],\"legendgroup\":\"sense organs\",\"marker\":{\"color\":\"#B6E880\",\"symbol\":\"circle\"},\"mode\":\"markers\",\"name\":\"sense organs\",\"showlegend\":true,\"x\":[8.748893737792969,-3.126136541366577,19.207895278930664,9.770450592041016,8.662814140319824,9.118819236755371,9.267702102661133,9.398877143859863,-3.2512295246124268,-3.430750608444214,-3.7863969802856445,10.19324779510498,8.743986129760742,-3.3720359802246094,9.945527076721191,10.553522109985352,8.72017765045166,16.86402130126953,-3.0074050426483154,9.395417213439941,9.299698829650879,-2.8419032096862793,-3.1580417156219482,18.959928512573242,-3.8470003604888916,-4.200350284576416,6.4936981201171875,6.317888259887695,-3.939962863922119,6.421553134918213,6.601571083068848,6.985993385314941,8.38736343383789,-4.038997173309326,8.51708984375,7.6044182777404785,7.854840278625488,7.997821807861328,9.050777435302734,9.995560646057129,-3.13559889793396,9.766348838806152,9.221654891967773,8.779362678527832,8.673111915588379,8.304414749145508,8.238046646118164,8.28164005279541,8.838374137878418,7.817674160003662,7.821376323699951,7.495713710784912,-4.089691638946533,7.0142669677734375,-4.218752861022949,8.8298921585083,7.712506294250488,8.355224609375,8.263092041015625,8.171979904174805,8.342206001281738,8.443315505981445,8.40188217163086,8.249828338623047,14.190648078918457,8.273574829101562,8.709721565246582,-3.489253044128418,8.085856437683105,7.9469122886657715,-3.718491792678833,7.0546464920043945,8.291640281677246,7.617242336273193,8.255447387695312,-3.784212350845337,7.502572059631348,7.837133407592773,8.205926895141602,7.962395191192627,9.671302795410156,6.813538074493408,7.816039085388184,8.046197891235352,8.75512409210205,7.973815441131592,8.720199584960938,7.424799919128418,8.715176582336426,8.443131446838379,8.998117446899414,9.134933471679688,-2.958672285079956,9.469401359558105,9.20627212524414,-3.1563313007354736,9.179815292358398,7.580543518066406,7.619297504425049,3.269371747970581,6.065911769866943,7.019810676574707,5.061229228973389,6.598146438598633,7.6970086097717285,6.081803798675537,7.10371208190918,2.0571351051330566,7.32319974899292,7.320204734802246,7.4951887130737305,6.562355041503906,7.402285575866699,3.404851198196411,7.735315799713135,7.754377365112305,7.779767990112305,8.040532112121582,9.905435562133789,6.20389986038208,7.266324520111084,6.768498420715332,2.807363510131836,6.373795032501221,6.908746719360352,3.8780009746551514],\"xaxis\":\"x\",\"y\":[-1.5349701642990112,-1.5116626024246216,11.699639320373535,-5.277188777923584,-5.195310592651367,-6.043068885803223,-1.5960806608200073,-5.3002095222473145,-0.00794051494449377,0.24525292217731476,0.2773163914680481,-5.681277751922607,-6.277421474456787,-0.01115886028856039,-5.732273578643799,-5.461701393127441,-5.008394718170166,0.9970434308052063,0.17059414088726044,-4.916253566741943,-5.9034247398376465,0.10623220354318619,0.5568293929100037,11.650005340576172,0.4084851145744324,0.35856443643569946,-6.44964075088501,-6.549283027648926,-0.5485872030258179,-6.512461185455322,-6.313192367553711,-5.977293968200684,-5.221366882324219,-0.8312570452690125,-6.333861827850342,-6.080288887023926,-6.359573841094971,-6.233071327209473,-5.564497947692871,-5.995405673980713,-1.306509256362915,-5.74811315536499,-4.477388381958008,-4.802671909332275,-5.620828628540039,-4.805689334869385,-4.775821208953857,-5.375885486602783,-5.235857963562012,-5.174655437469482,-4.640319347381592,-4.659185409545898,-0.3089374303817749,-4.364687442779541,-0.34220364689826965,-3.8913118839263916,-5.9286322593688965,-0.04039172828197479,0.826915979385376,0.26719579100608826,-0.8833566904067993,-1.372640609741211,-1.730064868927002,-1.3851826190948486,10.13586711883545,-1.6301910877227783,-0.4519438147544861,-0.9014601707458496,-1.1163734197616577,-1.8283920288085938,-1.1445388793945312,-4.274096488952637,-2.0444421768188477,-3.485333204269409,-1.9205583333969116,-1.0328822135925293,-4.023514270782471,-2.371809244155884,-0.40901240706443787,-3.2660229206085205,-1.1611347198486328,-4.195453643798828,-6.043972015380859,-4.851609230041504,-0.17243237793445587,-4.151844024658203,-3.664297342300415,-5.265624046325684,-4.127453327178955,-4.12021017074585,-1.0282502174377441,-4.713761806488037,-1.6198354959487915,-3.4794247150421143,-1.154384970664978,-1.2297112941741943,-2.9402549266815186,3.754509925842285,3.6769187450408936,4.052208423614502,2.884298801422119,3.1397390365600586,3.0993008613586426,2.933168888092041,2.2753939628601074,2.963927984237671,1.6224279403686523,4.050655364990234,3.442453384399414,2.699016571044922,3.2390003204345703,2.735673189163208,3.4617843627929688,3.852231979370117,1.8849810361862183,1.6671110391616821,1.7454546689987183,1.7644308805465698,0.12820331752300262,2.418227195739746,1.8938056230545044,2.1510114669799805,3.7822206020355225,2.4760468006134033,2.331936836242676,3.5762884616851807],\"yaxis\":\"y\",\"type\":\"scattergl\",\"opacity\":0.9},{\"customdata\":[[\"Rheumatic disease of the heart valves\",394.0],[\"Mitral valve stenosis and aortic valve stenosis\",394.1],[\"Mitral valve disease\",394.2],[\"Aortic valve disease\",394.3],[\"Acute rheumatic heart disease\",394.4],[\"Disease of tricuspid valve\",394.7],[\"Heart valve disorders\",395.0],[\"Nonrheumatic mitral valve disorders\",395.1],[\"Nonrheumatic aortic valve disorders\",395.2],[\"Nonrheumatic tricuspid valve disorders\",395.3],[\"Nonrheumatic pulmonary valve disorders\",395.4],[\"Heart valve replaced\",395.6],[\"Abnormal heart sounds\",396.0],[\"Hypertension\",401.0],[\"Essential hypertension\",401.1],[\"Hypertensive heart and\\u002for renal disease\",401.2],[\"Hypertensive heart disease\",401.21],[\"Hypertensive chronic kidney disease\",401.22],[\"Other hypertensive complications\",401.3],[\"Elevated blood pressure reading without diagnosis of hypertension\",402.0],[\"Ischemic Heart Disease\",411.0],[\"Unstable angina (intermediate coronary syndrome)\",411.1],[\"Myocardial infarction\",411.2],[\"Angina pectoris\",411.3],[\"Coronary atherosclerosis\",411.4],[\"Aneurysm and dissection of heart\",411.41],[\"Other chronic ischemic heart disease, unspecified\",411.8],[\"Other acute and subacute forms of ischemic heart disease\",411.9],[\"Other forms of chronic heart disease\",414.0],[\"ASCVD\",414.2],[\"Pulmonary heart disease\",415.0],[\"Acute pulmonary heart disease\",415.1],[\"Pulmonary embolism and infarction, acute\",415.11],[\"Chronic pulmonary heart disease\",415.2],[\"Primary pulmonary hypertension\",415.21],[\"Cardiomegaly\",416.0],[\"Nonspecific chest pain\",418.0],[\"Carditis\",420.0],[\"Myocarditis\",420.1],[\"Pericarditis\",420.2],[\"Acute pericarditis\",420.21],[\"Chronic pericarditis\",420.22],[\"Endocarditis\",420.3],[\"Cardiomyopathy\",425.0],[\"Primary\\u002fintrinsic cardiomyopathies\",425.1],[\"Hypertrophic obstructive cardiomyopathy\",425.11],[\"Other hypertrophic cardiomyopathy\",425.12],[\"Secondary\\u002fextrinsic cardiomyopathies\",425.2],[\"Other cardiomyopathy\",425.8],[\"Cardiac conduction disorders\",426.0],[\"Atrioventricular [AV] block\",426.2],[\"First degree AV block\",426.21],[\"Mobitz II AV block\",426.22],[\"Second degree AV block\",426.23],[\"Atrioventricular block, complete\",426.24],[\"Other heart block\",426.25],[\"Bundle branch block\",426.3],[\"Right bundle branch block\",426.31],[\"Left bundle branch block\",426.32],[\"Anomalous atrioventricular excitation\",426.4],[\"Abnormal electrocardiogram [ECG] [EKG]\",426.7],[\"Other cardiac conduction disorders\",426.8],[\"Cardiac pacemaker\\u002fdevice in situ\",426.9],[\"Cardiac pacemaker in situ\",426.91],[\"Cardiac defibrillator in situ\",426.92],[\"Cardiac dysrhythmias\",427.0],[\"Paroxysmal tachycardia, unspecified\",427.1],[\"Paroxysmal supraventricular tachycardia\",427.11],[\"Paroxysmal ventricular tachycardia\",427.12],[\"Atrial fibrillation and flutter\",427.2],[\"Atrial fibrillation\",427.21],[\"Atrial flutter\",427.22],[\"Other specified cardiac dysrhythmias\",427.3],[\"Cardiac arrest and ventricular fibrillation\",427.4],[\"Ventricular fibrillation and flutter\",427.41],[\"Cardiac arrest\",427.42],[\"Arrhythmia (cardiac) NOS\",427.5],[\"Premature beats\",427.6],[\"Supraventricular premature beats\",427.61],[\"Tachycardia NOS\",427.7],[\"Sinoatrial node dysfunction (Bradycardia)\",427.8],[\"Palpitations\",427.9],[\"Congestive heart failure; nonhypertensive\",428.0],[\"Congestive heart failure (CHF) NOS\",428.1],[\"Heart failure NOS\",428.2],[\"Heart failure with reduced EF [Systolic or combined heart failure]\",428.3],[\"Heart failure with preserved EF [Diastolic heart failure]\",428.4],[\"Ill-defined descriptions and complications of heart disease\",429.0],[\"Heart transplant\\u002fsurgery\",429.1],[\"Abnormal function study of cardiovascular system\",429.2],[\"Symptoms involving cardiovascular system\",429.3],[\"Cardiac complications, not elsewhere classified\",429.9],[\"Intracranial hemorrhage\",430.0],[\"Subarachnoid hemorrhage\",430.1],[\"Intracerebral hemorrhage\",430.2],[\"Subdural hemorrhage\",430.3],[\"Cerebrovascular disease\",433.0],[\"Occlusion and stenosis of precerebral arteries\",433.1],[\"Occlusion of cerebral arteries, with cerebral infarction\",433.11],[\"Cerebral atherosclerosis\",433.12],[\"Occlusion of cerebral arteries\",433.2],[\"Cerebral artery occlusion, with cerebral infarction\",433.21],[\"Cerebral ischemia\",433.3],[\"Transient cerebral ischemia\",433.31],[\"Moyamoya disease\",433.32],[\"Cerebral aneurysm\",433.5],[\"Acute, but ill-defined cerebrovascular disease\",433.6],[\"Late effects of cerebrovascular disease\",433.8],[\"Atherosclerosis\",440.0],[\"Atherosclerosis of renal artery\",440.1],[\"Atherosclerosis of the extremities\",440.2],[\"Atherosclerosis of native arteries of the extremities with ulceration or gangrene\",440.21],[\"Atherosclerosis of native arteries of the extremities with intermittent claudication\",440.22],[\"Atherosclerosis of aorta\",440.9],[\"Vascular insufficiency of intestine\",441.0],[\"Acute vascular insufficiency of intestine\",441.1],[\"Chronic vascular insufficiency of intestine\",441.2],[\"Other aneurysm\",442.0],[\"Aortic aneurysm\",442.1],[\"Abdominal aortic aneurysm\",442.11],[\"Aneurysm of iliac artery\",442.2],[\"Aneurysm of artery of lower extremity\",442.3],[\"Arterial dissection\",442.4],[\"Aneurysm of other specified artery\",442.8],[\"Peripheral vascular disease\",443.0],[\"Raynaud's syndrome\",443.1],[\"Peripheral angiopathy in diseases classified elsewhere\",443.7],[\"Other specified peripheral vascular diseases\",443.8],[\"Peripheral vascular disease, unspecified\",443.9],[\"Arterial embolism and thrombosis\",444.0],[\"Arterial embolism and thrombosis of lower extremity artery\",444.1],[\"Embolism and thrombosis of abdominal aorta\",444.2],[\"Atheroembolism\",444.5],[\"Polyarteritis nodosa and allied conditions\",446.0],[\"Thromboangiitis obliterans\",446.1],[\"Acute febrile mucocutaneous lymph node syndrome (Kawasaki disease)\",446.2],[\"Hypersensitivity angiitis\",446.3],[\"Wegener's granulomatosis\",446.4],[\"Giant cell arteritis\",446.5],[\"Polyarteritis nodosa\",446.6],[\"Takayasu's disease\",446.7],[\"Thrombotic microangiopathy\",446.8],[\"Arteritis NOS\",446.9],[\"Other disorders of arteries and arterioles\",447.0],[\"Stricture of artery\",447.1],[\"Aortic ectasia\",447.7],[\"Disease of capillaries\",448.0],[\"Noninfectious disorders of lymphatic channels\",450.0],[\"Phlebitis and thrombophlebitis\",451.0],[\"Phlebitis and thrombophlebitis of lower extremities\",451.2],[\"Other venous embolism and thrombosis\",452.0],[\"Deep vein thrombosis [DVT]\",452.2],[\"Postphlebitic syndrome\",452.8],[\"Varicose veins\",454.0],[\"Varicose veins of lower extremity\",454.1],[\"Varicose veins of lower extremity, symptomtic\",454.11],[\"Hemorrhoids\",455.0],[\"Chronic venous insufficiency [CVI]\",456.0],[\"Encounter for long-term (current) use of anticoagulants, antithrombotics, aspirin\",457.0],[\"Encounter for long-term (current) use of antiplatelets\\u002fantithrombotics\",457.2],[\"Encounter for long-term (current) use of aspirin\",457.3],[\"Hypotension\",458.0],[\"Orthostatic hypotension\",458.1],[\"Iatrogenic hypotension\",458.2],[\"Hypotension NOS\",458.9],[\"Other disorders of circulatory system\",459.0],[\"Hemorrhage NOS\",459.1],[\"Blood vessel replaced\",459.7],[\"Circulatory disease NEC\",459.9]],\"hovertemplate\":\"\\u003cb\\u003e%{hovertext}\\u003c\\u002fb\\u003e\\u003cbr\\u003e\\u003cbr\\u003ecategory=circulatory system\\u003cbr\\u003e0=%{x}\\u003cbr\\u003e1=%{y}\\u003cbr\\u003edescription=%{customdata[0]}\\u003cbr\\u003ephecode=%{customdata[1]}\\u003cextra\\u003e\\u003c\\u002fextra\\u003e\",\"hovertext\":[\"Rheumatic disease of the heart valves\",\"Mitral valve stenosis and aortic valve stenosis\",\"Mitral valve disease\",\"Aortic valve disease\",\"Acute rheumatic heart disease\",\"Disease of tricuspid valve\",\"Heart valve disorders\",\"Nonrheumatic mitral valve disorders\",\"Nonrheumatic aortic valve disorders\",\"Nonrheumatic tricuspid valve disorders\",\"Nonrheumatic pulmonary valve disorders\",\"Heart valve replaced\",\"Abnormal heart sounds\",\"Hypertension\",\"Essential hypertension\",\"Hypertensive heart and\\u002for renal disease\",\"Hypertensive heart disease\",\"Hypertensive chronic kidney disease\",\"Other hypertensive complications\",\"Elevated blood pressure reading without diagnosis of hypertension\",\"Ischemic Heart Disease\",\"Unstable angina (intermediate coronary syndrome)\",\"Myocardial infarction\",\"Angina pectoris\",\"Coronary atherosclerosis\",\"Aneurysm and dissection of heart\",\"Other chronic ischemic heart disease, unspecified\",\"Other acute and subacute forms of ischemic heart disease\",\"Other forms of chronic heart disease\",\"ASCVD\",\"Pulmonary heart disease\",\"Acute pulmonary heart disease\",\"Pulmonary embolism and infarction, acute\",\"Chronic pulmonary heart disease\",\"Primary pulmonary hypertension\",\"Cardiomegaly\",\"Nonspecific chest pain\",\"Carditis\",\"Myocarditis\",\"Pericarditis\",\"Acute pericarditis\",\"Chronic pericarditis\",\"Endocarditis\",\"Cardiomyopathy\",\"Primary\\u002fintrinsic cardiomyopathies\",\"Hypertrophic obstructive cardiomyopathy\",\"Other hypertrophic cardiomyopathy\",\"Secondary\\u002fextrinsic cardiomyopathies\",\"Other cardiomyopathy\",\"Cardiac conduction disorders\",\"Atrioventricular [AV] block\",\"First degree AV block\",\"Mobitz II AV block\",\"Second degree AV block\",\"Atrioventricular block, complete\",\"Other heart block\",\"Bundle branch block\",\"Right bundle branch block\",\"Left bundle branch block\",\"Anomalous atrioventricular excitation\",\"Abnormal electrocardiogram [ECG] [EKG]\",\"Other cardiac conduction disorders\",\"Cardiac pacemaker\\u002fdevice in situ\",\"Cardiac pacemaker in situ\",\"Cardiac defibrillator in situ\",\"Cardiac dysrhythmias\",\"Paroxysmal tachycardia, unspecified\",\"Paroxysmal supraventricular tachycardia\",\"Paroxysmal ventricular tachycardia\",\"Atrial fibrillation and flutter\",\"Atrial fibrillation\",\"Atrial flutter\",\"Other specified cardiac dysrhythmias\",\"Cardiac arrest and ventricular fibrillation\",\"Ventricular fibrillation and flutter\",\"Cardiac arrest\",\"Arrhythmia (cardiac) NOS\",\"Premature beats\",\"Supraventricular premature beats\",\"Tachycardia NOS\",\"Sinoatrial node dysfunction (Bradycardia)\",\"Palpitations\",\"Congestive heart failure; nonhypertensive\",\"Congestive heart failure (CHF) NOS\",\"Heart failure NOS\",\"Heart failure with reduced EF [Systolic or combined heart failure]\",\"Heart failure with preserved EF [Diastolic heart failure]\",\"Ill-defined descriptions and complications of heart disease\",\"Heart transplant\\u002fsurgery\",\"Abnormal function study of cardiovascular system\",\"Symptoms involving cardiovascular system\",\"Cardiac complications, not elsewhere classified\",\"Intracranial hemorrhage\",\"Subarachnoid hemorrhage\",\"Intracerebral hemorrhage\",\"Subdural hemorrhage\",\"Cerebrovascular disease\",\"Occlusion and stenosis of precerebral arteries\",\"Occlusion of cerebral arteries, with cerebral infarction\",\"Cerebral atherosclerosis\",\"Occlusion of cerebral arteries\",\"Cerebral artery occlusion, with cerebral infarction\",\"Cerebral ischemia\",\"Transient cerebral ischemia\",\"Moyamoya disease\",\"Cerebral aneurysm\",\"Acute, but ill-defined cerebrovascular disease\",\"Late effects of cerebrovascular disease\",\"Atherosclerosis\",\"Atherosclerosis of renal artery\",\"Atherosclerosis of the extremities\",\"Atherosclerosis of native arteries of the extremities with ulceration or gangrene\",\"Atherosclerosis of native arteries of the extremities with intermittent claudication\",\"Atherosclerosis of aorta\",\"Vascular insufficiency of intestine\",\"Acute vascular insufficiency of intestine\",\"Chronic vascular insufficiency of intestine\",\"Other aneurysm\",\"Aortic aneurysm\",\"Abdominal aortic aneurysm\",\"Aneurysm of iliac artery\",\"Aneurysm of artery of lower extremity\",\"Arterial dissection\",\"Aneurysm of other specified artery\",\"Peripheral vascular disease\",\"Raynaud's syndrome\",\"Peripheral angiopathy in diseases classified elsewhere\",\"Other specified peripheral vascular diseases\",\"Peripheral vascular disease, unspecified\",\"Arterial embolism and thrombosis\",\"Arterial embolism and thrombosis of lower extremity artery\",\"Embolism and thrombosis of abdominal aorta\",\"Atheroembolism\",\"Polyarteritis nodosa and allied conditions\",\"Thromboangiitis obliterans\",\"Acute febrile mucocutaneous lymph node syndrome (Kawasaki disease)\",\"Hypersensitivity angiitis\",\"Wegener's granulomatosis\",\"Giant cell arteritis\",\"Polyarteritis nodosa\",\"Takayasu's disease\",\"Thrombotic microangiopathy\",\"Arteritis NOS\",\"Other disorders of arteries and arterioles\",\"Stricture of artery\",\"Aortic ectasia\",\"Disease of capillaries\",\"Noninfectious disorders of lymphatic channels\",\"Phlebitis and thrombophlebitis\",\"Phlebitis and thrombophlebitis of lower extremities\",\"Other venous embolism and thrombosis\",\"Deep vein thrombosis [DVT]\",\"Postphlebitic syndrome\",\"Varicose veins\",\"Varicose veins of lower extremity\",\"Varicose veins of lower extremity, symptomtic\",\"Hemorrhoids\",\"Chronic venous insufficiency [CVI]\",\"Encounter for long-term (current) use of anticoagulants, antithrombotics, aspirin\",\"Encounter for long-term (current) use of antiplatelets\\u002fantithrombotics\",\"Encounter for long-term (current) use of aspirin\",\"Hypotension\",\"Orthostatic hypotension\",\"Iatrogenic hypotension\",\"Hypotension NOS\",\"Other disorders of circulatory system\",\"Hemorrhage NOS\",\"Blood vessel replaced\",\"Circulatory disease NEC\"],\"legendgroup\":\"circulatory system\",\"marker\":{\"color\":\"#FF97FF\",\"symbol\":\"circle\"},\"mode\":\"markers\",\"name\":\"circulatory system\",\"showlegend\":true,\"x\":[20.232973098754883,-0.11616271734237671,18.796682357788086,19.2718563079834,-0.3658517599105835,21.297435760498047,15.701045036315918,20.088212966918945,19.479154586791992,0.18227814137935638,21.13650894165039,0.23356930911540985,21.051279067993164,19.202119827270508,19.029067993164062,20.076026916503906,20.514968872070312,8.74282455444336,18.017547607421875,18.71136474609375,20.84114646911621,20.582008361816406,20.156574249267578,19.671483993530273,18.929885864257812,20.67811393737793,19.806697845458984,19.691011428833008,20.29698944091797,20.519174575805664,19.75756072998047,1.285938024520874,19.555212020874023,19.725217819213867,19.150251388549805,21.638816833496094,18.901174545288086,19.744606018066406,12.714313507080078,18.95730209350586,19.333574295043945,19.218725204467773,19.49585723876953,20.93665313720703,20.591218948364258,20.71404457092285,20.325851440429688,20.82978630065918,21.65282440185547,22.52863121032715,20.404987335205078,22.064558029174805,-1.2951401472091675,22.230743408203125,-1.2597378492355347,20.514202117919922,18.15736961364746,-0.9092618227005005,-0.6935949921607971,22.898818969726562,23.86503028869629,21.78860092163086,23.41263771057129,-0.6039231419563293,-0.4461994171142578,23.60828971862793,23.56346321105957,22.342344284057617,22.2091064453125,23.4097900390625,21.289762496948242,21.111690521240234,22.135303497314453,23.780595779418945,21.822429656982422,20.91629409790039,21.633298873901367,21.429094314575195,-0.9147116541862488,21.862958908081055,21.9376220703125,21.833797454833984,20.89049530029297,20.336353302001953,20.546213150024414,20.622896194458008,20.946184158325195,-0.21566638350486755,20.285797119140625,-0.09542743861675262,18.09952735900879,-0.09924454241991043,13.235819816589355,13.1274995803833,14.394379615783691,12.21033763885498,14.462248802185059,17.328874588012695,-1.1161168813705444,-1.4577890634536743,14.266376495361328,13.705145835876465,17.555356979370117,17.776273727416992,10.729469299316406,14.6803617477417,14.673792839050293,10.752971649169922,18.210201263427734,-2.6538589000701904,-2.6512396335601807,-0.8736931681632996,-0.9923332333564758,19.192533493041992,12.633512496948242,13.010697364807129,12.759897232055664,17.978412628173828,19.119985580444336,19.531963348388672,-2.0877766609191895,-2.4166648387908936,14.897262573242188,14.781448364257812,-1.967918038368225,17.118633270263672,18.15427017211914,18.310270309448242,17.93627166748047,18.707006454467773,1.2461870908737183,1.5194034576416016,18.363582611083984,17.38315773010254,17.86252784729004,17.654312133789062,6.284929275512695,6.173255920410156,9.851167678833008,6.220298767089844,6.071174621582031,16.62139892578125,17.466739654541016,18.672346115112305,-2.7853918075561523,-2.7925121784210205,16.34964370727539,14.218578338623047,18.894826889038086,18.87021827697754,18.867124557495117,19.035011291503906,1.5722744464874268,13.724920272827148,13.631902694702148,-0.19148623943328857,15.85307502746582,13.6665678024292,-1.3485515117645264,-1.0561773777008057,-1.4896010160446167,19.316442489624023,18.772241592407227,19.25520896911621,19.40744400024414,-0.5953359007835388,15.540894508361816,-1.5594308376312256,18.168249130249023],\"xaxis\":\"x\",\"y\":[7.981308460235596,1.8754961490631104,7.246115684509277,6.925056457519531,1.2369111776351929,7.750577926635742,13.14111614227295,7.257442951202393,6.87214994430542,1.9312797784805298,7.993747711181641,1.4456076622009277,7.887491226196289,4.561595916748047,4.759922504425049,4.102985382080078,4.985363960266113,5.804927825927734,2.754809617996216,4.85679292678833,4.320359230041504,4.318577289581299,4.165722370147705,3.5397753715515137,4.118574142456055,5.109382629394531,4.072164058685303,3.654545307159424,3.9575612545013428,4.073912620544434,7.370110511779785,2.6564531326293945,7.66269588470459,7.572959899902344,7.312595367431641,5.982614517211914,7.006865978240967,8.573522567749023,12.927982330322266,10.824902534484863,10.805438995361328,10.994414329528809,7.807149887084961,5.449930667877197,5.891236782073975,5.52998685836792,6.5751729011535645,7.871304988861084,5.708793640136719,5.059703826904297,6.274810791015625,5.241244792938232,1.122762680053711,4.384438991546631,1.2126703262329102,5.9627532958984375,6.854097843170166,0.8672041893005371,1.1227079629898071,5.337756156921387,5.550252914428711,5.2090559005737305,5.472063064575195,2.1497445106506348,2.5777547359466553,5.443502902984619,5.266100883483887,4.359477519989014,5.2691497802734375,5.292581558227539,4.0491533279418945,4.01262903213501,4.532429218292236,5.525744438171387,5.011429786682129,6.273663520812988,4.459590911865234,4.755788803100586,1.6027114391326904,4.62098503112793,5.031095504760742,5.515336990356445,7.689903736114502,4.883726119995117,4.995361804962158,7.683476448059082,7.9541826248168945,2.4913017749786377,7.149176597595215,3.151245355606079,13.380824089050293,2.6982059478759766,-2.7383151054382324,-2.831406593322754,-3.3668031692504883,-2.8448421955108643,-2.199780225753784,2.9352025985717773,3.1897923946380615,3.2300150394439697,-1.879408597946167,-2.484299898147583,3.048131227493286,3.179142713546753,-4.165461540222168,-1.8260788917541504,-1.952289342880249,-4.0904927253723145,3.5574426651000977,2.2034671306610107,2.7477216720581055,2.5068106651306152,2.4025156497955322,3.9197185039520264,5.082516670227051,5.065457344055176,4.953956127166748,2.910668134689331,5.027988433837891,4.255430698394775,1.2552372217178345,1.4854751825332642,-2.02896785736084,-1.8711923360824585,1.197582483291626,4.41300630569458,3.8074848651885986,4.230124473571777,3.975762367248535,3.7150089740753174,3.388324022293091,3.2742834091186523,4.1631340980529785,4.407149314880371,4.21127462387085,6.476476669311523,0.6242392659187317,0.15498027205467224,-2.427651882171631,0.619425892829895,0.49835047125816345,9.975069046020508,4.947595596313477,4.136270999908447,2.273914098739624,2.2888033390045166,9.934123992919922,10.947606086730957,8.578961372375488,8.720110893249512,8.676813125610352,8.840560913085938,3.5633652210235596,9.711328506469727,9.361359596252441,5.708376407623291,4.903718948364258,9.309951782226562,5.051427841186523,5.033738613128662,5.188997745513916,2.8288652896881104,2.5578644275665283,2.7635953426361084,2.7231884002685547,2.5278499126434326,4.057513236999512,6.532296657562256,3.5272159576416016],\"yaxis\":\"y\",\"type\":\"scattergl\",\"opacity\":0.9},{\"customdata\":[[\"Acute sinusitis\",464.0],[\"Acute upper respiratory infections of multiple or unspecified sites\",465.0],[\"Acute pharyngitis\",465.2],[\"Acute laryngitis and tracheitis\",465.4],[\"Septal Deviations\\u002fTurbinate Hypertrophy\",470.0],[\"Nasal polyps\",471.0],[\"Chronic pharyngitis and nasopharyngitis\",472.0],[\"Diseases of the larynx and vocal cords\",473.0],[\"Chronic laryngitis\",473.1],[\"Paralysis\\u002fspasm of vocal cords or larynx\",473.3],[\"Voice disturbance\",473.4],[\"Acute and chronic tonsillitis\",474.0],[\"Acute tonsillitis\",474.1],[\"Chronic tonsillitis and adenoiditis\",474.2],[\"Chronic sinusitis\",475.0],[\"Postnasal drip\",475.9],[\"Allergic rhinitis\",476.0],[\"Epistaxis or throat hemorrhage\",477.0],[\"Throat pain\",478.0],[\"Other upper respiratory disease\",479.0],[\"Pneumonia\",480.0],[\"Bacterial pneumonia\",480.1],[\"Pneumococcal pneumonia\",480.11],[\"Pseudomonal pneumonia\",480.12],[\"MRSA pneumonia\",480.13],[\"Viral pneumonia\",480.2],[\"Pneumonia due to fungus (mycoses)\",480.3],[\"Bronchopneumonia and lung abscess\",480.5],[\"Influenza\",481.0],[\"Acute bronchitis and bronchiolitis\",483.0],[\"Asthma\",495.0],[\"Chronic obstructive asthma\",495.1],[\"Chronic obstructive asthma with exacerbation\",495.11],[\"Asthma with exacerbation\",495.2],[\"Chronic airway obstruction\",496.0],[\"Emphysema\",496.1],[\"Chronic bronchitis\",496.2],[\"Obstructive chronic bronchitis\",496.21],[\"Bronchiectasis\",496.3],[\"Bronchitis\",497.0],[\"Cystic fibrosis\",499.0],[\"Lung disease due to external agents\",500.0],[\"Extrinsic allergic alveolitis\",500.1],[\"Pneumoconiosis\",500.2],[\"Pneumonitis due to inhalation of food or vomitus\",501.0],[\"Postinflammatory pulmonary fibrosis\",502.0],[\"Pulmonary congestion and hypostasis\",503.0],[\"Other alveolar and parietoalveolar pneumonopathy\",504.0],[\"Idiopathic fibrosing alveolitis\",504.1],[\"Other pulmonary inflamation or edema\",505.0],[\"Empyema and pneumothorax\",506.0],[\"Pleurisy; pleural effusion\",507.0],[\"Pulmonary collapse; interstitial and compensatory emphysema\",508.0],[\"Respiratory failure, insufficiency, arrest\",509.0],[\"Respiratory failure\",509.1],[\"Respiratory insufficiency\",509.2],[\"Pulmonary insufficiency or respiratory failure following trauma and surgery\",509.3],[\"Respiratory arrest\",509.5],[\"Dependence on respirator [Ventilator] or supplemental oxygen\",509.8],[\"Other diseases of lung\",510.0],[\"Lung transplant\",510.2],[\"Other symptoms of respiratory system\",512.0],[\"Wheezing\",512.1],[\"Painful respiration\",512.2],[\"Abnormal chest sounds\",512.3],[\"Shortness of breath\",512.7],[\"Cough\",512.8],[\"Other dyspnea\",512.9],[\"Respiratory abnormalities\",513.0],[\"Hypoventilation\",513.3],[\"Apnea\",513.31],[\"Orthopnea\",513.32],[\"Hyperventilation\",513.4],[\"Disorders of diaphragm\",513.8],[\"Solitary pulmonary nodule\",514.2],[\"Abnormal sputum\",516.0],[\"Hemoptysis\",516.1],[\"Other diseases of respiratory system, not elsewhere classified\",519.0],[\"Respiratory complications\",519.2],[\"Other diseases of respiratory system, NEC\",519.8],[\"Symptoms involving respiratory system and other chest symptoms\",519.9]],\"hovertemplate\":\"\\u003cb\\u003e%{hovertext}\\u003c\\u002fb\\u003e\\u003cbr\\u003e\\u003cbr\\u003ecategory=respiratory\\u003cbr\\u003e0=%{x}\\u003cbr\\u003e1=%{y}\\u003cbr\\u003edescription=%{customdata[0]}\\u003cbr\\u003ephecode=%{customdata[1]}\\u003cextra\\u003e\\u003c\\u002fextra\\u003e\",\"hovertext\":[\"Acute sinusitis\",\"Acute upper respiratory infections of multiple or unspecified sites\",\"Acute pharyngitis\",\"Acute laryngitis and tracheitis\",\"Septal Deviations\\u002fTurbinate Hypertrophy\",\"Nasal polyps\",\"Chronic pharyngitis and nasopharyngitis\",\"Diseases of the larynx and vocal cords\",\"Chronic laryngitis\",\"Paralysis\\u002fspasm of vocal cords or larynx\",\"Voice disturbance\",\"Acute and chronic tonsillitis\",\"Acute tonsillitis\",\"Chronic tonsillitis and adenoiditis\",\"Chronic sinusitis\",\"Postnasal drip\",\"Allergic rhinitis\",\"Epistaxis or throat hemorrhage\",\"Throat pain\",\"Other upper respiratory disease\",\"Pneumonia\",\"Bacterial pneumonia\",\"Pneumococcal pneumonia\",\"Pseudomonal pneumonia\",\"MRSA pneumonia\",\"Viral pneumonia\",\"Pneumonia due to fungus (mycoses)\",\"Bronchopneumonia and lung abscess\",\"Influenza\",\"Acute bronchitis and bronchiolitis\",\"Asthma\",\"Chronic obstructive asthma\",\"Chronic obstructive asthma with exacerbation\",\"Asthma with exacerbation\",\"Chronic airway obstruction\",\"Emphysema\",\"Chronic bronchitis\",\"Obstructive chronic bronchitis\",\"Bronchiectasis\",\"Bronchitis\",\"Cystic fibrosis\",\"Lung disease due to external agents\",\"Extrinsic allergic alveolitis\",\"Pneumoconiosis\",\"Pneumonitis due to inhalation of food or vomitus\",\"Postinflammatory pulmonary fibrosis\",\"Pulmonary congestion and hypostasis\",\"Other alveolar and parietoalveolar pneumonopathy\",\"Idiopathic fibrosing alveolitis\",\"Other pulmonary inflamation or edema\",\"Empyema and pneumothorax\",\"Pleurisy; pleural effusion\",\"Pulmonary collapse; interstitial and compensatory emphysema\",\"Respiratory failure, insufficiency, arrest\",\"Respiratory failure\",\"Respiratory insufficiency\",\"Pulmonary insufficiency or respiratory failure following trauma and surgery\",\"Respiratory arrest\",\"Dependence on respirator [Ventilator] or supplemental oxygen\",\"Other diseases of lung\",\"Lung transplant\",\"Other symptoms of respiratory system\",\"Wheezing\",\"Painful respiration\",\"Abnormal chest sounds\",\"Shortness of breath\",\"Cough\",\"Other dyspnea\",\"Respiratory abnormalities\",\"Hypoventilation\",\"Apnea\",\"Orthopnea\",\"Hyperventilation\",\"Disorders of diaphragm\",\"Solitary pulmonary nodule\",\"Abnormal sputum\",\"Hemoptysis\",\"Other diseases of respiratory system, not elsewhere classified\",\"Respiratory complications\",\"Other diseases of respiratory system, NEC\",\"Symptoms involving respiratory system and other chest symptoms\"],\"legendgroup\":\"respiratory\",\"marker\":{\"color\":\"#FECB52\",\"symbol\":\"circle\"},\"mode\":\"markers\",\"name\":\"respiratory\",\"showlegend\":true,\"x\":[8.067381858825684,10.615540504455566,10.35948371887207,11.511434555053711,11.620742797851562,12.050029754638672,10.904390335083008,6.136630058288574,1.725156545639038,6.226883888244629,6.502838134765625,6.333784580230713,10.40430736541748,1.7392849922180176,8.032939910888672,12.281881332397461,12.05482292175293,11.92109489440918,10.931473731994629,11.946596145629883,12.998010635375977,10.878678321838379,2.079669237136841,2.463127851486206,2.208860158920288,11.173748970031738,11.921285629272461,12.536185264587402,11.792705535888672,11.916199684143066,13.565032005310059,13.681889533996582,1.4193583726882935,13.814430236816406,14.153013229370117,14.49033260345459,13.650347709655762,1.5911799669265747,17.71725845336914,13.03847885131836,13.555766105651855,6.163894176483154,14.225800514221191,18.250988006591797,13.718520164489746,14.347855567932129,19.45758819580078,14.290477752685547,14.078975677490234,13.305927276611328,13.8251371383667,14.641419410705566,14.738703727722168,0.395252525806427,18.146547317504883,15.641161918640137,-0.002073771320283413,0.4660102128982544,0.05984804779291153,15.260851860046387,16.33436393737793,14.76188850402832,12.667417526245117,12.574275016784668,1.1523867845535278,18.407682418823242,12.453888893127441,17.829469680786133,1.2958272695541382,19.179868698120117,1.1295300722122192,18.595285415649414,17.960826873779297,19.009336471557617,18.172401428222656,0.9763434529304504,14.737166404724121,15.754976272583008,11.26221752166748,15.45028018951416,15.058454513549805],\"xaxis\":\"x\",\"y\":[3.944870948791504,12.2572021484375,12.143417358398438,12.162473678588867,-2.1951489448547363,14.006929397583008,12.478520393371582,4.01129674911499,3.537806749343872,3.933664321899414,3.5446040630340576,-1.5170226097106934,12.299155235290527,4.965177536010742,4.369256019592285,14.001420974731445,14.275790214538574,-2.2135674953460693,12.390715599060059,13.962589263916016,13.487869262695312,12.910141944885254,1.7182297706604004,1.5330249071121216,1.673344612121582,13.121794700622559,12.57006549835205,13.29542350769043,12.745912551879883,13.316912651062012,14.4589262008667,14.786998748779297,2.336153745651245,14.481660842895508,14.481242179870605,14.179603576660156,13.68533992767334,2.305652379989624,12.899809837341309,13.420187950134277,7.6380720138549805,-0.32810625433921814,14.694127082824707,12.407516479492188,14.480716705322266,13.996764183044434,7.153620719909668,13.99706745147705,14.365718841552734,14.194860458374023,13.358830451965332,13.419604301452637,14.469534873962402,4.162147045135498,7.26809549331665,14.001604080200195,4.502133846282959,3.2772958278656006,4.893809795379639,13.229860305786133,13.149690628051758,14.758917808532715,13.309103965759277,12.746959686279297,2.793168544769287,7.426984786987305,13.217391967773438,7.092260360717773,2.399152994155884,7.137568950653076,2.326181650161743,7.2194504737854,7.3461480140686035,6.573955535888672,12.47353458404541,2.713252305984497,13.47486400604248,14.264861106872559,13.550100326538086,14.256701469421387,14.487401008605957],\"yaxis\":\"y\",\"type\":\"scattergl\",\"opacity\":0.9},{\"customdata\":[[\"Disorders of tooth development\",520.0],[\"Hereditary disturbances in tooth structure\",520.1],[\"Disturbances in tooth eruption\",520.2],[\"Diseases of hard tissues of teeth\",521.0],[\"Dental caries\",521.1],[\"Dental abrasion, erosion and attrition\",521.2],[\"Tooth complications likely association with other diseases\",521.4],[\"Diseases of pulp and periapical tissues\",522.0],[\"Pulpitis and necrosis of tooth pulp\",522.1],[\"Periapical abscess\",522.5],[\"Gingival and periodontal diseases\",523.0],[\"Gingivitis\",523.1],[\"Periodontitis (acute or chronic)\",523.3],[\"Acute periodontitis\",523.31],[\"Chronic periodontitis\",523.32],[\"Dentofacial anomalies, including malocclusion\",524.0],[\"Anomalies of tooth position\\u002fmalocclusion\",524.3],[\"Other diseases of the teeth and supporting structures\",525.0],[\"Loss of teeth or edentulism\",525.1],[\"Atrophy of edentulous alveolar ridge\",525.2],[\"Diseases of the jaws\",526.0],[\"Cysts of the jaws\",526.1],[\"Anomalies of jaw size\\u002fsymmetry\",526.3],[\"Temporomandibular joint disorders\",526.4],[\"Temporomandibular joint disorder, unspecified\",526.41],[\"Arthralgia\\u002fankylosis of temporomandibular joint\",526.42],[\"Inflammatory conditions of jaw\",526.5],[\"Exostosis of jaw\",526.8],[\"Jaw disease NOS\",526.9],[\"Diseases of the salivary glands\",527.0],[\"Hypertrophy of salivary gland\",527.1],[\"Sialoadenitis\",527.2],[\"Disturbance of salivary secretion\",527.7],[\"Other specified diseases of the salivary glands\",527.8],[\"Diseases of the oral soft tissues, excluding lesions specific for gingiva and tongue\",528.0],[\"Stomatitis and mucositis\",528.1],[\"Stomatitis and mucositis (ulcerative)\",528.11],[\"Oral aphthae\",528.12],[\"Cellulitis and abscess of oral soft tissues\",528.3],[\"Cysts of oral soft tissues\",528.4],[\"Cyst of the salivary gland\",528.41],[\"Diseases of lips\",528.5],[\"Leukoplakia of oral mucosa\",528.6],[\"Sialolithiasis\",528.7],[\"Diseases and other conditions of the tongue\",529.0],[\"Glossitis\",529.1],[\"Glossodynia\",529.6],[\"Diseases of esophagus\",530.0],[\"Esophagitis, GERD and related diseases\",530.1],[\"GERD\",530.11],[\"Ulcer of esophagus\",530.12],[\"Barrett's esophagus\",530.13],[\"Reflux esophagitis\",530.14],[\"Eosinophilic esophagitis\",530.15],[\"Esophageal bleeding (varices\\u002fhemorrhage)\",530.2],[\"Stricture and stenosis of esophagus\",530.3],[\"Disorders of esophageal motility\",530.5],[\"Diverticulum of esophagus, acquired\",530.6],[\"Gastroesophageal laceration-hemorrhage syndrome\",530.7],[\"Heartburn\",530.9],[\"Peptic ulcer (excl. esophageal)\",531.0],[\"Hemorrhage from gastrointestinal ulcer\",531.1],[\"Gastric ulcer\",531.2],[\"Duodenal ulcer\",531.3],[\"Peptic ulcer, site unspecified\",531.4],[\"Gastrojejunal ulcer\",531.5],[\"Dysphagia\",532.0],[\"Gastritis and duodenitis\",535.0],[\"Acute gastritis\",535.1],[\"Atrophic gastritis\",535.2],[\"Duodenitis\",535.6],[\"Other specified gastritis\",535.8],[\"Gastritis and duodenitis, NOS\",535.9],[\"Disorders of function of stomach\",536.0],[\"Gastroparesis\",536.3],[\"Complications of gastrostomy, colostomy and enterostomy\",536.7],[\"Dyspepsia and other specified disorders of function of stomach\",536.8],[\"Other disorders of stomach and duodenum\",537.0],[\"Lesions of stomach and duodenum\",537.1],[\"Bariatric surgery\",539.0],[\"Appendicitis\",540.1],[\"Acute appendicitis\",540.11],[\"Abdominal hernia\",550.0],[\"Inguinal hernia\",550.1],[\"Diaphragmatic hernia\",550.2],[\"Femoral hernia\",550.3],[\"Umbilical hernia\",550.4],[\"Ventral hernia\",550.5],[\"Incisional hernia\",550.6],[\"Inflammatory bowel disease and other gastroenteritis and colitis\",555.0],[\"Regional enteritis\",555.1],[\"Ulcerative colitis\",555.2],[\"Ulcerative colitis (chronic)\",555.21],[\"Ulceration of intestine\",556.1],[\"Angiodysplasia of intestine (without mention of hemorrhage)\",556.11],[\"Intestinal malabsorption (non-celiac)\",557.0],[\"Celiac disease\",557.1],[\"Noninfectious gastroenteritis\",558.0],[\"Intestinal obstruction without mention of hernia\",560.0],[\"Paralytic ileus\",560.1],[\"Impaction of intestine\",560.2],[\"Peritoneal or intestinal adhesions\",560.3],[\"Other intestinal obstruction\",560.4],[\"Symptoms involving digestive system\",561.0],[\"Diarrhea\",561.1],[\"Flatulence\",561.2],[\"Diverticulosis and diverticulitis\",562.0],[\"Diverticulosis\",562.1],[\"Diverticulitis\",562.2],[\"Constipation\",563.0],[\"Functional digestive disorders\",564.0],[\"Irritable Bowel Syndrome\",564.1],[\"Personal history of diseases of digestive system\",564.9],[\"Anal and rectal conditions\",565.0],[\"Anal and rectal polyp\",565.1],[\"Peritonitis and retroperitoneal infections\",567.0],[\"Other disorders of peritoneum\",568.0],[\"Peritoneal adhesions (postoperative) (postinfection)\",568.1],[\"Other disorders of intestine\",569.0],[\"Toxic gastroenteritis and colitis\",569.1],[\"Gastrointestinal complications\",569.2],[\"Chronic liver disease and cirrhosis\",571.0],[\"Other chronic nonalcoholic liver disease\",571.5],[\"Cirrhosis of liver without mention of alcohol\",571.51],[\"Primary biliary cirrhosis\",571.6],[\"Liver abscess and sequelae of chronic liver disease\",571.8],[\"Portal hypertension\",571.81],[\"Ascites (non malignant)\",572.0],[\"Other disorders of liver\",573.0],[\"Chronic passive congestion of liver\",573.1],[\"Hepatomegaly\",573.3],[\"Acute and subacute necrosis of liver\",573.4],[\"Jaundice (not of newborn)\",573.5],[\"Abnormal serum enzyme levels\",573.9],[\"Cholelithiasis and cholecystitis\",574.0],[\"Cholelithiasis\",574.1],[\"Cholelithiasis with acute cholecystitis\",574.11],[\"Cholelithiasis with other cholecystitis\",574.12],[\"Calculus of bile duct\",574.2],[\"Cholecystitis without cholelithiasis\",574.3],[\"Other biliary tract disease\",575.0],[\"Cholangitis\",575.1],[\"Obstruction of bile duct\",575.2],[\"Cholesterolosis of gallbladder\",575.6],[\"Other disorders of gallbladder\",575.7],[\"Other disorders of biliary tract\",575.8],[\"Nonspecific abnormal findings on radiological and other examination of biliary tract\",575.9],[\"Diseases of pancreas\",577.0],[\"Acute pancreatitis\",577.1],[\"Chronic pancreatitis\",577.2],[\"Cyst and pseudocyst of pancreas\",577.3],[\"Gastrointestinal hemorrhage\",578.0],[\"Hematemesis\",578.1],[\"Blood in stool\",578.2],[\"Hemorrhage of rectum and anus\",578.8],[\"Hemorrhage of gastrointestinal tract\",578.9],[\"Other symptoms involving abdomen and pelvis\",579.0],[\"Splenomegaly\",579.2]],\"hovertemplate\":\"\\u003cb\\u003e%{hovertext}\\u003c\\u002fb\\u003e\\u003cbr\\u003e\\u003cbr\\u003ecategory=digestive\\u003cbr\\u003e0=%{x}\\u003cbr\\u003e1=%{y}\\u003cbr\\u003edescription=%{customdata[0]}\\u003cbr\\u003ephecode=%{customdata[1]}\\u003cextra\\u003e\\u003c\\u002fextra\\u003e\",\"hovertext\":[\"Disorders of tooth development\",\"Hereditary disturbances in tooth structure\",\"Disturbances in tooth eruption\",\"Diseases of hard tissues of teeth\",\"Dental caries\",\"Dental abrasion, erosion and attrition\",\"Tooth complications likely association with other diseases\",\"Diseases of pulp and periapical tissues\",\"Pulpitis and necrosis of tooth pulp\",\"Periapical abscess\",\"Gingival and periodontal diseases\",\"Gingivitis\",\"Periodontitis (acute or chronic)\",\"Acute periodontitis\",\"Chronic periodontitis\",\"Dentofacial anomalies, including malocclusion\",\"Anomalies of tooth position\\u002fmalocclusion\",\"Other diseases of the teeth and supporting structures\",\"Loss of teeth or edentulism\",\"Atrophy of edentulous alveolar ridge\",\"Diseases of the jaws\",\"Cysts of the jaws\",\"Anomalies of jaw size\\u002fsymmetry\",\"Temporomandibular joint disorders\",\"Temporomandibular joint disorder, unspecified\",\"Arthralgia\\u002fankylosis of temporomandibular joint\",\"Inflammatory conditions of jaw\",\"Exostosis of jaw\",\"Jaw disease NOS\",\"Diseases of the salivary glands\",\"Hypertrophy of salivary gland\",\"Sialoadenitis\",\"Disturbance of salivary secretion\",\"Other specified diseases of the salivary glands\",\"Diseases of the oral soft tissues, excluding lesions specific for gingiva and tongue\",\"Stomatitis and mucositis\",\"Stomatitis and mucositis (ulcerative)\",\"Oral aphthae\",\"Cellulitis and abscess of oral soft tissues\",\"Cysts of oral soft tissues\",\"Cyst of the salivary gland\",\"Diseases of lips\",\"Leukoplakia of oral mucosa\",\"Sialolithiasis\",\"Diseases and other conditions of the tongue\",\"Glossitis\",\"Glossodynia\",\"Diseases of esophagus\",\"Esophagitis, GERD and related diseases\",\"GERD\",\"Ulcer of esophagus\",\"Barrett's esophagus\",\"Reflux esophagitis\",\"Eosinophilic esophagitis\",\"Esophageal bleeding (varices\\u002fhemorrhage)\",\"Stricture and stenosis of esophagus\",\"Disorders of esophageal motility\",\"Diverticulum of esophagus, acquired\",\"Gastroesophageal laceration-hemorrhage syndrome\",\"Heartburn\",\"Peptic ulcer (excl. esophageal)\",\"Hemorrhage from gastrointestinal ulcer\",\"Gastric ulcer\",\"Duodenal ulcer\",\"Peptic ulcer, site unspecified\",\"Gastrojejunal ulcer\",\"Dysphagia\",\"Gastritis and duodenitis\",\"Acute gastritis\",\"Atrophic gastritis\",\"Duodenitis\",\"Other specified gastritis\",\"Gastritis and duodenitis, NOS\",\"Disorders of function of stomach\",\"Gastroparesis\",\"Complications of gastrostomy, colostomy and enterostomy\",\"Dyspepsia and other specified disorders of function of stomach\",\"Other disorders of stomach and duodenum\",\"Lesions of stomach and duodenum\",\"Bariatric surgery\",\"Appendicitis\",\"Acute appendicitis\",\"Abdominal hernia\",\"Inguinal hernia\",\"Diaphragmatic hernia\",\"Femoral hernia\",\"Umbilical hernia\",\"Ventral hernia\",\"Incisional hernia\",\"Inflammatory bowel disease and other gastroenteritis and colitis\",\"Regional enteritis\",\"Ulcerative colitis\",\"Ulcerative colitis (chronic)\",\"Ulceration of intestine\",\"Angiodysplasia of intestine (without mention of hemorrhage)\",\"Intestinal malabsorption (non-celiac)\",\"Celiac disease\",\"Noninfectious gastroenteritis\",\"Intestinal obstruction without mention of hernia\",\"Paralytic ileus\",\"Impaction of intestine\",\"Peritoneal or intestinal adhesions\",\"Other intestinal obstruction\",\"Symptoms involving digestive system\",\"Diarrhea\",\"Flatulence\",\"Diverticulosis and diverticulitis\",\"Diverticulosis\",\"Diverticulitis\",\"Constipation\",\"Functional digestive disorders\",\"Irritable Bowel Syndrome\",\"Personal history of diseases of digestive system\",\"Anal and rectal conditions\",\"Anal and rectal polyp\",\"Peritonitis and retroperitoneal infections\",\"Other disorders of peritoneum\",\"Peritoneal adhesions (postoperative) (postinfection)\",\"Other disorders of intestine\",\"Toxic gastroenteritis and colitis\",\"Gastrointestinal complications\",\"Chronic liver disease and cirrhosis\",\"Other chronic nonalcoholic liver disease\",\"Cirrhosis of liver without mention of alcohol\",\"Primary biliary cirrhosis\",\"Liver abscess and sequelae of chronic liver disease\",\"Portal hypertension\",\"Ascites (non malignant)\",\"Other disorders of liver\",\"Chronic passive congestion of liver\",\"Hepatomegaly\",\"Acute and subacute necrosis of liver\",\"Jaundice (not of newborn)\",\"Abnormal serum enzyme levels\",\"Cholelithiasis and cholecystitis\",\"Cholelithiasis\",\"Cholelithiasis with acute cholecystitis\",\"Cholelithiasis with other cholecystitis\",\"Calculus of bile duct\",\"Cholecystitis without cholelithiasis\",\"Other biliary tract disease\",\"Cholangitis\",\"Obstruction of bile duct\",\"Cholesterolosis of gallbladder\",\"Other disorders of gallbladder\",\"Other disorders of biliary tract\",\"Nonspecific abnormal findings on radiological and other examination of biliary tract\",\"Diseases of pancreas\",\"Acute pancreatitis\",\"Chronic pancreatitis\",\"Cyst and pseudocyst of pancreas\",\"Gastrointestinal hemorrhage\",\"Hematemesis\",\"Blood in stool\",\"Hemorrhage of rectum and anus\",\"Hemorrhage of gastrointestinal tract\",\"Other symptoms involving abdomen and pelvis\",\"Splenomegaly\"],\"legendgroup\":\"digestive\",\"marker\":{\"color\":\"#636efa\",\"symbol\":\"circle\"},\"mode\":\"markers\",\"name\":\"digestive\",\"showlegend\":true,\"x\":[4.911837577819824,7.747166156768799,5.1641106605529785,4.932296276092529,11.466246604919434,11.565065383911133,2.084928035736084,0.7104979157447815,0.7481576204299927,8.720193862915039,5.266696929931641,7.192880153656006,5.047712802886963,10.112760543823242,5.159213542938232,6.099095821380615,5.400835990905762,5.661811828613281,3.1630845069885254,2.7315423488616943,9.774079322814941,7.126909255981445,12.107854843139648,11.357282638549805,11.616260528564453,2.1251769065856934,5.54942512512207,2.4831345081329346,14.761062622070312,1.6124436855316162,1.539473533630371,18.617023468017578,6.893959999084473,13.70739459991455,11.288453102111816,6.511362075805664,6.496057987213135,11.142569541931152,11.466320991516113,1.373098373413086,1.114081621170044,6.686004638671875,5.561542510986328,7.814343452453613,5.8449177742004395,6.092709064483643,6.099653244018555,16.00166893005371,16.021230697631836,15.983896255493164,2.842400074005127,15.83899974822998,15.868431091308594,14.372843742370605,12.887770652770996,15.86645793914795,15.099903106689453,2.613924980163574,13.295397758483887,13.892159461975098,14.922014236450195,3.1042323112487793,15.173181533813477,3.0390076637268066,14.308850288391113,14.65089225769043,17.451507568359375,14.7177095413208,21.994426727294922,15.482575416564941,14.533584594726562,15.392457008361816,14.699152946472168,15.509639739990234,14.891090393066406,2.5194993019104004,14.377678871154785,15.159357070922852,-0.330269455909729,14.539196968078613,16.11969757080078,1.7868388891220093,28.135766983032227,8.097732543945312,16.2362117767334,27.88788414001465,28.180904388427734,28.07593536376953,28.156482696533203,2.6603012084960938,16.35376739501953,16.26042366027832,16.54104232788086,2.0225577354431152,15.330779075622559,16.111303329467773,16.205230712890625,16.446613311767578,1.4148974418640137,0.278251588344574,15.528672218322754,0.04518260434269905,15.724333763122559,15.203207969665527,21.658599853515625,15.562214851379395,2.0103256702423096,15.798832893371582,16.07721710205078,15.533844947814941,15.43860149383545,15.323095321655273,13.97765827178955,7.006316184997559,1.7050870656967163,12.864459037780762,-1.6502834558486938,-1.0715407133102417,15.021696090698242,2.621128559112549,15.3637113571167,2.341566324234009,12.92910099029541,12.574237823486328,13.717818260192871,12.434468269348145,13.368507385253906,13.342942237854004,11.629806518554688,19.670928955078125,12.987174987792969,12.29348373413086,16.725969314575195,9.635104179382324,3.2253222465515137,13.827645301818848,2.4866700172424316,2.6891233921051025,14.11767578125,11.780570030212402,13.111037254333496,14.038622856140137,13.525352478027344,-0.24556782841682434,13.00887680053711,13.108131408691406,-0.21218933165073395,14.652420997619629,13.500417709350586,12.785414695739746,14.07921314239502,2.3767573833465576,13.518330574035645,15.195725440979004,15.380247116088867,15.315472602844238,12.02794075012207,15.62370777130127],\"xaxis\":\"x\",\"y\":[3.272617816925049,10.931102752685547,3.442330837249756,3.1931936740875244,-1.6963139772415161,9.321600914001465,4.852689266204834,4.107799053192139,4.556899547576904,2.2196907997131348,3.141960382461548,4.312049865722656,2.673482894897461,0.5676723122596741,2.836589813232422,3.2410924434661865,3.9052011966705322,3.4870896339416504,4.269289970397949,4.461119651794434,-2.5312788486480713,16.204526901245117,11.096966743469238,0.5185975432395935,0.32713574171066284,4.635962963104248,2.6472222805023193,4.602914333343506,-0.3016679584980011,4.828867435455322,4.499982833862305,13.720827102661133,4.836191177368164,12.191204071044922,-1.3053557872772217,5.3221330642700195,5.882453441619873,-1.366318702697754,-1.7358367443084717,5.766557216644287,4.726917743682861,5.151144027709961,6.59929895401001,4.141416549682617,5.425243854522705,5.7652764320373535,5.188218593597412,8.443048477172852,8.681713104248047,8.62792682647705,7.058557510375977,7.8462324142456055,8.775961875915527,9.038461685180664,6.989331245422363,7.809414863586426,8.828436851501465,7.091215133666992,6.38743257522583,7.0759382247924805,6.567020893096924,6.707666397094727,6.895900726318359,6.889082431793213,6.317969799041748,6.252748966217041,6.719787120819092,6.221319675445557,10.864169120788574,7.051120758056641,5.968847751617432,8.159907341003418,6.244103908538818,6.286243915557861,5.7221879959106445,7.101907730102539,6.033395290374756,6.5693039894104,4.962003231048584,4.63103723526001,4.982462406158447,6.558675289154053,-0.584937572479248,7.600192070007324,5.291933059692383,-0.4038308560848236,-0.6303621530532837,-0.5210718512535095,-0.6095473170280457,7.0402326583862305,6.51785135269165,6.170648574829102,6.19135046005249,6.6888041496276855,6.748064041137695,7.270327091217041,6.988633155822754,6.99365234375,6.523257732391357,5.667459487915039,4.873981475830078,5.265559673309326,5.275764465332031,4.9254536628723145,10.481444358825684,5.408621788024902,7.098686695098877,5.706595420837402,5.474318981170654,5.079775333404541,6.146243572235107,5.545181751251221,6.452728271484375,9.651764869689941,6.859160900115967,6.501416206359863,5.970402717590332,6.05936336517334,6.375378608703613,6.743404865264893,6.068339824676514,6.051445960998535,5.268604278564453,6.044966220855713,6.034639358520508,5.446834564208984,7.531590461730957,7.261544227600098,6.336452960968018,4.093642234802246,5.523979663848877,5.617359638214111,14.537309646606445,7.022767066955566,6.208430767059326,7.9546966552734375,6.508983135223389,6.331027030944824,7.680920600891113,6.42047643661499,7.227492809295654,8.273197174072266,6.556286334991455,5.315654277801514,6.526519298553467,7.030069828033447,4.902169704437256,7.366830825805664,7.9025492668151855,5.778561115264893,7.467635154724121,6.846951484680176,6.73020601272583,6.811689853668213,6.489225387573242,6.839470386505127,6.61794900894165,9.285091400146484],\"yaxis\":\"y\",\"type\":\"scattergl\",\"opacity\":0.9},{\"customdata\":[[\"Nephritis; nephrosis; renal sclerosis\",580.0],[\"Glomerulonephritis\",580.1],[\"Proliferative glomerulonephritis\",580.11],[\"Non-proliferative glomerulonephritis\",580.12],[\"Acute glomerulonephritis, NOS\",580.13],[\"Chronic glomerulonephritis, NOS\",580.14],[\"Nephrotic syndrome without mention of glomerulonephritis\",580.2],[\"Nephritis and nephropathy without mention of glomerulonephritis\",580.3],[\"Nephritis and nephropathy in diseases classified elsewhere\",580.31],[\"Nephritis and nephropathy with pathological lesion\",580.32],[\"Renal sclerosis, NOS\",580.4],[\"Renal failure\",585.0],[\"Acute renal failure\",585.1],[\"Renal failure NOS\",585.2],[\"Chronic renal failure [CKD]\",585.3],[\"Renal dialysis\",585.31],[\"End stage renal disease\",585.32],[\"Chronic Kidney Disease, Stage III\",585.33],[\"Chronic Kidney Disease, Stage IV\",585.34],[\"Chronic kidney disease, Stage I or II\",585.4],[\"Other disorders of the kidney and ureters\",586.0],[\"Anatomical abnormatilies of kidney and ureters\",586.1],[\"Small kidney\",586.11],[\"Vesicoureteral reflux\",586.12],[\"Cyst of kidney, acquired\",586.2],[\"Vascular disorders of kidney\\u002fhypertrophy\",586.3],[\"Stricture\\u002fobstruction of ureter\",586.4],[\"Disorders resulting from impaired renal function\",588.0],[\"Renal osteodystrophy\",588.1],[\"Secondary hyperparathyroidism (of renal origin)\",588.2],[\"Pyelonephritis\",590.0],[\"Urinary tract infection\",591.0],[\"Cystitis and urethritis\",592.0],[\"Cystitis\",592.1],[\"Acute cystitis\",592.11],[\"Chronic cystitis\",592.12],[\"Chronic interstitial cystitis\",592.13],[\"Urethritis and urethral syndrome\",592.2],[\"Urethral syndrome\",592.21],[\"Urethral stricture due to infecton\",592.3],[\"Hematuria\",593.0],[\"Gross hematuria\",593.1],[\"Urinary calculus\",594.0],[\"Calculus of kidney\",594.1],[\"Calculus of lower urinary tract\",594.2],[\"Calculus of ureter\",594.3],[\"Renal colic\",594.8],[\"Hydronephrosis\",595.0],[\"Other disorders of bladder\",596.0],[\"Bladder neck obstruction\",596.1],[\"Functional disorders of bladder\",596.5],[\"Other disorders of urethra and urinary tract\",597.0],[\"Urethral stricture (not specified as infectious)\",597.1],[\"Urethral hypermobility\\u002fISD\",597.8],[\"Abnormal findings on examination of urine\",598.0],[\"Other cells and casts in urine\",598.4],[\"Other nonspecific findings on examination of urine\",598.9],[\"Other symptoms\\u002fdisorders or the urinary system\",599.0],[\"Urinary obstruction\",599.1],[\"Retention of urine\",599.2],[\"Dysuria\",599.3],[\"Urinary incontinence\",599.4],[\"Frequency of urination and polyuria\",599.5],[\"Oliguria and anuria\",599.6],[\"Urethral discharge\",599.7],[\"Other symptoms involving urinary system\",599.8],[\"Other abnormality of urination\",599.9],[\"Hyperplasia of prostate\",600.0],[\"Inflammatory diseases of prostate\",601.0],[\"Prostatitis\",601.1],[\"Acute prostatitis\",601.11],[\"Chronic prostatitis\",601.12],[\"Orchitis and epididymitis\",601.3],[\"Balanoposthitis\",601.4],[\"Other inflammatory disorders of male genital organs\",601.8],[\"Other disorders of prostate\",602.0],[\"Dysplasia of prostate\",602.3],[\"Other disorders of testis\",603.0],[\"Hydrocele\",603.1],[\"Spermatocele\",603.2],[\"Disorders of penis\",604.0],[\"Redundant prepuce and phimosis\\u002fBXO\",604.1],[\"Vascular disorders of penis\",604.2],[\"Peyronie's disease\",604.3],[\"Erectile dysfunction [ED]\",605.0],[\"Other disorders of male genital organs\",608.0],[\"Male infertility and abnormal spermatozoa\",609.0],[\"Infertility, male\",609.1],[\"Azoospermia and oligospermia\",609.11],[\"Abnormal spermatozoa\",609.2],[\"Benign mammary dysplasias\",610.0],[\"Cystic mastopathy\",610.1],[\"Fibroadenosis of breast\",610.2],[\"Fibrosclerosis of breast\",610.3],[\"Benign neoplasm of breast\",610.4],[\"Other specified benign mammary dysplasias\",610.8],[\"Abnormal findings on mammogram or breast exam\",611.0],[\"Abnormal mammogram\",611.1],[\"Mammographic microcalcification\",611.11],[\"Lump or mass in breast\",611.3],[\"Breast conditions, congenital or relating to hormones\",612.0],[\"Galactorrhea\",612.1],[\"Hypertrophy of breast (Gynecomastia)\",612.2],[\"Congenital anomalies of breast\",612.3],[\"Other nonmalignant breast conditions\",613.0],[\"Inflammatory disease of breast\",613.1],[\"Mastodynia\",613.5],[\"Other signs and symptoms in breast\",613.7],[\"Other specified disorders of breast\",613.8],[\"Breast disorder NOS\",613.9],[\"Inflammatory diseases of female pelvic organs\",614.0],[\"Pelvic peritoneal adhesions, female (postoperative) (postinfection)\",614.1],[\"Pelvic inflammatory disease (PID)\",614.3],[\"Acute inflammatory pelvic disease\",614.31],[\"Chronic inflammatory pelvic disease\",614.32],[\"Pelvic inflammatory disease, NOS\",614.33],[\"Inflammatory diseases of uterus, except cervix\",614.4],[\"Inflammatory disease of cervix, vagina, and vulva\",614.5],[\"Cervicitis and endocervicitis\",614.51],[\"Vaginitis and vulvovaginitis\",614.52],[\"Cyst or abscess of Bartholin's gland\",614.53],[\"Abscess or ulceration of vulva\",614.54],[\"Endometriosis\",615.0],[\"Disorders secondary to childbirth, surgery, trauma\",617.0],[\"Genital prolapse\",618.0],[\"Prolapse of vaginal walls\",618.1],[\"Uterine\\u002fUterovaginal prolapse\",618.2],[\"Prolapse of vaginal vault after hysterectomy\",618.5],[\"Vaginal enterocele, congenital or acquired\",618.6],[\"Noninflammatory female genital disorders\",619.0],[\"Noninflammatory disorders of ovary, fallopian tube, and broad ligament\",619.1],[\"Disorders of uterus, NEC\",619.2],[\"Noninflammatory disorders of cervix\",619.3],[\"Noninflammatory disorders of vagina\",619.4],[\"Noninflammatory disorders of vulva and perineum\",619.5],[\"Dysplasia of female genital organs\",620.0],[\"Dysplasia of cervix\",620.1],[\"Polyp of female genital organs\",622.0],[\"Polyp of corpus uteri\",622.1],[\"Mucous polyp of cervix\",622.2],[\"Symptoms involving female genital tract\",624.0],[\"Dystrophy of female genital tract\",624.1],[\"Atrophy of female genital tract\",624.2],[\"stress incontinence, female\",624.9],[\"Pain and other symptoms associated with female genital organs\",625.0],[\"Dyspareunia\",625.1],[\"Disorders of menstruation and other abnormal bleeding from female genital tract\",626.0],[\"Irregular menstrual cycle\\u002fbleeding\",626.1],[\"Absent or infrequent menstruation\",626.11],[\"Excessive or frequent menstruation\",626.12],[\"Irregular menstrual cycle\",626.13],[\"Irregular menstrual bleeding\",626.14],[\"Infertility, female, associated with anovulation\",626.15],[\"Dysmenorrhea\",626.2],[\"Mittelschmerz\",626.21],[\"Premenstrual tension syndromes\",626.4],[\"Infertility, female\",626.8],[\"Menopausal and postmenopausal disorders\",627.0],[\"Postmenopausal bleeding\",627.1],[\"Symptomatic menopause\",627.2],[\"Symptomatic artificial menopause\",627.21],[\"Need for Hormone replacement therapy (postmenopausal)\",627.22],[\"Postmenopausal atrophic vaginitis\",627.3],[\"Premenopausal menorrhagia\",627.4],[\"Premature menopause and other ovarian failure\",627.5],[\"Ovarian cyst\",628.0]],\"hovertemplate\":\"\\u003cb\\u003e%{hovertext}\\u003c\\u002fb\\u003e\\u003cbr\\u003e\\u003cbr\\u003ecategory=genitourinary\\u003cbr\\u003e0=%{x}\\u003cbr\\u003e1=%{y}\\u003cbr\\u003edescription=%{customdata[0]}\\u003cbr\\u003ephecode=%{customdata[1]}\\u003cextra\\u003e\\u003c\\u002fextra\\u003e\",\"hovertext\":[\"Nephritis; nephrosis; renal sclerosis\",\"Glomerulonephritis\",\"Proliferative glomerulonephritis\",\"Non-proliferative glomerulonephritis\",\"Acute glomerulonephritis, NOS\",\"Chronic glomerulonephritis, NOS\",\"Nephrotic syndrome without mention of glomerulonephritis\",\"Nephritis and nephropathy without mention of glomerulonephritis\",\"Nephritis and nephropathy in diseases classified elsewhere\",\"Nephritis and nephropathy with pathological lesion\",\"Renal sclerosis, NOS\",\"Renal failure\",\"Acute renal failure\",\"Renal failure NOS\",\"Chronic renal failure [CKD]\",\"Renal dialysis\",\"End stage renal disease\",\"Chronic Kidney Disease, Stage III\",\"Chronic Kidney Disease, Stage IV\",\"Chronic kidney disease, Stage I or II\",\"Other disorders of the kidney and ureters\",\"Anatomical abnormatilies of kidney and ureters\",\"Small kidney\",\"Vesicoureteral reflux\",\"Cyst of kidney, acquired\",\"Vascular disorders of kidney\\u002fhypertrophy\",\"Stricture\\u002fobstruction of ureter\",\"Disorders resulting from impaired renal function\",\"Renal osteodystrophy\",\"Secondary hyperparathyroidism (of renal origin)\",\"Pyelonephritis\",\"Urinary tract infection\",\"Cystitis and urethritis\",\"Cystitis\",\"Acute cystitis\",\"Chronic cystitis\",\"Chronic interstitial cystitis\",\"Urethritis and urethral syndrome\",\"Urethral syndrome\",\"Urethral stricture due to infecton\",\"Hematuria\",\"Gross hematuria\",\"Urinary calculus\",\"Calculus of kidney\",\"Calculus of lower urinary tract\",\"Calculus of ureter\",\"Renal colic\",\"Hydronephrosis\",\"Other disorders of bladder\",\"Bladder neck obstruction\",\"Functional disorders of bladder\",\"Other disorders of urethra and urinary tract\",\"Urethral stricture (not specified as infectious)\",\"Urethral hypermobility\\u002fISD\",\"Abnormal findings on examination of urine\",\"Other cells and casts in urine\",\"Other nonspecific findings on examination of urine\",\"Other symptoms\\u002fdisorders or the urinary system\",\"Urinary obstruction\",\"Retention of urine\",\"Dysuria\",\"Urinary incontinence\",\"Frequency of urination and polyuria\",\"Oliguria and anuria\",\"Urethral discharge\",\"Other symptoms involving urinary system\",\"Other abnormality of urination\",\"Hyperplasia of prostate\",\"Inflammatory diseases of prostate\",\"Prostatitis\",\"Acute prostatitis\",\"Chronic prostatitis\",\"Orchitis and epididymitis\",\"Balanoposthitis\",\"Other inflammatory disorders of male genital organs\",\"Other disorders of prostate\",\"Dysplasia of prostate\",\"Other disorders of testis\",\"Hydrocele\",\"Spermatocele\",\"Disorders of penis\",\"Redundant prepuce and phimosis\\u002fBXO\",\"Vascular disorders of penis\",\"Peyronie's disease\",\"Erectile dysfunction [ED]\",\"Other disorders of male genital organs\",\"Male infertility and abnormal spermatozoa\",\"Infertility, male\",\"Azoospermia and oligospermia\",\"Abnormal spermatozoa\",\"Benign mammary dysplasias\",\"Cystic mastopathy\",\"Fibroadenosis of breast\",\"Fibrosclerosis of breast\",\"Benign neoplasm of breast\",\"Other specified benign mammary dysplasias\",\"Abnormal findings on mammogram or breast exam\",\"Abnormal mammogram\",\"Mammographic microcalcification\",\"Lump or mass in breast\",\"Breast conditions, congenital or relating to hormones\",\"Galactorrhea\",\"Hypertrophy of breast (Gynecomastia)\",\"Congenital anomalies of breast\",\"Other nonmalignant breast conditions\",\"Inflammatory disease of breast\",\"Mastodynia\",\"Other signs and symptoms in breast\",\"Other specified disorders of breast\",\"Breast disorder NOS\",\"Inflammatory diseases of female pelvic organs\",\"Pelvic peritoneal adhesions, female (postoperative) (postinfection)\",\"Pelvic inflammatory disease (PID)\",\"Acute inflammatory pelvic disease\",\"Chronic inflammatory pelvic disease\",\"Pelvic inflammatory disease, NOS\",\"Inflammatory diseases of uterus, except cervix\",\"Inflammatory disease of cervix, vagina, and vulva\",\"Cervicitis and endocervicitis\",\"Vaginitis and vulvovaginitis\",\"Cyst or abscess of Bartholin's gland\",\"Abscess or ulceration of vulva\",\"Endometriosis\",\"Disorders secondary to childbirth, surgery, trauma\",\"Genital prolapse\",\"Prolapse of vaginal walls\",\"Uterine\\u002fUterovaginal prolapse\",\"Prolapse of vaginal vault after hysterectomy\",\"Vaginal enterocele, congenital or acquired\",\"Noninflammatory female genital disorders\",\"Noninflammatory disorders of ovary, fallopian tube, and broad ligament\",\"Disorders of uterus, NEC\",\"Noninflammatory disorders of cervix\",\"Noninflammatory disorders of vagina\",\"Noninflammatory disorders of vulva and perineum\",\"Dysplasia of female genital organs\",\"Dysplasia of cervix\",\"Polyp of female genital organs\",\"Polyp of corpus uteri\",\"Mucous polyp of cervix\",\"Symptoms involving female genital tract\",\"Dystrophy of female genital tract\",\"Atrophy of female genital tract\",\"stress incontinence, female\",\"Pain and other symptoms associated with female genital organs\",\"Dyspareunia\",\"Disorders of menstruation and other abnormal bleeding from female genital tract\",\"Irregular menstrual cycle\\u002fbleeding\",\"Absent or infrequent menstruation\",\"Excessive or frequent menstruation\",\"Irregular menstrual cycle\",\"Irregular menstrual bleeding\",\"Infertility, female, associated with anovulation\",\"Dysmenorrhea\",\"Mittelschmerz\",\"Premenstrual tension syndromes\",\"Infertility, female\",\"Menopausal and postmenopausal disorders\",\"Postmenopausal bleeding\",\"Symptomatic menopause\",\"Symptomatic artificial menopause\",\"Need for Hormone replacement therapy (postmenopausal)\",\"Postmenopausal atrophic vaginitis\",\"Premenopausal menorrhagia\",\"Premature menopause and other ovarian failure\",\"Ovarian cyst\"],\"legendgroup\":\"genitourinary\",\"marker\":{\"color\":\"#EF553B\",\"symbol\":\"circle\"},\"mode\":\"markers\",\"name\":\"genitourinary\",\"showlegend\":true,\"x\":[-2.7811672687530518,-2.5532569885253906,8.016501426696777,7.795526027679443,8.824131965637207,9.943777084350586,9.103485107421875,19.150794982910156,9.770586013793945,9.012864112854004,9.048912048339844,10.4073486328125,8.681821823120117,10.98416519165039,9.351168632507324,9.240471839904785,9.398921012878418,-2.930995464324951,10.14357852935791,10.29099178314209,7.916418075561523,9.395331382751465,-1.737099528312683,8.22238540649414,7.851541042327881,10.371682167053223,8.567678451538086,11.080617904663086,13.151965141296387,-2.987950563430786,8.179838180541992,7.4843430519104,-3.86830997467041,7.774681568145752,-4.317473411560059,7.799335956573486,5.988718032836914,7.319082736968994,7.493646621704102,6.1880645751953125,7.996055603027344,-4.0427751541137695,7.209132194519043,7.210479736328125,6.904517650604248,-3.653146743774414,-3.6091039180755615,7.757594108581543,7.507104873657227,6.289688587188721,6.253640174865723,5.292016983032227,5.9310526847839355,-3.2104525566101074,15.811470031738281,-1.734284520149231,7.696491718292236,19.24651336669922,7.4172797203063965,6.094357967376709,7.067625999450684,6.326237201690674,6.611937046051025,6.68894100189209,-4.135191917419434,8.369086265563965,6.249362945556641,5.811058521270752,-4.1848039627075195,6.632596492767334,7.068415641784668,-4.4072675704956055,6.924548625946045,7.716976165771484,7.052887439727783,4.632357597351074,-3.502868175506592,5.387078762054443,5.723283290863037,4.507562160491943,6.418534278869629,4.825770378112793,-4.1063232421875,5.378661155700684,10.36989688873291,6.3401408195495605,-3.1202197074890137,4.781657695770264,4.667119979858398,8.018025398254395,-0.5797901749610901,6.562779426574707,-0.6804911494255066,-0.8302542567253113,5.940807342529297,6.322612762451172,-0.1104820966720581,-0.2660808861255646,-0.807137668132782,6.731911659240723,-0.05073663592338562,6.499668121337891,6.652793884277344,6.1726460456848145,-0.11358465254306793,6.328132152557373,6.868503093719482,6.626704216003418,-0.5332598090171814,-0.6501641273498535,6.689639091491699,-4.1651387214660645,6.959006309509277,-3.9173054695129395,-4.2719550132751465,6.764338970184326,-4.3165283203125,7.081486701965332,7.390458106994629,7.061864852905273,6.606706619262695,-3.694817543029785,4.253817558288574,8.709110260009766,-4.169966697692871,4.937454700469971,5.6037187576293945,-2.688300609588623,28.35932731628418,3.3375933170318604,3.623359203338623,4.516479015350342,13.164559364318848,4.024360656738281,-2.070267915725708,16.138097763061523,7.455470085144043,-3.687561273574829,3.6328513622283936,3.0862233638763428,6.425090312957764,-3.3753740787506104,-1.5415375232696533,6.352518081665039,6.3944172859191895,5.912572860717773,3.4069161415100098,3.0038158893585205,5.524816513061523,2.9521713256835938,3.3564915657043457,2.913999319076538,3.0964207649230957,6.808751106262207,4.565615177154541,18.132654190063477,4.986299514770508,-1.4401131868362427,-2.631359338760376,6.2786054611206055,-1.4932069778442383,-1.2299723625183105,7.695134162902832,-2.0196704864501953,5.1130805015563965,3.493243455886841],\"xaxis\":\"x\",\"y\":[5.4540252685546875,5.116968631744385,8.905739784240723,8.796917915344238,5.3483991622924805,5.673640251159668,4.9845428466796875,8.31103515625,4.90615701675415,5.712240695953369,5.492738723754883,5.431086540222168,5.401001453399658,4.928649425506592,4.139784812927246,4.521035194396973,4.602103233337402,5.721858501434326,5.506164073944092,5.185945987701416,6.973415851593018,6.057850360870361,4.494965076446533,7.226609706878662,6.563002109527588,5.342478275299072,6.295881748199463,4.488637447357178,3.0918848514556885,4.419171333312988,6.999931812286377,9.978401184082031,6.128514766693115,9.378581047058105,6.213961601257324,9.548433303833008,7.987004280090332,11.042512893676758,9.6182222366333,8.644268035888672,7.355662822723389,6.131431579589844,7.533540725708008,7.521186351776123,7.985974311828613,5.530751705169678,5.649892330169678,7.603076934814453,7.959043979644775,8.920171737670898,7.370006561279297,9.891528129577637,8.915436744689941,7.286942958831787,2.484473466873169,2.589897394180298,6.917959213256836,6.304285526275635,9.756957054138184,8.512788772583008,10.180216789245605,7.703348636627197,7.563142776489258,1.2590152025222778,6.592929840087891,6.694240570068359,7.93563175201416,9.144532203674316,6.689320087432861,10.081045150756836,10.206036567687988,6.725252151489258,10.609016418457031,11.323328018188477,10.874184608459473,10.190635681152344,6.846036911010742,9.906427383422852,10.136792182922363,11.769023895263672,10.888838768005371,10.458081245422363,6.76492166519165,10.621268272399902,4.1869072914123535,10.345600128173828,7.461764335632324,13.629411697387695,13.58459758758545,7.89036750793457,8.342288970947266,15.523322105407715,6.457925796508789,6.504150867462158,16.02524185180664,15.591095924377441,8.48939037322998,8.350502967834473,7.936254024505615,15.744574546813965,8.16696548461914,15.675761222839355,14.632901191711426,15.9041748046875,8.53585433959961,15.878021240234375,15.083843231201172,15.381513595581055,8.228166580200195,8.112049102783203,12.12133502960205,7.6714677810668945,11.982185363769531,7.623093128204346,7.862480163574219,12.434267044067383,7.453975677490234,9.008362770080566,11.66071605682373,11.42800235748291,11.207602500915527,7.021649360656738,12.78128719329834,7.420688152313232,7.726212024688721,10.369879722595215,9.589653968811035,7.5047736167907715,-0.8044045567512512,12.874707221984863,13.087801933288574,11.402569770812988,16.86440086364746,13.392032623291016,7.186927795410156,13.156830787658691,13.065839767456055,7.055632591247559,14.287162780761719,13.4234037399292,11.557626724243164,6.79749059677124,6.82669734954834,8.17724895477295,11.191259384155273,10.833039283752441,14.322017669677734,14.468344688415527,14.711102485656738,14.70510482788086,14.675146102905273,14.351700782775879,14.385308265686035,12.489013671875,12.127294540405273,-4.888153076171875,12.379940032958984,7.465019226074219,7.774744510650635,13.766824722290039,5.81959867477417,6.308152675628662,10.796235084533691,5.862910747528076,14.530844688415527,12.933112144470215],\"yaxis\":\"y\",\"type\":\"scattergl\",\"opacity\":0.9},{\"customdata\":[[\"Miscarriage; stillbirth\",634.0],[\"Missed abortion\\u002fHydatidiform mole\",634.1],[\"Ectopic pregnancy\",634.3],[\"Hemorrhage during pregnancy; childbirth and postpartum\",635.0],[\"Antepartum hemorrhage, abruptio placentae, and placenta previa\",635.2],[\"Placenta previa and abruptio placenta\",635.3],[\"Early or threatened labor; hemorrhage in early pregnancy\",636.0],[\"Threatened premature labor\",636.1],[\"Early onset of delivery\",636.2],[\"Hemorrhage in early pregnancy\",636.3],[\"Cervical incompetence\",636.8],[\"Short gestation; low birth weight; and fetal growth retardation\",637.0],[\"Hypertension complicating pregnancy, childbirth, and the puerperium\",642.0],[\"Preeclampsia and eclampsia\",642.1],[\"Excessive vomiting in pregnancy\",643.0],[\"Hyperemesis gravidarum\",643.1],[\"Other complications of pregnancy NEC\",646.0],[\"Infectious and parasitic complications affecting pregnancy\",647.0],[\"Major puerperal infection\",647.3],[\"Other conditions or status of the mother complicating pregnancy, childbirth, or the puerperium\",649.0],[\"Diabetes or abnormal glucose tolerance complicating pregnancy\",649.1],[\"Multiple gestation\",651.0],[\"Malposition and malpresentation of fetus or obstruction\",652.0],[\"Problems associated with amniotic cavity and membranes\",653.0],[\"Known or suspected fetal abnormality affecting management of mother\",655.0],[\"Abnormality in fetal heart rate or rhythm\",655.1],[\"Other perinatal conditions of fetus or newborn\",656.0],[\"Isoimmunization of fetus or newborn\",656.1],[\"Respiratory conditions of fetus and newborn\",656.2],[\"Interstitial emphysema and related conditions of newborn\",656.22],[\"Transitory tachypnea or apnea of newborn\",656.26],[\"Endocrine and metabolic disturbances of fetus and newborn\",656.3],[\"Hemorrhage of fetus or newborn\",656.4],[\"Hematological disorders of newborn\",656.5],[\"Perinatal disorders of digestive system\",656.6],[\"Conditions involving the integument and temperature regulation of fetus and newborn\",656.7],[\"Perinatal jaundice\",656.8],[\"Neonatal bradycardia or tachycardia\",656.9],[\"Infections specific to the perinatal period\",657.0],[\"Maternal complication of pregnancy affecting fetus or newborn\",658.0],[\"Fetal distress and abnormal forces of labor\",661.0],[\"Umbilical cord complications during labor and delivery\",663.0],[\"Obstetrical\\u002fbirth trauma\",665.0],[\"Complications of the administration of anesthetic or other sedation in labor and delivery\",668.0],[\"Complications of labor and delivery NEC\",669.0],[\"Venous\\u002fcerebrovascular complications embolism in pregnancy and the puerperium\",671.0],[\"Other complications of the puerperium NEC\",674.0],[\"Other disorders of the breast associated with childbirth and disorders of lactation\",676.0],[\"Complications of in utero procedures\",679.0]],\"hovertemplate\":\"\\u003cb\\u003e%{hovertext}\\u003c\\u002fb\\u003e\\u003cbr\\u003e\\u003cbr\\u003ecategory=pregnancy complications\\u003cbr\\u003e0=%{x}\\u003cbr\\u003e1=%{y}\\u003cbr\\u003edescription=%{customdata[0]}\\u003cbr\\u003ephecode=%{customdata[1]}\\u003cextra\\u003e\\u003c\\u002fextra\\u003e\",\"hovertext\":[\"Miscarriage; stillbirth\",\"Missed abortion\\u002fHydatidiform mole\",\"Ectopic pregnancy\",\"Hemorrhage during pregnancy; childbirth and postpartum\",\"Antepartum hemorrhage, abruptio placentae, and placenta previa\",\"Placenta previa and abruptio placenta\",\"Early or threatened labor; hemorrhage in early pregnancy\",\"Threatened premature labor\",\"Early onset of delivery\",\"Hemorrhage in early pregnancy\",\"Cervical incompetence\",\"Short gestation; low birth weight; and fetal growth retardation\",\"Hypertension complicating pregnancy, childbirth, and the puerperium\",\"Preeclampsia and eclampsia\",\"Excessive vomiting in pregnancy\",\"Hyperemesis gravidarum\",\"Other complications of pregnancy NEC\",\"Infectious and parasitic complications affecting pregnancy\",\"Major puerperal infection\",\"Other conditions or status of the mother complicating pregnancy, childbirth, or the puerperium\",\"Diabetes or abnormal glucose tolerance complicating pregnancy\",\"Multiple gestation\",\"Malposition and malpresentation of fetus or obstruction\",\"Problems associated with amniotic cavity and membranes\",\"Known or suspected fetal abnormality affecting management of mother\",\"Abnormality in fetal heart rate or rhythm\",\"Other perinatal conditions of fetus or newborn\",\"Isoimmunization of fetus or newborn\",\"Respiratory conditions of fetus and newborn\",\"Interstitial emphysema and related conditions of newborn\",\"Transitory tachypnea or apnea of newborn\",\"Endocrine and metabolic disturbances of fetus and newborn\",\"Hemorrhage of fetus or newborn\",\"Hematological disorders of newborn\",\"Perinatal disorders of digestive system\",\"Conditions involving the integument and temperature regulation of fetus and newborn\",\"Perinatal jaundice\",\"Neonatal bradycardia or tachycardia\",\"Infections specific to the perinatal period\",\"Maternal complication of pregnancy affecting fetus or newborn\",\"Fetal distress and abnormal forces of labor\",\"Umbilical cord complications during labor and delivery\",\"Obstetrical\\u002fbirth trauma\",\"Complications of the administration of anesthetic or other sedation in labor and delivery\",\"Complications of labor and delivery NEC\",\"Venous\\u002fcerebrovascular complications embolism in pregnancy and the puerperium\",\"Other complications of the puerperium NEC\",\"Other disorders of the breast associated with childbirth and disorders of lactation\",\"Complications of in utero procedures\"],\"legendgroup\":\"pregnancy complications\",\"marker\":{\"color\":\"#00cc96\",\"symbol\":\"circle\"},\"mode\":\"markers\",\"name\":\"pregnancy complications\",\"showlegend\":true,\"x\":[13.486324310302734,2.972416400909424,5.254363059997559,16.218103408813477,14.045599937438965,15.508070945739746,14.447625160217285,-2.2650961875915527,14.818925857543945,13.707310676574707,13.553389549255371,14.305869102478027,-10.332717895507812,16.137901306152344,13.788442611694336,13.934796333312988,15.185564041137695,-10.273713111877441,9.155518531799316,13.64354419708252,16.278125762939453,14.755453109741211,14.864216804504395,15.127488136291504,14.7742338180542,-2.1938846111297607,16.121562957763672,16.708763122558594,15.706258773803711,-2.409794569015503,15.979833602905273,16.455026626586914,16.297975540161133,16.376285552978516,6.185848712921143,16.183012008666992,12.69994068145752,14.680272102355957,9.399028778076172,16.015405654907227,15.583650588989258,15.181012153625488,-6.049516677856445,-10.114936828613281,14.660816192626953,15.182807922363281,20.72796058654785,-10.279077529907227,-10.5209379196167],\"xaxis\":\"x\",\"y\":[16.90544891357422,14.595048904418945,12.123963356018066,16.224899291992188,16.89796257019043,16.417678833007812,16.745105743408203,8.902826309204102,16.77797508239746,16.88875389099121,17.049602508544922,16.711416244506836,12.527345657348633,16.696626663208008,4.160994529724121,4.194096565246582,14.696826934814453,12.421345710754395,9.841288566589355,-5.166638374328613,17.068145751953125,17.0488224029541,16.182065963745117,16.775915145874023,16.3299617767334,8.286474227905273,16.6626033782959,15.462849617004395,15.542885780334473,9.03895092010498,15.437203407287598,17.131025314331055,16.474496841430664,15.680853843688965,-0.8003311157226562,16.022680282592773,-5.2723917961120605,17.08292579650879,12.233772277832031,16.939685821533203,15.199609756469727,16.99940299987793,2.8244993686676025,12.626983642578125,16.405176162719727,16.14863395690918,8.299494743347168,12.42958927154541,12.617289543151855],\"yaxis\":\"y\",\"type\":\"scattergl\",\"opacity\":0.9},{\"customdata\":[[\"Superficial cellulitis and abscess\",681.0],[\"Cellulitis and abscess of fingers\\u002ftoes\",681.1],[\"Cellulitis and abscess of face\\u002fneck\",681.2],[\"Cellulitis and abscess of arm\\u002fhand\",681.3],[\"Cellulitis and abscess of leg, except foot\",681.5],[\"Cellulitis and abscess of foot, toe\",681.6],[\"Cellulitis and abscess of trunk\",681.7],[\"Other local infections of skin and subcutaneous tissue\",686.0],[\"Carbuncle and furuncle\",686.1],[\"Impetigo\",686.2],[\"Pilonidal cyst\",686.3],[\"Pyogenic granuloma\",686.4],[\"Pyoderma\",686.5],[\"Symptoms affecting skin\",687.0],[\"Rash and other nonspecific skin eruption\",687.1],[\"Localized superficial swelling, mass, or lump\",687.2],[\"Changes in skin texture\",687.3],[\"Disorder of skin and subcutaneous tissue NOS\",689.0],[\"Erythematosquamous dermatosis\",690.0],[\"Seborrheic dermatitis\",690.1],[\"Congenital anomalies of skin\",691.0],[\"Ichthyosis congenita\",691.1],[\"Congenital pigmentary anomalies of skin\",691.3],[\"Dyschromia and Vitiligo\",694.0],[\"Vitiligo\",694.1],[\"Other dyschromia\",694.2],[\"Vascular disorders of skin\",694.3],[\"Erythematous conditions\",695.0],[\"Toxic erythema\",695.1],[\"Bullous dermatoses\",695.2],[\"Dermatitis herpetiformis\",695.21],[\"Pemphigus and pemphigoid\",695.22],[\"Rosacea\",695.3],[\"Lupus (localized and systemic)\",695.4],[\"Cutaneous lupus erythematosus\",695.41],[\"Systemic lupus erythematosus\",695.42],[\"Prurigo and Lichen\",695.7],[\"Other specified erythematous conditions\",695.8],[\"Erythema nodosum\",695.81],[\"Unspecified erythematous condition\",695.9],[\"Psoriasis and related disorders\",696.0],[\"Parapsoriasis\",696.2],[\"Pityriasis\",696.3],[\"Psoriasis\",696.4],[\"Psoriasis vulgaris\",696.41],[\"Psoriatic arthropathy\",696.42],[\"Sarcoidosis\",697.0],[\"Pruritus and related conditions\",698.0],[\"Corns and callosities\",700.0],[\"Other hypertrophic and atrophic conditions of skin\",701.0],[\"Keratoderma, acquired\",701.1],[\"Scar conditions and fibrosis of skin\",701.2],[\"Circumscribed scleroderma\",701.3],[\"Keloid scar\",701.4],[\"Abnormal granulation tissue\",701.5],[\"Acquired acanthosis nigricans\",701.6],[\"Degenerative skin conditions and other dermatoses\",702.0],[\"Actinic keratosis\",702.1],[\"Seborrheic keratosis\",702.2],[\"Degenerative skin disorders\",702.4],[\"Diseases of nail, NOS\",703.0],[\"Ingrowing nail\",703.1],[\"Diseases of hair and hair follicles\",704.0],[\"Alopecia\",704.1],[\"Alopecia Areata\",704.11],[\"Telogen effluvium\",704.12],[\"Hirsutism\",704.2],[\"Other specified diseases of hair and hair follicles\",704.8],[\"Disorders of sweat glands\",705.0],[\"Dyshidrosis\",705.1],[\"Hidradenitis\",705.3],[\"Hyperhidrosis\",705.8],[\"Diseases of sebaceous glands\",706.0],[\"Acne\",706.1],[\"Sebaceous cyst\",706.2],[\"Seborrhea\",706.3],[\"Other specified diseases of sebaceous glands\",706.8],[\"Chronic ulcer of skin\",707.0],[\"Decubitus ulcer\",707.1],[\"Chronic ulcer of leg or foot\",707.2],[\"Chronic ulcer of unspecified site\",707.3],[\"Diffuse diseases of connective tissue\",709.0],[\"Sicca syndrome\",709.2],[\"Systemic sclerosis\",709.3],[\"Polymyositis\",709.4],[\"Dermatomyositis\",709.5],[\"Other specified diffuse diseases of connective tissue\",709.6],[\"Unspecified diffuse connective tissue disease\",709.7]],\"hovertemplate\":\"\\u003cb\\u003e%{hovertext}\\u003c\\u002fb\\u003e\\u003cbr\\u003e\\u003cbr\\u003ecategory=dermatologic\\u003cbr\\u003e0=%{x}\\u003cbr\\u003e1=%{y}\\u003cbr\\u003edescription=%{customdata[0]}\\u003cbr\\u003ephecode=%{customdata[1]}\\u003cextra\\u003e\\u003c\\u002fextra\\u003e\",\"hovertext\":[\"Superficial cellulitis and abscess\",\"Cellulitis and abscess of fingers\\u002ftoes\",\"Cellulitis and abscess of face\\u002fneck\",\"Cellulitis and abscess of arm\\u002fhand\",\"Cellulitis and abscess of leg, except foot\",\"Cellulitis and abscess of foot, toe\",\"Cellulitis and abscess of trunk\",\"Other local infections of skin and subcutaneous tissue\",\"Carbuncle and furuncle\",\"Impetigo\",\"Pilonidal cyst\",\"Pyogenic granuloma\",\"Pyoderma\",\"Symptoms affecting skin\",\"Rash and other nonspecific skin eruption\",\"Localized superficial swelling, mass, or lump\",\"Changes in skin texture\",\"Disorder of skin and subcutaneous tissue NOS\",\"Erythematosquamous dermatosis\",\"Seborrheic dermatitis\",\"Congenital anomalies of skin\",\"Ichthyosis congenita\",\"Congenital pigmentary anomalies of skin\",\"Dyschromia and Vitiligo\",\"Vitiligo\",\"Other dyschromia\",\"Vascular disorders of skin\",\"Erythematous conditions\",\"Toxic erythema\",\"Bullous dermatoses\",\"Dermatitis herpetiformis\",\"Pemphigus and pemphigoid\",\"Rosacea\",\"Lupus (localized and systemic)\",\"Cutaneous lupus erythematosus\",\"Systemic lupus erythematosus\",\"Prurigo and Lichen\",\"Other specified erythematous conditions\",\"Erythema nodosum\",\"Unspecified erythematous condition\",\"Psoriasis and related disorders\",\"Parapsoriasis\",\"Pityriasis\",\"Psoriasis\",\"Psoriasis vulgaris\",\"Psoriatic arthropathy\",\"Sarcoidosis\",\"Pruritus and related conditions\",\"Corns and callosities\",\"Other hypertrophic and atrophic conditions of skin\",\"Keratoderma, acquired\",\"Scar conditions and fibrosis of skin\",\"Circumscribed scleroderma\",\"Keloid scar\",\"Abnormal granulation tissue\",\"Acquired acanthosis nigricans\",\"Degenerative skin conditions and other dermatoses\",\"Actinic keratosis\",\"Seborrheic keratosis\",\"Degenerative skin disorders\",\"Diseases of nail, NOS\",\"Ingrowing nail\",\"Diseases of hair and hair follicles\",\"Alopecia\",\"Alopecia Areata\",\"Telogen effluvium\",\"Hirsutism\",\"Other specified diseases of hair and hair follicles\",\"Disorders of sweat glands\",\"Dyshidrosis\",\"Hidradenitis\",\"Hyperhidrosis\",\"Diseases of sebaceous glands\",\"Acne\",\"Sebaceous cyst\",\"Seborrhea\",\"Other specified diseases of sebaceous glands\",\"Chronic ulcer of skin\",\"Decubitus ulcer\",\"Chronic ulcer of leg or foot\",\"Chronic ulcer of unspecified site\",\"Diffuse diseases of connective tissue\",\"Sicca syndrome\",\"Systemic sclerosis\",\"Polymyositis\",\"Dermatomyositis\",\"Other specified diffuse diseases of connective tissue\",\"Unspecified diffuse connective tissue disease\"],\"legendgroup\":\"dermatologic\",\"marker\":{\"color\":\"#ab63fa\",\"symbol\":\"circle\"},\"mode\":\"markers\",\"name\":\"dermatologic\",\"showlegend\":true,\"x\":[10.534306526184082,10.318546295166016,8.11868953704834,3.689218521118164,3.7375030517578125,3.5746450424194336,3.2177460193634033,10.330636978149414,10.48186206817627,11.034598350524902,9.309326171875,6.268489837646484,12.23957633972168,6.002769470214844,10.540197372436523,6.294784069061279,10.809688568115234,12.827187538146973,11.387271881103516,10.669370651245117,5.49965238571167,5.158840179443359,8.470487594604492,0.7723044157028198,5.1333723068237305,4.665829181671143,0.894043505191803,11.064401626586914,11.08973503112793,3.9629530906677246,10.39013385772705,11.533686637878418,5.77177619934082,12.568999290466309,12.052604675292969,13.83425235748291,10.312082290649414,11.017651557922363,10.672417640686035,12.427478790283203,1.3983978033065796,12.180780410766602,8.690786361694336,11.228649139404297,10.876036643981934,12.445195198059082,9.594443321228027,12.278005599975586,16.417633056640625,4.045518398284912,4.922867298126221,4.627810955047607,4.6358208656311035,6.180453300476074,0.7064008712768555,8.215824127197266,4.803349018096924,4.480774402618408,9.791814804077148,16.989906311035156,10.51542854309082,10.510466575622559,9.581398010253906,5.375560760498047,5.758615493774414,8.507436752319336,5.929324150085449,9.72874927520752,11.367720603942871,10.24963665008545,10.164179801940918,19.239704132080078,0.989165186882019,9.219100952148438,4.744744777679443,1.358874797821045,10.76120376586914,-6.415676116943359,10.68155288696289,-5.863511085510254,10.57601547241211,0.9791989922523499,14.364809036254883,17.651531219482422,14.495505332946777,13.395435333251953,14.196895599365234,13.925572395324707],\"xaxis\":\"x\",\"y\":[9.683547973632812,10.71063232421875,3.3630905151367188,1.4049525260925293,1.4964838027954102,1.2145967483520508,1.2404648065567017,9.962684631347656,9.643688201904297,9.57317066192627,15.239633560180664,-2.2014718055725098,8.417252540588379,-2.264991044998169,11.047377586364746,-1.9027751684188843,9.122977256774902,9.568743705749512,9.488853454589844,7.938923358917236,6.065187931060791,6.234871864318848,-3.757774591445923,6.693044662475586,6.387049674987793,6.573681831359863,5.06998872756958,8.43450927734375,11.158912658691406,1.9657983779907227,8.452322959899902,8.138822555541992,-1.8042349815368652,8.521329879760742,8.152135848999023,9.453069686889648,8.04333209991455,8.966848373413086,11.448039054870605,9.256973266601562,5.918034553527832,8.851486206054688,11.291632652282715,7.5417799949646,7.510291576385498,0.7243759036064148,-1.7998087406158447,9.257566452026367,4.044861793518066,8.081470489501953,6.053988456726074,6.271012783050537,7.166718482971191,-1.9474281072616577,5.983534812927246,13.207574844360352,6.750914096832275,6.625313758850098,8.035317420959473,4.214989185333252,7.917750835418701,0.8886558413505554,8.156933784484863,7.5244059562683105,-2.156571626663208,15.781148910522461,14.513642311096191,8.136300086975098,7.760444164276123,8.015420913696289,8.239920616149902,11.456786155700684,6.340054512023926,8.104145050048828,7.539660453796387,5.738330841064453,8.632084846496582,4.603416442871094,1.1981678009033203,4.619368553161621,1.9043563604354858,3.257471799850464,10.408109664916992,6.072414398193359,10.508634567260742,9.09001350402832,10.289480209350586,9.653951644897461],\"yaxis\":\"y\",\"type\":\"scattergl\",\"opacity\":0.9},{\"customdata\":[[\"Osteomyelitis, periostitis, and other infections involving bone\",710.0],[\"Osteomyelitis\",710.1],[\"Acute osteomyelitis\",710.11],[\"Chronic osteomyelitis\",710.12],[\"Unspecified osteomyelitis\",710.19],[\"Periostitis\",710.2],[\"Osteopathy resulting from poliomyelitis\",710.3],[\"Arthropathy associated with infections\",711.0],[\"Pyogenic arthritis\",711.1],[\"Reiter's disease\",711.2],[\"Behcet's syndrome\",711.3],[\"Infective connective tissue disorders\",712.0],[\"Arthropathy associated with other disorders classified elsewhere\",713.0],[\"Arthropathy associated with neurological disorders\",713.5],[\"Rheumatoid arthritis and other inflammatory polyarthropathies\",714.0],[\"Rheumatoid arthritis\",714.1],[\"Juvenile rheumatoid arthritis\",714.2],[\"Other inflammatory spondylopathies\",715.0],[\"Sacroiliitis NEC\",715.1],[\"Ankylosing spondylitis\",715.2],[\"Spinal enthesopathy\",715.3],[\"Other arthropathies\",716.0],[\"Unspecified polyarthropathy or polyarthritis\",716.1],[\"Unspecified monoarthritis\",716.2],[\"Kaschin-Beck disease\",716.3],[\"Palindromic rheumatism\",716.8],[\"Arthropathy NOS\",716.9],[\"Polymyalgia Rheumatica\",717.0],[\"Spinal stenosis\",720.0],[\"Spinal stenosis of lumbar region\",720.1],[\"Spondylosis and allied disorders\",721.0],[\"Spondylosis without myelopathy\",721.1],[\"Spondylosis with myelopathy\",721.2],[\"Other allied disorders of spine\",721.8],[\"Intervertebral disc disorders\",722.0],[\"Displacement of intervertebral disc\",722.1],[\"Schmorl's nodes\",722.3],[\"Degeneration of intervertebral disc\",722.6],[\"Intervertebral disc disorder with myelopathy\",722.7],[\"Postlaminectomy syndrome\",722.8],[\"Other and unspecified disc disorder\",722.9],[\"Other disorders of cervical region\",723.0],[\"Torticollis\",723.1],[\"Other and unspecified disorders of back\",724.0],[\"Disorders of sacrum\",724.1],[\"Disorders of coccyx\",724.2],[\"Other symptoms referable to back\",724.8],[\"Other unspecified back disorders\",724.9],[\"Peripheral enthesopathies and allied syndromes\",726.0],[\"Enthesopathy\",726.1],[\"Synoviopathy\",726.2],[\"Bursitis\",726.3],[\"Calcaneal spur; Exostosis NOS\",726.4],[\"Other disorders of synovium, tendon, and bursa\",727.0],[\"Synovitis and tenosynovitis\",727.1],[\"Bursitis disorders\",727.2],[\"Ganglion and cyst of synovium, tendon, and bursa\",727.4],[\"Rupture of synovium\",727.5],[\"Rupture of tendon, nontraumatic\",727.6],[\"Contracture of tendon (sheath)\",727.7],[\"Plica syndrome\",727.8],[\"Disorders of muscle, ligament, and fascia\",728.0],[\"Fasciitis\",728.7],[\"Contracture of palmar fascia [Dupuytren's disease]\",728.71],[\"Other disorders of soft tissues\",729.0],[\"Rheumatism, unspecified and fibrositis\",729.1],[\"Panniculitis\",729.3],[\"Nontraumatic compartment syndrome\",729.7],[\"Osteitis deformans and osteopathies associated with other disorders classified elsewhere\",731.0],[\"Osteitis deformans [Paget's disease of bone]\",731.1],[\"Osteochondropathies\",732.0],[\"Juvenile osteochondrosis\",732.1],[\"Osteochondritis dissecans\",732.7],[\"Other disorders of bone and cartilage\",733.0],[\"Cyst of bone\",733.2],[\"Aseptic necrosis of bone\",733.4],[\"Acquired foot deformities\",735.0],[\"Flat foot\",735.1],[\"Acquired toe deformities\",735.2],[\"Hammer toe (acquired)\",735.21],[\"Claw toe (acquired)\",735.22],[\"Hallux rigidus\",735.23],[\"Hallux valgus (Bunion)\",735.3],[\"Other acquired deformities of limbs\",736.0],[\"Acquired deformities of forearm\",736.1],[\"Acquired deformities of finger\",736.2],[\"Acquired deformities of hip\",736.3],[\"Genu valgum or varum (acquired)\",736.4],[\"Acquired deformities of knee\",736.5],[\"Unequal leg length (acquired)\",736.6],[\"Curvature of spine\",737.0],[\"Kyphosis (acquired)\",737.1],[\"Lordosis (acquired)\",737.2],[\"Kyphoscoliosis and scoliosis\",737.3],[\"Other acquired musculoskeletal deformity\",738.0],[\"Acquired spondylolisthesis\",738.4],[\"Osteoarthrosis\",740.0],[\"Osteoarthritis; localized\",740.1],[\"Osteoarthrosis, localized, primary\",740.11],[\"Osteoarthrosis, localized, secondary\",740.12],[\"Osteoarthrosis, generalized\",740.2],[\"Osteoarthrosis involving more than one site, but not specified as generalized\",740.3],[\"Osteoarthrosis NOS\",740.9],[\"Symptoms and disorders of the joints\",741.0],[\"Ankylosis of joint\",741.1],[\"Stiffness of joint\",741.2],[\"Difficulty in walking\",741.3],[\"Joint effusions\",741.4],[\"Hemarthrosis\",741.5],[\"Villonodular synovitis\",741.6],[\"Derangement of joint, non-traumatic\",742.0],[\"Loose body in joint\",742.1],[\"Pathological, developmental or recurrent dislocation\",742.2],[\"Articular cartilage disorder\",742.8],[\"Other derangement of joint\",742.9],[\"Osteoporosis, osteopenia and pathological fracture\",743.0],[\"Osteoporosis\",743.1],[\"Osteoporosis NOS\",743.11],[\"Senile osteoporosis\",743.12],[\"Other specified osteoporosis\",743.13],[\"Pathologic fracture\",743.2],[\"Pathologic fracture of vertebrae\",743.21],[\"Pathologic fracture of femur\",743.22],[\"Stress fracture\",743.4],[\"Osteopenia or other disorder of bone and cartilage\",743.9],[\"Pain in joint\",745.0]],\"hovertemplate\":\"\\u003cb\\u003e%{hovertext}\\u003c\\u002fb\\u003e\\u003cbr\\u003e\\u003cbr\\u003ecategory=musculoskeletal\\u003cbr\\u003e0=%{x}\\u003cbr\\u003e1=%{y}\\u003cbr\\u003edescription=%{customdata[0]}\\u003cbr\\u003ephecode=%{customdata[1]}\\u003cextra\\u003e\\u003c\\u002fextra\\u003e\",\"hovertext\":[\"Osteomyelitis, periostitis, and other infections involving bone\",\"Osteomyelitis\",\"Acute osteomyelitis\",\"Chronic osteomyelitis\",\"Unspecified osteomyelitis\",\"Periostitis\",\"Osteopathy resulting from poliomyelitis\",\"Arthropathy associated with infections\",\"Pyogenic arthritis\",\"Reiter's disease\",\"Behcet's syndrome\",\"Infective connective tissue disorders\",\"Arthropathy associated with other disorders classified elsewhere\",\"Arthropathy associated with neurological disorders\",\"Rheumatoid arthritis and other inflammatory polyarthropathies\",\"Rheumatoid arthritis\",\"Juvenile rheumatoid arthritis\",\"Other inflammatory spondylopathies\",\"Sacroiliitis NEC\",\"Ankylosing spondylitis\",\"Spinal enthesopathy\",\"Other arthropathies\",\"Unspecified polyarthropathy or polyarthritis\",\"Unspecified monoarthritis\",\"Kaschin-Beck disease\",\"Palindromic rheumatism\",\"Arthropathy NOS\",\"Polymyalgia Rheumatica\",\"Spinal stenosis\",\"Spinal stenosis of lumbar region\",\"Spondylosis and allied disorders\",\"Spondylosis without myelopathy\",\"Spondylosis with myelopathy\",\"Other allied disorders of spine\",\"Intervertebral disc disorders\",\"Displacement of intervertebral disc\",\"Schmorl's nodes\",\"Degeneration of intervertebral disc\",\"Intervertebral disc disorder with myelopathy\",\"Postlaminectomy syndrome\",\"Other and unspecified disc disorder\",\"Other disorders of cervical region\",\"Torticollis\",\"Other and unspecified disorders of back\",\"Disorders of sacrum\",\"Disorders of coccyx\",\"Other symptoms referable to back\",\"Other unspecified back disorders\",\"Peripheral enthesopathies and allied syndromes\",\"Enthesopathy\",\"Synoviopathy\",\"Bursitis\",\"Calcaneal spur; Exostosis NOS\",\"Other disorders of synovium, tendon, and bursa\",\"Synovitis and tenosynovitis\",\"Bursitis disorders\",\"Ganglion and cyst of synovium, tendon, and bursa\",\"Rupture of synovium\",\"Rupture of tendon, nontraumatic\",\"Contracture of tendon (sheath)\",\"Plica syndrome\",\"Disorders of muscle, ligament, and fascia\",\"Fasciitis\",\"Contracture of palmar fascia [Dupuytren's disease]\",\"Other disorders of soft tissues\",\"Rheumatism, unspecified and fibrositis\",\"Panniculitis\",\"Nontraumatic compartment syndrome\",\"Osteitis deformans and osteopathies associated with other disorders classified elsewhere\",\"Osteitis deformans [Paget's disease of bone]\",\"Osteochondropathies\",\"Juvenile osteochondrosis\",\"Osteochondritis dissecans\",\"Other disorders of bone and cartilage\",\"Cyst of bone\",\"Aseptic necrosis of bone\",\"Acquired foot deformities\",\"Flat foot\",\"Acquired toe deformities\",\"Hammer toe (acquired)\",\"Claw toe (acquired)\",\"Hallux rigidus\",\"Hallux valgus (Bunion)\",\"Other acquired deformities of limbs\",\"Acquired deformities of forearm\",\"Acquired deformities of finger\",\"Acquired deformities of hip\",\"Genu valgum or varum (acquired)\",\"Acquired deformities of knee\",\"Unequal leg length (acquired)\",\"Curvature of spine\",\"Kyphosis (acquired)\",\"Lordosis (acquired)\",\"Kyphoscoliosis and scoliosis\",\"Other acquired musculoskeletal deformity\",\"Acquired spondylolisthesis\",\"Osteoarthrosis\",\"Osteoarthritis; localized\",\"Osteoarthrosis, localized, primary\",\"Osteoarthrosis, localized, secondary\",\"Osteoarthrosis, generalized\",\"Osteoarthrosis involving more than one site, but not specified as generalized\",\"Osteoarthrosis NOS\",\"Symptoms and disorders of the joints\",\"Ankylosis of joint\",\"Stiffness of joint\",\"Difficulty in walking\",\"Joint effusions\",\"Hemarthrosis\",\"Villonodular synovitis\",\"Derangement of joint, non-traumatic\",\"Loose body in joint\",\"Pathological, developmental or recurrent dislocation\",\"Articular cartilage disorder\",\"Other derangement of joint\",\"Osteoporosis, osteopenia and pathological fracture\",\"Osteoporosis\",\"Osteoporosis NOS\",\"Senile osteoporosis\",\"Other specified osteoporosis\",\"Pathologic fracture\",\"Pathologic fracture of vertebrae\",\"Pathologic fracture of femur\",\"Stress fracture\",\"Osteopenia or other disorder of bone and cartilage\",\"Pain in joint\"],\"legendgroup\":\"musculoskeletal\",\"marker\":{\"color\":\"#FFA15A\",\"symbol\":\"circle\"},\"mode\":\"markers\",\"name\":\"musculoskeletal\",\"showlegend\":true,\"x\":[11.4874267578125,11.37551498413086,9.120798110961914,13.106332778930664,11.748283386230469,-5.415457725524902,-5.781684875488281,8.840560913085938,9.056062698364258,8.714978218078613,10.047236442565918,11.792440414428711,14.24712085723877,11.778477668762207,12.10344409942627,13.237552642822266,10.810565948486328,-4.976832866668701,11.330100059509277,11.848443031311035,-4.398549556732178,-7.229439735412598,-3.9765524864196777,11.68814468383789,-3.9186031818389893,-3.6160926818847656,12.769465446472168,12.12987995147705,13.805535316467285,-5.3120903968811035,12.83017635345459,12.900607109069824,-5.892131805419922,14.203048706054688,-6.699305534362793,13.10477352142334,-6.390763282775879,13.23239803314209,-6.293487071990967,12.985662460327148,12.90751838684082,-0.30789807438850403,13.4282865524292,-2.149003267288208,-2.0215821266174316,-1.9005730152130127,16.42186737060547,-1.8107166290283203,15.588357925415039,14.526272773742676,15.88505744934082,14.211385726928711,14.79876708984375,13.75007438659668,11.130497932434082,13.806437492370605,13.479361534118652,14.909101486206055,15.187918663024902,-5.693722248077393,15.725530624389648,15.651861190795898,14.098044395446777,19.31940269470215,15.234626770019531,10.206290245056152,18.40275001525879,15.52540397644043,13.494145393371582,11.00196361541748,15.539948463439941,15.136942863464355,14.986035346984863,14.389477729797363,15.793163299560547,14.697768211364746,15.768848419189453,15.368250846862793,15.993890762329102,14.561695098876953,16.25787925720215,15.822450637817383,15.133803367614746,15.661818504333496,15.080471992492676,16.294204711914062,15.165487289428711,14.338044166564941,14.20654296875,-4.476626873016357,17.364831924438477,17.531295776367188,17.01067352294922,17.232147216796875,-4.082836627960205,14.770072937011719,16.18991470336914,-7.409864902496338,-5.562539577484131,-5.5866522789001465,-7.400089740753174,-6.982966423034668,12.427234649658203,12.429813385009766,-7.044584274291992,11.264853477478027,-6.049698352813721,-7.348353385925293,-7.031660079956055,13.782506942749023,16.676660537719727,-4.052045822143555,16.503496170043945,-4.140893936157227,16.2058162689209,-5.930820941925049,-6.179315567016602,14.174461364746094,-6.030676364898682,-6.228457927703857,15.28670883178711,15.19970989227295,-4.4579644203186035,15.311248779296875,14.812405586242676,14.165325164794922],\"xaxis\":\"x\",\"y\":[1.0636405944824219,1.2561533451080322,10.071439743041992,0.5846628546714783,0.9632608890533447,4.12579345703125,4.136031627655029,10.149523735046387,9.876067161560059,10.5530366897583,-0.8773006200790405,11.791465759277344,10.271510124206543,0.7663491368293762,0.9124653935432434,0.9549064040184021,0.08476152271032333,3.8662784099578857,0.813568115234375,0.5367947220802307,3.7065794467926025,4.434632301330566,3.2689170837402344,0.8410971164703369,3.254737615585327,3.500459671020508,0.7942869067192078,0.4466072618961334,-0.7635409235954285,3.3076364994049072,-0.36673861742019653,-0.5151093602180481,3.563535213470459,0.5441977381706238,3.6696035861968994,-0.7525603771209717,3.6678624153137207,-0.5774278044700623,3.1857192516326904,-0.7260095477104187,-0.9583601355552673,8.030771255493164,-5.891608238220215,5.729488372802734,6.026467323303223,6.14575719833374,-0.9280784130096436,5.979353904724121,0.4823865294456482,1.3971701860427856,0.6762845516204834,1.1913241147994995,0.9467589259147644,0.9889079332351685,0.8302789926528931,1.1191385984420776,0.7217937111854553,1.6087442636489868,0.7302359938621521,3.559239387512207,0.36838334798812866,2.815243721008301,0.9551798105239868,11.250983238220215,2.0605521202087402,-2.5348622798919678,13.636598587036133,2.4138050079345703,0.41446635127067566,0.6563682556152344,-0.956900954246521,-0.7607539296150208,0.3146565556526184,1.6313822269439697,-0.6792242527008057,0.7995147109031677,-0.6362123489379883,0.46222907304763794,-1.024227261543274,-0.40455469489097595,-0.6362648010253906,0.5759798288345337,0.5905841588973999,0.19081810116767883,1.4278422594070435,-0.09872011840343475,0.2435581386089325,-0.17231041193008423,0.14370985329151154,3.3424136638641357,-1.2367205619812012,-1.7003047466278076,-1.3854140043258667,-1.5097401142120361,3.0803239345550537,-0.6702638268470764,0.340361624956131,4.23732328414917,3.8671178817749023,3.4086105823516846,4.355618953704834,4.225087642669678,1.1200041770935059,0.7280281186103821,4.7877044677734375,-2.7503573894500732,3.845083475112915,4.591371059417725,4.574243545532227,10.321885108947754,-0.34926217794418335,3.7134130001068115,-0.2363770753145218,3.403785467147827,-0.20382149517536163,2.8274953365325928,2.799058675765991,0.32008442282676697,2.5399417877197266,2.6980972290039062,3.024733781814575,-0.6905489563941956,3.2962684631347656,3.5315427780151367,-0.3133738934993744,0.83794105052948],\"yaxis\":\"y\",\"type\":\"scattergl\",\"opacity\":0.9}],                        {\"template\":{\"data\":{\"histogram2dcontour\":[{\"type\":\"histogram2dcontour\",\"colorbar\":{\"outlinewidth\":0,\"ticks\":\"\"},\"colorscale\":[[0.0,\"#0d0887\"],[0.1111111111111111,\"#46039f\"],[0.2222222222222222,\"#7201a8\"],[0.3333333333333333,\"#9c179e\"],[0.4444444444444444,\"#bd3786\"],[0.5555555555555556,\"#d8576b\"],[0.6666666666666666,\"#ed7953\"],[0.7777777777777778,\"#fb9f3a\"],[0.8888888888888888,\"#fdca26\"],[1.0,\"#f0f921\"]]}],\"choropleth\":[{\"type\":\"choropleth\",\"colorbar\":{\"outlinewidth\":0,\"ticks\":\"\"}}],\"histogram2d\":[{\"type\":\"histogram2d\",\"colorbar\":{\"outlinewidth\":0,\"ticks\":\"\"},\"colorscale\":[[0.0,\"#0d0887\"],[0.1111111111111111,\"#46039f\"],[0.2222222222222222,\"#7201a8\"],[0.3333333333333333,\"#9c179e\"],[0.4444444444444444,\"#bd3786\"],[0.5555555555555556,\"#d8576b\"],[0.6666666666666666,\"#ed7953\"],[0.7777777777777778,\"#fb9f3a\"],[0.8888888888888888,\"#fdca26\"],[1.0,\"#f0f921\"]]}],\"heatmap\":[{\"type\":\"heatmap\",\"colorbar\":{\"outlinewidth\":0,\"ticks\":\"\"},\"colorscale\":[[0.0,\"#0d0887\"],[0.1111111111111111,\"#46039f\"],[0.2222222222222222,\"#7201a8\"],[0.3333333333333333,\"#9c179e\"],[0.4444444444444444,\"#bd3786\"],[0.5555555555555556,\"#d8576b\"],[0.6666666666666666,\"#ed7953\"],[0.7777777777777778,\"#fb9f3a\"],[0.8888888888888888,\"#fdca26\"],[1.0,\"#f0f921\"]]}],\"heatmapgl\":[{\"type\":\"heatmapgl\",\"colorbar\":{\"outlinewidth\":0,\"ticks\":\"\"},\"colorscale\":[[0.0,\"#0d0887\"],[0.1111111111111111,\"#46039f\"],[0.2222222222222222,\"#7201a8\"],[0.3333333333333333,\"#9c179e\"],[0.4444444444444444,\"#bd3786\"],[0.5555555555555556,\"#d8576b\"],[0.6666666666666666,\"#ed7953\"],[0.7777777777777778,\"#fb9f3a\"],[0.8888888888888888,\"#fdca26\"],[1.0,\"#f0f921\"]]}],\"contourcarpet\":[{\"type\":\"contourcarpet\",\"colorbar\":{\"outlinewidth\":0,\"ticks\":\"\"}}],\"contour\":[{\"type\":\"contour\",\"colorbar\":{\"outlinewidth\":0,\"ticks\":\"\"},\"colorscale\":[[0.0,\"#0d0887\"],[0.1111111111111111,\"#46039f\"],[0.2222222222222222,\"#7201a8\"],[0.3333333333333333,\"#9c179e\"],[0.4444444444444444,\"#bd3786\"],[0.5555555555555556,\"#d8576b\"],[0.6666666666666666,\"#ed7953\"],[0.7777777777777778,\"#fb9f3a\"],[0.8888888888888888,\"#fdca26\"],[1.0,\"#f0f921\"]]}],\"surface\":[{\"type\":\"surface\",\"colorbar\":{\"outlinewidth\":0,\"ticks\":\"\"},\"colorscale\":[[0.0,\"#0d0887\"],[0.1111111111111111,\"#46039f\"],[0.2222222222222222,\"#7201a8\"],[0.3333333333333333,\"#9c179e\"],[0.4444444444444444,\"#bd3786\"],[0.5555555555555556,\"#d8576b\"],[0.6666666666666666,\"#ed7953\"],[0.7777777777777778,\"#fb9f3a\"],[0.8888888888888888,\"#fdca26\"],[1.0,\"#f0f921\"]]}],\"mesh3d\":[{\"type\":\"mesh3d\",\"colorbar\":{\"outlinewidth\":0,\"ticks\":\"\"}}],\"scatter\":[{\"fillpattern\":{\"fillmode\":\"overlay\",\"size\":10,\"solidity\":0.2},\"type\":\"scatter\"}],\"parcoords\":[{\"type\":\"parcoords\",\"line\":{\"colorbar\":{\"outlinewidth\":0,\"ticks\":\"\"}}}],\"scatterpolargl\":[{\"type\":\"scatterpolargl\",\"marker\":{\"colorbar\":{\"outlinewidth\":0,\"ticks\":\"\"}}}],\"bar\":[{\"error_x\":{\"color\":\"#2a3f5f\"},\"error_y\":{\"color\":\"#2a3f5f\"},\"marker\":{\"line\":{\"color\":\"#E5ECF6\",\"width\":0.5},\"pattern\":{\"fillmode\":\"overlay\",\"size\":10,\"solidity\":0.2}},\"type\":\"bar\"}],\"scattergeo\":[{\"type\":\"scattergeo\",\"marker\":{\"colorbar\":{\"outlinewidth\":0,\"ticks\":\"\"}}}],\"scatterpolar\":[{\"type\":\"scatterpolar\",\"marker\":{\"colorbar\":{\"outlinewidth\":0,\"ticks\":\"\"}}}],\"histogram\":[{\"marker\":{\"pattern\":{\"fillmode\":\"overlay\",\"size\":10,\"solidity\":0.2}},\"type\":\"histogram\"}],\"scattergl\":[{\"type\":\"scattergl\",\"marker\":{\"colorbar\":{\"outlinewidth\":0,\"ticks\":\"\"}}}],\"scatter3d\":[{\"type\":\"scatter3d\",\"line\":{\"colorbar\":{\"outlinewidth\":0,\"ticks\":\"\"}},\"marker\":{\"colorbar\":{\"outlinewidth\":0,\"ticks\":\"\"}}}],\"scattermapbox\":[{\"type\":\"scattermapbox\",\"marker\":{\"colorbar\":{\"outlinewidth\":0,\"ticks\":\"\"}}}],\"scatterternary\":[{\"type\":\"scatterternary\",\"marker\":{\"colorbar\":{\"outlinewidth\":0,\"ticks\":\"\"}}}],\"scattercarpet\":[{\"type\":\"scattercarpet\",\"marker\":{\"colorbar\":{\"outlinewidth\":0,\"ticks\":\"\"}}}],\"carpet\":[{\"aaxis\":{\"endlinecolor\":\"#2a3f5f\",\"gridcolor\":\"white\",\"linecolor\":\"white\",\"minorgridcolor\":\"white\",\"startlinecolor\":\"#2a3f5f\"},\"baxis\":{\"endlinecolor\":\"#2a3f5f\",\"gridcolor\":\"white\",\"linecolor\":\"white\",\"minorgridcolor\":\"white\",\"startlinecolor\":\"#2a3f5f\"},\"type\":\"carpet\"}],\"table\":[{\"cells\":{\"fill\":{\"color\":\"#EBF0F8\"},\"line\":{\"color\":\"white\"}},\"header\":{\"fill\":{\"color\":\"#C8D4E3\"},\"line\":{\"color\":\"white\"}},\"type\":\"table\"}],\"barpolar\":[{\"marker\":{\"line\":{\"color\":\"#E5ECF6\",\"width\":0.5},\"pattern\":{\"fillmode\":\"overlay\",\"size\":10,\"solidity\":0.2}},\"type\":\"barpolar\"}],\"pie\":[{\"automargin\":true,\"type\":\"pie\"}]},\"layout\":{\"autotypenumbers\":\"strict\",\"colorway\":[\"#636efa\",\"#EF553B\",\"#00cc96\",\"#ab63fa\",\"#FFA15A\",\"#19d3f3\",\"#FF6692\",\"#B6E880\",\"#FF97FF\",\"#FECB52\"],\"font\":{\"color\":\"#2a3f5f\"},\"hovermode\":\"closest\",\"hoverlabel\":{\"align\":\"left\"},\"paper_bgcolor\":\"white\",\"plot_bgcolor\":\"#E5ECF6\",\"polar\":{\"bgcolor\":\"#E5ECF6\",\"angularaxis\":{\"gridcolor\":\"white\",\"linecolor\":\"white\",\"ticks\":\"\"},\"radialaxis\":{\"gridcolor\":\"white\",\"linecolor\":\"white\",\"ticks\":\"\"}},\"ternary\":{\"bgcolor\":\"#E5ECF6\",\"aaxis\":{\"gridcolor\":\"white\",\"linecolor\":\"white\",\"ticks\":\"\"},\"baxis\":{\"gridcolor\":\"white\",\"linecolor\":\"white\",\"ticks\":\"\"},\"caxis\":{\"gridcolor\":\"white\",\"linecolor\":\"white\",\"ticks\":\"\"}},\"coloraxis\":{\"colorbar\":{\"outlinewidth\":0,\"ticks\":\"\"}},\"colorscale\":{\"sequential\":[[0.0,\"#0d0887\"],[0.1111111111111111,\"#46039f\"],[0.2222222222222222,\"#7201a8\"],[0.3333333333333333,\"#9c179e\"],[0.4444444444444444,\"#bd3786\"],[0.5555555555555556,\"#d8576b\"],[0.6666666666666666,\"#ed7953\"],[0.7777777777777778,\"#fb9f3a\"],[0.8888888888888888,\"#fdca26\"],[1.0,\"#f0f921\"]],\"sequentialminus\":[[0.0,\"#0d0887\"],[0.1111111111111111,\"#46039f\"],[0.2222222222222222,\"#7201a8\"],[0.3333333333333333,\"#9c179e\"],[0.4444444444444444,\"#bd3786\"],[0.5555555555555556,\"#d8576b\"],[0.6666666666666666,\"#ed7953\"],[0.7777777777777778,\"#fb9f3a\"],[0.8888888888888888,\"#fdca26\"],[1.0,\"#f0f921\"]],\"diverging\":[[0,\"#8e0152\"],[0.1,\"#c51b7d\"],[0.2,\"#de77ae\"],[0.3,\"#f1b6da\"],[0.4,\"#fde0ef\"],[0.5,\"#f7f7f7\"],[0.6,\"#e6f5d0\"],[0.7,\"#b8e186\"],[0.8,\"#7fbc41\"],[0.9,\"#4d9221\"],[1,\"#276419\"]]},\"xaxis\":{\"gridcolor\":\"white\",\"linecolor\":\"white\",\"ticks\":\"\",\"title\":{\"standoff\":15},\"zerolinecolor\":\"white\",\"automargin\":true,\"zerolinewidth\":2},\"yaxis\":{\"gridcolor\":\"white\",\"linecolor\":\"white\",\"ticks\":\"\",\"title\":{\"standoff\":15},\"zerolinecolor\":\"white\",\"automargin\":true,\"zerolinewidth\":2},\"scene\":{\"xaxis\":{\"backgroundcolor\":\"#E5ECF6\",\"gridcolor\":\"white\",\"linecolor\":\"white\",\"showbackground\":true,\"ticks\":\"\",\"zerolinecolor\":\"white\",\"gridwidth\":2},\"yaxis\":{\"backgroundcolor\":\"#E5ECF6\",\"gridcolor\":\"white\",\"linecolor\":\"white\",\"showbackground\":true,\"ticks\":\"\",\"zerolinecolor\":\"white\",\"gridwidth\":2},\"zaxis\":{\"backgroundcolor\":\"#E5ECF6\",\"gridcolor\":\"white\",\"linecolor\":\"white\",\"showbackground\":true,\"ticks\":\"\",\"zerolinecolor\":\"white\",\"gridwidth\":2}},\"shapedefaults\":{\"line\":{\"color\":\"#2a3f5f\"}},\"annotationdefaults\":{\"arrowcolor\":\"#2a3f5f\",\"arrowhead\":0,\"arrowwidth\":1},\"geo\":{\"bgcolor\":\"white\",\"landcolor\":\"#E5ECF6\",\"subunitcolor\":\"white\",\"showland\":true,\"showlakes\":true,\"lakecolor\":\"white\"},\"title\":{\"x\":0.05},\"mapbox\":{\"style\":\"light\"}}},\"xaxis\":{\"anchor\":\"y\",\"domain\":[0.0,1.0],\"title\":{\"text\":\"0\"}},\"yaxis\":{\"anchor\":\"x\",\"domain\":[0.0,1.0],\"title\":{\"text\":\"1\"}},\"legend\":{\"title\":{\"text\":\"category\"},\"tracegroupgap\":0},\"margin\":{\"t\":60},\"width\":700,\"height\":450},                        {\"responsive\": true}                    ).then(function(){\n",
       "                            \n",
       "var gd = document.getElementById('b1cb83ac-aca9-45f8-b968-36889dea1f4d');\n",
       "var x = new MutationObserver(function (mutations, observer) {{\n",
       "        var display = window.getComputedStyle(gd).display;\n",
       "        if (!display || display === 'none') {{\n",
       "            console.log([gd, 'removed!']);\n",
       "            Plotly.purge(gd);\n",
       "            observer.disconnect();\n",
       "        }}\n",
       "}});\n",
       "\n",
       "// Listen for the removal of the full notebook cells\n",
       "var notebookContainer = gd.closest('#notebook-container');\n",
       "if (notebookContainer) {{\n",
       "    x.observe(notebookContainer, {childList: true});\n",
       "}}\n",
       "\n",
       "// Listen for the clearing of the current output cell\n",
       "var outputEl = gd.closest('.output');\n",
       "if (outputEl) {{\n",
       "    x.observe(outputEl, {childList: true});\n",
       "}}\n",
       "\n",
       "                        })                };                });            </script>        </div>"
      ]
     },
     "metadata": {},
     "output_type": "display_data"
    }
   ],
   "source": [
    "# shade by phecode categories\n",
    "fig_2d = px.scatter(\n",
    "    umap_df, x=0, y=1, color='category',\n",
    "hover_data=[\"description\", \"phecode\"], hover_name=\"description\"\n",
    ")\n",
    "# hover name\n",
    "fig_2d.update_layout(\n",
    "    width=700,\n",
    "    height=450,\n",
    ")\n",
    "fig_2d.update_traces(opacity=.9)\n",
    "fig_2d.show()\n",
    "\n",
    "# TRY HOVERING OVER THE DOTS!"
   ]
  },
  {
   "cell_type": "markdown",
   "metadata": {},
   "source": [
    "## Visualize similarity matrix of ATC codes"
   ]
  },
  {
   "cell_type": "code",
   "execution_count": 8,
   "metadata": {},
   "outputs": [],
   "source": [
    "atc_levels = node_map_df.loc[node_map_df['ntype'] == 'ATC4']['node_id'].str.slice(0, 1)\n",
    "\n",
    "atc_levels = atc_levels.map({'A': '#EF476F', 'B': '#FFD166', 'C': '#06D6A0', 'D': '#118AB2',\n",
    "'G': '#073B4C', 'H': '#F79256', 'J': '#FBD1A2', 'L': '#7DCFB6', 'M': '#00B2CA', 'N': '#9381ff',\n",
    "'P': '#90323d', 'R': '#f49cbb', 'S': '#6d597a', 'V': '#70a0af'})\n",
    "\n",
    "level_colors = atc_levels.tolist()"
   ]
  },
  {
   "cell_type": "code",
   "execution_count": 9,
   "metadata": {},
   "outputs": [],
   "source": [
    "# compute cosine similarity of all ATC4 code embeddings \n",
    "atc_inds = node_map_df.loc[node_map_df['ntype'] == 'ATC4']['global_graph_index'].tolist()\n",
    "atc_embed = embed_mat[atc_inds]\n",
    "\n",
    "sim_mat = cosine_similarity(atc_embed, atc_embed)\n",
    "sim_mat = pd.DataFrame(sim_mat)\n",
    "sim_mat.index = node_map_df.loc[node_map_df['ntype'] == 'ATC4']['node_id'].tolist()\n",
    "sim_mat.columns = node_map_df.loc[node_map_df['ntype'] == 'ATC4']['node_id'].tolist()"
   ]
  },
  {
   "cell_type": "code",
   "execution_count": 10,
   "metadata": {},
   "outputs": [
    {
     "data": {
      "image/png": "[encoded data removed]",
      "text/plain": [
       "<Figure size 500x450 with 6 Axes>"
      ]
     },
     "metadata": {},
     "output_type": "display_data"
    }
   ],
   "source": [
    "# colors on rows/columns correspond to ATC level 1 categorization\n",
    "g = sns.clustermap(data=sim_mat, row_colors=level_colors, col_colors= level_colors, \n",
    "                   row_cluster=False, col_cluster=False, dendrogram_ratio=0.15,\n",
    "                   figsize=(5, 4.5), cmap=sns.diverging_palette(240, 10, as_cmap=True),\n",
    "                   vmin=-1, vmax=1)"
   ]
  },
  {
   "cell_type": "code",
   "execution_count": null,
   "metadata": {},
   "outputs": [],
   "source": []
  }
 ],
 "metadata": {
  "kernelspec": {
   "display_name": "venv_dgl",
   "language": "python",
   "name": "python3"
  },
  "language_info": {
   "codemirror_mode": {
    "name": "ipython",
    "version": 3
   },
   "file_extension": ".py",
   "mimetype": "text/x-python",
   "name": "python",
   "nbconvert_exporter": "python",
   "pygments_lexer": "ipython3",
   "version": "3.10.9"
  }
 },
 "nbformat": 4,
 "nbformat_minor": 2
}
